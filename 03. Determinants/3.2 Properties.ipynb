{
 "cells": [
  {
   "cell_type": "markdown",
   "id": "58d931fc-b9b1-4077-a42e-c56d4ae45af8",
   "metadata": {},
   "source": [
    " "
   ]
  },
  {
   "cell_type": "markdown",
   "id": "b4ba8e48-d877-4bf9-8d23-6160e90af7ad",
   "metadata": {},
   "source": [
    " "
   ]
  },
  {
   "cell_type": "markdown",
   "id": "431178da-4eab-44ae-bef1-c7449b19f1cd",
   "metadata": {},
   "source": [
    " "
   ]
  },
  {
   "cell_type": "markdown",
   "id": "fa5a0826-b419-4a8d-9bcb-cd910a27f979",
   "metadata": {},
   "source": [
    " "
   ]
  },
  {
   "cell_type": "markdown",
   "id": "05340318-ec3b-43e7-975d-8067f5ddb898",
   "metadata": {},
   "source": [
    " "
   ]
  },
  {
   "cell_type": "code",
   "execution_count": 1,
   "id": "896be2f0-1422-4100-9375-399691ea4656",
   "metadata": {},
   "outputs": [],
   "source": [
    "import numpy as np"
   ]
  },
  {
   "cell_type": "markdown",
   "id": "25f2b4e1-7868-4aeb-8cf4-59b7994ddf7d",
   "metadata": {},
   "source": [
    " "
   ]
  },
  {
   "cell_type": "markdown",
   "id": "0199c4ed-17ab-47ff-8fbe-7dca2c89992b",
   "metadata": {},
   "source": [
    " "
   ]
  },
  {
   "cell_type": "markdown",
   "id": "f1ec4114-ea65-48d1-9f94-4e80143b1bc4",
   "metadata": {},
   "source": [
    " "
   ]
  },
  {
   "cell_type": "markdown",
   "id": "f907aac0-605b-4113-8ac9-5439842eea36",
   "metadata": {},
   "source": [
    " "
   ]
  },
  {
   "cell_type": "markdown",
   "id": "0cf17e13-344a-4353-b5f0-22620cb3aa5a",
   "metadata": {},
   "source": [
    " "
   ]
  },
  {
   "cell_type": "markdown",
   "id": "3cb44f89-3c46-4db1-9eaf-fe61594a345d",
   "metadata": {},
   "source": [
    "**45.**"
   ]
  },
  {
   "cell_type": "markdown",
   "id": "95712910-56a1-4610-9c5e-5a99154bab7e",
   "metadata": {},
   "source": [
    " "
   ]
  },
  {
   "cell_type": "code",
   "execution_count": 7,
   "id": "6e4ddf0d-22db-4956-bbad-ac09b0297bc2",
   "metadata": {},
   "outputs": [
    {
     "name": "stdout",
     "output_type": "stream",
     "text": [
      "-5.696587482979684e-08\n",
      "11418066.000000011\n",
      "\n",
      "4.871196018509928e-07\n",
      "150395410.00000015\n",
      "\n",
      "-1.8243481779315318e-07\n",
      "28412604.000000026\n",
      "\n",
      "-3.0168467633673632e-06\n",
      "205516043.99999988\n",
      "\n",
      "2.0311296673463468e-06\n",
      "564244920.0\n",
      "\n",
      "-1.4858454850836947e-06\n",
      "322022780.9999997\n",
      "\n",
      "-4.088262970949999e-08\n",
      "23440648.0\n",
      "\n",
      "5.792578513981135e-09\n",
      "1108322.0000000175\n",
      "\n",
      "-1.0354944540102813e-07\n",
      "28250401.000000082\n",
      "\n",
      "7.040512082916398e-07\n",
      "64595557.99999982\n",
      "\n",
      "1.868787796221408e-06\n",
      "969958984.0000014\n",
      "\n",
      "2.6583378941114344e-05\n",
      "6867882705.000013\n",
      "\n",
      "-3.2145315984682225e-05\n",
      "10846276125.000013\n",
      "\n",
      "-0.0018677468953046147\n",
      "75078674325.00009\n",
      "\n",
      "-2.898086475143794e-06\n",
      "1023523454.999996\n",
      "\n",
      "4.622156814057842e-05\n",
      "24355818037.999992\n",
      "\n",
      "0.00024051793477849787\n",
      "36978127195.0\n",
      "\n",
      "-1.3433135397633207e-06\n",
      "30452402069.999973\n",
      "\n",
      "-2.4905982365241534e-05\n",
      "6990590548.999984\n",
      "\n",
      "2.2026090959292997e-06\n",
      "1973934480.0000067\n",
      "\n"
     ]
    }
   ],
   "source": [
    "for _ in range(10):\n",
    "\n",
    "    A = np.random.randint(low=-10, high=10, size=(4, 5))\n",
    "    A_t = A.transpose()\n",
    "\n",
    "    print(np.linalg.det(A_t @ A))\n",
    "    print(np.linalg.det(A @ A_t))\n",
    "    print()\n",
    "\n",
    "for _ in range(10):\n",
    "\n",
    "    A = np.random.randint(low=-10, high=10, size=(5, 6))\n",
    "    A_t = A.transpose()\n",
    "\n",
    "    print(np.linalg.det(A_t @ A))\n",
    "    print(np.linalg.det(A @ A_t))\n",
    "    print()"
   ]
  },
  {
   "cell_type": "markdown",
   "id": "6bbfc65e-95e7-45a0-9ed0-4d6e6e2e860c",
   "metadata": {},
   "source": [
    " "
   ]
  },
  {
   "cell_type": "markdown",
   "id": "d8b5a640-2bdf-404c-8079-f7f5aaaba680",
   "metadata": {},
   "source": [
    " "
   ]
  },
  {
   "cell_type": "markdown",
   "id": "a6222bf6-7ab7-49a7-ac19-fbe03792aba9",
   "metadata": {},
   "source": [
    " "
   ]
  },
  {
   "cell_type": "markdown",
   "id": "58301679-7ed3-4ca3-b6bd-7393fb0c39ee",
   "metadata": {},
   "source": [
    "**46.**"
   ]
  },
  {
   "cell_type": "code",
   "execution_count": 10,
   "id": "50e65781-bfad-4025-9010-8c9e42b98923",
   "metadata": {},
   "outputs": [
    {
     "name": "stdout",
     "output_type": "stream",
     "text": [
      "[[ 4  0 -7 -7]\n",
      " [-6  1 11  9]\n",
      " [ 7 -5 10 19]\n",
      " [-1  2  3 -1]]\n"
     ]
    }
   ],
   "source": [
    "A = np.array(\n",
    "    [\n",
    "        [4, 0, -7, -7],\n",
    "        [-6, 1, 11, 9],\n",
    "        [7, -5, 10, 19],\n",
    "        [-1, 2, 3, -1],\n",
    "    ]\n",
    ")\n",
    "\n",
    "print(A)"
   ]
  },
  {
   "cell_type": "markdown",
   "id": "7fa059cc-b95a-4188-a717-2883b56471d4",
   "metadata": {},
   "source": [
    " "
   ]
  },
  {
   "cell_type": "markdown",
   "id": "08908893-1721-404e-9076-a7efe0588596",
   "metadata": {},
   "source": [
    " "
   ]
  },
  {
   "cell_type": "markdown",
   "id": "b761686b-7ecd-4ab4-8578-2ddb2c18e54f",
   "metadata": {},
   "source": [
    " "
   ]
  },
  {
   "cell_type": "code",
   "execution_count": 21,
   "id": "a82bd474-8f9c-4d00-81e2-36e404ab4771",
   "metadata": {},
   "outputs": [
    {
     "name": "stdout",
     "output_type": "stream",
     "text": [
      "1.000000000000334\n",
      "9999.999999999813\n",
      "0.0001000000000000493\n"
     ]
    }
   ],
   "source": [
    "print(np.linalg.det(A))\n",
    "print(np.linalg.det(10*A))\n",
    "print(np.linalg.det(0.1*A))"
   ]
  },
  {
   "cell_type": "markdown",
   "id": "42c70b7b-704e-4d4e-af38-c23f10a281de",
   "metadata": {},
   "source": [
    " "
   ]
  },
  {
   "cell_type": "markdown",
   "id": "cf0de693-d9de-4edf-8201-d58e7eee64fd",
   "metadata": {},
   "source": [
    " "
   ]
  },
  {
   "cell_type": "code",
   "execution_count": 22,
   "id": "cbc8c1bf-4af2-4e8a-86cf-46510d82db07",
   "metadata": {},
   "outputs": [
    {
     "name": "stdout",
     "output_type": "stream",
     "text": [
      "[[-1.90000000e+01 -1.40000000e+01  2.15700473e-14  7.00000000e+00]\n",
      " [-5.49000000e+02 -4.01000000e+02 -2.00000000e+00  1.96000000e+02]\n",
      " [ 2.67000000e+02  1.95000000e+02  1.00000000e+00 -9.50000000e+01]\n",
      " [-2.78000000e+02 -2.03000000e+02 -1.00000000e+00  9.90000000e+01]]\n",
      "[[ -1.9  -1.4   0.    0.7]\n",
      " [-54.9 -40.1  -0.2  19.6]\n",
      " [ 26.7  19.5   0.1  -9.5]\n",
      " [-27.8 -20.3  -0.1   9.9]]\n",
      "[[-1.90000000e+02 -1.40000000e+02  3.27357189e-13  7.00000000e+01]\n",
      " [-5.49000000e+03 -4.01000000e+03 -2.00000000e+01  1.96000000e+03]\n",
      " [ 2.67000000e+03  1.95000000e+03  1.00000000e+01 -9.50000000e+02]\n",
      " [-2.78000000e+03 -2.03000000e+03 -1.00000000e+01  9.90000000e+02]]\n"
     ]
    }
   ],
   "source": [
    "print(np.linalg.inv(A))\n",
    "print(np.linalg.inv(10*A))\n",
    "print(np.linalg.inv(0.1*A))"
   ]
  },
  {
   "cell_type": "markdown",
   "id": "6e491f0a-d857-4968-aaf6-20ff1089c319",
   "metadata": {},
   "source": [
    " "
   ]
  },
  {
   "cell_type": "markdown",
   "id": "03c41cb4-17ad-49f5-a1fc-f1860af4caf8",
   "metadata": {},
   "source": [
    " "
   ]
  },
  {
   "cell_type": "markdown",
   "id": "4c2c5980-d286-4f4e-8309-abe808e45b0a",
   "metadata": {},
   "source": [
    " "
   ]
  },
  {
   "cell_type": "markdown",
   "id": "fc7dc77f-6813-4218-9678-e9f2c9efef93",
   "metadata": {},
   "source": [
    " "
   ]
  },
  {
   "cell_type": "markdown",
   "id": "9e4740dc-042a-42a3-ad79-c384463bc0f2",
   "metadata": {},
   "source": [
    " "
   ]
  },
  {
   "cell_type": "code",
   "execution_count": 15,
   "id": "f09eb014-cfff-4db5-b1ba-ec311b72e122",
   "metadata": {},
   "outputs": [
    {
     "name": "stdout",
     "output_type": "stream",
     "text": [
      "[[1. 0. 0. 0.]\n",
      " [0. 1. 0. 0.]\n",
      " [0. 0. 1. 0.]\n",
      " [0. 0. 0. 1.]]\n"
     ]
    }
   ],
   "source": [
    "I = np.identity(4)\n",
    "print(I)"
   ]
  },
  {
   "cell_type": "markdown",
   "id": "d31b5581-4897-48f1-af3d-79bd3a3b6911",
   "metadata": {},
   "source": [
    " "
   ]
  },
  {
   "cell_type": "markdown",
   "id": "ef004439-8ab4-4057-a204-62da007e95da",
   "metadata": {},
   "source": [
    " "
   ]
  },
  {
   "cell_type": "code",
   "execution_count": 16,
   "id": "b7482b4f-d286-47b6-a2ec-d8c0aa7fd8f1",
   "metadata": {},
   "outputs": [
    {
     "name": "stdout",
     "output_type": "stream",
     "text": [
      "1.0\n",
      "10000.00000000001\n",
      "0.00010000000000000009\n"
     ]
    }
   ],
   "source": [
    "print(np.linalg.det(I))\n",
    "print(np.linalg.det(10*I))\n",
    "print(np.linalg.det(0.1*I))"
   ]
  },
  {
   "cell_type": "markdown",
   "id": "091197d4-b13f-4630-91e4-81e91fdb63e2",
   "metadata": {},
   "source": [
    " "
   ]
  },
  {
   "cell_type": "markdown",
   "id": "e7be50b7-4947-4b89-b395-deba7ff37296",
   "metadata": {},
   "source": [
    " "
   ]
  },
  {
   "cell_type": "markdown",
   "id": "bba77e8d-dd7f-4114-810c-f6f49c91b5fe",
   "metadata": {},
   "source": [
    " "
   ]
  },
  {
   "cell_type": "markdown",
   "id": "4a3c1616-cb55-4638-94b8-e089ce62d0aa",
   "metadata": {},
   "source": [
    " "
   ]
  },
  {
   "cell_type": "markdown",
   "id": "4d6b1389-e1ad-4176-a722-b75350d56d56",
   "metadata": {},
   "source": [
    " "
   ]
  },
  {
   "cell_type": "markdown",
   "id": "b122a02a-47b7-4f28-87b5-8a1f2ba6cf70",
   "metadata": {},
   "source": [
    " "
   ]
  },
  {
   "cell_type": "markdown",
   "id": "918fc857-9469-4673-8d58-435134302e98",
   "metadata": {},
   "source": [
    " "
   ]
  },
  {
   "cell_type": "markdown",
   "id": "af6320af-d91c-4110-b19a-f3d62c258635",
   "metadata": {},
   "source": [
    " "
   ]
  },
  {
   "cell_type": "markdown",
   "id": "7cc44257-2d1c-4569-93e3-ac02b67d5920",
   "metadata": {},
   "source": [
    " "
   ]
  },
  {
   "cell_type": "markdown",
   "id": "c83bcc78-612e-4b9e-a544-7df88deda49a",
   "metadata": {},
   "source": [
    " "
   ]
  },
  {
   "cell_type": "markdown",
   "id": "9e9f2508-ac81-4697-b6d8-1d326ac94404",
   "metadata": {},
   "source": [
    " "
   ]
  },
  {
   "cell_type": "markdown",
   "id": "cab3646e-3e2a-4a02-8acf-229ce3aa3520",
   "metadata": {},
   "source": [
    " "
   ]
  },
  {
   "cell_type": "markdown",
   "id": "57640037-6ebf-4f58-89ae-9e5cd44fb49a",
   "metadata": {},
   "source": [
    " "
   ]
  },
  {
   "cell_type": "markdown",
   "id": "b4470115-4197-47cd-91b1-85d61e8c13d2",
   "metadata": {},
   "source": [
    " "
   ]
  },
  {
   "cell_type": "markdown",
   "id": "b4ec07b9-7aee-4d4a-8873-c915fd84411a",
   "metadata": {},
   "source": [
    " "
   ]
  },
  {
   "cell_type": "markdown",
   "id": "b582d675-a71c-4bb8-8eb4-26a6e666c917",
   "metadata": {},
   "source": [
    " "
   ]
  },
  {
   "cell_type": "markdown",
   "id": "1a9f91c1-1b32-4247-9134-af59235fc3f7",
   "metadata": {},
   "source": [
    " "
   ]
  },
  {
   "cell_type": "markdown",
   "id": "2f8d0e31-eb13-470e-9808-b3e0c4220f4f",
   "metadata": {},
   "source": [
    " "
   ]
  },
  {
   "cell_type": "markdown",
   "id": "38ea9fbb-1c83-47f7-8890-2405b6f77664",
   "metadata": {},
   "source": [
    " "
   ]
  },
  {
   "cell_type": "markdown",
   "id": "6ee96574-e5bf-4f57-8cd9-f4d7375f9ba7",
   "metadata": {},
   "source": [
    " "
   ]
  },
  {
   "cell_type": "markdown",
   "id": "8d527698-5cf9-4d2f-bb30-736805e87332",
   "metadata": {},
   "source": [
    " "
   ]
  },
  {
   "cell_type": "markdown",
   "id": "254f306b-729c-40d3-a552-5597cdd19ad2",
   "metadata": {},
   "source": [
    " "
   ]
  },
  {
   "cell_type": "markdown",
   "id": "527f3ac8-7267-45b9-b650-e2e944af9b73",
   "metadata": {},
   "source": [
    " "
   ]
  },
  {
   "cell_type": "markdown",
   "id": "96489736-18a1-4fbf-aa46-45b48bad52de",
   "metadata": {},
   "source": [
    " "
   ]
  }
 ],
 "metadata": {
  "kernelspec": {
   "display_name": "projects",
   "language": "python",
   "name": "projects"
  },
  "language_info": {
   "codemirror_mode": {
    "name": "ipython",
    "version": 3
   },
   "file_extension": ".py",
   "mimetype": "text/x-python",
   "name": "python",
   "nbconvert_exporter": "python",
   "pygments_lexer": "ipython3",
   "version": "3.11.6"
  }
 },
 "nbformat": 4,
 "nbformat_minor": 5
}
