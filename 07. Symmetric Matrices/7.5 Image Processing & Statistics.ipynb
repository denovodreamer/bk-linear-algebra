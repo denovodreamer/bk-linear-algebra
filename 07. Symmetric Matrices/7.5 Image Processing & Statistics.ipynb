{
 "cells": [
  {
   "cell_type": "markdown",
   "id": "7400f96a-0e30-4741-b317-7fd6de4f25f5",
   "metadata": {},
   "source": [
    " "
   ]
  },
  {
   "cell_type": "markdown",
   "id": "cc2d0643-ea40-4404-88ce-d59b43bf72bb",
   "metadata": {},
   "source": [
    " "
   ]
  },
  {
   "cell_type": "markdown",
   "id": "49e72a9d-cdc5-4a52-b8ad-0ba6ee104a67",
   "metadata": {},
   "source": [
    " "
   ]
  },
  {
   "cell_type": "markdown",
   "id": "78e591e7-2b40-4191-9166-c756195672f2",
   "metadata": {},
   "source": [
    " "
   ]
  },
  {
   "cell_type": "markdown",
   "id": "cf496333-d2a3-4c6e-a663-2502637e6237",
   "metadata": {},
   "source": [
    " "
   ]
  },
  {
   "cell_type": "markdown",
   "id": "96fe432b-334e-4737-91ee-153711b91b6b",
   "metadata": {},
   "source": [
    " "
   ]
  },
  {
   "cell_type": "code",
   "execution_count": 2,
   "id": "f29a6725-7429-4411-b3d9-efc3d6f0b4dd",
   "metadata": {},
   "outputs": [],
   "source": [
    "import numpy as np\n",
    "\n",
    "import utils"
   ]
  },
  {
   "cell_type": "markdown",
   "id": "cb70ca84-6eaf-4f9f-92bb-41ec7ead167d",
   "metadata": {},
   "source": [
    " "
   ]
  },
  {
   "cell_type": "markdown",
   "id": "a4061fe5-d041-4719-9bbe-9bfe80c2b802",
   "metadata": {},
   "source": [
    " "
   ]
  },
  {
   "cell_type": "markdown",
   "id": "d6ec90e5-1de2-4413-b939-76987a9ef747",
   "metadata": {},
   "source": [
    " "
   ]
  },
  {
   "cell_type": "markdown",
   "id": "5e7fdc8b-c900-4191-a071-df5b3917fc5a",
   "metadata": {},
   "source": [
    " "
   ]
  },
  {
   "cell_type": "markdown",
   "id": "f72cc18e-eb61-4543-a99d-289cf36fb081",
   "metadata": {},
   "source": [
    " "
   ]
  },
  {
   "cell_type": "markdown",
   "id": "9e62b077-255d-43e9-983f-4148df6f71e4",
   "metadata": {},
   "source": [
    " "
   ]
  },
  {
   "cell_type": "markdown",
   "id": "ac9e4c41-1d75-41ce-b515-6f501c69c9b5",
   "metadata": {},
   "source": [
    "**Practice**"
   ]
  },
  {
   "cell_type": "code",
   "execution_count": 38,
   "id": "cf8ae965-068c-4b81-8413-aab274560912",
   "metadata": {},
   "outputs": [
    {
     "name": "stdout",
     "output_type": "stream",
     "text": [
      "[[120 125 125 135 145]\n",
      " [ 61  60  64  68  72]]\n"
     ]
    }
   ],
   "source": [
    "B = np.array(\n",
    "    [\n",
    "        [120, 125, 125, 135, 145],\n",
    "        [61, 60, 64, 68, 72],\n",
    "    ]\n",
    ")\n",
    "\n",
    "p, N = B.shape\n",
    "\n",
    "print(B)"
   ]
  },
  {
   "cell_type": "markdown",
   "id": "d43cdf31-c9aa-472c-a7ea-98787aa7aef5",
   "metadata": {},
   "source": [
    " "
   ]
  },
  {
   "cell_type": "markdown",
   "id": "f53175a8-6ff1-4890-ad02-82338e4a642b",
   "metadata": {},
   "source": [
    " "
   ]
  },
  {
   "cell_type": "code",
   "execution_count": 123,
   "id": "6505bf24-75f1-4a76-8536-41e21eab267d",
   "metadata": {},
   "outputs": [
    {
     "name": "stdout",
     "output_type": "stream",
     "text": [
      "[[130.]\n",
      " [ 65.]]\n"
     ]
    }
   ],
   "source": [
    "M = np.mean(B, axis=1).reshape(-1, 1)\n",
    "\n",
    "print(M)"
   ]
  },
  {
   "cell_type": "markdown",
   "id": "c4d55394-ae6f-4559-9099-2380e16f051b",
   "metadata": {},
   "source": [
    " "
   ]
  },
  {
   "cell_type": "markdown",
   "id": "6295c257-6d35-4096-85d5-e66d8d9ddef5",
   "metadata": {},
   "source": [
    " "
   ]
  },
  {
   "cell_type": "code",
   "execution_count": 124,
   "id": "182e2773-9ccb-4277-8086-6af66ef2426e",
   "metadata": {},
   "outputs": [
    {
     "data": {
      "text/plain": [
       "array([[-10.,  -5.,  -5.,   5.,  15.],\n",
       "       [ -4.,  -5.,  -1.,   3.,   7.]])"
      ]
     },
     "execution_count": 124,
     "metadata": {},
     "output_type": "execute_result"
    }
   ],
   "source": [
    "B_hat = B - M\n",
    "\n",
    "B_hat"
   ]
  },
  {
   "cell_type": "markdown",
   "id": "8015b499-1e1e-434c-8f12-85c097178a3f",
   "metadata": {},
   "source": [
    " "
   ]
  },
  {
   "cell_type": "markdown",
   "id": "e7b87f3c-3c54-4b42-a229-a7c62834ede1",
   "metadata": {},
   "source": [
    " "
   ]
  },
  {
   "cell_type": "code",
   "execution_count": 128,
   "id": "c79ca472-dc86-4a98-8839-275d478b84c3",
   "metadata": {},
   "outputs": [
    {
     "data": {
      "text/plain": [
       "array([0., 0.])"
      ]
     },
     "execution_count": 128,
     "metadata": {},
     "output_type": "execute_result"
    }
   ],
   "source": [
    "np.mean(B_hat, axis=1)"
   ]
  },
  {
   "cell_type": "markdown",
   "id": "bc3955ba-0197-48b0-9538-a200a51f0068",
   "metadata": {},
   "source": [
    " "
   ]
  },
  {
   "cell_type": "markdown",
   "id": "71697eed-59a2-46f1-81b3-a38e0027888a",
   "metadata": {},
   "source": [
    " "
   ]
  },
  {
   "cell_type": "markdown",
   "id": "65d4c925-ba3d-4560-9462-11b2ab187910",
   "metadata": {},
   "source": [
    " "
   ]
  },
  {
   "cell_type": "code",
   "execution_count": 129,
   "id": "233dd838-e374-431b-8ee5-dfb037afbb57",
   "metadata": {},
   "outputs": [
    {
     "data": {
      "text/plain": [
       "array([[100. ,  47.5],\n",
       "       [ 47.5,  25. ]])"
      ]
     },
     "execution_count": 129,
     "metadata": {},
     "output_type": "execute_result"
    }
   ],
   "source": [
    "S = (1/(N-1))*(B_hat @ B_hat.T)\n",
    "\n",
    "S"
   ]
  },
  {
   "cell_type": "markdown",
   "id": "510cf4e3-5faf-4cea-831d-61b9295e92bc",
   "metadata": {},
   "source": [
    " "
   ]
  },
  {
   "cell_type": "markdown",
   "id": "efd0a51a-ab59-4c79-9bf5-7b922c464fcc",
   "metadata": {},
   "source": [
    " "
   ]
  },
  {
   "cell_type": "markdown",
   "id": "ffa38501-f2a3-4134-8dee-0ec538d9af32",
   "metadata": {},
   "source": [
    " "
   ]
  },
  {
   "cell_type": "code",
   "execution_count": 130,
   "id": "bb8f04c1-9474-4185-bddc-9b7ced2bd58e",
   "metadata": {},
   "outputs": [
    {
     "name": "stdout",
     "output_type": "stream",
     "text": [
      "[123.01859218   1.98140782]\n",
      "\n",
      "[[ 0.89990119 -0.43609386]\n",
      " [ 0.43609386  0.89990119]]\n"
     ]
    }
   ],
   "source": [
    "eig, P = np.linalg.eig(S)\n",
    "\n",
    "print(eig)\n",
    "print(\"\")\n",
    "print(P)"
   ]
  },
  {
   "cell_type": "markdown",
   "id": "3ab087f9-28a2-4aad-afd9-f0901b1081e7",
   "metadata": {},
   "source": [
    " "
   ]
  },
  {
   "cell_type": "code",
   "execution_count": 139,
   "id": "fe008292-d704-49bd-92ee-16c07213b8fc",
   "metadata": {},
   "outputs": [
    {
     "name": "stdout",
     "output_type": "stream",
     "text": [
      "[[120.33 123.99 125.56 135.23 144.89]\n",
      " [ 60.31  62.09  62.85  67.53  72.22]]\n"
     ]
    }
   ],
   "source": [
    "y_1 = P[:, [0]].T @ B_hat\n",
    "\n",
    "Y = np.pad(y_1, ((0, 1), (0, 0)), mode='constant')\n",
    "\n",
    "# Y = P.T @ B_hat\n",
    "\n",
    "B_new_hat = P @ Y\n",
    "\n",
    "B_new = B_new_hat + M\n",
    "\n",
    "print(B_new.round(2))"
   ]
  },
  {
   "cell_type": "markdown",
   "id": "a110ccbf-95b5-4016-b9c5-78bf84b0bae1",
   "metadata": {},
   "source": [
    " "
   ]
  },
  {
   "cell_type": "markdown",
   "id": "973eba2f-eac8-4cfd-99d1-e5a638e5218d",
   "metadata": {},
   "source": [
    " "
   ]
  },
  {
   "cell_type": "code",
   "execution_count": 117,
   "id": "dae5e32e-228c-4d32-be27-7d93bfed2044",
   "metadata": {},
   "outputs": [
    {
     "name": "stdout",
     "output_type": "stream",
     "text": [
      "[[120 125 125 135 145]\n",
      " [ 61  60  64  68  72]]\n"
     ]
    }
   ],
   "source": [
    "print(B)"
   ]
  },
  {
   "cell_type": "markdown",
   "id": "c9db8f0a-18da-4ebb-8c46-e02162519a65",
   "metadata": {},
   "source": [
    " "
   ]
  },
  {
   "cell_type": "markdown",
   "id": "a03294b7-2618-4dcf-be21-11922b4f4aca",
   "metadata": {},
   "source": [
    " "
   ]
  },
  {
   "cell_type": "markdown",
   "id": "834dad19-1323-4422-aa37-d8c97e2b6337",
   "metadata": {},
   "source": [
    " "
   ]
  },
  {
   "cell_type": "markdown",
   "id": "05302b68-b4b4-4c2f-b20c-090e055f3432",
   "metadata": {},
   "source": [
    " "
   ]
  },
  {
   "cell_type": "code",
   "execution_count": 118,
   "id": "cd2fdbea-09d3-401e-9fbe-48920f7e252b",
   "metadata": {},
   "outputs": [
    {
     "data": {
      "text/plain": [
       "array([[103.00296442, 156.99703558],\n",
       "       [ 51.91718417,  78.08281583]])"
      ]
     },
     "execution_count": 118,
     "metadata": {},
     "output_type": "execute_result"
    }
   ],
   "source": [
    "line = np.zeros((2, 2))\n",
    "\n",
    "line[:, [0]] = M - 30 * P[:, [0]]\n",
    "line[:, [1]] = M + 30 * P[:, [0]]\n",
    "\n",
    "line"
   ]
  },
  {
   "cell_type": "markdown",
   "id": "04f278ae-0fd1-4dda-8b42-1bdaf1095265",
   "metadata": {},
   "source": [
    " "
   ]
  },
  {
   "cell_type": "markdown",
   "id": "6bbad96a-116c-4559-a83d-eff511f9a679",
   "metadata": {},
   "source": [
    " "
   ]
  },
  {
   "cell_type": "markdown",
   "id": "0f2e3e32-0a84-4bde-98c3-533d9a2ecb12",
   "metadata": {},
   "source": [
    " "
   ]
  },
  {
   "cell_type": "code",
   "execution_count": 137,
   "id": "a2e4b51a-6290-4a04-a27d-07c10775df40",
   "metadata": {},
   "outputs": [
    {
     "data": {
      "image/png": "[encoded data removed]",
      "text/plain": [
       "<Figure size 1500x800 with 1 Axes>"
      ]
     },
     "metadata": {},
     "output_type": "display_data"
    }
   ],
   "source": [
    "import matplotlib.pyplot as plt\n",
    "\n",
    "plt.figure(figsize=(15, 8))\n",
    "\n",
    "plt.scatter(B[0, :], B[1, :], s=20)\n",
    "plt.scatter(B_new[0, :], B_new[1, :], s=20)\n",
    "plt.plot(line[0], line[1], color=\"c\")\n",
    "\n",
    "plt.xlim(110, 150)\n",
    "plt.ylim(50, 75)\n",
    "\n",
    "plt.show()"
   ]
  },
  {
   "cell_type": "markdown",
   "id": "89e7d2b3-9e70-4cf1-b938-2159f2f10724",
   "metadata": {},
   "source": [
    " "
   ]
  },
  {
   "cell_type": "markdown",
   "id": "fcc198e5-3cab-4444-be4d-989680ce62b8",
   "metadata": {},
   "source": [
    " "
   ]
  },
  {
   "cell_type": "markdown",
   "id": "d77854bc-9ef1-47d4-a078-936cddba5c46",
   "metadata": {},
   "source": [
    " "
   ]
  },
  {
   "cell_type": "markdown",
   "id": "80508f4d-11d7-40ee-a724-a8908ec3396a",
   "metadata": {},
   "source": [
    " "
   ]
  },
  {
   "cell_type": "markdown",
   "id": "427e1cee-4c6d-4f9f-a2c4-73b2b599ddb3",
   "metadata": {},
   "source": [
    " "
   ]
  },
  {
   "cell_type": "markdown",
   "id": "86845056-0851-477e-81be-ae5a4044cf93",
   "metadata": {},
   "source": [
    " "
   ]
  },
  {
   "cell_type": "markdown",
   "id": "f056b3d7-ef91-4e2b-a8de-c40cb17ec00c",
   "metadata": {},
   "source": [
    " "
   ]
  },
  {
   "cell_type": "markdown",
   "id": "52b54771-33cf-40ee-8d09-ae9424fc384e",
   "metadata": {},
   "source": [
    " "
   ]
  },
  {
   "cell_type": "markdown",
   "id": "7748f727-f159-4d08-94f9-9ce9d7457525",
   "metadata": {},
   "source": [
    " "
   ]
  },
  {
   "cell_type": "markdown",
   "id": "234f3f0f-c77a-4fb3-8aae-51d098f4c257",
   "metadata": {},
   "source": [
    " "
   ]
  },
  {
   "cell_type": "markdown",
   "id": "39958ee4-7e43-48b1-b4c8-80e818f93f4e",
   "metadata": {},
   "source": [
    " "
   ]
  },
  {
   "cell_type": "markdown",
   "id": "6264b286-7720-46a1-a1db-622ef84ff78a",
   "metadata": {},
   "source": [
    "**1.**"
   ]
  },
  {
   "cell_type": "markdown",
   "id": "eeb6bcc4-a956-4cd4-a858-556a956ff302",
   "metadata": {},
   "source": [
    " "
   ]
  },
  {
   "cell_type": "code",
   "execution_count": 5,
   "id": "b3e0af64-bfd3-4ca9-9fa7-0c30252fbf35",
   "metadata": {},
   "outputs": [
    {
     "name": "stdout",
     "output_type": "stream",
     "text": [
      "[[19 22  6  3  2 20]\n",
      " [12  6  9 15 13  5]]\n"
     ]
    }
   ],
   "source": [
    "X = np.array(\n",
    "    [\n",
    "        [19, 22, 6, 3, 2, 20],\n",
    "        [12, 6, 9, 15, 13, 5],\n",
    "    ]\n",
    ")\n",
    "\n",
    "p, N = X.shape\n",
    "\n",
    "print(X)"
   ]
  },
  {
   "cell_type": "markdown",
   "id": "7a9313d4-bb76-4d9f-bcb1-fea4a8d48846",
   "metadata": {},
   "source": [
    " "
   ]
  },
  {
   "cell_type": "markdown",
   "id": "032d1e1b-d02b-4572-b939-396ba33bb12c",
   "metadata": {},
   "source": [
    " "
   ]
  },
  {
   "cell_type": "markdown",
   "id": "96a7f1f3-95cb-4051-898b-e53a8a47e823",
   "metadata": {},
   "source": [
    " "
   ]
  },
  {
   "cell_type": "code",
   "execution_count": 8,
   "id": "d1685e40-7674-4146-9d2c-b96f55d28629",
   "metadata": {},
   "outputs": [
    {
     "data": {
      "text/plain": [
       "array([[12.],\n",
       "       [10.]])"
      ]
     },
     "execution_count": 8,
     "metadata": {},
     "output_type": "execute_result"
    }
   ],
   "source": [
    "M = np.mean(X, axis=1, keepdims=True)\n",
    "\n",
    "M"
   ]
  },
  {
   "cell_type": "markdown",
   "id": "ad0ff387-c24a-4032-8ed4-a687a659bfb7",
   "metadata": {},
   "source": [
    " "
   ]
  },
  {
   "cell_type": "markdown",
   "id": "2b042f9e-1260-4983-916d-8f5fd2423494",
   "metadata": {},
   "source": [
    " "
   ]
  },
  {
   "cell_type": "markdown",
   "id": "9b7da5f2-7ac8-44cb-9f43-8f4b7f8de206",
   "metadata": {},
   "source": [
    " "
   ]
  },
  {
   "cell_type": "code",
   "execution_count": 13,
   "id": "79a6bbd7-306b-4b05-bb97-5cf83ba0c7b7",
   "metadata": {},
   "outputs": [
    {
     "name": "stdout",
     "output_type": "stream",
     "text": [
      "[[  7.  10.  -6.  -9. -10.   8.]\n",
      " [  2.  -4.  -1.   5.   3.  -5.]]\n"
     ]
    }
   ],
   "source": [
    "X_hat = X - M\n",
    "\n",
    "print(X_hat)"
   ]
  },
  {
   "cell_type": "markdown",
   "id": "2546c81d-3a54-468f-aaae-4a30065d70b8",
   "metadata": {},
   "source": [
    " "
   ]
  },
  {
   "cell_type": "markdown",
   "id": "86891255-058f-4c3c-9da6-38c6ae9e726a",
   "metadata": {},
   "source": [
    " "
   ]
  },
  {
   "cell_type": "code",
   "execution_count": 12,
   "id": "6b67fed8-e8a5-4183-9faa-3b3d45b5d5c5",
   "metadata": {},
   "outputs": [
    {
     "name": "stdout",
     "output_type": "stream",
     "text": [
      "[[ 86. -27.]\n",
      " [-27.  16.]]\n"
     ]
    }
   ],
   "source": [
    "S = (1/(N-1))*(X_hat @ X_hat.T)\n",
    "\n",
    "print(S)"
   ]
  },
  {
   "cell_type": "markdown",
   "id": "03bb5bc3-c36e-49c9-8136-c89dade312b4",
   "metadata": {},
   "source": [
    " "
   ]
  },
  {
   "cell_type": "markdown",
   "id": "4ce3117a-b6a5-46ea-8a56-20070de3569c",
   "metadata": {},
   "source": [
    " "
   ]
  },
  {
   "cell_type": "markdown",
   "id": "7f4c13ce-3c01-4ed3-8f7e-79190240d656",
   "metadata": {},
   "source": [
    " "
   ]
  },
  {
   "cell_type": "markdown",
   "id": "49323f56-76bc-44b8-a179-b7dfb2cea641",
   "metadata": {},
   "source": [
    "**3.**"
   ]
  },
  {
   "cell_type": "markdown",
   "id": "a28b1a79-1d69-4da3-bdf2-5219aa6731fc",
   "metadata": {},
   "source": [
    " "
   ]
  },
  {
   "cell_type": "code",
   "execution_count": 14,
   "id": "3b3494ea-dabf-4c78-b1c6-971791cd1e26",
   "metadata": {},
   "outputs": [
    {
     "name": "stdout",
     "output_type": "stream",
     "text": [
      "[95.20407221  6.79592779]\n",
      "\n",
      "[[ 0.94651525  0.32265906]\n",
      " [-0.32265906  0.94651525]]\n"
     ]
    }
   ],
   "source": [
    "eig, P = np.linalg.eig(S)\n",
    "\n",
    "print(eig)\n",
    "print(\"\")\n",
    "print(P)"
   ]
  },
  {
   "cell_type": "markdown",
   "id": "70169bd4-0a77-4ca8-9dc4-33f33274f9bd",
   "metadata": {},
   "source": [
    " "
   ]
  },
  {
   "cell_type": "markdown",
   "id": "406dd5c2-8eab-4ddf-ae88-395f822633b1",
   "metadata": {},
   "source": [
    " "
   ]
  },
  {
   "cell_type": "markdown",
   "id": "b33d7142-6d0d-428d-b447-ff7b4167bf5e",
   "metadata": {},
   "source": [
    " "
   ]
  },
  {
   "cell_type": "markdown",
   "id": "88ea98de-b290-440a-96df-5e64584c5958",
   "metadata": {},
   "source": [
    "Principal components: P = [u_1, u_2]"
   ]
  },
  {
   "cell_type": "code",
   "execution_count": 15,
   "id": "40d04bbf-40fa-4dcd-92f4-c973be458da1",
   "metadata": {},
   "outputs": [
    {
     "name": "stdout",
     "output_type": "stream",
     "text": [
      "[[ 0.94651525  0.32265906]\n",
      " [-0.32265906  0.94651525]]\n"
     ]
    }
   ],
   "source": [
    "print(P)"
   ]
  },
  {
   "cell_type": "markdown",
   "id": "24777c18-6c43-4bb0-b329-5409cf2d023a",
   "metadata": {},
   "source": [
    " "
   ]
  },
  {
   "cell_type": "markdown",
   "id": "e61219f0-a0ec-40ce-8a1e-39125cc98906",
   "metadata": {},
   "source": [
    " "
   ]
  },
  {
   "cell_type": "markdown",
   "id": "d229df70-59aa-4e8d-ba65-24e364dcb50c",
   "metadata": {},
   "source": [
    " "
   ]
  },
  {
   "cell_type": "markdown",
   "id": "23ac6a01-9d09-4f6b-b19b-55eda68a160b",
   "metadata": {},
   "source": [
    " "
   ]
  },
  {
   "cell_type": "markdown",
   "id": "218c8b85-bff9-4ea3-b6d4-f790cb0aec3c",
   "metadata": {},
   "source": [
    " "
   ]
  },
  {
   "cell_type": "markdown",
   "id": "e51aed5b-950e-4f7f-b26f-56cf84991ca0",
   "metadata": {},
   "source": [
    " "
   ]
  },
  {
   "cell_type": "markdown",
   "id": "cbf7e2a0-e760-466f-87f7-74712b7812f0",
   "metadata": {},
   "source": [
    " "
   ]
  },
  {
   "cell_type": "markdown",
   "id": "e6170881-dd29-4a18-90d8-efd03feb8199",
   "metadata": {},
   "source": [
    " "
   ]
  },
  {
   "cell_type": "markdown",
   "id": "26dd31b8-f7ae-4281-8b92-ce47590203a6",
   "metadata": {},
   "source": [
    "**5.**"
   ]
  },
  {
   "cell_type": "code",
   "execution_count": 18,
   "id": "f96c090b-1c23-4292-8dc4-597a53116de1",
   "metadata": {},
   "outputs": [
    {
     "name": "stdout",
     "output_type": "stream",
     "text": [
      "[[164.12  32.73  81.04]\n",
      " [ 32.73 539.44 249.13]\n",
      " [ 81.04 249.13 189.11]]\n"
     ]
    }
   ],
   "source": [
    "S = np.array(\n",
    "    [\n",
    "        [164.12, 32.73, 81.04],\n",
    "        [32.73, 539.44, 249.13],\n",
    "        [81.04, 249.13, 189.11],\n",
    "    ]\n",
    ")\n",
    "\n",
    "print(S)"
   ]
  },
  {
   "cell_type": "markdown",
   "id": "20ede358-a87d-4e9e-a3ec-0d872116150c",
   "metadata": {},
   "source": [
    " "
   ]
  },
  {
   "cell_type": "markdown",
   "id": "ccd2ba61-b77b-47f8-b2ec-aff06234fdca",
   "metadata": {},
   "source": [
    " "
   ]
  },
  {
   "cell_type": "markdown",
   "id": "b86a3fc2-e655-42a8-b25f-177641042d80",
   "metadata": {},
   "source": [
    " "
   ]
  },
  {
   "cell_type": "code",
   "execution_count": 19,
   "id": "17265b3b-f723-403b-af1a-d5985457e6ce",
   "metadata": {},
   "outputs": [
    {
     "name": "stdout",
     "output_type": "stream",
     "text": [
      "[677.49712437 181.58112062  33.59175501]\n",
      "\n",
      "[[-0.12955366 -0.89943467 -0.41741242]\n",
      " [-0.87442295  0.30212305 -0.37961318]\n",
      " [-0.46754717 -0.31581472  0.82562746]]\n"
     ]
    }
   ],
   "source": [
    "eig, P = np.linalg.eig(S)\n",
    "\n",
    "print(eig)\n",
    "print(\"\")\n",
    "print(P)"
   ]
  },
  {
   "cell_type": "markdown",
   "id": "8ca9b4d6-a73c-4b5b-8f0f-33a226d49fb8",
   "metadata": {},
   "source": [
    " "
   ]
  },
  {
   "cell_type": "markdown",
   "id": "0f17f721-064f-4e2d-bc83-3df10c909ad9",
   "metadata": {},
   "source": [
    " "
   ]
  },
  {
   "cell_type": "code",
   "execution_count": 20,
   "id": "7e0f53f9-9977-4b8a-9ba6-f297bf4c26e5",
   "metadata": {},
   "outputs": [
    {
     "data": {
      "text/plain": [
       "array([[-0.12955366],\n",
       "       [-0.87442295],\n",
       "       [-0.46754717]])"
      ]
     },
     "execution_count": 20,
     "metadata": {},
     "output_type": "execute_result"
    }
   ],
   "source": [
    "u_1 = P[:, [0]]\n",
    "\n",
    "u_1"
   ]
  },
  {
   "cell_type": "markdown",
   "id": "bc72deae-57ce-499a-92a3-92d1a4114e00",
   "metadata": {},
   "source": [
    " "
   ]
  },
  {
   "cell_type": "markdown",
   "id": "73693081-542c-4b7a-8dfd-a565ee1eb461",
   "metadata": {},
   "source": [
    " "
   ]
  },
  {
   "cell_type": "code",
   "execution_count": 25,
   "id": "9462675a-5ca9-42b2-8fc6-f2138d5aac76",
   "metadata": {},
   "outputs": [
    {
     "data": {
      "text/plain": [
       "0.76"
      ]
     },
     "execution_count": 25,
     "metadata": {},
     "output_type": "execute_result"
    }
   ],
   "source": [
    "((eig[0] / np.trace(S))).round(2)"
   ]
  },
  {
   "cell_type": "markdown",
   "id": "45f0c969-5e8d-45aa-824e-e667e6f15c3b",
   "metadata": {},
   "source": [
    " "
   ]
  },
  {
   "cell_type": "markdown",
   "id": "2d6c3aa8-ecb5-4bdc-b051-93295e410463",
   "metadata": {},
   "source": [
    " "
   ]
  },
  {
   "cell_type": "code",
   "execution_count": null,
   "id": "00ab3d69-63fb-4720-a6dc-07d84a9d7fe4",
   "metadata": {},
   "outputs": [],
   "source": []
  },
  {
   "cell_type": "markdown",
   "id": "9fc32bf2-7ab4-447f-9abc-94865defe2b5",
   "metadata": {},
   "source": [
    " "
   ]
  },
  {
   "cell_type": "markdown",
   "id": "442cae80-4cd6-4fb3-bf4d-751c3694cd79",
   "metadata": {},
   "source": [
    " "
   ]
  },
  {
   "cell_type": "markdown",
   "id": "467c2462-2447-4fb4-82cf-e015100b0c15",
   "metadata": {},
   "source": [
    " "
   ]
  },
  {
   "cell_type": "markdown",
   "id": "4ebf2f7f-34fa-423d-917a-4e5272703cdd",
   "metadata": {},
   "source": [
    " "
   ]
  },
  {
   "cell_type": "markdown",
   "id": "8b31cf9b-bbf4-4419-9d92-76533be46bee",
   "metadata": {},
   "source": [
    " "
   ]
  },
  {
   "cell_type": "markdown",
   "id": "8e36a5eb-437a-49a9-9271-4631b4b127ae",
   "metadata": {},
   "source": [
    " "
   ]
  },
  {
   "cell_type": "markdown",
   "id": "f25a87fb-fb7a-459f-a5f3-44e1a0dc6080",
   "metadata": {},
   "source": [
    " "
   ]
  },
  {
   "cell_type": "markdown",
   "id": "fca199da-0409-4818-8e7d-5ae153ed68be",
   "metadata": {},
   "source": [
    " "
   ]
  },
  {
   "cell_type": "markdown",
   "id": "8e602ae5-21bb-46b3-8831-15b357fe8f26",
   "metadata": {},
   "source": [
    " "
   ]
  },
  {
   "cell_type": "markdown",
   "id": "7ec7fe8b-13b2-483a-a91e-8e0b255ecc27",
   "metadata": {},
   "source": [
    " "
   ]
  },
  {
   "cell_type": "markdown",
   "id": "59a0fcd0-e37b-4245-b661-51777cdb17ac",
   "metadata": {},
   "source": [
    " "
   ]
  },
  {
   "cell_type": "markdown",
   "id": "b0bc6d57-8ec2-4bdd-b584-7707260bcfb9",
   "metadata": {},
   "source": [
    " "
   ]
  },
  {
   "cell_type": "markdown",
   "id": "67dfad28-88db-4e7a-bf2d-eab89d463f9b",
   "metadata": {},
   "source": [
    " "
   ]
  },
  {
   "cell_type": "markdown",
   "id": "43516eac-2096-4768-b498-bc11533db9b2",
   "metadata": {},
   "source": [
    " "
   ]
  }
 ],
 "metadata": {
  "kernelspec": {
   "display_name": "projects",
   "language": "python",
   "name": "projects"
  },
  "language_info": {
   "codemirror_mode": {
    "name": "ipython",
    "version": 3
   },
   "file_extension": ".py",
   "mimetype": "text/x-python",
   "name": "python",
   "nbconvert_exporter": "python",
   "pygments_lexer": "ipython3",
   "version": "3.11.7"
  }
 },
 "nbformat": 4,
 "nbformat_minor": 5
}
