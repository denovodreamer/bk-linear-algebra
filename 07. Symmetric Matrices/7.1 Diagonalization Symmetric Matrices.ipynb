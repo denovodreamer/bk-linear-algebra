{
 "cells": [
  {
   "cell_type": "markdown",
   "id": "53146bfe-de6c-4632-aef6-054375b0295e",
   "metadata": {},
   "source": [
    " "
   ]
  },
  {
   "cell_type": "markdown",
   "id": "1ccb7c5c-e200-44ba-99cd-13f7aa1e70cc",
   "metadata": {},
   "source": [
    " "
   ]
  },
  {
   "cell_type": "markdown",
   "id": "635f58c2-0492-4b1f-b7e3-847ed802fb9c",
   "metadata": {},
   "source": [
    " "
   ]
  },
  {
   "cell_type": "markdown",
   "id": "fc13776d-e9f4-404d-93d6-d0418bdb77d4",
   "metadata": {},
   "source": [
    " "
   ]
  },
  {
   "cell_type": "markdown",
   "id": "d8437f17-7f19-4c43-a07a-b1b4273351d4",
   "metadata": {},
   "source": [
    " "
   ]
  },
  {
   "cell_type": "code",
   "execution_count": 1,
   "id": "2308b1ff-2101-4685-b8bf-3ebcd8f5323b",
   "metadata": {},
   "outputs": [],
   "source": [
    "import numpy as np"
   ]
  },
  {
   "cell_type": "markdown",
   "id": "49a9ec2f-5ad4-44be-a5be-a68c318c357a",
   "metadata": {},
   "source": [
    " "
   ]
  },
  {
   "cell_type": "markdown",
   "id": "cdfe2b97-0eb2-4ea0-9944-0138d01b6ee6",
   "metadata": {},
   "source": [
    " "
   ]
  },
  {
   "cell_type": "markdown",
   "id": "de12c9ac-4767-4d75-b44f-edca72f7d306",
   "metadata": {},
   "source": [
    " "
   ]
  },
  {
   "cell_type": "markdown",
   "id": "98d07885-97d0-4218-8873-f952b895f5e6",
   "metadata": {},
   "source": [
    " "
   ]
  },
  {
   "cell_type": "markdown",
   "id": "c4e3def7-dd10-4118-8741-fca4ae8a0c25",
   "metadata": {},
   "source": [
    "**37.**"
   ]
  },
  {
   "cell_type": "code",
   "execution_count": 6,
   "id": "a6b57e42-3d97-4ee9-b1cb-f64a1d1923df",
   "metadata": {},
   "outputs": [
    {
     "name": "stdout",
     "output_type": "stream",
     "text": [
      "[[ 6  2  9 -6]\n",
      " [ 2  6 -6  9]\n",
      " [ 9 -6  6  2]\n",
      " [-6  9  2  6]]\n"
     ]
    }
   ],
   "source": [
    "A = np.array(\n",
    "    [\n",
    "        [6, 2, 9, -6],\n",
    "        [2, 6, -6, 9],\n",
    "        [9, -6, 6, 2],\n",
    "        [-6, 9, 2, 6],\n",
    "    ]\n",
    ")\n",
    "\n",
    "n = 4\n",
    "\n",
    "print(A)"
   ]
  },
  {
   "cell_type": "markdown",
   "id": "3cd07339-8eb6-44ba-a2a5-84146976f970",
   "metadata": {},
   "source": [
    " "
   ]
  },
  {
   "cell_type": "markdown",
   "id": "bc4f2929-8b58-447e-ab96-1b2812c87fc6",
   "metadata": {},
   "source": [
    " "
   ]
  },
  {
   "cell_type": "markdown",
   "id": "d950de07-f3e9-40f5-a7f4-73cf0adbf060",
   "metadata": {},
   "source": [
    " "
   ]
  },
  {
   "cell_type": "code",
   "execution_count": 4,
   "id": "1ef3c13c-72b1-4d13-b6fc-d42dfc8c0ee9",
   "metadata": {},
   "outputs": [],
   "source": [
    "eig_values, P = np.linalg.eig(A)"
   ]
  },
  {
   "cell_type": "markdown",
   "id": "fdfa6e59-b1c9-4786-8200-49f07ea299a7",
   "metadata": {},
   "source": [
    " "
   ]
  },
  {
   "cell_type": "markdown",
   "id": "b0c95f61-18a2-40ca-83a1-407d71a75d18",
   "metadata": {},
   "source": [
    " "
   ]
  },
  {
   "cell_type": "code",
   "execution_count": 5,
   "id": "92925c50-7a09-4469-926d-7b728878a270",
   "metadata": {},
   "outputs": [
    {
     "data": {
      "text/plain": [
       "array([-11.,  19.,   5.,  11.])"
      ]
     },
     "execution_count": 5,
     "metadata": {},
     "output_type": "execute_result"
    }
   ],
   "source": [
    "eig_values"
   ]
  },
  {
   "cell_type": "markdown",
   "id": "7f764daf-ad19-45dc-a703-bc6a71190db0",
   "metadata": {},
   "source": [
    " "
   ]
  },
  {
   "cell_type": "code",
   "execution_count": 8,
   "id": "18fae505-a0aa-42c1-8319-66569e0c35a3",
   "metadata": {},
   "outputs": [
    {
     "data": {
      "text/plain": [
       "array([[ 0.5, -0.5, -0.5,  0.5],\n",
       "       [-0.5,  0.5, -0.5,  0.5],\n",
       "       [-0.5, -0.5,  0.5,  0.5],\n",
       "       [ 0.5,  0.5,  0.5,  0.5]])"
      ]
     },
     "execution_count": 8,
     "metadata": {},
     "output_type": "execute_result"
    }
   ],
   "source": [
    "P"
   ]
  },
  {
   "cell_type": "markdown",
   "id": "49fe1379-4b41-4408-b2c4-7ab18c2720bf",
   "metadata": {},
   "source": [
    " "
   ]
  },
  {
   "cell_type": "markdown",
   "id": "a6644151-9bfb-4bfa-b6f6-eb7417b70787",
   "metadata": {},
   "source": [
    " "
   ]
  },
  {
   "cell_type": "code",
   "execution_count": 7,
   "id": "54db2587-ac0b-430a-855b-835a1672cb07",
   "metadata": {},
   "outputs": [
    {
     "data": {
      "text/plain": [
       "array([[ 0.5],\n",
       "       [-0.5],\n",
       "       [-0.5],\n",
       "       [ 0.5]])"
      ]
     },
     "execution_count": 7,
     "metadata": {},
     "output_type": "execute_result"
    }
   ],
   "source": [
    "from scipy.linalg import null_space\n",
    "\n",
    "lambda_i = eig_values[0]\n",
    "\n",
    "null_space(A - lambda_i * np.identity(n))"
   ]
  },
  {
   "cell_type": "markdown",
   "id": "21cdd3a1-2e26-40be-84d7-a66fd4efe309",
   "metadata": {},
   "source": [
    " "
   ]
  },
  {
   "cell_type": "markdown",
   "id": "b006a75b-9bf1-4003-bb6b-a19a60d342cc",
   "metadata": {},
   "source": [
    " "
   ]
  },
  {
   "cell_type": "code",
   "execution_count": 12,
   "id": "dcca588a-0f98-4bcb-849c-1cf0fc40a8ac",
   "metadata": {},
   "outputs": [
    {
     "data": {
      "text/plain": [
       "array([[ 0.5, -0.5, -0.5,  0.5],\n",
       "       [-0.5,  0.5, -0.5,  0.5],\n",
       "       [-0.5, -0.5,  0.5,  0.5],\n",
       "       [ 0.5,  0.5,  0.5,  0.5]])"
      ]
     },
     "execution_count": 12,
     "metadata": {},
     "output_type": "execute_result"
    }
   ],
   "source": [
    "from utils.linalg import orthogonality\n",
    "\n",
    "P = orthogonality.gram_schmidt(P, normalize=True)\n",
    "\n",
    "P"
   ]
  },
  {
   "cell_type": "markdown",
   "id": "a2100c73-8a48-4df5-91e5-e4671231919b",
   "metadata": {},
   "source": [
    " "
   ]
  },
  {
   "cell_type": "markdown",
   "id": "523ef47c-f352-41f5-9b3c-bd56debcb22a",
   "metadata": {},
   "source": [
    " "
   ]
  },
  {
   "cell_type": "code",
   "execution_count": 13,
   "id": "56264253-d75b-455b-b73d-6edd52552368",
   "metadata": {},
   "outputs": [
    {
     "data": {
      "text/plain": [
       "1.0"
      ]
     },
     "execution_count": 13,
     "metadata": {},
     "output_type": "execute_result"
    }
   ],
   "source": [
    "np.linalg.norm(P[:, [0]])"
   ]
  },
  {
   "cell_type": "markdown",
   "id": "ae0037e9-9d04-424e-a4cf-fcd9002882a7",
   "metadata": {},
   "source": [
    " "
   ]
  },
  {
   "cell_type": "markdown",
   "id": "a07c2c43-26f2-43f9-b626-facdda44b93c",
   "metadata": {},
   "source": [
    " "
   ]
  },
  {
   "cell_type": "markdown",
   "id": "77ae8276-c45c-4240-82fc-cd16cefa35d9",
   "metadata": {},
   "source": [
    " "
   ]
  },
  {
   "cell_type": "code",
   "execution_count": 14,
   "id": "f92d8faa-bb85-40d8-afd4-c28e71ab81db",
   "metadata": {},
   "outputs": [
    {
     "data": {
      "text/plain": [
       "array([[-11.,   0.,   0.,   0.],\n",
       "       [  0.,  19.,   0.,   0.],\n",
       "       [  0.,   0.,   5.,   0.],\n",
       "       [  0.,   0.,   0.,  11.]])"
      ]
     },
     "execution_count": 14,
     "metadata": {},
     "output_type": "execute_result"
    }
   ],
   "source": [
    "D = np.diag(eig_values)\n",
    "\n",
    "D"
   ]
  },
  {
   "cell_type": "markdown",
   "id": "153a4f92-e33e-4215-9acb-2bdf932a31fc",
   "metadata": {},
   "source": [
    " "
   ]
  },
  {
   "cell_type": "markdown",
   "id": "2b434c2a-0d9c-4544-b3ef-997bb5970da3",
   "metadata": {},
   "source": [
    " "
   ]
  },
  {
   "cell_type": "code",
   "execution_count": 15,
   "id": "1f0e0e5a-997a-4f26-92de-42ea492eadf1",
   "metadata": {},
   "outputs": [
    {
     "data": {
      "text/plain": [
       "array([[ 6.,  2.,  9., -6.],\n",
       "       [ 2.,  6., -6.,  9.],\n",
       "       [ 9., -6.,  6.,  2.],\n",
       "       [-6.,  9.,  2.,  6.]])"
      ]
     },
     "execution_count": 15,
     "metadata": {},
     "output_type": "execute_result"
    }
   ],
   "source": [
    "P @ D @ P.T"
   ]
  },
  {
   "cell_type": "markdown",
   "id": "43003fb8-ad03-4d56-a1a9-6dcacb303cf8",
   "metadata": {},
   "source": [
    " "
   ]
  },
  {
   "cell_type": "markdown",
   "id": "e6683d87-f4e8-4126-9f84-9c313e3ef217",
   "metadata": {},
   "source": [
    " "
   ]
  },
  {
   "cell_type": "markdown",
   "id": "f62b0758-8e8d-431a-bda7-89ff80fd8734",
   "metadata": {},
   "source": [
    " "
   ]
  },
  {
   "cell_type": "markdown",
   "id": "6a86a301-093b-41c2-aeb3-63724cb61601",
   "metadata": {},
   "source": [
    " "
   ]
  },
  {
   "cell_type": "markdown",
   "id": "a414ad53-f3c9-406b-88cf-e55e313770cd",
   "metadata": {},
   "source": [
    " "
   ]
  },
  {
   "cell_type": "markdown",
   "id": "e09cc01e-796e-4d33-852d-924a07443a52",
   "metadata": {},
   "source": [
    " "
   ]
  },
  {
   "cell_type": "markdown",
   "id": "74f950f0-d63f-43f8-a3b2-412b4e4bac72",
   "metadata": {},
   "source": [
    " "
   ]
  },
  {
   "cell_type": "markdown",
   "id": "e92d2976-e424-4d5e-b489-e1fc59ecce6f",
   "metadata": {},
   "source": [
    " "
   ]
  },
  {
   "cell_type": "markdown",
   "id": "c3407aa6-1163-42ae-9976-4d034812661a",
   "metadata": {},
   "source": [
    " "
   ]
  },
  {
   "cell_type": "markdown",
   "id": "94821971-dc89-41d3-9d8c-c68adffa26ed",
   "metadata": {},
   "source": [
    " "
   ]
  },
  {
   "cell_type": "markdown",
   "id": "4c8d0ddb-b6b9-4691-a1f7-4fc05536296c",
   "metadata": {},
   "source": [
    " "
   ]
  },
  {
   "cell_type": "markdown",
   "id": "d6597ed4-143a-4d2b-b2a8-0a1f2c62d4a5",
   "metadata": {},
   "source": [
    " "
   ]
  },
  {
   "cell_type": "markdown",
   "id": "a9368483-133c-418c-bae1-0c6379f03904",
   "metadata": {},
   "source": [
    " "
   ]
  }
 ],
 "metadata": {
  "kernelspec": {
   "display_name": "projects",
   "language": "python",
   "name": "projects"
  },
  "language_info": {
   "codemirror_mode": {
    "name": "ipython",
    "version": 3
   },
   "file_extension": ".py",
   "mimetype": "text/x-python",
   "name": "python",
   "nbconvert_exporter": "python",
   "pygments_lexer": "ipython3",
   "version": "3.11.7"
  }
 },
 "nbformat": 4,
 "nbformat_minor": 5
}
