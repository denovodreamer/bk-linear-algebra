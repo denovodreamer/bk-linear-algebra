{
 "cells": [
  {
   "cell_type": "markdown",
   "id": "9bfe6481-ad4f-43ac-a4ab-c77a70266c5e",
   "metadata": {},
   "source": [
    " "
   ]
  },
  {
   "cell_type": "markdown",
   "id": "804ae66e-7f8d-4068-bc61-8459f189ef35",
   "metadata": {},
   "source": [
    " "
   ]
  },
  {
   "cell_type": "markdown",
   "id": "9b0991b3-6fbb-4e70-9254-023ca2e1252f",
   "metadata": {},
   "source": [
    " "
   ]
  },
  {
   "cell_type": "markdown",
   "id": "430b2a09-d3ea-47d3-958e-013ebd2b1057",
   "metadata": {},
   "source": [
    " "
   ]
  },
  {
   "cell_type": "markdown",
   "id": "ecf37a72-79fa-4b3d-a632-03efc0665b4c",
   "metadata": {},
   "source": [
    " "
   ]
  },
  {
   "cell_type": "markdown",
   "id": "3f10f604-a191-49d0-8df1-de6e5fb94c4f",
   "metadata": {},
   "source": [
    " "
   ]
  },
  {
   "cell_type": "code",
   "execution_count": 19,
   "id": "e7e068f2-7413-4923-989d-13d5e3500773",
   "metadata": {},
   "outputs": [],
   "source": [
    "import numpy as np\n",
    "from scipy.linalg import null_space\n",
    "import utils"
   ]
  },
  {
   "cell_type": "markdown",
   "id": "4ec8c2d7-d55e-4c73-a832-161b7a4f1c27",
   "metadata": {},
   "source": [
    " "
   ]
  },
  {
   "cell_type": "markdown",
   "id": "e8be4876-d58f-49c5-adbc-3229568d941e",
   "metadata": {},
   "source": [
    " "
   ]
  },
  {
   "cell_type": "markdown",
   "id": "872357ff-f6fc-4d17-848f-04c04cac5c76",
   "metadata": {},
   "source": [
    " "
   ]
  },
  {
   "cell_type": "markdown",
   "id": "c1941836-c6d8-41f6-aa2d-8f05aac15bef",
   "metadata": {},
   "source": [
    " "
   ]
  },
  {
   "cell_type": "markdown",
   "id": "4f24cd15-c6f1-4d5b-be0d-8fd8b712e847",
   "metadata": {},
   "source": [
    " "
   ]
  },
  {
   "cell_type": "markdown",
   "id": "f26d52ff-4b96-4a5e-9523-70c9f883757a",
   "metadata": {},
   "source": [
    " "
   ]
  },
  {
   "cell_type": "markdown",
   "id": "42891a73-6abd-4e90-84ff-17eefc72b25f",
   "metadata": {},
   "source": [
    " "
   ]
  },
  {
   "cell_type": "markdown",
   "id": "1ae4f5dd-a989-411d-910d-5ab25e90d220",
   "metadata": {},
   "source": [
    " "
   ]
  },
  {
   "cell_type": "markdown",
   "id": "c87c0c19-1247-457e-927b-73129e7e0948",
   "metadata": {},
   "source": [
    "**5.**"
   ]
  },
  {
   "cell_type": "code",
   "execution_count": 124,
   "id": "14dc734c-cb82-4565-b814-980cdbff066a",
   "metadata": {},
   "outputs": [
    {
     "name": "stdout",
     "output_type": "stream",
     "text": [
      "[[ 4 11 14]\n",
      " [ 8  7 -2]]\n"
     ]
    }
   ],
   "source": [
    "A = np.array(\n",
    "    [\n",
    "        [4, 11, 14],\n",
    "        [8, 7, -2],\n",
    "    ]\n",
    ")\n",
    "\n",
    "m, n = A.shape\n",
    "\n",
    "print(A)"
   ]
  },
  {
   "cell_type": "markdown",
   "id": "4cca166f-6939-4e58-9e55-3d656685d159",
   "metadata": {},
   "source": [
    " "
   ]
  },
  {
   "cell_type": "markdown",
   "id": "2b93239c-213e-4b6b-9f59-b1992ce15354",
   "metadata": {},
   "source": [
    " "
   ]
  },
  {
   "cell_type": "markdown",
   "id": "ba1ee0b2-7051-41c8-9d3c-5a0ef6189486",
   "metadata": {},
   "source": [
    " "
   ]
  },
  {
   "cell_type": "markdown",
   "id": "145b4c54-c8c6-45b4-84d6-0bf85354c91c",
   "metadata": {},
   "source": [
    " "
   ]
  },
  {
   "cell_type": "code",
   "execution_count": 135,
   "id": "80294d6a-523d-45fc-bebc-ca3e3d9e4824",
   "metadata": {},
   "outputs": [
    {
     "data": {
      "text/plain": [
       "array([ 3.60000000e+02, -1.22290504e-14,  9.00000000e+01])"
      ]
     },
     "execution_count": 135,
     "metadata": {},
     "output_type": "execute_result"
    }
   ],
   "source": [
    "eig_values, V = np.linalg.eig(A.T @ A)\n",
    "\n",
    "eig_values"
   ]
  },
  {
   "cell_type": "markdown",
   "id": "0304ea55-3317-467c-ac31-ec95a4ba909b",
   "metadata": {},
   "source": [
    " "
   ]
  },
  {
   "cell_type": "code",
   "execution_count": 132,
   "id": "491efdb0-214f-4525-a532-bff0a3dd109f",
   "metadata": {},
   "outputs": [
    {
     "data": {
      "text/plain": [
       "array([[-0.33333333, -0.66666667, -0.66666667],\n",
       "       [-0.66666667,  0.66666667, -0.33333333],\n",
       "       [-0.66666667, -0.33333333,  0.66666667]])"
      ]
     },
     "execution_count": 132,
     "metadata": {},
     "output_type": "execute_result"
    }
   ],
   "source": [
    "V"
   ]
  },
  {
   "cell_type": "markdown",
   "id": "59c8d115-2a81-470c-9c28-00a99a4ffec2",
   "metadata": {},
   "source": [
    " "
   ]
  },
  {
   "cell_type": "markdown",
   "id": "ea8d0395-5ade-4fa3-bc7c-36f8310da7dd",
   "metadata": {},
   "source": [
    " "
   ]
  },
  {
   "cell_type": "markdown",
   "id": "46f431d6-e90c-43e4-9568-de28a34f474f",
   "metadata": {},
   "source": [
    " "
   ]
  },
  {
   "cell_type": "code",
   "execution_count": 145,
   "id": "ff1c107f-d38a-4baf-ba0c-297338494d1f",
   "metadata": {},
   "outputs": [
    {
     "data": {
      "text/plain": [
       "array([[90.],\n",
       "       [90.],\n",
       "       [90.]])"
      ]
     },
     "execution_count": 145,
     "metadata": {},
     "output_type": "execute_result"
    }
   ],
   "source": [
    "v = V[:, [2]]\n",
    "\n",
    "(A.T @ A) @ v / v "
   ]
  },
  {
   "cell_type": "markdown",
   "id": "02839d74-75a7-4b1b-a068-07b2f97bcc42",
   "metadata": {},
   "source": [
    " "
   ]
  },
  {
   "cell_type": "markdown",
   "id": "a5b0e86e-148f-4fc9-bb7e-b5fc8bb54613",
   "metadata": {},
   "source": [
    " "
   ]
  },
  {
   "cell_type": "code",
   "execution_count": 146,
   "id": "4466542a-f42a-406e-b5d0-c950f1c65290",
   "metadata": {},
   "outputs": [
    {
     "data": {
      "text/plain": [
       "array([360.,  90.])"
      ]
     },
     "execution_count": 146,
     "metadata": {},
     "output_type": "execute_result"
    }
   ],
   "source": [
    "eig = eig_values[eig_values > 0]\n",
    "\n",
    "eig"
   ]
  },
  {
   "cell_type": "markdown",
   "id": "02795f23-f891-402f-9914-717ff8fd7c21",
   "metadata": {},
   "source": [
    " "
   ]
  },
  {
   "cell_type": "code",
   "execution_count": 147,
   "id": "4314f41f-22b7-458f-a526-3cd4b22d121c",
   "metadata": {},
   "outputs": [
    {
     "name": "stdout",
     "output_type": "stream",
     "text": [
      "[[18.97366596  0.        ]\n",
      " [ 0.          9.48683298]]\n"
     ]
    }
   ],
   "source": [
    "sig = np.sqrt(eig)\n",
    "\n",
    "r = len(sig)\n",
    "D = np.diag(sig)\n",
    "\n",
    "print(D)"
   ]
  },
  {
   "cell_type": "markdown",
   "id": "85b3434d-aafe-441b-9891-94cdae72df00",
   "metadata": {},
   "source": [
    " "
   ]
  },
  {
   "cell_type": "markdown",
   "id": "5928d390-dc6d-4ff3-9c8f-6da737fbc662",
   "metadata": {},
   "source": [
    " "
   ]
  },
  {
   "cell_type": "code",
   "execution_count": 148,
   "id": "084253a6-8cae-45b0-b541-fea433bf5c6f",
   "metadata": {},
   "outputs": [
    {
     "name": "stdout",
     "output_type": "stream",
     "text": [
      "[[-0.33333333 -0.66666667]\n",
      " [-0.66666667 -0.33333333]\n",
      " [-0.66666667  0.66666667]] \n",
      "\n",
      "[[ 0.66666667]\n",
      " [-0.66666667]\n",
      " [ 0.33333333]]\n"
     ]
    }
   ],
   "source": [
    "V_r = V[:, eig_values > 0].copy()\n",
    "V_n_r = null_space(A.T @ A)\n",
    "\n",
    "print(V_r, \"\\n\")\n",
    "print(V_n_r)"
   ]
  },
  {
   "cell_type": "markdown",
   "id": "f20f5653-a77a-4f45-83a7-ea1f0fa39c67",
   "metadata": {},
   "source": [
    " "
   ]
  },
  {
   "cell_type": "markdown",
   "id": "1952a474-c528-432a-aa4c-0f58fb5fe1d3",
   "metadata": {},
   "source": [
    " "
   ]
  },
  {
   "cell_type": "markdown",
   "id": "1834f75f-e0ff-4213-902a-d3c61516d5a8",
   "metadata": {},
   "source": [
    " "
   ]
  },
  {
   "cell_type": "markdown",
   "id": "4f5e6136-a219-4ddb-adab-7952b0e138b6",
   "metadata": {},
   "source": [
    " "
   ]
  },
  {
   "cell_type": "markdown",
   "id": "461c8a0f-5a8c-4f69-be38-d5f21cf8388e",
   "metadata": {},
   "source": [
    " "
   ]
  },
  {
   "cell_type": "code",
   "execution_count": 149,
   "id": "7c21f84b-7743-4a0d-a036-8536d3405254",
   "metadata": {},
   "outputs": [
    {
     "name": "stdout",
     "output_type": "stream",
     "text": [
      "[[-0.9486833   0.31622777]\n",
      " [-0.31622777 -0.9486833 ]]\n"
     ]
    }
   ],
   "source": [
    "Av = (A @ V_r)\n",
    "\n",
    "U_r = (1/sig) * Av\n",
    "\n",
    "# U_r = np.where(np.abs(U_r) < 1e-8, 0, U_r)\n",
    "\n",
    "print(U_r)"
   ]
  },
  {
   "cell_type": "markdown",
   "id": "e6cf4a2c-86dd-4ed1-8ddc-c72552e95f8c",
   "metadata": {},
   "source": [
    " "
   ]
  },
  {
   "cell_type": "markdown",
   "id": "a0285692-1dd9-4eba-844f-bb459c5c6163",
   "metadata": {},
   "source": [
    " "
   ]
  },
  {
   "cell_type": "markdown",
   "id": "5bb883a5-2c7a-4a9f-998d-d7060418ca50",
   "metadata": {},
   "source": [
    " "
   ]
  },
  {
   "cell_type": "markdown",
   "id": "4bc16fae-97e5-403b-8ffb-b316513e4765",
   "metadata": {},
   "source": [
    " "
   ]
  },
  {
   "cell_type": "markdown",
   "id": "dafdb353-796d-4742-afd6-1ad899c372e8",
   "metadata": {},
   "source": [
    " "
   ]
  },
  {
   "cell_type": "markdown",
   "id": "09c65e25-fe1d-4018-b540-39423c257083",
   "metadata": {},
   "source": [
    " "
   ]
  },
  {
   "cell_type": "markdown",
   "id": "9638336b-063d-43f7-aff5-c993e0c99eb5",
   "metadata": {},
   "source": [
    " "
   ]
  },
  {
   "cell_type": "code",
   "execution_count": 140,
   "id": "276920cb-ea87-4d06-aeee-001069bb7de5",
   "metadata": {},
   "outputs": [
    {
     "data": {
      "text/plain": [
       "array([[18.97366596,  0.        ,  0.        ],\n",
       "       [ 0.        ,  9.48683298,  0.        ]])"
      ]
     },
     "execution_count": 140,
     "metadata": {},
     "output_type": "execute_result"
    }
   ],
   "source": [
    "Sig = np.zeros(A.shape)\n",
    "Sig[:r,:r] = D\n",
    "\n",
    "Sig"
   ]
  },
  {
   "cell_type": "markdown",
   "id": "d24191d2-7e6e-4859-981c-fca93ad57e2e",
   "metadata": {},
   "source": [
    " "
   ]
  },
  {
   "cell_type": "markdown",
   "id": "0f75c718-8195-4cde-a23a-7bb2bb788ce6",
   "metadata": {},
   "source": [
    " "
   ]
  },
  {
   "cell_type": "markdown",
   "id": "b1157674-73d0-4ea9-a65a-d6229a8a4121",
   "metadata": {},
   "source": [
    " "
   ]
  },
  {
   "cell_type": "code",
   "execution_count": 150,
   "id": "f9403d10-5fc6-425e-8e9d-5860e19539ec",
   "metadata": {},
   "outputs": [
    {
     "data": {
      "text/plain": [
       "array([[ 4., 11., 14.],\n",
       "       [ 8.,  7., -2.]])"
      ]
     },
     "execution_count": 150,
     "metadata": {},
     "output_type": "execute_result"
    }
   ],
   "source": [
    "U_r @ Sig @ V[:, [0, 2, 1]].T"
   ]
  },
  {
   "cell_type": "markdown",
   "id": "8f8342a4-fab1-4f6e-b0c7-1595020738bd",
   "metadata": {},
   "source": [
    " "
   ]
  },
  {
   "cell_type": "markdown",
   "id": "ad654daa-66f6-4e4e-8f93-7bb309dd0080",
   "metadata": {},
   "source": [
    " "
   ]
  },
  {
   "cell_type": "markdown",
   "id": "da938d45-3c2d-44d4-82eb-e0973d39f03b",
   "metadata": {},
   "source": [
    " "
   ]
  },
  {
   "cell_type": "markdown",
   "id": "c41eb3eb-2bdc-4e7b-8bae-f97dba2cdbcb",
   "metadata": {},
   "source": [
    " "
   ]
  },
  {
   "cell_type": "markdown",
   "id": "eb8bb03f-7311-4392-9c4d-11e567a20296",
   "metadata": {},
   "source": [
    " "
   ]
  },
  {
   "cell_type": "markdown",
   "id": "0dfb6820-f4bd-4139-93bc-207ee538e8ee",
   "metadata": {},
   "source": [
    " "
   ]
  },
  {
   "cell_type": "markdown",
   "id": "6cbcb0d2-9bcd-40de-bfdf-ab22a2c78bc7",
   "metadata": {},
   "source": [
    " "
   ]
  },
  {
   "cell_type": "markdown",
   "id": "99521f0a-093d-482b-a87d-bd43a48b6295",
   "metadata": {},
   "source": [
    " "
   ]
  },
  {
   "cell_type": "markdown",
   "id": "bb4f22d4-9b7c-447b-8256-aa4dc06b50ea",
   "metadata": {},
   "source": [
    " "
   ]
  },
  {
   "cell_type": "markdown",
   "id": "b4205728-acf8-474b-aa23-ceecb31a5493",
   "metadata": {},
   "source": [
    " "
   ]
  },
  {
   "cell_type": "markdown",
   "id": "6332ab64-6da2-479d-8c13-3e1269ba1e1c",
   "metadata": {},
   "source": [
    " "
   ]
  },
  {
   "cell_type": "markdown",
   "id": "adc647a5-dae9-451f-8f1d-13cfa4bd7f59",
   "metadata": {},
   "source": [
    " "
   ]
  },
  {
   "cell_type": "markdown",
   "id": "5176fa35-d94b-4a04-9d4f-01ca3a8090bf",
   "metadata": {},
   "source": [
    " "
   ]
  },
  {
   "cell_type": "markdown",
   "id": "658eab30-1b51-4ec7-a802-4bc344b2c730",
   "metadata": {},
   "source": [
    " "
   ]
  },
  {
   "cell_type": "markdown",
   "id": "3e82866b-26ca-4e01-8775-36db2292fc2f",
   "metadata": {},
   "source": [
    " "
   ]
  },
  {
   "cell_type": "markdown",
   "id": "5b28717f-f42c-44bb-90e6-f5324c19db46",
   "metadata": {},
   "source": [
    " "
   ]
  },
  {
   "cell_type": "markdown",
   "id": "a272133f-ca33-41fb-90b6-548022eae9c4",
   "metadata": {},
   "source": [
    " "
   ]
  },
  {
   "cell_type": "markdown",
   "id": "aa8c664f-1f4d-4180-bd04-e4b5f241fe58",
   "metadata": {},
   "source": [
    " "
   ]
  },
  {
   "cell_type": "markdown",
   "id": "ad117d20-accb-4e91-8f88-80df55d004ae",
   "metadata": {},
   "source": [
    " "
   ]
  },
  {
   "cell_type": "markdown",
   "id": "e8fe0b1d-e1d6-4639-9671-0a4daad254d4",
   "metadata": {},
   "source": [
    " "
   ]
  },
  {
   "cell_type": "markdown",
   "id": "4d02b664-50e8-4e25-89d8-f4c1b159d6fe",
   "metadata": {},
   "source": [
    " "
   ]
  },
  {
   "cell_type": "markdown",
   "id": "de0d587b-c509-49c7-9a36-d26650b2611f",
   "metadata": {},
   "source": [
    " "
   ]
  },
  {
   "cell_type": "markdown",
   "id": "e71e2ae3-5278-4472-a0ca-ccf776d65776",
   "metadata": {},
   "source": [
    " "
   ]
  },
  {
   "cell_type": "markdown",
   "id": "73b7390a-5228-44cd-8b4a-482b70523f24",
   "metadata": {},
   "source": [
    " "
   ]
  }
 ],
 "metadata": {
  "kernelspec": {
   "display_name": "projects",
   "language": "python",
   "name": "projects"
  },
  "language_info": {
   "codemirror_mode": {
    "name": "ipython",
    "version": 3
   },
   "file_extension": ".py",
   "mimetype": "text/x-python",
   "name": "python",
   "nbconvert_exporter": "python",
   "pygments_lexer": "ipython3",
   "version": "3.11.7"
  }
 },
 "nbformat": 4,
 "nbformat_minor": 5
}
