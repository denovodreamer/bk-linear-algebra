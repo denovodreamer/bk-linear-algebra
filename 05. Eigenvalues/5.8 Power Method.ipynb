{
 "cells": [
  {
   "cell_type": "markdown",
   "id": "a4797cc5-3d1f-4fa1-b277-4c916b85e10b",
   "metadata": {},
   "source": [
    " "
   ]
  },
  {
   "cell_type": "markdown",
   "id": "50be0040-78ab-495f-b0ea-764fef34a224",
   "metadata": {},
   "source": [
    " "
   ]
  },
  {
   "cell_type": "markdown",
   "id": "34d29b95-c582-4281-822e-bf4bec3c4e90",
   "metadata": {},
   "source": [
    " "
   ]
  },
  {
   "cell_type": "code",
   "execution_count": 1,
   "id": "c1971d2d-8f8e-4230-86ac-aa7b0f8d2afd",
   "metadata": {},
   "outputs": [],
   "source": [
    "import numpy as np"
   ]
  },
  {
   "cell_type": "markdown",
   "id": "8259100a-a454-411b-808f-191c690580af",
   "metadata": {},
   "source": [
    " "
   ]
  },
  {
   "cell_type": "markdown",
   "id": "74dd478c-c101-43b8-90d9-7f3ba8fcdf1a",
   "metadata": {},
   "source": [
    " "
   ]
  },
  {
   "cell_type": "markdown",
   "id": "f7d5595b-b6bb-4bb3-874a-c2b61315ed99",
   "metadata": {},
   "source": [
    " "
   ]
  },
  {
   "cell_type": "markdown",
   "id": "328d548d-cd7e-4915-a7ae-ce75c7806a94",
   "metadata": {},
   "source": [
    " "
   ]
  },
  {
   "cell_type": "markdown",
   "id": "48d66fc9-9ea0-43fb-8d45-01af2ed45630",
   "metadata": {},
   "source": [
    " "
   ]
  },
  {
   "cell_type": "markdown",
   "id": "cc536a73-637e-4b5a-90b8-5a926c9ead14",
   "metadata": {},
   "source": [
    " "
   ]
  },
  {
   "cell_type": "markdown",
   "id": "35f73059-86ca-4434-bf7c-58783b1bcd56",
   "metadata": {},
   "source": [
    "**1.**"
   ]
  },
  {
   "cell_type": "code",
   "execution_count": 6,
   "id": "64524d65-1ae0-449b-a044-0f1d7eebb1da",
   "metadata": {},
   "outputs": [
    {
     "name": "stdout",
     "output_type": "stream",
     "text": [
      "[[4.9978]\n",
      " [1.6652]]\n"
     ]
    },
    {
     "data": {
      "text/plain": [
       "4.9978"
      ]
     },
     "execution_count": 6,
     "metadata": {},
     "output_type": "execute_result"
    }
   ],
   "source": [
    "A = np.array(\n",
    "    [\n",
    "        [4, 3],\n",
    "        [1, 2],\n",
    "    ]\n",
    ")\n",
    "\n",
    "x_k = np.array([1, 0.3326]).reshape(-1, 1)\n",
    "\n",
    "y_k = A @ x_k\n",
    "\n",
    "print(y_k)\n",
    "y_k[0][0]"
   ]
  },
  {
   "cell_type": "markdown",
   "id": "ed498f71-228d-475d-9474-79920770aa0c",
   "metadata": {},
   "source": [
    " "
   ]
  },
  {
   "cell_type": "markdown",
   "id": "db54af78-7dc0-4740-9e33-01dde46b77a8",
   "metadata": {},
   "source": [
    " "
   ]
  },
  {
   "cell_type": "code",
   "execution_count": null,
   "id": "264e903f-0083-4229-b9e0-9a73d7a3e929",
   "metadata": {},
   "outputs": [],
   "source": []
  },
  {
   "cell_type": "markdown",
   "id": "84332217-95fd-4c55-b424-591754a9d798",
   "metadata": {},
   "source": [
    " "
   ]
  },
  {
   "cell_type": "markdown",
   "id": "08e36a26-2400-41e2-98ec-236092b169fc",
   "metadata": {},
   "source": [
    " "
   ]
  },
  {
   "cell_type": "markdown",
   "id": "411fb70f-e99d-4b93-ba73-efb31dcbcc6b",
   "metadata": {},
   "source": [
    " "
   ]
  },
  {
   "cell_type": "markdown",
   "id": "646b7d8e-51fa-4fc1-8489-4fe6aa6f0933",
   "metadata": {},
   "source": [
    " "
   ]
  },
  {
   "cell_type": "markdown",
   "id": "28e7a7ae-39fc-4cd9-8a9b-1c666f0583cd",
   "metadata": {},
   "source": [
    " "
   ]
  },
  {
   "cell_type": "markdown",
   "id": "2e749801-4598-470c-be60-feeae47a0bc5",
   "metadata": {},
   "source": [
    " "
   ]
  },
  {
   "cell_type": "markdown",
   "id": "0581063a-cfdd-4d35-a193-2c9f17181025",
   "metadata": {},
   "source": [
    " "
   ]
  },
  {
   "cell_type": "markdown",
   "id": "14bf72ee-cc94-4bec-96c6-9ef2efd77599",
   "metadata": {},
   "source": [
    " "
   ]
  },
  {
   "cell_type": "markdown",
   "id": "19bdeb7d-45c0-4a69-a911-9495f0206665",
   "metadata": {},
   "source": [
    " "
   ]
  },
  {
   "cell_type": "markdown",
   "id": "92c3bf3e-acc8-4d2c-b4ca-8e61b0e064c9",
   "metadata": {},
   "source": [
    " "
   ]
  },
  {
   "cell_type": "markdown",
   "id": "ee10790a-81ae-414e-8a4b-b29cdb854d4f",
   "metadata": {},
   "source": [
    " "
   ]
  },
  {
   "cell_type": "markdown",
   "id": "5a11b1f8-7001-4b3c-bbbe-9860b7087bde",
   "metadata": {},
   "source": [
    " "
   ]
  },
  {
   "cell_type": "markdown",
   "id": "0dc1c146-d667-4cbf-aa41-54b7e82ab655",
   "metadata": {},
   "source": [
    " "
   ]
  },
  {
   "cell_type": "markdown",
   "id": "0b528763-f348-47cc-bc20-e7d109ac0d6b",
   "metadata": {},
   "source": [
    " "
   ]
  },
  {
   "cell_type": "markdown",
   "id": "9c4471d2-e74c-4d9b-bd1b-4ee788b71cf5",
   "metadata": {},
   "source": [
    " "
   ]
  },
  {
   "cell_type": "markdown",
   "id": "5901321c-f786-45fe-b40f-41238d981174",
   "metadata": {},
   "source": [
    " "
   ]
  },
  {
   "cell_type": "markdown",
   "id": "eea0b4cb-7ebc-424a-8734-e5685926292c",
   "metadata": {},
   "source": [
    " "
   ]
  },
  {
   "cell_type": "markdown",
   "id": "9faa4cb3-afcb-45fa-bc70-dfa3ea88a0e2",
   "metadata": {},
   "source": [
    " "
   ]
  },
  {
   "cell_type": "markdown",
   "id": "8807453e-020f-4193-9df1-02fc02f2479d",
   "metadata": {},
   "source": [
    " "
   ]
  },
  {
   "cell_type": "markdown",
   "id": "2141e2cf-0c25-444a-b1e2-5ae0745cae99",
   "metadata": {},
   "source": [
    " "
   ]
  },
  {
   "cell_type": "markdown",
   "id": "f3899672-d53c-4d6c-87cf-733aa76b26c6",
   "metadata": {},
   "source": [
    " "
   ]
  },
  {
   "cell_type": "markdown",
   "id": "0ae4e1c1-1a45-4754-b6ee-e59ba29ba6cb",
   "metadata": {},
   "source": [
    " "
   ]
  },
  {
   "cell_type": "markdown",
   "id": "015efcdc-7070-4cf2-a1dc-a90d6d81eeaa",
   "metadata": {},
   "source": [
    " "
   ]
  },
  {
   "cell_type": "markdown",
   "id": "c6e8ea85-ac10-40f6-beca-cf0410d50b1a",
   "metadata": {},
   "source": [
    " "
   ]
  },
  {
   "cell_type": "markdown",
   "id": "9d658ab4-81ac-47b0-adbf-069d99e78b19",
   "metadata": {},
   "source": [
    " "
   ]
  },
  {
   "cell_type": "markdown",
   "id": "6ed3f142-d830-4406-a9fd-4a2054a3fb09",
   "metadata": {},
   "source": [
    " "
   ]
  },
  {
   "cell_type": "markdown",
   "id": "9071d43b-7fbc-4875-a7c4-87c02fceee27",
   "metadata": {},
   "source": [
    " "
   ]
  },
  {
   "cell_type": "markdown",
   "id": "7328cfcf-04fb-4c49-aa5e-215090c76304",
   "metadata": {},
   "source": [
    " "
   ]
  },
  {
   "cell_type": "markdown",
   "id": "3dd942a3-0bb0-42e8-a619-213d1bebf567",
   "metadata": {},
   "source": [
    " "
   ]
  }
 ],
 "metadata": {
  "kernelspec": {
   "display_name": "projects",
   "language": "python",
   "name": "projects"
  },
  "language_info": {
   "codemirror_mode": {
    "name": "ipython",
    "version": 3
   },
   "file_extension": ".py",
   "mimetype": "text/x-python",
   "name": "python",
   "nbconvert_exporter": "python",
   "pygments_lexer": "ipython3",
   "version": "3.11.7"
  }
 },
 "nbformat": 4,
 "nbformat_minor": 5
}
