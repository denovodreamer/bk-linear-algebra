{
 "cells": [
  {
   "cell_type": "markdown",
   "id": "c7cc4950-f604-4326-88ad-272509b2f462",
   "metadata": {},
   "source": [
    " "
   ]
  },
  {
   "cell_type": "markdown",
   "id": "cb6cd07d-0d13-4d0d-b901-8f677c7e18f4",
   "metadata": {},
   "source": [
    " "
   ]
  },
  {
   "cell_type": "markdown",
   "id": "ad614e9b-2e42-4341-a8eb-7a4f63c52325",
   "metadata": {},
   "source": [
    " "
   ]
  },
  {
   "cell_type": "markdown",
   "id": "b069c83b-9c96-41b6-981e-03ca6db57e7d",
   "metadata": {},
   "source": [
    " "
   ]
  },
  {
   "cell_type": "code",
   "execution_count": 1,
   "id": "34e7b159-4974-4bbe-940c-91862a9d7269",
   "metadata": {},
   "outputs": [],
   "source": [
    "import numpy as np"
   ]
  },
  {
   "cell_type": "markdown",
   "id": "2ea06969-e526-49ba-8d5b-e3a28f56ed55",
   "metadata": {},
   "source": [
    " "
   ]
  },
  {
   "cell_type": "markdown",
   "id": "e7bfb2ee-feb8-4b6f-af74-bc42f0111965",
   "metadata": {},
   "source": [
    " "
   ]
  },
  {
   "cell_type": "markdown",
   "id": "392b91f3-28b4-4416-9f50-96de3ae3fe3e",
   "metadata": {},
   "source": [
    " "
   ]
  },
  {
   "cell_type": "markdown",
   "id": "3bd80b6c-b2d6-4b6c-a97d-bed55d5feba1",
   "metadata": {},
   "source": [
    " "
   ]
  },
  {
   "cell_type": "markdown",
   "id": "dcdfdbd6-f031-4b30-ad63-b9ab7610bad0",
   "metadata": {},
   "source": [
    "**Practice 1.**"
   ]
  },
  {
   "cell_type": "code",
   "execution_count": 2,
   "id": "38dc5ca4-9d85-422a-ba35-def876bb8ba0",
   "metadata": {},
   "outputs": [
    {
     "name": "stdout",
     "output_type": "stream",
     "text": [
      "[[ 0.77777778 -0.22222222  0.        ]\n",
      " [-0.22222222  0.66666667  0.22222222]\n",
      " [ 0.          0.22222222  0.55555556]]\n"
     ]
    }
   ],
   "source": [
    "A = np.array(\n",
    "    [\n",
    "        [7, -2, 0],\n",
    "        [-2, 6, 2],\n",
    "        [0, 2, 5],\n",
    "    ]\n",
    ")\n",
    "\n",
    "A = (1/9) * A\n",
    "\n",
    "print(A)"
   ]
  },
  {
   "cell_type": "markdown",
   "id": "a32b5519-f143-4269-88eb-d1b4c16bd930",
   "metadata": {},
   "source": [
    " "
   ]
  },
  {
   "cell_type": "markdown",
   "id": "9e5abad4-8ac9-4a08-a77d-5f84f48a4da5",
   "metadata": {},
   "source": [
    " "
   ]
  },
  {
   "cell_type": "markdown",
   "id": "5d6eb606-0726-449d-871f-67fa884dd3f7",
   "metadata": {},
   "source": [
    " "
   ]
  },
  {
   "cell_type": "markdown",
   "id": "34c82cca-2ea1-47ca-9c79-5cddb3f62d36",
   "metadata": {},
   "source": [
    " "
   ]
  },
  {
   "cell_type": "markdown",
   "id": "b9836525-85b8-4e9f-9aea-a4dba600367f",
   "metadata": {},
   "source": [
    " "
   ]
  },
  {
   "cell_type": "code",
   "execution_count": 4,
   "id": "ba827587-2d9a-49ab-9fe2-a341849d4b52",
   "metadata": {},
   "outputs": [
    {
     "data": {
      "text/plain": [
       "array([[2.],\n",
       "       [1.],\n",
       "       [3.]])"
      ]
     },
     "execution_count": 4,
     "metadata": {},
     "output_type": "execute_result"
    }
   ],
   "source": [
    "v1 = np.array([-2, 2, 1]).reshape(-1, 1)\n",
    "v2 = np.array([2, 1, 2]).reshape(-1, 1)\n",
    "v3 = np.array([1, 2, -2]).reshape(-1, 1)\n",
    "\n",
    "P = np.column_stack([v1, v2, v3])\n",
    "\n",
    "x0 = np.array([1, 11, -2]).reshape(-1, 1)\n",
    "np.linalg.solve(P, x0)"
   ]
  },
  {
   "cell_type": "markdown",
   "id": "7fbe16bc-70e9-48a5-9b44-eacd41c910a9",
   "metadata": {},
   "source": [
    " "
   ]
  },
  {
   "cell_type": "markdown",
   "id": "062b72dd-245c-4d98-a6a3-8d6ea01c61aa",
   "metadata": {},
   "source": [
    " "
   ]
  },
  {
   "cell_type": "markdown",
   "id": "47b9216b-32fc-40b2-8a90-43a941776e3c",
   "metadata": {},
   "source": [
    " "
   ]
  },
  {
   "cell_type": "markdown",
   "id": "d325491b-a552-41d3-9f42-7c1069499647",
   "metadata": {},
   "source": [
    "**3.**"
   ]
  },
  {
   "cell_type": "code",
   "execution_count": 6,
   "id": "30165864-f51e-4448-b101-7d4249bd0403",
   "metadata": {},
   "outputs": [
    {
     "data": {
      "text/plain": [
       "array([0.7, 0.9])"
      ]
     },
     "execution_count": 6,
     "metadata": {},
     "output_type": "execute_result"
    }
   ],
   "source": [
    "p = 0.2\n",
    "\n",
    "A = np.array(\n",
    "    [\n",
    "        [0.5, 0.4],\n",
    "        [-p, 1.1],\n",
    "    ]\n",
    ")\n",
    "\n",
    "eig_values, eig_vectors = np.linalg.eig(A)\n",
    "\n",
    "eig_values"
   ]
  },
  {
   "cell_type": "markdown",
   "id": "8939f7d3-5af2-4bf1-95d8-82d876e89524",
   "metadata": {},
   "source": [
    " "
   ]
  },
  {
   "cell_type": "markdown",
   "id": "3c7199ac-7103-4332-8d13-e2c3d30b1e44",
   "metadata": {},
   "source": [
    " "
   ]
  },
  {
   "cell_type": "markdown",
   "id": "9c66b4f4-c645-4f0a-923d-779f3b8137e2",
   "metadata": {},
   "source": [
    " "
   ]
  },
  {
   "cell_type": "markdown",
   "id": "b92cdf82-928b-4d01-8c46-99d5cc2a6ef6",
   "metadata": {},
   "source": [
    " "
   ]
  },
  {
   "cell_type": "markdown",
   "id": "9ef93030-6018-484e-9b69-109360bf1637",
   "metadata": {},
   "source": [
    " "
   ]
  },
  {
   "cell_type": "markdown",
   "id": "9bfdff28-99f7-4f12-8c42-39bc9a193c0a",
   "metadata": {},
   "source": [
    " "
   ]
  },
  {
   "cell_type": "markdown",
   "id": "a7324e70-67b0-4f2b-9548-d0bc2efbaa17",
   "metadata": {},
   "source": [
    "**4.**"
   ]
  },
  {
   "cell_type": "code",
   "execution_count": 24,
   "id": "01c6a433-b825-4c54-a455-abae79746d83",
   "metadata": {},
   "outputs": [
    {
     "name": "stdout",
     "output_type": "stream",
     "text": [
      "[0.6 1. ]\n",
      "[[-0.9701425  -0.62469505]\n",
      " [-0.24253563 -0.78086881]]\n"
     ]
    }
   ],
   "source": [
    "p = 0.125\n",
    "\n",
    "A = np.array(\n",
    "    [\n",
    "        [0.5, 0.4],\n",
    "        [-p, 1.1],\n",
    "    ]\n",
    ")\n",
    "\n",
    "eig_values, eig_vectors = np.linalg.eig(A)\n",
    "\n",
    "print(eig_values)\n",
    "print(eig_vectors)"
   ]
  },
  {
   "cell_type": "markdown",
   "id": "09abd303-4944-4429-8877-f0795512437b",
   "metadata": {},
   "source": [
    " "
   ]
  },
  {
   "cell_type": "markdown",
   "id": "441eddee-1e38-4da7-bc5b-abe47ae1a4a9",
   "metadata": {},
   "source": [
    " "
   ]
  },
  {
   "cell_type": "markdown",
   "id": "63a19324-5362-4354-b270-780adf3247a1",
   "metadata": {},
   "source": [
    " "
   ]
  },
  {
   "cell_type": "code",
   "execution_count": 31,
   "id": "af6783e6-8a02-4e7b-a687-5bae30d334a1",
   "metadata": {},
   "outputs": [
    {
     "data": {
      "text/plain": [
       "array([1.  , 1.25])"
      ]
     },
     "execution_count": 31,
     "metadata": {},
     "output_type": "execute_result"
    }
   ],
   "source": [
    "eig_vectors[:, 1] / eig_vectors[:, 1].max()"
   ]
  },
  {
   "cell_type": "markdown",
   "id": "c0910da2-b75c-4fbb-bec8-48b6cc5a8c12",
   "metadata": {},
   "source": [
    " "
   ]
  },
  {
   "cell_type": "markdown",
   "id": "8eb0ad64-2342-4a9f-a4e4-c7e85e717b84",
   "metadata": {},
   "source": [
    " "
   ]
  },
  {
   "cell_type": "markdown",
   "id": "7184bc2a-748c-4c30-b292-dd8884c636a7",
   "metadata": {},
   "source": [
    " "
   ]
  },
  {
   "cell_type": "markdown",
   "id": "6871c6d3-d148-4d7b-b407-019a2553edff",
   "metadata": {},
   "source": [
    " "
   ]
  },
  {
   "cell_type": "markdown",
   "id": "3a2555aa-9160-4b31-aff9-9a54a2a065d7",
   "metadata": {},
   "source": [
    " "
   ]
  },
  {
   "cell_type": "markdown",
   "id": "85c9dffe-ef22-47eb-8658-b1ccee1f8ab8",
   "metadata": {},
   "source": [
    " "
   ]
  },
  {
   "cell_type": "markdown",
   "id": "930393c1-389c-47a0-8fe2-5519c4f08d46",
   "metadata": {},
   "source": [
    "**9.**"
   ]
  },
  {
   "cell_type": "code",
   "execution_count": 32,
   "id": "7089079e-e101-489c-bf63-2b4f667f54e5",
   "metadata": {},
   "outputs": [
    {
     "name": "stdout",
     "output_type": "stream",
     "text": [
      "[2.  0.5]\n",
      "[[ 0.70710678  0.24253563]\n",
      " [-0.70710678  0.9701425 ]]\n"
     ]
    }
   ],
   "source": [
    "A = np.array(\n",
    "    [\n",
    "        [1.7, -0.3],\n",
    "        [-1.2, 0.8],\n",
    "    ]\n",
    ")\n",
    "\n",
    "eig_values, eig_vectors = np.linalg.eig(A)\n",
    "\n",
    "print(eig_values)\n",
    "print(eig_vectors)"
   ]
  },
  {
   "cell_type": "markdown",
   "id": "22181b28-0c39-4ed0-ac42-4bb0c58e7da2",
   "metadata": {},
   "source": [
    " "
   ]
  },
  {
   "cell_type": "markdown",
   "id": "c9604746-3e61-4a25-ba55-f1b6194f2282",
   "metadata": {},
   "source": [
    " "
   ]
  },
  {
   "cell_type": "markdown",
   "id": "e1bfe2be-3a8b-4ecb-b765-3ec633233ebf",
   "metadata": {},
   "source": [
    " "
   ]
  },
  {
   "cell_type": "code",
   "execution_count": 34,
   "id": "55d51393-a32d-40f0-91d2-35f8d53ff389",
   "metadata": {},
   "outputs": [
    {
     "data": {
      "text/plain": [
       "array([1., 4.])"
      ]
     },
     "execution_count": 34,
     "metadata": {},
     "output_type": "execute_result"
    }
   ],
   "source": [
    "eig_vectors[:, 1] / eig_vectors[:, 1].min()"
   ]
  },
  {
   "cell_type": "markdown",
   "id": "2401b1d3-4cfa-4fdd-a58a-5e644f312d4b",
   "metadata": {},
   "source": [
    " "
   ]
  },
  {
   "cell_type": "markdown",
   "id": "fcafb94b-a2fa-4218-93f2-7954908e6a46",
   "metadata": {},
   "source": [
    " "
   ]
  },
  {
   "cell_type": "markdown",
   "id": "be609c8d-a5e8-43b5-b359-ee9468f17f60",
   "metadata": {},
   "source": [
    " "
   ]
  },
  {
   "cell_type": "markdown",
   "id": "9531c7c1-1181-41e1-ac7b-4500492b1a08",
   "metadata": {},
   "source": [
    " "
   ]
  },
  {
   "cell_type": "markdown",
   "id": "2ce0f1fe-ac56-4d19-bf0b-31b9f7767aff",
   "metadata": {},
   "source": [
    "**15.**"
   ]
  },
  {
   "cell_type": "code",
   "execution_count": 39,
   "id": "d095ecd3-3ca4-430c-9e68-bb2e9b28223d",
   "metadata": {},
   "outputs": [
    {
     "name": "stdout",
     "output_type": "stream",
     "text": [
      "[1.  0.2 0.5]\n",
      "\n",
      "[[ 1.47441956e-01  7.07106781e-01  5.34522484e-01]\n",
      " [ 8.84651737e-01  1.35727442e-16 -8.01783726e-01]\n",
      " [ 4.42325868e-01 -7.07106781e-01  2.67261242e-01]]\n"
     ]
    }
   ],
   "source": [
    "A = np.array(\n",
    "    [\n",
    "        [.4, 0, .2],\n",
    "        [.3, .8, .3],\n",
    "        [.3, .2, .5],\n",
    "    ]\n",
    ")\n",
    "\n",
    "x0 = np.array([0, .3, .7]).reshape(-1, 1)\n",
    "\n",
    "v1 = np.array([0.1, 0.6, 0.3]).reshape(-1, 1)\n",
    "\n",
    "eigenvalues, P = np.linalg.eig(A)\n",
    "\n",
    "print(eig_values)\n",
    "print()\n",
    "print(P)"
   ]
  },
  {
   "cell_type": "markdown",
   "id": "9d89fbae-5ffc-4a08-8425-5634328607f8",
   "metadata": {},
   "source": [
    " "
   ]
  },
  {
   "cell_type": "markdown",
   "id": "d155ce2d-b45e-4d8d-b3d6-6663d877db07",
   "metadata": {},
   "source": [
    " "
   ]
  },
  {
   "cell_type": "code",
   "execution_count": 37,
   "id": "3b597c0c-84de-4ab1-8ec3-6f1627fb1b68",
   "metadata": {},
   "outputs": [
    {
     "data": {
      "text/plain": [
       "array([[0.1],\n",
       "       [0.6],\n",
       "       [0.3]])"
      ]
     },
     "execution_count": 37,
     "metadata": {},
     "output_type": "execute_result"
    }
   ],
   "source": [
    "A @ v1"
   ]
  },
  {
   "cell_type": "markdown",
   "id": "dac22e9a-53a1-459d-a969-db6c654beab7",
   "metadata": {},
   "source": [
    " "
   ]
  },
  {
   "cell_type": "markdown",
   "id": "2a9b97c8-2f6a-4454-9531-98e7fa0b0b9a",
   "metadata": {},
   "source": [
    " "
   ]
  },
  {
   "cell_type": "code",
   "execution_count": 43,
   "id": "ef34c603-667f-466c-a133-28c2e43d4fef",
   "metadata": {},
   "outputs": [
    {
     "data": {
      "text/plain": [
       "array([[ 0.678233  ],\n",
       "       [-0.42426407],\n",
       "       [ 0.37416574]])"
      ]
     },
     "execution_count": 43,
     "metadata": {},
     "output_type": "execute_result"
    }
   ],
   "source": [
    "c = np.linalg.solve(P, x0)\n",
    "\n",
    "c"
   ]
  },
  {
   "cell_type": "markdown",
   "id": "9ca36ee0-0a84-4f18-9903-94dfe0b7c52a",
   "metadata": {},
   "source": [
    " "
   ]
  },
  {
   "cell_type": "markdown",
   "id": "e0b8137b-28f9-433f-bb8f-2cc3c6b03721",
   "metadata": {},
   "source": [
    " "
   ]
  },
  {
   "cell_type": "markdown",
   "id": "16fcb79a-e8cd-4ae9-b55f-775618bf62ce",
   "metadata": {},
   "source": [
    " "
   ]
  },
  {
   "cell_type": "code",
   "execution_count": 1,
   "id": "b29e6e2a-757e-4561-bd70-d7cbd1d4b10c",
   "metadata": {},
   "outputs": [
    {
     "ename": "NameError",
     "evalue": "name 'np' is not defined",
     "output_type": "error",
     "traceback": [
      "\u001b[0;31m---------------------------------------------------------------------------\u001b[0m",
      "\u001b[0;31mNameError\u001b[0m                                 Traceback (most recent call last)",
      "Cell \u001b[0;32mIn[1], line 1\u001b[0m\n\u001b[0;32m----> 1\u001b[0m theta \u001b[38;5;241m=\u001b[39m \u001b[43mnp\u001b[49m\u001b[38;5;241m.\u001b[39mlinspace(\u001b[38;5;241m0\u001b[39m, \u001b[38;5;241m2\u001b[39m \u001b[38;5;241m*\u001b[39m np\u001b[38;5;241m.\u001b[39mpi, \u001b[38;5;241m100\u001b[39m)\n\u001b[1;32m      2\u001b[0m radius \u001b[38;5;241m=\u001b[39m \u001b[38;5;241m5\u001b[39m\n\u001b[1;32m      4\u001b[0m x \u001b[38;5;241m=\u001b[39m radius \u001b[38;5;241m*\u001b[39m np\u001b[38;5;241m.\u001b[39mcos(theta)\n",
      "\u001b[0;31mNameError\u001b[0m: name 'np' is not defined"
     ]
    }
   ],
   "source": []
  },
  {
   "cell_type": "markdown",
   "id": "82a47b9d-07fc-4ba9-b9c6-ce9ee9e972e8",
   "metadata": {},
   "source": [
    " "
   ]
  },
  {
   "cell_type": "markdown",
   "id": "155ca8af-3d79-4c68-b7a2-28a783f15bf7",
   "metadata": {},
   "source": [
    " "
   ]
  },
  {
   "cell_type": "markdown",
   "id": "9ef6c2bf-3d9d-479b-b674-f440e414feef",
   "metadata": {},
   "source": [
    " "
   ]
  },
  {
   "cell_type": "markdown",
   "id": "ffd9a933-3c11-441d-a68c-2d14b4ee24e6",
   "metadata": {},
   "source": [
    " "
   ]
  },
  {
   "cell_type": "markdown",
   "id": "0dc4bfc2-8162-4c65-a1d7-646ba3ab7283",
   "metadata": {},
   "source": [
    " "
   ]
  },
  {
   "cell_type": "markdown",
   "id": "381d8762-01db-4d34-879b-687297c80462",
   "metadata": {},
   "source": [
    " "
   ]
  },
  {
   "cell_type": "markdown",
   "id": "005b7c97-7e57-4279-aefb-08e0be84d39f",
   "metadata": {},
   "source": [
    " "
   ]
  },
  {
   "cell_type": "markdown",
   "id": "e0c8c4a6-4234-49f0-ac84-b7df5da3dbf3",
   "metadata": {},
   "source": [
    " "
   ]
  },
  {
   "cell_type": "markdown",
   "id": "cbdba1a2-c671-4043-9470-08d25c618763",
   "metadata": {},
   "source": [
    " "
   ]
  },
  {
   "cell_type": "markdown",
   "id": "e8e3f640-5912-49a6-8a28-928ca38f6a64",
   "metadata": {},
   "source": [
    " "
   ]
  },
  {
   "cell_type": "markdown",
   "id": "adc6cc6e-a569-44c1-9148-a30175d041ca",
   "metadata": {},
   "source": [
    " "
   ]
  },
  {
   "cell_type": "code",
   "execution_count": 47,
   "id": "7867f96d-6fe2-4848-bb8f-5bc5ed5ccc84",
   "metadata": {},
   "outputs": [
    {
     "data": {
      "text/plain": [
       "5"
      ]
     },
     "execution_count": 47,
     "metadata": {},
     "output_type": "execute_result"
    }
   ],
   "source": [
    "l = [2, 5, 4, 1]\n",
    "\n",
    "max_value = 0\n",
    "\n",
    "for item in l:\n",
    "    if item > max_value:\n",
    "        max_value = item\n",
    "\n",
    "max_value"
   ]
  },
  {
   "cell_type": "markdown",
   "id": "5dd1855c-0ce1-46e2-b103-f8cee41f8bcb",
   "metadata": {},
   "source": [
    " "
   ]
  },
  {
   "cell_type": "markdown",
   "id": "5583be44-557d-4a66-ba1d-8b055bd5df9c",
   "metadata": {},
   "source": [
    " "
   ]
  },
  {
   "cell_type": "markdown",
   "id": "56e9c2f9-3ab5-435e-81a9-84f57fc01b74",
   "metadata": {},
   "source": [
    " "
   ]
  },
  {
   "cell_type": "markdown",
   "id": "7795a7c2-6c15-4933-ad90-86b998b3cf55",
   "metadata": {},
   "source": [
    " "
   ]
  },
  {
   "cell_type": "markdown",
   "id": "1e86f444-b997-4647-9b6c-10e0a789fb01",
   "metadata": {},
   "source": [
    " "
   ]
  },
  {
   "cell_type": "markdown",
   "id": "047e2ae2-c08c-4834-a2bc-4924b081f0ee",
   "metadata": {},
   "source": [
    " "
   ]
  },
  {
   "cell_type": "markdown",
   "id": "46fea574-81db-4cb4-899e-2601fdc3866a",
   "metadata": {},
   "source": [
    " "
   ]
  },
  {
   "cell_type": "markdown",
   "id": "e4fb3d80-f5a7-4c17-9705-0586a19828b9",
   "metadata": {},
   "source": [
    " "
   ]
  },
  {
   "cell_type": "markdown",
   "id": "d5bebb08-7ef6-4391-ab08-21dec596f5d4",
   "metadata": {},
   "source": [
    " "
   ]
  },
  {
   "cell_type": "markdown",
   "id": "20e64fad-f63a-4509-830d-905f5f6dc9ac",
   "metadata": {},
   "source": [
    " "
   ]
  },
  {
   "cell_type": "markdown",
   "id": "ccb3aaeb-57be-4a6b-af20-86619c581c96",
   "metadata": {},
   "source": [
    " "
   ]
  },
  {
   "cell_type": "markdown",
   "id": "9e29b964-7308-416b-a310-17afd2022006",
   "metadata": {},
   "source": [
    " "
   ]
  },
  {
   "cell_type": "markdown",
   "id": "ea2dfef0-db16-40d1-83f1-0e3cf989d806",
   "metadata": {},
   "source": [
    " "
   ]
  },
  {
   "cell_type": "markdown",
   "id": "a2b731f1-78c4-4a77-9131-1ec3a19bb3d9",
   "metadata": {},
   "source": [
    " "
   ]
  },
  {
   "cell_type": "markdown",
   "id": "ba44f6f0-5b23-4b1b-a237-50bdae5513af",
   "metadata": {},
   "source": [
    " "
   ]
  },
  {
   "cell_type": "markdown",
   "id": "b57a6336-23c7-4708-b242-060f03f8ad2f",
   "metadata": {},
   "source": [
    " "
   ]
  },
  {
   "cell_type": "markdown",
   "id": "cd56fcf5-261d-4028-95dc-9fab8d6e1732",
   "metadata": {},
   "source": [
    " "
   ]
  },
  {
   "cell_type": "markdown",
   "id": "466fc7ed-b263-4868-a646-eb6dd820517b",
   "metadata": {},
   "source": [
    " "
   ]
  },
  {
   "cell_type": "markdown",
   "id": "e770ce1a-edec-44b4-9885-a461a9fa6c65",
   "metadata": {},
   "source": [
    " "
   ]
  }
 ],
 "metadata": {
  "kernelspec": {
   "display_name": "projects",
   "language": "python",
   "name": "projects"
  },
  "language_info": {
   "codemirror_mode": {
    "name": "ipython",
    "version": 3
   },
   "file_extension": ".py",
   "mimetype": "text/x-python",
   "name": "python",
   "nbconvert_exporter": "python",
   "pygments_lexer": "ipython3",
   "version": "3.11.6"
  }
 },
 "nbformat": 4,
 "nbformat_minor": 5
}
