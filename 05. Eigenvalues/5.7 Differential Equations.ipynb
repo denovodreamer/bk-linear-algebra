{
 "cells": [
  {
   "cell_type": "markdown",
   "id": "85ef49bc-f158-4055-8b49-5dd2ae813a6b",
   "metadata": {},
   "source": [
    " "
   ]
  },
  {
   "cell_type": "markdown",
   "id": "f0da39b7-65e3-41e5-b504-840bbeee9690",
   "metadata": {},
   "source": [
    " "
   ]
  },
  {
   "cell_type": "markdown",
   "id": "8e7b3aef-60a5-4923-aa98-e8ce4f6af205",
   "metadata": {},
   "source": [
    " "
   ]
  },
  {
   "cell_type": "markdown",
   "id": "84a1ec0c-3f2b-43ba-b048-8e4386ae3d0d",
   "metadata": {},
   "source": [
    " "
   ]
  },
  {
   "cell_type": "markdown",
   "id": "00b32184-3633-471d-bb0d-f536681095bb",
   "metadata": {},
   "source": [
    " "
   ]
  },
  {
   "cell_type": "code",
   "execution_count": 1,
   "id": "ef3c15e2-09fd-42f9-a1fa-e1d288ef6dcd",
   "metadata": {},
   "outputs": [],
   "source": [
    "import numpy as np"
   ]
  },
  {
   "cell_type": "markdown",
   "id": "04a3b94d-8fe5-445e-b310-b644da3fd3f0",
   "metadata": {},
   "source": [
    " "
   ]
  },
  {
   "cell_type": "markdown",
   "id": "d897802b-d9f6-41e4-8928-78f5bb7c21e0",
   "metadata": {},
   "source": [
    " "
   ]
  },
  {
   "cell_type": "markdown",
   "id": "ee151bdf-6eb9-4e26-88ee-2c31589992d7",
   "metadata": {},
   "source": [
    " "
   ]
  },
  {
   "cell_type": "markdown",
   "id": "1c608173-9366-4a81-be20-1b08040336d4",
   "metadata": {},
   "source": [
    " "
   ]
  },
  {
   "cell_type": "markdown",
   "id": "8d748a94-fd86-4cb8-8b98-ee2af146bfac",
   "metadata": {},
   "source": [
    " "
   ]
  },
  {
   "cell_type": "markdown",
   "id": "9ef91192-2efe-41da-abd4-a604c4f207d2",
   "metadata": {},
   "source": [
    " "
   ]
  },
  {
   "cell_type": "markdown",
   "id": "6294d2fc-78bf-4a50-a87e-f96fb867c10a",
   "metadata": {},
   "source": [
    " "
   ]
  },
  {
   "cell_type": "markdown",
   "id": "e1c46d43-07ac-4bb9-9bc5-2fd4b04623b3",
   "metadata": {},
   "source": [
    " "
   ]
  },
  {
   "cell_type": "markdown",
   "id": "52d3b07b-6fc4-49cf-8fca-752090e331fb",
   "metadata": {},
   "source": [
    " "
   ]
  },
  {
   "cell_type": "markdown",
   "id": "a3d75440-cb9d-4357-9806-7acd9287e6e8",
   "metadata": {},
   "source": [
    " "
   ]
  },
  {
   "cell_type": "markdown",
   "id": "f514aed9-ab62-4b4d-9343-4e2561fc02fa",
   "metadata": {},
   "source": [
    " "
   ]
  },
  {
   "cell_type": "markdown",
   "id": "5d079969-b91e-455b-b5eb-a220395050ea",
   "metadata": {},
   "source": [
    " "
   ]
  },
  {
   "cell_type": "markdown",
   "id": "2b875dc6-475e-44ff-9610-15a818a8eb33",
   "metadata": {},
   "source": [
    " "
   ]
  },
  {
   "cell_type": "markdown",
   "id": "dd6bc65a-b138-4076-986f-957944f4448d",
   "metadata": {},
   "source": [
    "**8.**"
   ]
  },
  {
   "cell_type": "code",
   "execution_count": 51,
   "id": "7d6f4c5e-7436-4a9e-a9cf-c55fdd8fbf8b",
   "metadata": {},
   "outputs": [
    {
     "name": "stdout",
     "output_type": "stream",
     "text": [
      "[[0.77296932 0.70118512 0.63584409 0.57641014 0.52238356 0.47330021\n",
      "  0.42873043 0.38827755 0.35157625 0.31829079]\n",
      " [0.75869293 0.68952019 0.62631292 0.56862244 0.51602039 0.468101\n",
      "  0.42448227 0.38480647 0.34874011 0.31597344]]\n"
     ]
    }
   ],
   "source": [
    "A = np.array(\n",
    "    [\n",
    "        [1, -2],\n",
    "        [3, -4]\n",
    "    ]\n",
    ")\n",
    "\n",
    "\n",
    "def diagonalize(A):\n",
    "    eigenvalues, P = np.linalg.eig(A)\n",
    "    \n",
    "    for i, v in enumerate(P.transpose()):\n",
    "        P[:, i] =  v / v.min()\n",
    "        \n",
    "    return eigenvalues, P\n",
    "\n",
    "\n",
    "def x_function(eig, P, c, t):\n",
    "    values = 0\n",
    "    for i in range(2):\n",
    "        v_i = P[:, i].reshape(-1, 1)\n",
    "        values += c[i] * v_i @ np.exp(eig[i]*t)\n",
    "    return values\n",
    "\n",
    "\n",
    "def compute_initial_value(A, x0):\n",
    "    t = np.linspace(0, 10, 100).reshape(1, -1)\n",
    "    eig, P = diagonalize(A)\n",
    "    c = np.linalg.solve(P, x0).flatten()\n",
    "    values = x_function(eig, P, c, t)\n",
    "    return values\n",
    "\n",
    "\n",
    "def initial_points():\n",
    "\n",
    "    n_points = 20\n",
    "    \n",
    "    theta = np.linspace(0, 2 * np.pi, n_points)\n",
    "    radius = 5\n",
    "    \n",
    "    x = radius * np.cos(theta)\n",
    "    y = radius * np.sin(theta)\n",
    "    \n",
    "    x0_points = np.array([x, y]) # (2, n_points)\n",
    "\n",
    "    return x0_points\n",
    "\n",
    "    \n",
    "\n",
    "x0_points = initial_points()\n",
    "\n",
    "points = np.array([0, 0]).reshape(-1, 1)\n",
    "\n",
    "for i in range(x0_points.shape[1]):\n",
    "    x0 = x0_points[:, i].reshape(-1, 1)\n",
    "    new_points = compute_initial_value(A, x0)\n",
    "    points = np.concatenate([points, new_points], axis=1)\n",
    "\n",
    "print(points[:, 30:40])"
   ]
  },
  {
   "cell_type": "markdown",
   "id": "32429ab3-33ab-4fcb-a65d-5370fa9ea530",
   "metadata": {},
   "source": [
    " "
   ]
  },
  {
   "cell_type": "markdown",
   "id": "495cb701-aa2c-4306-a431-975ab778b2f4",
   "metadata": {},
   "source": [
    " "
   ]
  },
  {
   "cell_type": "markdown",
   "id": "7a760955-6712-4922-831e-85ddb6836c8d",
   "metadata": {},
   "source": [
    " "
   ]
  },
  {
   "cell_type": "code",
   "execution_count": 52,
   "id": "2511b209-7766-4b2a-88f9-b87d09d050ed",
   "metadata": {},
   "outputs": [
    {
     "data": {
      "text/plain": [
       "[<matplotlib.lines.Line2D at 0x1606c8610>]"
      ]
     },
     "execution_count": 52,
     "metadata": {},
     "output_type": "execute_result"
    },
    {
     "data": {
      "image/png": "[encoded data removed]",
      "text/plain": [
       "<Figure size 1000x600 with 1 Axes>"
      ]
     },
     "metadata": {},
     "output_type": "display_data"
    }
   ],
   "source": [
    "import matplotlib.pyplot as plt\n",
    "\n",
    "v_1 = np.array([1, 1]).reshape(-1, 1)\n",
    "v_2 = np.array([2, 3]).reshape(-1, 1)\n",
    "\n",
    "line_1 = v_1 @ np.linspace(-5, 5, 2).reshape(1, -1)\n",
    "line_2 = v_2 @ np.linspace(-3, 3, 2).reshape(1, -1)\n",
    "\n",
    "plt.figure(figsize=(10,6))\n",
    "plt.scatter(points[0], points[1]);\n",
    "plt.plot(line_1[0], line_1[1], color=\"r\")\n",
    "plt.plot(line_2[0], line_2[1], color=\"k\")"
   ]
  },
  {
   "cell_type": "markdown",
   "id": "c3a0857b-63b0-4306-9859-a49f2c6a2758",
   "metadata": {},
   "source": [
    " "
   ]
  },
  {
   "cell_type": "markdown",
   "id": "977294bb-d701-4f85-89e9-3f244f9c7884",
   "metadata": {},
   "source": [
    " "
   ]
  },
  {
   "cell_type": "code",
   "execution_count": 36,
   "id": "ec971ed7-a590-41d6-8a80-3926a82f7c69",
   "metadata": {},
   "outputs": [
    {
     "name": "stdout",
     "output_type": "stream",
     "text": [
      "[-1. -2.]\n",
      "\n",
      "[[1.  1. ]\n",
      " [1.  1.5]]\n"
     ]
    }
   ],
   "source": [
    "eig, P = diagonalize(A)\n",
    "print(eig)\n",
    "print()\n",
    "print(P)"
   ]
  },
  {
   "cell_type": "markdown",
   "id": "d531ab56-9e3b-4a8c-b9ba-58e08521cb55",
   "metadata": {},
   "source": [
    " "
   ]
  },
  {
   "cell_type": "markdown",
   "id": "23557f0e-53b8-4160-bcd1-bbfb5e7aac78",
   "metadata": {},
   "source": [
    " "
   ]
  },
  {
   "cell_type": "markdown",
   "id": "4bdc3f61-c565-40e3-89ef-17265c7b7aa0",
   "metadata": {},
   "source": [
    " "
   ]
  },
  {
   "cell_type": "markdown",
   "id": "0e2eb002-d2ef-4762-b718-f5b614f89059",
   "metadata": {},
   "source": [
    " "
   ]
  },
  {
   "cell_type": "markdown",
   "id": "b0fdb87b-b517-4f96-a623-6ac7baa40c96",
   "metadata": {},
   "source": [
    " "
   ]
  },
  {
   "cell_type": "markdown",
   "id": "8707e77a-c840-4a41-a1db-4b270cc047fa",
   "metadata": {},
   "source": [
    " "
   ]
  },
  {
   "cell_type": "markdown",
   "id": "90143d30-813c-4e16-adcc-e60bc71f9e93",
   "metadata": {},
   "source": [
    " "
   ]
  },
  {
   "cell_type": "markdown",
   "id": "4198abae-1679-4b34-924b-0bd0e3726cce",
   "metadata": {},
   "source": [
    " "
   ]
  },
  {
   "cell_type": "markdown",
   "id": "6ef97d84-0126-42d5-ae63-57abcf7ed9cd",
   "metadata": {},
   "source": [
    " "
   ]
  },
  {
   "cell_type": "markdown",
   "id": "0ec42dd9-97ac-4e85-bd8e-5cd6bdfece2a",
   "metadata": {},
   "source": [
    " "
   ]
  },
  {
   "cell_type": "markdown",
   "id": "fa0ffc2f-6b6d-45d1-8a9c-663e3a62bad3",
   "metadata": {},
   "source": [
    " "
   ]
  },
  {
   "cell_type": "markdown",
   "id": "8e89abda-d1c1-4d81-b255-e7badad2e180",
   "metadata": {},
   "source": [
    " "
   ]
  },
  {
   "cell_type": "markdown",
   "id": "e6798c88-16e4-42b4-bd04-c69fe2cef4c4",
   "metadata": {},
   "source": [
    " "
   ]
  },
  {
   "cell_type": "markdown",
   "id": "2d0978db-00b2-4a39-b93c-c36c3fb07be1",
   "metadata": {},
   "source": [
    " "
   ]
  },
  {
   "cell_type": "markdown",
   "id": "89ea5429-d26c-4b59-9776-7f8f637fffa4",
   "metadata": {},
   "source": [
    " "
   ]
  },
  {
   "cell_type": "markdown",
   "id": "67aac852-e78d-40c9-8962-33bfffafdc70",
   "metadata": {},
   "source": [
    " "
   ]
  },
  {
   "cell_type": "markdown",
   "id": "9f8ff1da-7a84-41f4-b4d3-8d917af545eb",
   "metadata": {},
   "source": [
    " "
   ]
  },
  {
   "cell_type": "markdown",
   "id": "6b5c8be7-6cd3-4476-805b-428bb127e5b6",
   "metadata": {},
   "source": [
    " "
   ]
  },
  {
   "cell_type": "markdown",
   "id": "09ae9d35-1e97-4627-b5e2-34b614e09c97",
   "metadata": {},
   "source": [
    " "
   ]
  },
  {
   "cell_type": "markdown",
   "id": "9c6bd776-fbf1-4fbd-af52-b3cc02a338c9",
   "metadata": {},
   "source": [
    " "
   ]
  },
  {
   "cell_type": "markdown",
   "id": "4ba854e9-c0ce-4d1e-b28a-7599f304e253",
   "metadata": {},
   "source": [
    " "
   ]
  }
 ],
 "metadata": {
  "kernelspec": {
   "display_name": "projects",
   "language": "python",
   "name": "projects"
  },
  "language_info": {
   "codemirror_mode": {
    "name": "ipython",
    "version": 3
   },
   "file_extension": ".py",
   "mimetype": "text/x-python",
   "name": "python",
   "nbconvert_exporter": "python",
   "pygments_lexer": "ipython3",
   "version": "3.11.6"
  }
 },
 "nbformat": 4,
 "nbformat_minor": 5
}
