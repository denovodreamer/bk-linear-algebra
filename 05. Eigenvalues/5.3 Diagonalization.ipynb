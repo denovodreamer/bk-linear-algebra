{
 "cells": [
  {
   "cell_type": "markdown",
   "id": "81feb6e9",
   "metadata": {},
   "source": [
    " "
   ]
  },
  {
   "cell_type": "markdown",
   "id": "23718699",
   "metadata": {},
   "source": [
    " "
   ]
  },
  {
   "cell_type": "code",
   "execution_count": 2,
   "id": "c26e5a00",
   "metadata": {},
   "outputs": [],
   "source": [
    "import numpy as np\n",
    "import scipy\n",
    "from sympy import Matrix"
   ]
  },
  {
   "cell_type": "markdown",
   "id": "a31f0e2d",
   "metadata": {},
   "source": [
    " "
   ]
  },
  {
   "cell_type": "markdown",
   "id": "6230663e",
   "metadata": {},
   "source": [
    " "
   ]
  },
  {
   "cell_type": "markdown",
   "id": "5789c522-92d2-4757-a22e-0548a3359c0f",
   "metadata": {},
   "source": [
    " "
   ]
  },
  {
   "cell_type": "markdown",
   "id": "f198be65-217e-4ab4-8b28-ae0636b48cc9",
   "metadata": {},
   "source": [
    " "
   ]
  },
  {
   "cell_type": "markdown",
   "id": "2726dbad-8d1f-44b6-8763-6469b9722838",
   "metadata": {},
   "source": [
    " "
   ]
  },
  {
   "cell_type": "markdown",
   "id": "08d1f356-07bd-4f6f-b8d7-94998e7d9749",
   "metadata": {},
   "source": [
    " "
   ]
  },
  {
   "cell_type": "markdown",
   "id": "46b289c3-33de-46e1-9206-a85d1a97cdbd",
   "metadata": {},
   "source": [
    "**Example 3**"
   ]
  },
  {
   "cell_type": "code",
   "execution_count": 2,
   "id": "2d83c93a-cf22-42f9-9f08-2f465c1aa287",
   "metadata": {},
   "outputs": [
    {
     "name": "stdout",
     "output_type": "stream",
     "text": [
      "[[ 1  3  3]\n",
      " [-3 -5 -3]\n",
      " [ 3  3  1]]\n"
     ]
    }
   ],
   "source": [
    "A = np.array(\n",
    "    [\n",
    "        [1, 3, 3],\n",
    "        [-3, -5, -3],\n",
    "        [3, 3, 1],\n",
    "    ]\n",
    ")\n",
    "\n",
    "print(A)"
   ]
  },
  {
   "cell_type": "markdown",
   "id": "1ae69cee-6d02-465d-91bf-29c56678391d",
   "metadata": {},
   "source": [
    " "
   ]
  },
  {
   "cell_type": "markdown",
   "id": "609e91f2-1333-4b4a-89b5-92b57638f4fa",
   "metadata": {},
   "source": [
    " "
   ]
  },
  {
   "cell_type": "code",
   "execution_count": 7,
   "id": "c5491f6b-a64e-40e3-869d-204b391c80aa",
   "metadata": {},
   "outputs": [
    {
     "name": "stdout",
     "output_type": "stream",
     "text": [
      "[[ 1 -1 -1]\n",
      " [-1  1  0]\n",
      " [ 1  0  1]] \n",
      "\n",
      "[[ 1.  1.  1.]\n",
      " [ 1.  2.  1.]\n",
      " [-1. -1. -0.]] \n",
      "\n",
      "[[ 1  0  0]\n",
      " [ 0 -2  0]\n",
      " [ 0  0 -2]]\n"
     ]
    }
   ],
   "source": [
    "v1 = np.array([1, -1, 1]).reshape(-1, 1)\n",
    "v2 = np.array([-1, 1, 0]).reshape(-1, 1)\n",
    "v3 = np.array([-1, 0, 1]).reshape(-1, 1)\n",
    "\n",
    "P = np.column_stack([v1, v2, v3])\n",
    "print(P, \"\\n\")\n",
    "\n",
    "P_inv = np.linalg.inv(P)\n",
    "print(P_inv, \"\\n\")\n",
    "\n",
    "D = np.diag([1, -2, -2])\n",
    "print(D)"
   ]
  },
  {
   "cell_type": "markdown",
   "id": "90e20a2e-7f5a-4228-9d85-24b01df063e4",
   "metadata": {},
   "source": [
    " "
   ]
  },
  {
   "cell_type": "markdown",
   "id": "61ca7915-7f1f-4a47-92bb-39f9de0c8e10",
   "metadata": {},
   "source": [
    " "
   ]
  },
  {
   "cell_type": "code",
   "execution_count": 8,
   "id": "f14bf277-1b0e-4689-bf45-62ba81e0b170",
   "metadata": {},
   "outputs": [
    {
     "data": {
      "text/plain": [
       "array([[ 1.,  3.,  3.],\n",
       "       [-3., -5., -3.],\n",
       "       [ 3.,  3.,  1.]])"
      ]
     },
     "execution_count": 8,
     "metadata": {},
     "output_type": "execute_result"
    }
   ],
   "source": [
    "P @ D @ P_inv"
   ]
  },
  {
   "cell_type": "markdown",
   "id": "00885540-8f85-4f06-bac8-b632f2dac0c3",
   "metadata": {},
   "source": [
    " "
   ]
  },
  {
   "cell_type": "markdown",
   "id": "b207e1f3-03c0-4b5d-9073-b148fdae4d43",
   "metadata": {},
   "source": [
    " "
   ]
  },
  {
   "cell_type": "markdown",
   "id": "c1a275d2-f878-4d88-bbb9-fbf4f8979494",
   "metadata": {},
   "source": [
    " "
   ]
  },
  {
   "cell_type": "markdown",
   "id": "6c4a78ca-994b-4f7e-8274-c845a6c49eea",
   "metadata": {},
   "source": [
    " "
   ]
  },
  {
   "cell_type": "markdown",
   "id": "49417e60-5188-4149-b40f-26571c746fa8",
   "metadata": {},
   "source": [
    " "
   ]
  },
  {
   "cell_type": "markdown",
   "id": "4bbd757c-75f7-476f-a898-0898de380e9e",
   "metadata": {},
   "source": [
    "**9.**"
   ]
  },
  {
   "cell_type": "code",
   "execution_count": 29,
   "id": "3b52a358-8488-49d9-9bb3-3f55519782f1",
   "metadata": {},
   "outputs": [
    {
     "name": "stdout",
     "output_type": "stream",
     "text": [
      "[[ 3 -1]\n",
      " [ 1  5]]\n"
     ]
    }
   ],
   "source": [
    "A = np.array(\n",
    "    [\n",
    "        [3, -1],\n",
    "        [1, 5]\n",
    "    ]\n",
    ")\n",
    "\n",
    "print(A)"
   ]
  },
  {
   "cell_type": "markdown",
   "id": "7fdb45a4-5af4-4b08-9ce6-4c8c34f8a8a7",
   "metadata": {},
   "source": [
    " "
   ]
  },
  {
   "cell_type": "markdown",
   "id": "10886b1a-69eb-4544-a8d5-b29e2ba9b41b",
   "metadata": {},
   "source": [
    " "
   ]
  },
  {
   "cell_type": "code",
   "execution_count": 30,
   "id": "09acbab3-048a-486c-a807-9f23b4857a93",
   "metadata": {},
   "outputs": [
    {
     "data": {
      "text/plain": [
       "array([8., 2.])"
      ]
     },
     "execution_count": 30,
     "metadata": {},
     "output_type": "execute_result"
    }
   ],
   "source": [
    "np.roots([1, -10, 16])"
   ]
  },
  {
   "cell_type": "markdown",
   "id": "e1b0e013-1231-4721-8d02-108c88ba1969",
   "metadata": {},
   "source": [
    " "
   ]
  },
  {
   "cell_type": "markdown",
   "id": "98806a30-76d7-4bdb-b259-da5bdcc56cf1",
   "metadata": {},
   "source": [
    " "
   ]
  },
  {
   "cell_type": "markdown",
   "id": "1a57f382-27a4-49f1-96f0-70d9d2538c1f",
   "metadata": {},
   "source": [
    " "
   ]
  },
  {
   "cell_type": "code",
   "execution_count": 31,
   "id": "8ac7688d-f7c5-491d-8d52-ffd274c48b09",
   "metadata": {},
   "outputs": [
    {
     "name": "stdout",
     "output_type": "stream",
     "text": [
      "[[1. 0.]\n",
      " [0. 1.]]\n"
     ]
    }
   ],
   "source": [
    "eig = 2\n",
    "\n",
    "U, pivots = Matrix(A - eig*np.identity(A.shape[0])).rref()\n",
    "\n",
    "U = np.array(U).astype(float)\n",
    "\n",
    "print(U)"
   ]
  },
  {
   "cell_type": "markdown",
   "id": "3ff0c9a6-5f0e-4b53-917b-64c39638ba7c",
   "metadata": {},
   "source": [
    " "
   ]
  },
  {
   "cell_type": "markdown",
   "id": "959254d9-9334-4db2-9a20-4b5830b6a798",
   "metadata": {},
   "source": [
    " "
   ]
  },
  {
   "cell_type": "markdown",
   "id": "d2fa5200-3c9b-4b6e-a897-c7a9636c5784",
   "metadata": {},
   "source": [
    " "
   ]
  },
  {
   "cell_type": "markdown",
   "id": "99f8a36b-740a-409a-a788-c5caa68411b7",
   "metadata": {},
   "source": [
    " "
   ]
  },
  {
   "cell_type": "markdown",
   "id": "51757ce8-8420-4aa4-9c28-2072554a94e4",
   "metadata": {},
   "source": [
    " "
   ]
  },
  {
   "cell_type": "markdown",
   "id": "db53c8fb-1132-4193-803f-55429b5179c0",
   "metadata": {},
   "source": [
    " "
   ]
  },
  {
   "cell_type": "markdown",
   "id": "c1bbf825-371e-429b-8fe1-4fc5ff1c97c0",
   "metadata": {},
   "source": [
    " "
   ]
  },
  {
   "cell_type": "markdown",
   "id": "cf29afab-43f6-4907-8554-f8217d5bf276",
   "metadata": {},
   "source": [
    " "
   ]
  },
  {
   "cell_type": "markdown",
   "id": "06956438-7293-4f7a-a469-48539eb49049",
   "metadata": {},
   "source": [
    " "
   ]
  },
  {
   "cell_type": "markdown",
   "id": "d88ddeaf-8f32-4652-acd9-fc156448eca4",
   "metadata": {},
   "source": [
    " "
   ]
  },
  {
   "cell_type": "markdown",
   "id": "b119518b-273c-48ab-a792-764edad52360",
   "metadata": {},
   "source": [
    " "
   ]
  },
  {
   "cell_type": "markdown",
   "id": "a0ff3096-7b39-42e9-9819-9171ea227f12",
   "metadata": {},
   "source": [
    " "
   ]
  },
  {
   "cell_type": "markdown",
   "id": "7c3d04a4-1d42-49ab-b50b-d153f7b0d495",
   "metadata": {},
   "source": [
    " "
   ]
  },
  {
   "cell_type": "markdown",
   "id": "a252fff6-5a51-4211-b53f-54db0ef5ea88",
   "metadata": {},
   "source": [
    "**11.**"
   ]
  },
  {
   "cell_type": "code",
   "execution_count": 2,
   "id": "224720f1-2497-4688-8353-e602974fdf2e",
   "metadata": {},
   "outputs": [
    {
     "name": "stdout",
     "output_type": "stream",
     "text": [
      "[[-1  4 -2]\n",
      " [-3  4  0]\n",
      " [-3  1  3]]\n"
     ]
    }
   ],
   "source": [
    "A = np.array(\n",
    "    [\n",
    "        [-1, 4, -2],\n",
    "        [-3, 4, 0],\n",
    "        [-3, 1, 3],\n",
    "    ]\n",
    ")\n",
    "\n",
    "print(A)"
   ]
  },
  {
   "cell_type": "markdown",
   "id": "4ae5591d-a04d-44f9-9891-63021eab5aa9",
   "metadata": {},
   "source": [
    " "
   ]
  },
  {
   "cell_type": "markdown",
   "id": "7e8744e0-c4ad-4f28-bdc3-a4df37eff06e",
   "metadata": {},
   "source": [
    " "
   ]
  },
  {
   "cell_type": "code",
   "execution_count": 22,
   "id": "e9befad2-3b2e-4d58-8d2b-ccf237569bc6",
   "metadata": {},
   "outputs": [
    {
     "data": {
      "text/plain": [
       "(array([1., 2., 3.]),\n",
       " array([[-0.57735027,  0.42640143,  0.19611614],\n",
       "        [-0.57735027,  0.63960215,  0.58834841],\n",
       "        [-0.57735027,  0.63960215,  0.78446454]]))"
      ]
     },
     "execution_count": 22,
     "metadata": {},
     "output_type": "execute_result"
    }
   ],
   "source": [
    "eigenvalues, eigenvectors = np.linalg.eig(A)\n",
    "\n",
    "eigenvalues, eigenvectors"
   ]
  },
  {
   "cell_type": "markdown",
   "id": "77ddffa6-299e-4b8f-a9a8-66a70b406112",
   "metadata": {},
   "source": [
    " "
   ]
  },
  {
   "cell_type": "markdown",
   "id": "bd5ddd56-8095-4d3f-86dc-25dcfe8acf32",
   "metadata": {},
   "source": [
    " "
   ]
  },
  {
   "cell_type": "markdown",
   "id": "43c489bc-2edd-4871-96c2-cddfccc837b2",
   "metadata": {},
   "source": [
    " "
   ]
  },
  {
   "cell_type": "code",
   "execution_count": 19,
   "id": "7f5960df-ec53-42ec-9475-6931b0f98d0b",
   "metadata": {},
   "outputs": [
    {
     "data": {
      "text/plain": [
       "array([[1., 0.],\n",
       "       [0., 1.],\n",
       "       [0., 0.]])"
      ]
     },
     "execution_count": 19,
     "metadata": {},
     "output_type": "execute_result"
    }
   ],
   "source": [
    "eig = 1\n",
    "\n",
    "U, pivots = Matrix(A - eig*np.identity(3)).rref()\n",
    "\n",
    "U = np.array(U).astype(float)\n",
    "\n",
    "basis = U[:, pivots]\n",
    "\n",
    "basis"
   ]
  },
  {
   "cell_type": "markdown",
   "id": "ff6f16f7-6379-4a63-9000-e4a5654dcf94",
   "metadata": {},
   "source": [
    " "
   ]
  },
  {
   "cell_type": "markdown",
   "id": "1dbc095e-25cb-4609-9d98-16ec67afc235",
   "metadata": {},
   "source": [
    " "
   ]
  },
  {
   "cell_type": "markdown",
   "id": "3d7af6c0-4ba9-475c-ac4c-640010d7f8ab",
   "metadata": {},
   "source": [
    " "
   ]
  },
  {
   "cell_type": "markdown",
   "id": "0e75d14b-aef8-42c9-b0aa-1cf5271c0b22",
   "metadata": {},
   "source": [
    " "
   ]
  },
  {
   "cell_type": "markdown",
   "id": "4e6cd5d9-9b63-44d3-b462-fd0d9270a36b",
   "metadata": {},
   "source": [
    " "
   ]
  },
  {
   "cell_type": "code",
   "execution_count": 20,
   "id": "b3ba432d-2aba-44c2-8f4e-6342be0c0cfc",
   "metadata": {},
   "outputs": [
    {
     "data": {
      "text/plain": [
       "array([[1., 0.],\n",
       "       [0., 1.],\n",
       "       [0., 0.]])"
      ]
     },
     "execution_count": 20,
     "metadata": {},
     "output_type": "execute_result"
    }
   ],
   "source": [
    "eig = 2\n",
    "\n",
    "U, pivots = Matrix(A - eig*np.identity(3)).rref()\n",
    "\n",
    "U = np.array(U).astype(float)\n",
    "\n",
    "basis = U[:, pivots]\n",
    "\n",
    "basis"
   ]
  },
  {
   "cell_type": "markdown",
   "id": "d5c2fbf3-651e-4c0e-bcd1-8c712d3c7c97",
   "metadata": {},
   "source": [
    " "
   ]
  },
  {
   "cell_type": "markdown",
   "id": "35808a30-881d-4c57-8546-7b0cb62581c1",
   "metadata": {},
   "source": [
    " "
   ]
  },
  {
   "cell_type": "markdown",
   "id": "3ade905c-22b5-4486-8235-8cbb7adb6f32",
   "metadata": {},
   "source": [
    " "
   ]
  },
  {
   "cell_type": "markdown",
   "id": "bee27ccc-efc1-4752-bf10-e90e17002e0b",
   "metadata": {},
   "source": [
    " "
   ]
  },
  {
   "cell_type": "markdown",
   "id": "14a18c71-8e95-47b7-b105-4f12a60aec10",
   "metadata": {},
   "source": [
    " "
   ]
  },
  {
   "cell_type": "code",
   "execution_count": 21,
   "id": "0979dc85-980c-4b92-8d9d-80ec6704277f",
   "metadata": {},
   "outputs": [
    {
     "data": {
      "text/plain": [
       "array([[1., 0.],\n",
       "       [0., 1.],\n",
       "       [0., 0.]])"
      ]
     },
     "execution_count": 21,
     "metadata": {},
     "output_type": "execute_result"
    }
   ],
   "source": [
    "eig = 3\n",
    "\n",
    "U, pivots = Matrix(A - eig*np.identity(3)).rref()\n",
    "\n",
    "U = np.array(U).astype(float)\n",
    "\n",
    "basis = U[:, pivots]\n",
    "\n",
    "basis"
   ]
  },
  {
   "cell_type": "markdown",
   "id": "66b93643-2097-466b-9755-6075c5a4842e",
   "metadata": {},
   "source": [
    " "
   ]
  },
  {
   "cell_type": "markdown",
   "id": "a39698a5-f715-4421-b542-126166f3e651",
   "metadata": {},
   "source": [
    " "
   ]
  },
  {
   "cell_type": "markdown",
   "id": "8a71f0cd-9426-44a6-92f5-c71b6bcedf1b",
   "metadata": {},
   "source": [
    " "
   ]
  },
  {
   "cell_type": "markdown",
   "id": "91793d56-017f-4e1f-a6d6-a30ee1e1ad0d",
   "metadata": {},
   "source": [
    " "
   ]
  },
  {
   "cell_type": "markdown",
   "id": "23ddb6c1-a489-4a2e-bb5e-80b585d0fae8",
   "metadata": {},
   "source": [
    " "
   ]
  },
  {
   "cell_type": "markdown",
   "id": "7d6826a3-c628-4090-aacc-ad68ff8ac8bf",
   "metadata": {},
   "source": [
    " "
   ]
  },
  {
   "cell_type": "markdown",
   "id": "11d3c309-9c47-43ee-9e54-9a7b7a51a860",
   "metadata": {},
   "source": [
    " "
   ]
  },
  {
   "cell_type": "markdown",
   "id": "a161e7b7-1723-4fba-9d64-2a1d02e06809",
   "metadata": {},
   "source": [
    " "
   ]
  },
  {
   "cell_type": "markdown",
   "id": "5aeefd28-93a5-4058-8de4-aedc73e08d6f",
   "metadata": {},
   "source": [
    " "
   ]
  },
  {
   "cell_type": "markdown",
   "id": "3bc29883-65db-4bea-893c-0cd851fa487e",
   "metadata": {},
   "source": [
    " "
   ]
  },
  {
   "cell_type": "markdown",
   "id": "8838060d-7ed8-49b0-a66c-119c0c096f23",
   "metadata": {},
   "source": [
    " "
   ]
  },
  {
   "cell_type": "markdown",
   "id": "3e0bf9b9",
   "metadata": {},
   "source": [
    " "
   ]
  },
  {
   "cell_type": "markdown",
   "id": "f0c30f6d",
   "metadata": {},
   "source": [
    "**32.**"
   ]
  },
  {
   "cell_type": "markdown",
   "id": "3c1eb473",
   "metadata": {},
   "source": [
    " "
   ]
  },
  {
   "cell_type": "code",
   "execution_count": 5,
   "id": "4f866e84",
   "metadata": {},
   "outputs": [],
   "source": [
    "A = np.array(\n",
    "    [\n",
    "        [-6, 4, 0, 9],\n",
    "        [-3, 0, 1, 6],\n",
    "        [-1, -2, 1, 0],\n",
    "        [-4, 4, 0, 7]\n",
    "    ]\n",
    ")"
   ]
  },
  {
   "cell_type": "markdown",
   "id": "e3b23813",
   "metadata": {},
   "source": [
    " "
   ]
  },
  {
   "cell_type": "markdown",
   "id": "91c58f89",
   "metadata": {},
   "source": [
    " "
   ]
  },
  {
   "cell_type": "code",
   "execution_count": 6,
   "id": "7965a41a",
   "metadata": {},
   "outputs": [
    {
     "data": {
      "text/plain": [
       "(array([ 5.,  1., -2., -2.]),\n",
       " array([[-0.63245553,  0.26261287, -0.79971478,  0.32334764],\n",
       "        [-0.31622777, -0.13130643, -0.30334009, -0.72992629],\n",
       "        [ 0.31622777, -0.91914503, -0.46879832, -0.37883498],\n",
       "        [-0.63245553,  0.26261287, -0.22061097,  0.46812175]]))"
      ]
     },
     "execution_count": 6,
     "metadata": {},
     "output_type": "execute_result"
    }
   ],
   "source": [
    "eigenvalues, eigenvectors = np.linalg.eig(A)\n",
    "\n",
    "eigenvalues, eigenvectors"
   ]
  },
  {
   "cell_type": "markdown",
   "id": "b5b5aa26",
   "metadata": {},
   "source": [
    " "
   ]
  },
  {
   "cell_type": "markdown",
   "id": "2a8e457f",
   "metadata": {},
   "source": [
    " "
   ]
  },
  {
   "cell_type": "markdown",
   "id": "d87cc159",
   "metadata": {},
   "source": [
    " "
   ]
  },
  {
   "cell_type": "code",
   "execution_count": 11,
   "id": "1ae5c7ae",
   "metadata": {},
   "outputs": [
    {
     "name": "stdout",
     "output_type": "stream",
     "text": [
      "[[ 1. ]\n",
      " [ 0.5]\n",
      " [-0.5]\n",
      " [ 1. ]]\n",
      "\n",
      "[[ 1. ]\n",
      " [-0.5]\n",
      " [-3.5]\n",
      " [ 1. ]]\n",
      "\n",
      "[[ 1.          0.75088557]\n",
      " [-0.68529134  0.88132618]\n",
      " [-0.12352756  0.83784598]\n",
      " [ 0.74901837 -0.05797361]]\n",
      "\n",
      "[[-1.12633369  0.35812796]\n",
      " [ 0.33660871  1.        ]\n",
      " [-0.15103876  0.78604265]\n",
      " [-0.65019662 -0.28527646]]\n",
      "\n"
     ]
    }
   ],
   "source": [
    "for eigenvalue in eigenvalues:\n",
    "\n",
    "    B = A - eigenvalue * np.identity(4)\n",
    "    basis = scipy.linalg.null_space(B)\n",
    "    \n",
    "    print(basis / basis.min())\n",
    "    print()"
   ]
  },
  {
   "cell_type": "markdown",
   "id": "b030e6e9",
   "metadata": {},
   "source": [
    " "
   ]
  },
  {
   "cell_type": "markdown",
   "id": "070b3fd7",
   "metadata": {},
   "source": [
    " "
   ]
  },
  {
   "cell_type": "markdown",
   "id": "842ac6da",
   "metadata": {},
   "source": [
    " "
   ]
  },
  {
   "cell_type": "markdown",
   "id": "315471ce",
   "metadata": {},
   "source": [
    " "
   ]
  },
  {
   "cell_type": "markdown",
   "id": "1e887b4e",
   "metadata": {},
   "source": [
    " "
   ]
  },
  {
   "cell_type": "markdown",
   "id": "9ddb4338",
   "metadata": {},
   "source": [
    " "
   ]
  },
  {
   "cell_type": "markdown",
   "id": "39869227",
   "metadata": {},
   "source": [
    " "
   ]
  },
  {
   "cell_type": "markdown",
   "id": "3c8398ac",
   "metadata": {},
   "source": [
    " "
   ]
  },
  {
   "cell_type": "markdown",
   "id": "73f022b9",
   "metadata": {},
   "source": [
    " "
   ]
  },
  {
   "cell_type": "markdown",
   "id": "9253888e",
   "metadata": {},
   "source": [
    " "
   ]
  },
  {
   "cell_type": "markdown",
   "id": "9a9c3f72",
   "metadata": {},
   "source": [
    " "
   ]
  },
  {
   "cell_type": "markdown",
   "id": "410cca20",
   "metadata": {},
   "source": [
    " "
   ]
  },
  {
   "cell_type": "markdown",
   "id": "9aa72378",
   "metadata": {},
   "source": [
    " "
   ]
  },
  {
   "cell_type": "markdown",
   "id": "fc40ee5d",
   "metadata": {},
   "source": [
    " "
   ]
  }
 ],
 "metadata": {
  "kernelspec": {
   "display_name": "projects",
   "language": "python",
   "name": "projects"
  },
  "language_info": {
   "codemirror_mode": {
    "name": "ipython",
    "version": 3
   },
   "file_extension": ".py",
   "mimetype": "text/x-python",
   "name": "python",
   "nbconvert_exporter": "python",
   "pygments_lexer": "ipython3",
   "version": "3.11.6"
  }
 },
 "nbformat": 4,
 "nbformat_minor": 5
}
