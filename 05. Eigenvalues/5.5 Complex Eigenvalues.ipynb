{
 "cells": [
  {
   "cell_type": "markdown",
   "id": "a609ae62-a609-433c-8f9d-48436308d9b8",
   "metadata": {},
   "source": [
    " "
   ]
  },
  {
   "cell_type": "markdown",
   "id": "e5e9e410-27f4-4820-9a8a-201d38f997ed",
   "metadata": {},
   "source": [
    " "
   ]
  },
  {
   "cell_type": "markdown",
   "id": "ac83535b-7859-4cbe-bcaa-ab5cfe66c733",
   "metadata": {},
   "source": [
    " "
   ]
  },
  {
   "cell_type": "markdown",
   "id": "9d483dc4-2cb4-49bf-b993-2b25fa7f4681",
   "metadata": {},
   "source": [
    " "
   ]
  },
  {
   "cell_type": "markdown",
   "id": "ae0bc65d-a51a-49eb-9bcb-c3b71d39bc48",
   "metadata": {},
   "source": [
    " "
   ]
  },
  {
   "cell_type": "code",
   "execution_count": 1,
   "id": "169a09cd-6ff2-4165-8684-a270024ea30b",
   "metadata": {},
   "outputs": [],
   "source": [
    "import numpy as np"
   ]
  },
  {
   "cell_type": "markdown",
   "id": "2148af12-72a8-4b4c-9b87-a9b1314e1f38",
   "metadata": {},
   "source": [
    " "
   ]
  },
  {
   "cell_type": "markdown",
   "id": "583e6b15-a9e0-455b-8ca0-1feabe0ae22f",
   "metadata": {},
   "source": [
    " "
   ]
  },
  {
   "cell_type": "markdown",
   "id": "16c96c5e-fed8-4860-844b-9901a4478353",
   "metadata": {},
   "source": [
    " "
   ]
  },
  {
   "cell_type": "markdown",
   "id": "837f1e33-5ab8-4cb7-86ef-d3029e25c588",
   "metadata": {},
   "source": [
    " "
   ]
  },
  {
   "cell_type": "markdown",
   "id": "a9b8b7f1-ab76-4d7d-ac6d-25a0f781bb7e",
   "metadata": {},
   "source": [
    "**Examples**"
   ]
  },
  {
   "cell_type": "code",
   "execution_count": 7,
   "id": "7f6364c2-421d-483e-a1d5-38bd7d6021a9",
   "metadata": {},
   "outputs": [
    {
     "name": "stdout",
     "output_type": "stream",
     "text": [
      "[[ 0.5  -0.6 ]\n",
      " [ 0.75  1.1 ]]\n"
     ]
    }
   ],
   "source": [
    "A = np.array(\n",
    "    [\n",
    "        [0.5, -0.6],\n",
    "        [0.75, 1.1]\n",
    "    ]\n",
    ")\n",
    "\n",
    "print(A)"
   ]
  },
  {
   "cell_type": "markdown",
   "id": "183e2ad7-b466-40cc-a973-a79ee44faa2f",
   "metadata": {},
   "source": [
    " "
   ]
  },
  {
   "cell_type": "markdown",
   "id": "ce047ed7-6438-4318-b720-d764054c9864",
   "metadata": {},
   "source": [
    " "
   ]
  },
  {
   "cell_type": "code",
   "execution_count": 18,
   "id": "b75f8d86-5a4c-4c69-9b5e-54d4d64d37a7",
   "metadata": {},
   "outputs": [
    {
     "data": {
      "image/png": "[encoded data removed]",
      "text/plain": [
       "<Figure size 640x480 with 1 Axes>"
      ]
     },
     "metadata": {},
     "output_type": "display_data"
    }
   ],
   "source": [
    "import matplotlib.pyplot as plt\n",
    "\n",
    "x = np.array([2, 0]).reshape(-1, 1)\n",
    "\n",
    "points = x\n",
    "for _ in range(100):\n",
    "    x = A @ x\n",
    "    points = np.concatenate([points, x.reshape(-1, 1)], axis=1)\n",
    "\n",
    "x = points[0, :]\n",
    "y = points[1, :]\n",
    "\n",
    "plt.scatter(x, y);"
   ]
  },
  {
   "cell_type": "markdown",
   "id": "ad5e604f-5d4c-4083-a6cc-6b9958607234",
   "metadata": {},
   "source": [
    " "
   ]
  },
  {
   "cell_type": "markdown",
   "id": "571a4328-f56b-4d13-bfba-c2f72746b251",
   "metadata": {},
   "source": [
    " "
   ]
  },
  {
   "cell_type": "markdown",
   "id": "557a8c63-abcc-416f-9f5d-2a4e657c10d7",
   "metadata": {},
   "source": [
    " "
   ]
  },
  {
   "cell_type": "markdown",
   "id": "89752923-d02a-44a1-acc5-9bfdddcfda8f",
   "metadata": {},
   "source": [
    " "
   ]
  },
  {
   "cell_type": "markdown",
   "id": "d43500ac-98c8-4f4d-be56-10201e157e90",
   "metadata": {},
   "source": [
    " "
   ]
  },
  {
   "cell_type": "markdown",
   "id": "cc7032f2-a2e3-4d10-8112-1260cd7660fd",
   "metadata": {},
   "source": [
    " "
   ]
  },
  {
   "cell_type": "markdown",
   "id": "8a94e4ef-35a8-4d8d-a7a5-43e171f4027c",
   "metadata": {},
   "source": [
    " "
   ]
  },
  {
   "cell_type": "markdown",
   "id": "6d27f812-fa4c-43f5-b586-b59ea4f51748",
   "metadata": {},
   "source": [
    " "
   ]
  },
  {
   "cell_type": "markdown",
   "id": "f724ac9f-d201-442d-a513-569c209786d7",
   "metadata": {},
   "source": [
    " "
   ]
  },
  {
   "cell_type": "markdown",
   "id": "06b5d50a-e2a1-465f-80d9-363c65b55080",
   "metadata": {},
   "source": [
    " "
   ]
  },
  {
   "cell_type": "markdown",
   "id": "3213858e-1d96-4e3f-a1fc-ee7fbb77553e",
   "metadata": {},
   "source": [
    " "
   ]
  },
  {
   "cell_type": "markdown",
   "id": "7939f105-d31a-4196-9469-615e0a88824d",
   "metadata": {},
   "source": [
    " "
   ]
  },
  {
   "cell_type": "markdown",
   "id": "85e03ca0-ee6e-4210-9237-2824edda8dda",
   "metadata": {},
   "source": [
    " "
   ]
  },
  {
   "cell_type": "markdown",
   "id": "5c7e29c2-f785-4e19-8e46-234b2a1ec8b6",
   "metadata": {},
   "source": [
    " "
   ]
  },
  {
   "cell_type": "markdown",
   "id": "b384e67d-1555-45c8-be6c-bd04b7d19d43",
   "metadata": {},
   "source": [
    " "
   ]
  },
  {
   "cell_type": "markdown",
   "id": "f7a32fef-4d8e-44fc-9ed3-8ecaa5491d9c",
   "metadata": {},
   "source": [
    " "
   ]
  },
  {
   "cell_type": "markdown",
   "id": "cc57d55a-ff3b-43e0-8f01-5c58431a95cf",
   "metadata": {},
   "source": [
    " "
   ]
  },
  {
   "cell_type": "markdown",
   "id": "68d72d82-d7d5-4888-8e9a-ec8abc87fa3a",
   "metadata": {},
   "source": [
    " "
   ]
  },
  {
   "cell_type": "markdown",
   "id": "5f6d9054-97da-424f-a95b-b9a870d7a7b3",
   "metadata": {},
   "source": [
    " "
   ]
  },
  {
   "cell_type": "markdown",
   "id": "b4defa89-0f28-4027-9848-4b69ebfe0820",
   "metadata": {},
   "source": [
    " "
   ]
  },
  {
   "cell_type": "markdown",
   "id": "4c634bb4-c873-4b68-8648-78170dedbecb",
   "metadata": {},
   "source": [
    " "
   ]
  },
  {
   "cell_type": "markdown",
   "id": "10ba3099-9cb1-4743-b7cc-14323cd3b39b",
   "metadata": {},
   "source": [
    " "
   ]
  },
  {
   "cell_type": "markdown",
   "id": "13322000-4bcf-4ba4-adef-81e35ac18d22",
   "metadata": {},
   "source": [
    " "
   ]
  },
  {
   "cell_type": "markdown",
   "id": "51b49259-1147-4788-90d6-ca5a5f161975",
   "metadata": {},
   "source": [
    " "
   ]
  },
  {
   "cell_type": "markdown",
   "id": "55be33a6-86d2-451c-a373-0cbccaeead3d",
   "metadata": {},
   "source": [
    " "
   ]
  },
  {
   "cell_type": "markdown",
   "id": "d213150a-350d-4e83-81a7-f8ec34303685",
   "metadata": {},
   "source": [
    " "
   ]
  },
  {
   "cell_type": "markdown",
   "id": "64cadbd8-c811-4247-91b4-64356d25f6e3",
   "metadata": {},
   "source": [
    " "
   ]
  },
  {
   "cell_type": "markdown",
   "id": "e9ff1324-2824-41e4-b5b3-a67361eaffa7",
   "metadata": {},
   "source": [
    " "
   ]
  },
  {
   "cell_type": "markdown",
   "id": "c99de326-a030-4ac8-8eba-9153104df4d2",
   "metadata": {},
   "source": [
    " "
   ]
  },
  {
   "cell_type": "markdown",
   "id": "061a2623-dc1c-48ff-a476-9a97172b2b2a",
   "metadata": {},
   "source": [
    " "
   ]
  },
  {
   "cell_type": "markdown",
   "id": "a7a79e18-e609-4be0-bc8b-d056d1e018bf",
   "metadata": {},
   "source": [
    " "
   ]
  },
  {
   "cell_type": "markdown",
   "id": "bf671259-281a-4c10-b90f-a0cce1d4e06f",
   "metadata": {},
   "source": [
    " "
   ]
  },
  {
   "cell_type": "markdown",
   "id": "35153ff4-5293-466d-a08c-3ec61bbe9c62",
   "metadata": {},
   "source": [
    " "
   ]
  }
 ],
 "metadata": {
  "kernelspec": {
   "display_name": "projects",
   "language": "python",
   "name": "projects"
  },
  "language_info": {
   "codemirror_mode": {
    "name": "ipython",
    "version": 3
   },
   "file_extension": ".py",
   "mimetype": "text/x-python",
   "name": "python",
   "nbconvert_exporter": "python",
   "pygments_lexer": "ipython3",
   "version": "3.11.6"
  }
 },
 "nbformat": 4,
 "nbformat_minor": 5
}
