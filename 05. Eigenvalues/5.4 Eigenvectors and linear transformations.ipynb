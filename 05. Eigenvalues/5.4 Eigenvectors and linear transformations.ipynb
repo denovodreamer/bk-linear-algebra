{
 "cells": [
  {
   "cell_type": "markdown",
   "id": "e9cf7b40-4cd7-45b1-b690-3a12ebcfbd76",
   "metadata": {},
   "source": [
    " "
   ]
  },
  {
   "cell_type": "markdown",
   "id": "242bb0e5-52d8-4278-a952-db04a95f140c",
   "metadata": {},
   "source": [
    " "
   ]
  },
  {
   "cell_type": "markdown",
   "id": "fa653607-a3be-4ed8-9749-1fd5bd7f0f20",
   "metadata": {},
   "source": [
    " "
   ]
  },
  {
   "cell_type": "markdown",
   "id": "50b16805-893c-4ac6-bb05-ec02e05975d3",
   "metadata": {},
   "source": [
    " "
   ]
  },
  {
   "cell_type": "code",
   "execution_count": 1,
   "id": "5f59e848-5ff4-4daa-ab08-7aa4a66366fe",
   "metadata": {},
   "outputs": [],
   "source": [
    "import numpy as np"
   ]
  },
  {
   "cell_type": "markdown",
   "id": "a0e2029d-806a-4e61-be77-9d6a40a902ef",
   "metadata": {},
   "source": [
    " "
   ]
  },
  {
   "cell_type": "markdown",
   "id": "93525939-555c-4c16-9d51-e513335898d1",
   "metadata": {},
   "source": [
    " "
   ]
  },
  {
   "cell_type": "markdown",
   "id": "974c52ea-5aa0-42a5-b1e4-0184f5cafd59",
   "metadata": {},
   "source": [
    " "
   ]
  },
  {
   "cell_type": "markdown",
   "id": "8499871b-7afe-4719-848f-9762af67b319",
   "metadata": {},
   "source": [
    " "
   ]
  },
  {
   "cell_type": "markdown",
   "id": "5bd12e8a-921f-43a4-8865-662f5b2beab6",
   "metadata": {},
   "source": [
    " "
   ]
  },
  {
   "cell_type": "markdown",
   "id": "1ba92e9d-27a7-457a-923d-547d94ae3803",
   "metadata": {},
   "source": [
    " "
   ]
  },
  {
   "cell_type": "markdown",
   "id": "c7a107f3-7aa2-40c2-8f3e-d7c54a57670b",
   "metadata": {},
   "source": [
    " "
   ]
  },
  {
   "cell_type": "markdown",
   "id": "28203d41-9bb0-454b-bd60-82e40e943e63",
   "metadata": {},
   "source": [
    " "
   ]
  },
  {
   "cell_type": "markdown",
   "id": "d003f189-4594-4d7c-9e19-0def02f6f7a9",
   "metadata": {},
   "source": [
    "**30.**"
   ]
  },
  {
   "cell_type": "code",
   "execution_count": 5,
   "id": "f0e50cf6-4b7d-4c8b-8d36-8fcc5397ec56",
   "metadata": {},
   "outputs": [
    {
     "name": "stdout",
     "output_type": "stream",
     "text": [
      "[[-1 -1 -1]\n",
      " [-2 -1 -2]\n",
      " [ 1  1  0]]\n",
      "\n",
      "[[ 2. -1.  1.]\n",
      " [-2.  1. -0.]\n",
      " [-1. -0. -1.]]\n"
     ]
    }
   ],
   "source": [
    "A = np.array(\n",
    "    [\n",
    "        [-14, 4, -14],\n",
    "        [-33, 9, -31],\n",
    "        [11, -4, 11],\n",
    "    ]\n",
    ")\n",
    "\n",
    "b1 = np.array([-1, -2, 1]).reshape(-1, 1)\n",
    "b2 = np.array([-1, -1, 1]).reshape(-1, 1)\n",
    "b3 = np.array([-1, -2, 0]).reshape(-1, 1)\n",
    "\n",
    "P = np.column_stack([b1, b2, b3])\n",
    "P_inv = np.linalg.inv(P)\n",
    "print(P)\n",
    "print()\n",
    "print(P_inv)"
   ]
  },
  {
   "cell_type": "markdown",
   "id": "ce5d95f1-999a-4335-953b-4c2efbe9aea0",
   "metadata": {},
   "source": [
    " "
   ]
  },
  {
   "cell_type": "markdown",
   "id": "2a3e1be8-2d23-4650-a4b5-96ac4cddac67",
   "metadata": {},
   "source": [
    " "
   ]
  },
  {
   "cell_type": "code",
   "execution_count": 7,
   "id": "5e1b6757-d419-4739-bdb3-ae2ae17ee9e1",
   "metadata": {},
   "outputs": [
    {
     "name": "stdout",
     "output_type": "stream",
     "text": [
      "[[ 8.  3. -6.]\n",
      " [ 0.  1.  3.]\n",
      " [ 0.  0. -3.]]\n"
     ]
    }
   ],
   "source": [
    "C = P_inv @ A @ P\n",
    "print(C)"
   ]
  },
  {
   "cell_type": "markdown",
   "id": "32d07d0c-545b-413d-aa2b-786bf295c182",
   "metadata": {},
   "source": [
    " "
   ]
  },
  {
   "cell_type": "markdown",
   "id": "84f68677-32dd-41cb-88ad-75826e59f5cb",
   "metadata": {},
   "source": [
    " "
   ]
  },
  {
   "cell_type": "markdown",
   "id": "19957e8a-3bc4-4a8d-af77-74222dd3b2f8",
   "metadata": {},
   "source": [
    " "
   ]
  },
  {
   "cell_type": "markdown",
   "id": "d35d8ed0-eee3-42f2-b461-60a6059afb53",
   "metadata": {},
   "source": [
    " "
   ]
  },
  {
   "cell_type": "markdown",
   "id": "3cb4650e-73fd-4656-b6c7-383a0bb7b8d3",
   "metadata": {},
   "source": [
    " "
   ]
  },
  {
   "cell_type": "markdown",
   "id": "474e5881-7502-452b-a04c-3b30f3c0f60f",
   "metadata": {},
   "source": [
    " "
   ]
  },
  {
   "cell_type": "markdown",
   "id": "2e56085b-4d45-41a4-8d88-91c46e5aaa62",
   "metadata": {},
   "source": [
    " "
   ]
  },
  {
   "cell_type": "markdown",
   "id": "f6f3d707-11e0-41be-b6a3-f1bda15677e3",
   "metadata": {},
   "source": [
    "**32.**"
   ]
  },
  {
   "cell_type": "code",
   "execution_count": 8,
   "id": "b09e7900-5a21-4d42-96d0-78318229cddc",
   "metadata": {},
   "outputs": [
    {
     "name": "stdout",
     "output_type": "stream",
     "text": [
      "[[ 15 -66 -44 -33]\n",
      " [  0  13  21 -15]\n",
      " [  1 -15 -21  12]\n",
      " [  2 -18 -22   8]]\n"
     ]
    }
   ],
   "source": [
    "A = np.array(\n",
    "    [\n",
    "        [15, -66, -44, -33],\n",
    "        [0, 13, 21, -15],\n",
    "        [1, -15, -21, 12],\n",
    "        [2, -18, -22, 8],\n",
    "    ]\n",
    ")\n",
    "\n",
    "print(A)"
   ]
  },
  {
   "cell_type": "markdown",
   "id": "bdb1cc8b-7a47-4990-b96f-cf126a31c97c",
   "metadata": {},
   "source": [
    " "
   ]
  },
  {
   "cell_type": "markdown",
   "id": "ea02641e-b41f-459a-8277-32f2419ab547",
   "metadata": {},
   "source": [
    " "
   ]
  },
  {
   "cell_type": "code",
   "execution_count": 13,
   "id": "b82f68b7-6cb4-4720-8ef9-5155313b1885",
   "metadata": {},
   "outputs": [
    {
     "name": "stdout",
     "output_type": "stream",
     "text": [
      "[2. 5. 4. 4.]\n",
      "\n",
      "[[-0.   -0.86  0.74 -0.98]\n",
      " [-0.64  0.24 -0.35 -0.02]\n",
      " [ 0.64 -0.31  0.43 -0.1 ]\n",
      " [ 0.43 -0.31  0.39 -0.15]]\n"
     ]
    }
   ],
   "source": [
    "eigenvalues, eigenvectors = np.linalg.eig(A)\n",
    "\n",
    "print(eigenvalues)\n",
    "print()\n",
    "print(eigenvectors.round(2))"
   ]
  },
  {
   "cell_type": "markdown",
   "id": "ab076936-8d3a-4ef3-ac41-cffc7ef481b2",
   "metadata": {},
   "source": [
    " "
   ]
  },
  {
   "cell_type": "markdown",
   "id": "dddfc90b-680f-4d86-95fb-56b064d33eba",
   "metadata": {},
   "source": [
    " "
   ]
  },
  {
   "cell_type": "code",
   "execution_count": 15,
   "id": "372e6edd-da12-4a7c-aad7-ec96da95f568",
   "metadata": {},
   "outputs": [
    {
     "name": "stdout",
     "output_type": "stream",
     "text": [
      "[[ 2. -0.  0.  0.]\n",
      " [-0.  5. -0.  0.]\n",
      " [-0.  0.  4. -0.]\n",
      " [-0. -0. -0.  4.]]\n"
     ]
    }
   ],
   "source": [
    "P = eigenvectors.copy()\n",
    "P_inv = np.linalg.inv(P)\n",
    "\n",
    "D = P_inv @ A @ P\n",
    "\n",
    "print(D.round(2))"
   ]
  },
  {
   "cell_type": "markdown",
   "id": "3ea63fdd-5b0b-4afa-b17b-62879dd3d09a",
   "metadata": {},
   "source": [
    " "
   ]
  },
  {
   "cell_type": "markdown",
   "id": "b42f8187-9ce6-452b-88fa-d454b2d00b0e",
   "metadata": {},
   "source": [
    " "
   ]
  },
  {
   "cell_type": "markdown",
   "id": "42c2180a-ea3d-484d-9650-4c9398ed9e6d",
   "metadata": {},
   "source": [
    " "
   ]
  },
  {
   "cell_type": "markdown",
   "id": "eda60486-e01f-4f12-8be2-c32eab9b6868",
   "metadata": {},
   "source": [
    " "
   ]
  },
  {
   "cell_type": "markdown",
   "id": "7fe6e5b5-c068-484a-b0aa-9bb953201509",
   "metadata": {},
   "source": [
    " "
   ]
  },
  {
   "cell_type": "markdown",
   "id": "4a852942-ea80-4215-a3f4-473b3641ce2a",
   "metadata": {},
   "source": [
    " "
   ]
  },
  {
   "cell_type": "markdown",
   "id": "8c9470c6-f3f1-4516-8f31-79b0fe3fff9c",
   "metadata": {},
   "source": [
    " "
   ]
  },
  {
   "cell_type": "markdown",
   "id": "67737d8b-875b-4d23-9568-240c53070ac8",
   "metadata": {},
   "source": [
    " "
   ]
  },
  {
   "cell_type": "markdown",
   "id": "9bc8def2-a4e3-4e8a-9c10-f3f996852b88",
   "metadata": {},
   "source": [
    " "
   ]
  },
  {
   "cell_type": "markdown",
   "id": "90619872-d168-4579-84f7-779951a03b8a",
   "metadata": {},
   "source": [
    " "
   ]
  },
  {
   "cell_type": "markdown",
   "id": "59248ee4-fe4b-4920-9251-05d93838daf6",
   "metadata": {},
   "source": [
    " "
   ]
  },
  {
   "cell_type": "markdown",
   "id": "86eb4f64-a29a-4eb3-8e86-718fb794ef71",
   "metadata": {},
   "source": [
    " "
   ]
  },
  {
   "cell_type": "markdown",
   "id": "0d121002-4e5f-4333-82b2-69801cb1459b",
   "metadata": {},
   "source": [
    " "
   ]
  },
  {
   "cell_type": "markdown",
   "id": "0242a76d-6090-441f-ae5e-1620d79af639",
   "metadata": {},
   "source": [
    " "
   ]
  },
  {
   "cell_type": "markdown",
   "id": "c3157cc0-2dc0-4772-bce4-31e1e2ccbec1",
   "metadata": {},
   "source": [
    " "
   ]
  },
  {
   "cell_type": "markdown",
   "id": "422f0027-39da-42df-a717-0c2abccc8ce5",
   "metadata": {},
   "source": [
    " "
   ]
  },
  {
   "cell_type": "markdown",
   "id": "04c96a69-b68d-4109-95f5-b4df76f6ec0d",
   "metadata": {},
   "source": [
    " "
   ]
  },
  {
   "cell_type": "markdown",
   "id": "92512155-b577-4858-97e9-27b0817031d3",
   "metadata": {},
   "source": [
    " "
   ]
  },
  {
   "cell_type": "markdown",
   "id": "04ffe241-2f88-4e3d-9cdf-dc541e78d037",
   "metadata": {},
   "source": [
    " "
   ]
  },
  {
   "cell_type": "markdown",
   "id": "1c1159df-0dd8-47a3-a1a9-9428df55165c",
   "metadata": {},
   "source": [
    " "
   ]
  },
  {
   "cell_type": "markdown",
   "id": "6d412143-c6a4-4d6c-8722-7e0b67e8cb87",
   "metadata": {},
   "source": [
    " "
   ]
  }
 ],
 "metadata": {
  "kernelspec": {
   "display_name": "projects",
   "language": "python",
   "name": "projects"
  },
  "language_info": {
   "codemirror_mode": {
    "name": "ipython",
    "version": 3
   },
   "file_extension": ".py",
   "mimetype": "text/x-python",
   "name": "python",
   "nbconvert_exporter": "python",
   "pygments_lexer": "ipython3",
   "version": "3.11.6"
  }
 },
 "nbformat": 4,
 "nbformat_minor": 5
}
