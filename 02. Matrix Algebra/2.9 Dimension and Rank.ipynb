{
 "cells": [
  {
   "cell_type": "markdown",
   "id": "d0d7b1fe-fbd4-43d8-967f-85038117c7dc",
   "metadata": {},
   "source": [
    " "
   ]
  },
  {
   "cell_type": "markdown",
   "id": "d9327113-e6e8-490d-9dae-83d4745411ba",
   "metadata": {},
   "source": [
    " "
   ]
  },
  {
   "cell_type": "markdown",
   "id": "336c4f7f-f4ee-4448-9f80-6322e66f4c42",
   "metadata": {},
   "source": [
    " "
   ]
  },
  {
   "cell_type": "markdown",
   "id": "d82a0634-1a74-481b-8f99-aa4868a766df",
   "metadata": {},
   "source": [
    " "
   ]
  },
  {
   "cell_type": "markdown",
   "id": "2ecb8c28-255c-4661-a072-b036c110f763",
   "metadata": {},
   "source": [
    " "
   ]
  },
  {
   "cell_type": "code",
   "execution_count": 18,
   "id": "2990b72c-cd67-4ccd-8cc0-4d62a6d8a39a",
   "metadata": {},
   "outputs": [],
   "source": [
    "import numpy as np\n",
    "from sympy import Matrix"
   ]
  },
  {
   "cell_type": "markdown",
   "id": "a9c3ff49-64a1-403a-8c99-2aba9b5716e5",
   "metadata": {},
   "source": [
    " "
   ]
  },
  {
   "cell_type": "markdown",
   "id": "fb33e190-f567-4211-8b52-7e491b3a10f4",
   "metadata": {},
   "source": [
    " "
   ]
  },
  {
   "cell_type": "markdown",
   "id": "1c00b77b-8983-461f-98e8-2ce51bbf45d1",
   "metadata": {},
   "source": [
    " "
   ]
  },
  {
   "cell_type": "markdown",
   "id": "2d9e543b-63dd-4f54-a706-37ba1d871645",
   "metadata": {},
   "source": [
    " "
   ]
  },
  {
   "cell_type": "markdown",
   "id": "7d2e3f9f-50eb-46ba-b40c-e97cd3fa5101",
   "metadata": {},
   "source": [
    " "
   ]
  },
  {
   "cell_type": "markdown",
   "id": "cf864eb6-f43d-4833-bd85-133873e18f10",
   "metadata": {},
   "source": [
    " "
   ]
  },
  {
   "cell_type": "markdown",
   "id": "8762df88-97b3-46c1-9157-f4b882403b10",
   "metadata": {},
   "source": [
    " "
   ]
  },
  {
   "cell_type": "markdown",
   "id": "7c9b3db3-66ac-431f-8580-cd2d45f62809",
   "metadata": {},
   "source": [
    "29."
   ]
  },
  {
   "cell_type": "code",
   "execution_count": 13,
   "id": "27a9585d-4ade-46b4-948c-ac5bda0e7bb3",
   "metadata": {},
   "outputs": [],
   "source": [
    "v_1 = np.array([11, -5, 10, 7])\n",
    "v_2 = np.array([14, -8, 13, 10])\n",
    "x = np.array([19, -13, 18, 15])"
   ]
  },
  {
   "cell_type": "markdown",
   "id": "3aa536c5-92f1-4fd7-ade4-b2b2e5092495",
   "metadata": {},
   "source": [
    " "
   ]
  },
  {
   "cell_type": "markdown",
   "id": "219d2bf4-fd5f-46aa-8387-1343477d7a2b",
   "metadata": {},
   "source": [
    " "
   ]
  },
  {
   "cell_type": "markdown",
   "id": "99a4dd2e-4543-4910-bccb-b52944aa2496",
   "metadata": {},
   "source": [
    " "
   ]
  },
  {
   "cell_type": "markdown",
   "id": "8aaa4417-84bb-4a06-a455-b91bd17fa7b7",
   "metadata": {},
   "source": [
    " "
   ]
  },
  {
   "cell_type": "code",
   "execution_count": 20,
   "id": "ae0d479d-8a73-4a6b-8e75-1d3f17e8b18e",
   "metadata": {},
   "outputs": [
    {
     "data": {
      "text/latex": [
       "$\\displaystyle \\left[\\begin{matrix}1 & 0 & - \\frac{5}{3}\\\\0 & 1 & \\frac{8}{3}\\\\0 & 0 & 0\\\\0 & 0 & 0\\end{matrix}\\right]$"
      ],
      "text/plain": [
       "Matrix([\n",
       "[1, 0, -5/3],\n",
       "[0, 1,  8/3],\n",
       "[0, 0,    0],\n",
       "[0, 0,    0]])"
      ]
     },
     "execution_count": 20,
     "metadata": {},
     "output_type": "execute_result"
    }
   ],
   "source": [
    "B = np.array([v_1, v_2, x]).transpose()\n",
    "Matrix(B).rref()[0]"
   ]
  },
  {
   "cell_type": "markdown",
   "id": "1b6ef48d-eabd-4531-89bf-50f8fc89f34a",
   "metadata": {},
   "source": [
    " "
   ]
  },
  {
   "cell_type": "markdown",
   "id": "579678b4-b27e-41e4-b89d-d7c0686b04bf",
   "metadata": {},
   "source": [
    " "
   ]
  },
  {
   "cell_type": "markdown",
   "id": "324ad51f-544d-4227-8fab-aa8857e2647f",
   "metadata": {},
   "source": [
    " "
   ]
  },
  {
   "cell_type": "markdown",
   "id": "ac9193ea-a7c7-4ed6-a9f4-e73030884727",
   "metadata": {},
   "source": [
    " "
   ]
  },
  {
   "cell_type": "markdown",
   "id": "c8ce4f6a-6a73-4c9b-a283-83839bced004",
   "metadata": {},
   "source": [
    " "
   ]
  },
  {
   "cell_type": "markdown",
   "id": "8bccc42d-aff5-4d9b-b9d5-5f4c4617f3d1",
   "metadata": {},
   "source": [
    " "
   ]
  },
  {
   "cell_type": "markdown",
   "id": "c0ecf365-4076-4553-9fdb-7f3bb766944e",
   "metadata": {},
   "source": [
    " "
   ]
  },
  {
   "cell_type": "markdown",
   "id": "265ce2b2-6dff-420a-a356-4ac9cbafa3ff",
   "metadata": {},
   "source": [
    " "
   ]
  },
  {
   "cell_type": "markdown",
   "id": "2a1cb94f-80dd-43bc-bcc5-c49d81c8d1f7",
   "metadata": {},
   "source": [
    " "
   ]
  },
  {
   "cell_type": "markdown",
   "id": "92941701-287f-4167-9055-3d1983795da9",
   "metadata": {},
   "source": [
    " "
   ]
  },
  {
   "cell_type": "markdown",
   "id": "318d052e-a278-42e6-b2ab-eb080899f744",
   "metadata": {},
   "source": [
    " "
   ]
  },
  {
   "cell_type": "markdown",
   "id": "86080a65-ddd1-484a-8b57-a9fdc626b3e7",
   "metadata": {},
   "source": [
    " "
   ]
  },
  {
   "cell_type": "markdown",
   "id": "dddc2f9e-f38b-40dc-ac7c-705676fb0a7f",
   "metadata": {},
   "source": [
    " "
   ]
  },
  {
   "cell_type": "markdown",
   "id": "ad4087e2-d691-443a-a3d1-cf954fd94f7c",
   "metadata": {},
   "source": [
    " "
   ]
  },
  {
   "cell_type": "markdown",
   "id": "eb7c0294-e405-489b-9d5d-933bb82897ac",
   "metadata": {},
   "source": [
    " "
   ]
  },
  {
   "cell_type": "markdown",
   "id": "0ff30873-e4da-4dea-a2fd-ce3e334fa76d",
   "metadata": {},
   "source": [
    " "
   ]
  },
  {
   "cell_type": "markdown",
   "id": "6bf666c4-0da5-45a9-83c1-1a918a26f877",
   "metadata": {},
   "source": [
    " "
   ]
  },
  {
   "cell_type": "markdown",
   "id": "e0aeb608-f193-40f8-b6c0-40dfe8bbbbc8",
   "metadata": {},
   "source": [
    " "
   ]
  },
  {
   "cell_type": "markdown",
   "id": "54917e16-8640-4682-9edd-2edb269884eb",
   "metadata": {},
   "source": [
    " "
   ]
  },
  {
   "cell_type": "markdown",
   "id": "cbe7ffcc-4238-4bd0-b32b-b588a4bebbca",
   "metadata": {},
   "source": [
    " "
   ]
  },
  {
   "cell_type": "markdown",
   "id": "8a9d3dfa-de10-4593-904e-1d99c5aabf2e",
   "metadata": {},
   "source": [
    " "
   ]
  },
  {
   "cell_type": "markdown",
   "id": "f9dcd517-56c1-4b48-b324-712c48065d4c",
   "metadata": {},
   "source": [
    " "
   ]
  },
  {
   "cell_type": "markdown",
   "id": "e8b7c730-515e-4c83-aae0-908c17338f34",
   "metadata": {},
   "source": [
    " "
   ]
  },
  {
   "cell_type": "markdown",
   "id": "b1dc3f4e-4c0b-4274-bf4e-f3337125639b",
   "metadata": {},
   "source": [
    " "
   ]
  }
 ],
 "metadata": {
  "kernelspec": {
   "display_name": "projects",
   "language": "python",
   "name": "projects"
  },
  "language_info": {
   "codemirror_mode": {
    "name": "ipython",
    "version": 3
   },
   "file_extension": ".py",
   "mimetype": "text/x-python",
   "name": "python",
   "nbconvert_exporter": "python",
   "pygments_lexer": "ipython3",
   "version": "3.11.6"
  }
 },
 "nbformat": 4,
 "nbformat_minor": 5
}
