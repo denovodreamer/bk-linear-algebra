{
 "cells": [
  {
   "cell_type": "markdown",
   "id": "3d215433-d598-4617-b007-8e1626d33fd9",
   "metadata": {},
   "source": [
    " "
   ]
  },
  {
   "cell_type": "markdown",
   "id": "79c9df87-1739-4f22-a08b-2b1ff14be7de",
   "metadata": {},
   "source": [
    " "
   ]
  },
  {
   "cell_type": "markdown",
   "id": "12568c31-545e-4842-b1e9-21e1effd4db1",
   "metadata": {},
   "source": [
    " "
   ]
  },
  {
   "cell_type": "markdown",
   "id": "09623223-8b82-45f2-a1d6-d61f52fc96c8",
   "metadata": {},
   "source": [
    " "
   ]
  },
  {
   "cell_type": "markdown",
   "id": "f901a0dd-1b5a-487c-8797-1503bae9ed33",
   "metadata": {},
   "source": [
    " "
   ]
  },
  {
   "cell_type": "code",
   "execution_count": 1,
   "id": "55bb161c-51b2-43e2-83c4-42bbfa4871d8",
   "metadata": {},
   "outputs": [],
   "source": [
    "import numpy as np"
   ]
  },
  {
   "cell_type": "markdown",
   "id": "e78cb634-0ac8-4335-9922-e43033257112",
   "metadata": {},
   "source": [
    " "
   ]
  },
  {
   "cell_type": "markdown",
   "id": "0d6995f3-6e86-4312-9b27-ce0c058be40a",
   "metadata": {},
   "source": [
    " "
   ]
  },
  {
   "cell_type": "markdown",
   "id": "645ae8a6-4c19-4d9d-a03d-bdd290c58f39",
   "metadata": {},
   "source": [
    " "
   ]
  },
  {
   "cell_type": "markdown",
   "id": "423d9635-bd4e-42ca-bdcf-71ee680fcdd7",
   "metadata": {},
   "source": [
    "41."
   ]
  },
  {
   "cell_type": "markdown",
   "id": "ba3b9a1d-00f8-4f40-b560-897cb95e7f58",
   "metadata": {},
   "source": [
    " "
   ]
  },
  {
   "cell_type": "code",
   "execution_count": 4,
   "id": "cb551872-1b19-4234-9eca-0259c357bd2a",
   "metadata": {},
   "outputs": [
    {
     "name": "stdout",
     "output_type": "stream",
     "text": [
      "[[0.004  0.003  0.001  0.0005]\n",
      " [0.003  0.005  0.003  0.001 ]\n",
      " [0.001  0.003  0.005  0.003 ]\n",
      " [0.0005 0.001  0.003  0.004 ]]\n",
      "[0.08 0.12 0.16 0.12]\n"
     ]
    }
   ],
   "source": [
    "D = np.array(\n",
    "    [\n",
    "        [.0040, .0030, .0010, .0005],\n",
    "        [.0030, .0050, .0030, .0010],\n",
    "        [.0010, .0030, .0050, .0030],\n",
    "        [.0005, .0010, .0030, .0040]\n",
    "    ]\n",
    ")\n",
    "\n",
    "y = np.array([.08, .12, .16, .12])\n",
    "\n",
    "print(D)\n",
    "print(y)"
   ]
  },
  {
   "cell_type": "markdown",
   "id": "1e91f76e-526e-41bc-8ac4-545ee0e80aa3",
   "metadata": {},
   "source": [
    " "
   ]
  },
  {
   "cell_type": "markdown",
   "id": "9a507926-c88e-4471-9583-70cf4aabaed2",
   "metadata": {},
   "source": [
    " "
   ]
  },
  {
   "cell_type": "code",
   "execution_count": 5,
   "id": "fbf302eb-e124-481f-9049-084717eacdd5",
   "metadata": {},
   "outputs": [
    {
     "data": {
      "text/plain": [
       "5.999999999999988e-11"
      ]
     },
     "execution_count": 5,
     "metadata": {},
     "output_type": "execute_result"
    }
   ],
   "source": [
    "np.linalg.det(D)"
   ]
  },
  {
   "cell_type": "markdown",
   "id": "a2436d18-267a-48fe-8b66-b7b372c58de4",
   "metadata": {},
   "source": [
    " "
   ]
  },
  {
   "cell_type": "markdown",
   "id": "177c0801-51b3-4099-ac5f-a361e2feca3b",
   "metadata": {},
   "source": [
    " "
   ]
  },
  {
   "cell_type": "code",
   "execution_count": 7,
   "id": "dfb724e3-a792-4cac-8ff9-9761ad964bd1",
   "metadata": {},
   "outputs": [
    {
     "data": {
      "text/plain": [
       "array([12. ,  1.5, 21.5, 12. ])"
      ]
     },
     "execution_count": 7,
     "metadata": {},
     "output_type": "execute_result"
    }
   ],
   "source": [
    "np.linalg.inv(D) @ y"
   ]
  },
  {
   "cell_type": "markdown",
   "id": "6ef7b62a-5ae8-4f21-a65d-92253191dacb",
   "metadata": {},
   "source": [
    " "
   ]
  },
  {
   "cell_type": "markdown",
   "id": "d424dd2f-6b9a-498c-b283-f3fdc599c6cb",
   "metadata": {},
   "source": [
    " "
   ]
  },
  {
   "cell_type": "markdown",
   "id": "fe168e7f-04d8-406f-9ae9-cad810dc0aab",
   "metadata": {},
   "source": [
    " "
   ]
  },
  {
   "cell_type": "markdown",
   "id": "b5ce98c7-2e5d-4e33-b26d-f244bc5a7280",
   "metadata": {},
   "source": [
    " "
   ]
  },
  {
   "cell_type": "markdown",
   "id": "5763c95e-2564-45ba-a936-bd960c63647e",
   "metadata": {},
   "source": [
    " "
   ]
  },
  {
   "cell_type": "markdown",
   "id": "045f26b4-8516-4158-b9c2-2908c0d92021",
   "metadata": {},
   "source": [
    "42."
   ]
  },
  {
   "cell_type": "markdown",
   "id": "8b7ed647-fbdf-48c9-9812-c5c2812d52dc",
   "metadata": {},
   "source": [
    " "
   ]
  },
  {
   "cell_type": "code",
   "execution_count": 8,
   "id": "b5bdb62e-c4f9-4e32-a94d-0eb106a2d4d9",
   "metadata": {},
   "outputs": [
    {
     "data": {
      "text/plain": [
       "array([-104.,  167., -113.,   56.])"
      ]
     },
     "execution_count": 8,
     "metadata": {},
     "output_type": "execute_result"
    }
   ],
   "source": [
    "y = np.array([0, .24, 0, 0])\n",
    "\n",
    "np.linalg.inv(D) @ y"
   ]
  },
  {
   "cell_type": "markdown",
   "id": "e051f3aa-7aef-4807-85f9-487972320cfc",
   "metadata": {},
   "source": [
    " "
   ]
  },
  {
   "cell_type": "markdown",
   "id": "f8468694-a52c-4fe6-aecf-28bae2abe2f2",
   "metadata": {},
   "source": [
    " "
   ]
  },
  {
   "cell_type": "markdown",
   "id": "86bbf9bb-baa6-45b8-9a27-e143d358cbe1",
   "metadata": {},
   "source": [
    " "
   ]
  },
  {
   "cell_type": "code",
   "execution_count": 10,
   "id": "39544f9b-3717-4d0f-992b-eb296e57fe5e",
   "metadata": {},
   "outputs": [
    {
     "data": {
      "text/plain": [
       "array([[ 533.33333333, -433.33333333,  233.33333333, -133.33333333],\n",
       "       [-433.33333333,  695.83333333, -470.83333333,  233.33333333],\n",
       "       [ 233.33333333, -470.83333333,  695.83333333, -433.33333333],\n",
       "       [-133.33333333,  233.33333333, -433.33333333,  533.33333333]])"
      ]
     },
     "execution_count": 10,
     "metadata": {},
     "output_type": "execute_result"
    }
   ],
   "source": [
    "np.linalg.inv(D)"
   ]
  },
  {
   "cell_type": "markdown",
   "id": "c895f37a-0924-407d-8310-48b9349b0155",
   "metadata": {},
   "source": [
    " "
   ]
  },
  {
   "cell_type": "markdown",
   "id": "84ebfe6e-3df0-4a2b-be79-7846e1d94622",
   "metadata": {},
   "source": [
    " "
   ]
  },
  {
   "cell_type": "markdown",
   "id": "414cdc2a-a012-4d83-ada2-8f9b8ab45f22",
   "metadata": {},
   "source": [
    " "
   ]
  },
  {
   "cell_type": "markdown",
   "id": "ba832630-ffdf-4177-81aa-b6b600d70f6a",
   "metadata": {},
   "source": [
    " "
   ]
  },
  {
   "cell_type": "markdown",
   "id": "d2e2a8f2-aec7-491c-9c8e-9773e2960516",
   "metadata": {},
   "source": [
    " "
   ]
  },
  {
   "cell_type": "markdown",
   "id": "4651bd80-ffc0-43a5-ab17-6f84bf17e43c",
   "metadata": {},
   "source": [
    " "
   ]
  },
  {
   "cell_type": "markdown",
   "id": "245a0c28-e84c-4dfd-95ee-e0592d4c8b9c",
   "metadata": {},
   "source": [
    " "
   ]
  },
  {
   "cell_type": "markdown",
   "id": "e4f709d8-ae03-4ef6-8593-1779bf0cc3db",
   "metadata": {},
   "source": [
    " "
   ]
  },
  {
   "cell_type": "markdown",
   "id": "4694d396-c8a7-45fa-bde4-6bd03eeb272e",
   "metadata": {},
   "source": [
    " "
   ]
  },
  {
   "cell_type": "markdown",
   "id": "df6eec64-97bd-4d36-a521-e535943ba762",
   "metadata": {},
   "source": [
    " "
   ]
  },
  {
   "cell_type": "markdown",
   "id": "526b783c-0a23-4856-9669-7a7c3bfccaae",
   "metadata": {},
   "source": [
    " "
   ]
  },
  {
   "cell_type": "markdown",
   "id": "c2176eb6-6d4b-4be5-a8b5-9c1e6ac0db14",
   "metadata": {},
   "source": [
    " "
   ]
  }
 ],
 "metadata": {
  "kernelspec": {
   "display_name": "Python 3 (ipykernel)",
   "language": "python",
   "name": "python3"
  },
  "language_info": {
   "codemirror_mode": {
    "name": "ipython",
    "version": 3
   },
   "file_extension": ".py",
   "mimetype": "text/x-python",
   "name": "python",
   "nbconvert_exporter": "python",
   "pygments_lexer": "ipython3",
   "version": "3.9.6"
  }
 },
 "nbformat": 4,
 "nbformat_minor": 5
}
