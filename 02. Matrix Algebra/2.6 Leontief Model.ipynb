{
 "cells": [
  {
   "cell_type": "markdown",
   "id": "f6d7c8ae-7f85-413c-a15f-1bb2be091907",
   "metadata": {},
   "source": [
    "  "
   ]
  },
  {
   "cell_type": "markdown",
   "id": "50a85760-66c1-45a0-903c-26f8cbdbd675",
   "metadata": {},
   "source": [
    "  "
   ]
  },
  {
   "cell_type": "markdown",
   "id": "8e4da813-ff25-474f-80b7-cc84c8bd5d6b",
   "metadata": {},
   "source": [
    "  "
   ]
  },
  {
   "cell_type": "markdown",
   "id": "ac22afd3-9392-4391-9fff-64200c9f27a8",
   "metadata": {},
   "source": [
    "  "
   ]
  },
  {
   "cell_type": "markdown",
   "id": "c208c8af-2f79-46b8-9808-82a28fad238e",
   "metadata": {},
   "source": [
    "  "
   ]
  },
  {
   "cell_type": "code",
   "execution_count": 1,
   "id": "7b447998-7ca3-482a-84d3-23f4154a6d44",
   "metadata": {},
   "outputs": [],
   "source": [
    "import numpy as np"
   ]
  },
  {
   "cell_type": "markdown",
   "id": "85a6bf5a-6ee3-4406-98cb-8d3f8525abee",
   "metadata": {},
   "source": [
    "  "
   ]
  },
  {
   "cell_type": "markdown",
   "id": "07f3f298-d08b-4dba-99f7-c107f7c30b0f",
   "metadata": {},
   "source": [
    "  "
   ]
  },
  {
   "cell_type": "markdown",
   "id": "6b5f0752-0285-481f-b2bc-7da9f76fbd60",
   "metadata": {},
   "source": [
    "  "
   ]
  },
  {
   "cell_type": "markdown",
   "id": "b373a84c-7705-43d3-ab55-1a94aed2cf26",
   "metadata": {},
   "source": [
    "  "
   ]
  },
  {
   "cell_type": "markdown",
   "id": "2b24d9a2-5c25-41de-9c8d-13fb88fd907d",
   "metadata": {},
   "source": [
    "  "
   ]
  },
  {
   "cell_type": "markdown",
   "id": "539f8cd5-c9c7-423d-a248-315314ad48b2",
   "metadata": {},
   "source": [
    "  "
   ]
  },
  {
   "cell_type": "markdown",
   "id": "29500a6b-74ce-4bb7-a50f-9a83d36cc152",
   "metadata": {},
   "source": [
    "  "
   ]
  },
  {
   "cell_type": "markdown",
   "id": "3fd30baa-daef-42d5-8799-0221515fcb2f",
   "metadata": {},
   "source": [
    "  "
   ]
  },
  {
   "cell_type": "markdown",
   "id": "76965a34-5b12-4caa-b279-683df97b4c3b",
   "metadata": {},
   "source": [
    "Practice Problem"
   ]
  },
  {
   "cell_type": "markdown",
   "id": "bd7ca097-72bd-4581-8fbb-09bd80c97f66",
   "metadata": {},
   "source": [
    "  "
   ]
  },
  {
   "cell_type": "code",
   "execution_count": 20,
   "id": "8b4229bf-b11c-4a1e-a0f6-4f8114378d4f",
   "metadata": {},
   "outputs": [
    {
     "name": "stdout",
     "output_type": "stream",
     "text": [
      "[[0.5 0.4 0.2]\n",
      " [0.2 0.3 0.1]\n",
      " [0.1 0.1 0.3]]\n"
     ]
    }
   ],
   "source": [
    "d = np.array([50, 30, 20])\n",
    "\n",
    "C = np.array(\n",
    "    [[0.5, 0.4, 0.2],\n",
    "     [0.2, 0.3, 0.1],\n",
    "     [0.1, 0.1, 0.3]]\n",
    ")\n",
    "\n",
    "print(C)"
   ]
  },
  {
   "cell_type": "markdown",
   "id": "d5adbb33-3941-4133-a746-8877c03fa071",
   "metadata": {},
   "source": [
    "  "
   ]
  },
  {
   "cell_type": "markdown",
   "id": "2b165389-d6ee-4404-9919-b20cf4a4f2b2",
   "metadata": {},
   "source": [
    "  "
   ]
  },
  {
   "cell_type": "code",
   "execution_count": 21,
   "id": "6103d012-025c-48f5-829c-1e34442542fb",
   "metadata": {},
   "outputs": [
    {
     "name": "stdout",
     "output_type": "stream",
     "text": [
      "[[33.33333333]\n",
      " [66.66666667]\n",
      " [33.33333333]]\n"
     ]
    }
   ],
   "source": [
    "x = np.linalg.inv(C) @ d\n",
    "print(x.reshape(-1, 1))"
   ]
  },
  {
   "cell_type": "markdown",
   "id": "c7f88b11-90f6-48f7-98f0-32eee89bdb6e",
   "metadata": {},
   "source": [
    "  "
   ]
  },
  {
   "cell_type": "markdown",
   "id": "7ab4fef0-2ffe-43ab-b8de-10d55130bd7c",
   "metadata": {},
   "source": [
    "  "
   ]
  },
  {
   "cell_type": "markdown",
   "id": "fad4d377-3070-4091-b2d2-570f14a10513",
   "metadata": {},
   "source": [
    "  "
   ]
  },
  {
   "cell_type": "code",
   "execution_count": 19,
   "id": "0197f9e0-fc5e-4700-9840-9cd08571d17e",
   "metadata": {},
   "outputs": [
    {
     "data": {
      "text/plain": [
       "array([[22.85714286],\n",
       "       [-1.42857143]])"
      ]
     },
     "execution_count": 19,
     "metadata": {},
     "output_type": "execute_result"
    }
   ],
   "source": [
    "(np.identity(2) - C) @ (x.reshape(-1, 1))"
   ]
  },
  {
   "cell_type": "markdown",
   "id": "891c2617-f51a-4c21-8537-f89590578be0",
   "metadata": {},
   "source": [
    "  "
   ]
  },
  {
   "cell_type": "markdown",
   "id": "a008ba58-7f0e-4d1b-94d2-6315f6c2dec9",
   "metadata": {},
   "source": [
    "  "
   ]
  },
  {
   "cell_type": "code",
   "execution_count": 15,
   "id": "6cbb0e4e-9152-4720-84ef-31ab08121367",
   "metadata": {},
   "outputs": [
    {
     "data": {
      "text/plain": [
       "array([[1., 0.],\n",
       "       [0., 1.]])"
      ]
     },
     "execution_count": 15,
     "metadata": {},
     "output_type": "execute_result"
    }
   ],
   "source": [
    "np.identity(2)"
   ]
  },
  {
   "cell_type": "markdown",
   "id": "aa9a0583-ea2b-47bb-a42f-3308e1b4c843",
   "metadata": {},
   "source": [
    "  "
   ]
  },
  {
   "cell_type": "markdown",
   "id": "f567473f-330b-4d0a-bfec-15a38c0ac484",
   "metadata": {},
   "source": [
    "  "
   ]
  },
  {
   "cell_type": "markdown",
   "id": "a504ef97-e3d4-46ef-806c-a9ff7161124b",
   "metadata": {},
   "source": [
    "  "
   ]
  },
  {
   "cell_type": "markdown",
   "id": "b2075e7d-0230-4944-8cff-e26595bdfba0",
   "metadata": {},
   "source": [
    "  "
   ]
  },
  {
   "cell_type": "markdown",
   "id": "e1caf759-eabd-4e42-934e-c6c5dcec55b4",
   "metadata": {},
   "source": [
    "  "
   ]
  },
  {
   "cell_type": "markdown",
   "id": "6b7d7bf7-2829-4cb5-9827-f59ea975169d",
   "metadata": {},
   "source": [
    "  "
   ]
  },
  {
   "cell_type": "markdown",
   "id": "72a0557f-fe16-4095-95ad-a5b89cc095b8",
   "metadata": {},
   "source": [
    "  "
   ]
  },
  {
   "cell_type": "markdown",
   "id": "b93fdab4-9938-454b-a822-e27c0acdba54",
   "metadata": {},
   "source": [
    "  "
   ]
  },
  {
   "cell_type": "markdown",
   "id": "74e46772-dbe2-4f3d-a03b-b032e17766a0",
   "metadata": {},
   "source": [
    "  "
   ]
  },
  {
   "cell_type": "markdown",
   "id": "f65656b6-de5a-429d-87b7-f745be5deca8",
   "metadata": {},
   "source": [
    "  "
   ]
  },
  {
   "cell_type": "markdown",
   "id": "f1f7ca7a-ffab-4ea5-8aaa-71121e21f6b5",
   "metadata": {},
   "source": [
    "  "
   ]
  },
  {
   "cell_type": "markdown",
   "id": "ae0ddc2f-5784-44b8-951d-c65f729c84ee",
   "metadata": {},
   "source": [
    "  "
   ]
  },
  {
   "cell_type": "markdown",
   "id": "559dc157-db3a-4501-96a0-dfc398376bf2",
   "metadata": {},
   "source": [
    "  "
   ]
  },
  {
   "cell_type": "markdown",
   "id": "76ec4e41-41d0-40f7-b405-11d08e5831ed",
   "metadata": {},
   "source": [
    "  "
   ]
  },
  {
   "cell_type": "markdown",
   "id": "50ca2229-e8ae-41f8-8766-a77f248e94bc",
   "metadata": {},
   "source": [
    "  "
   ]
  },
  {
   "cell_type": "markdown",
   "id": "aa80fcb4-6286-4da5-a358-9d5925f4bf1e",
   "metadata": {},
   "source": [
    "  "
   ]
  },
  {
   "cell_type": "markdown",
   "id": "fd200aec-5acd-4dda-8f10-c661a57825b2",
   "metadata": {},
   "source": [
    "  "
   ]
  },
  {
   "cell_type": "markdown",
   "id": "b9da7b9a-ae07-45b4-955c-28de413986fa",
   "metadata": {},
   "source": [
    "  "
   ]
  },
  {
   "cell_type": "markdown",
   "id": "5496b659-3edd-406c-9853-72c71ef11ff7",
   "metadata": {},
   "source": [
    "  "
   ]
  },
  {
   "cell_type": "markdown",
   "id": "c5f131f1-caa3-451a-87a3-7c78f12fc6c1",
   "metadata": {},
   "source": [
    "  "
   ]
  },
  {
   "cell_type": "markdown",
   "id": "40b8be24-c600-4671-b348-a2281341eb57",
   "metadata": {},
   "source": [
    "  "
   ]
  },
  {
   "cell_type": "markdown",
   "id": "115e781f-5d43-4264-86b8-637753f50515",
   "metadata": {},
   "source": [
    "  "
   ]
  },
  {
   "cell_type": "markdown",
   "id": "f12a6db6-5364-42f5-bd4c-d4d30bef550c",
   "metadata": {},
   "source": [
    "  "
   ]
  },
  {
   "cell_type": "markdown",
   "id": "137c8a3b-210b-4ea0-802d-77719cde9d68",
   "metadata": {},
   "source": [
    "  "
   ]
  },
  {
   "cell_type": "markdown",
   "id": "810d5aa3-9660-45b7-b18b-ca96043ad5da",
   "metadata": {},
   "source": [
    "  "
   ]
  },
  {
   "cell_type": "markdown",
   "id": "eefac564-9642-4a4f-afe4-fa5e7b909f07",
   "metadata": {},
   "source": [
    "  "
   ]
  },
  {
   "cell_type": "markdown",
   "id": "0a2dd73e-ce27-4a8d-91be-db93b1b9cc83",
   "metadata": {},
   "source": [
    "  "
   ]
  },
  {
   "cell_type": "markdown",
   "id": "919e5edb-f8c6-4f71-810e-299873e8e71b",
   "metadata": {},
   "source": [
    "  "
   ]
  },
  {
   "cell_type": "markdown",
   "id": "5b1445cc-f80a-4b19-b755-cf34aaff0777",
   "metadata": {},
   "source": [
    "  "
   ]
  },
  {
   "cell_type": "markdown",
   "id": "d0739f06-b1cb-4257-8da3-2f9e268dd434",
   "metadata": {},
   "source": [
    "  "
   ]
  },
  {
   "cell_type": "markdown",
   "id": "14e43b77-53a2-4041-8005-7afe872d3ca1",
   "metadata": {},
   "source": [
    "  "
   ]
  },
  {
   "cell_type": "markdown",
   "id": "bb628225-d4b4-49d1-88e6-79cc672601d7",
   "metadata": {},
   "source": [
    "  "
   ]
  },
  {
   "cell_type": "markdown",
   "id": "1c49d462-f3f2-4a0b-8a9a-a6c466288dd8",
   "metadata": {},
   "source": [
    "  "
   ]
  },
  {
   "cell_type": "markdown",
   "id": "4c9311df-01db-4a5d-9542-67ae8347f10e",
   "metadata": {},
   "source": [
    "  "
   ]
  },
  {
   "cell_type": "markdown",
   "id": "9bc9556f-8135-4b23-abfe-5b56070840d7",
   "metadata": {},
   "source": [
    "  "
   ]
  }
 ],
 "metadata": {
  "kernelspec": {
   "display_name": "projects",
   "language": "python",
   "name": "projects"
  },
  "language_info": {
   "codemirror_mode": {
    "name": "ipython",
    "version": 3
   },
   "file_extension": ".py",
   "mimetype": "text/x-python",
   "name": "python",
   "nbconvert_exporter": "python",
   "pygments_lexer": "ipython3",
   "version": "3.11.6"
  }
 },
 "nbformat": 4,
 "nbformat_minor": 5
}
