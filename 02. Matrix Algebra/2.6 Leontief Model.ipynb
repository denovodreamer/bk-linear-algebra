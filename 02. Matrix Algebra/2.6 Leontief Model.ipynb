{
 "cells": [
  {
   "cell_type": "markdown",
   "id": "f6d7c8ae-7f85-413c-a15f-1bb2be091907",
   "metadata": {},
   "source": [
    "  "
   ]
  },
  {
   "cell_type": "markdown",
   "id": "50a85760-66c1-45a0-903c-26f8cbdbd675",
   "metadata": {},
   "source": [
    "  "
   ]
  },
  {
   "cell_type": "markdown",
   "id": "8e4da813-ff25-474f-80b7-cc84c8bd5d6b",
   "metadata": {},
   "source": [
    "  "
   ]
  },
  {
   "cell_type": "markdown",
   "id": "ac22afd3-9392-4391-9fff-64200c9f27a8",
   "metadata": {},
   "source": [
    "  "
   ]
  },
  {
   "cell_type": "markdown",
   "id": "c208c8af-2f79-46b8-9808-82a28fad238e",
   "metadata": {},
   "source": [
    "  "
   ]
  },
  {
   "cell_type": "code",
   "execution_count": 7,
   "id": "7b447998-7ca3-482a-84d3-23f4154a6d44",
   "metadata": {},
   "outputs": [],
   "source": [
    "import numpy as np\n",
    "from sympy import Matrix"
   ]
  },
  {
   "cell_type": "markdown",
   "id": "85a6bf5a-6ee3-4406-98cb-8d3f8525abee",
   "metadata": {},
   "source": [
    "  "
   ]
  },
  {
   "cell_type": "markdown",
   "id": "07f3f298-d08b-4dba-99f7-c107f7c30b0f",
   "metadata": {},
   "source": [
    "  "
   ]
  },
  {
   "cell_type": "markdown",
   "id": "6b5f0752-0285-481f-b2bc-7da9f76fbd60",
   "metadata": {},
   "source": [
    "  "
   ]
  },
  {
   "cell_type": "markdown",
   "id": "b373a84c-7705-43d3-ab55-1a94aed2cf26",
   "metadata": {},
   "source": [
    "  "
   ]
  },
  {
   "cell_type": "markdown",
   "id": "2b24d9a2-5c25-41de-9c8d-13fb88fd907d",
   "metadata": {},
   "source": [
    "  "
   ]
  },
  {
   "cell_type": "markdown",
   "id": "539f8cd5-c9c7-423d-a248-315314ad48b2",
   "metadata": {},
   "source": [
    "  "
   ]
  },
  {
   "cell_type": "markdown",
   "id": "29500a6b-74ce-4bb7-a50f-9a83d36cc152",
   "metadata": {},
   "source": [
    "  "
   ]
  },
  {
   "cell_type": "markdown",
   "id": "3fd30baa-daef-42d5-8799-0221515fcb2f",
   "metadata": {},
   "source": [
    "  "
   ]
  },
  {
   "cell_type": "markdown",
   "id": "76965a34-5b12-4caa-b279-683df97b4c3b",
   "metadata": {},
   "source": [
    "Practice Problem"
   ]
  },
  {
   "cell_type": "markdown",
   "id": "bd7ca097-72bd-4581-8fbb-09bd80c97f66",
   "metadata": {},
   "source": [
    "  "
   ]
  },
  {
   "cell_type": "code",
   "execution_count": 28,
   "id": "8b4229bf-b11c-4a1e-a0f6-4f8114378d4f",
   "metadata": {},
   "outputs": [
    {
     "name": "stdout",
     "output_type": "stream",
     "text": [
      "[[0.5 0.4 0.2]\n",
      " [0.2 0.3 0.1]\n",
      " [0.1 0.1 0.3]]\n"
     ]
    }
   ],
   "source": [
    "I = np.identity(3)\n",
    "\n",
    "d = np.array([50, 30, 20])\n",
    "\n",
    "C = np.array(\n",
    "    [[0.5, 0.4, 0.2],\n",
    "     [0.2, 0.3, 0.1],\n",
    "     [0.1, 0.1, 0.3]]\n",
    ")\n",
    "\n",
    "print(C)"
   ]
  },
  {
   "cell_type": "markdown",
   "id": "d5adbb33-3941-4133-a746-8877c03fa071",
   "metadata": {},
   "source": [
    "  "
   ]
  },
  {
   "cell_type": "markdown",
   "id": "2b165389-d6ee-4404-9919-b20cf4a4f2b2",
   "metadata": {},
   "source": [
    "  "
   ]
  },
  {
   "cell_type": "code",
   "execution_count": 29,
   "id": "6103d012-025c-48f5-829c-1e34442542fb",
   "metadata": {},
   "outputs": [
    {
     "name": "stdout",
     "output_type": "stream",
     "text": [
      "[[225.92592593]\n",
      " [118.51851852]\n",
      " [ 77.77777778]]\n"
     ]
    }
   ],
   "source": [
    "x = np.linalg.inv(I - C) @ d\n",
    "print(x.reshape(-1, 1))"
   ]
  },
  {
   "cell_type": "markdown",
   "id": "c7f88b11-90f6-48f7-98f0-32eee89bdb6e",
   "metadata": {},
   "source": [
    "  "
   ]
  },
  {
   "cell_type": "markdown",
   "id": "7ab4fef0-2ffe-43ab-b8de-10d55130bd7c",
   "metadata": {},
   "source": [
    "  "
   ]
  },
  {
   "cell_type": "markdown",
   "id": "fad4d377-3070-4091-b2d2-570f14a10513",
   "metadata": {},
   "source": [
    "  "
   ]
  },
  {
   "cell_type": "code",
   "execution_count": 30,
   "id": "0197f9e0-fc5e-4700-9840-9cd08571d17e",
   "metadata": {},
   "outputs": [
    {
     "data": {
      "text/plain": [
       "array([50., 30., 20.])"
      ]
     },
     "execution_count": 30,
     "metadata": {},
     "output_type": "execute_result"
    }
   ],
   "source": [
    "(I - C) @ x"
   ]
  },
  {
   "cell_type": "markdown",
   "id": "891c2617-f51a-4c21-8537-f89590578be0",
   "metadata": {},
   "source": [
    "  "
   ]
  },
  {
   "cell_type": "markdown",
   "id": "a008ba58-7f0e-4d1b-94d2-6315f6c2dec9",
   "metadata": {},
   "source": [
    "  "
   ]
  },
  {
   "cell_type": "markdown",
   "id": "aa9a0583-ea2b-47bb-a42f-3308e1b4c843",
   "metadata": {},
   "source": [
    "  "
   ]
  },
  {
   "cell_type": "markdown",
   "id": "f567473f-330b-4d0a-bfec-15a38c0ac484",
   "metadata": {},
   "source": [
    "  "
   ]
  },
  {
   "cell_type": "markdown",
   "id": "a504ef97-e3d4-46ef-806c-a9ff7161124b",
   "metadata": {},
   "source": [
    "1."
   ]
  },
  {
   "cell_type": "markdown",
   "id": "b2075e7d-0230-4944-8cff-e26595bdfba0",
   "metadata": {},
   "source": [
    "  "
   ]
  },
  {
   "cell_type": "code",
   "execution_count": 3,
   "id": "8e99cac1-b123-4ce3-8470-77276b2a5e56",
   "metadata": {},
   "outputs": [
    {
     "name": "stdout",
     "output_type": "stream",
     "text": [
      "[[0.1 0.6 0.6]\n",
      " [0.3 0.2 0. ]\n",
      " [0.3 0.1 0.1]]\n"
     ]
    }
   ],
   "source": [
    "C = np.array(\n",
    "    [\n",
    "        [.1, .6, .6],\n",
    "        [.3, .2, 0],\n",
    "        [.3, .1, .1],\n",
    "    ]\n",
    ")\n",
    "\n",
    "print(C)"
   ]
  },
  {
   "cell_type": "markdown",
   "id": "e1caf759-eabd-4e42-934e-c6c5dcec55b4",
   "metadata": {},
   "source": [
    "  "
   ]
  },
  {
   "cell_type": "markdown",
   "id": "3323dec9-b8b5-4687-a358-c7b240c9d17b",
   "metadata": {},
   "source": [
    "  "
   ]
  },
  {
   "cell_type": "markdown",
   "id": "010265bd-bcc2-4993-b32e-6a58108ee2b4",
   "metadata": {},
   "source": [
    "  "
   ]
  },
  {
   "cell_type": "markdown",
   "id": "c5306152-ee2e-498f-abcd-f3fcb9b1c9b0",
   "metadata": {},
   "source": [
    "  "
   ]
  },
  {
   "cell_type": "markdown",
   "id": "6b7d7bf7-2829-4cb5-9827-f59ea975169d",
   "metadata": {},
   "source": [
    "  "
   ]
  },
  {
   "cell_type": "markdown",
   "id": "72a0557f-fe16-4095-95ad-a5b89cc095b8",
   "metadata": {},
   "source": [
    "2."
   ]
  },
  {
   "cell_type": "code",
   "execution_count": 13,
   "id": "b7e4b9e0-ad33-4d3d-a615-882217ea44bf",
   "metadata": {},
   "outputs": [
    {
     "data": {
      "text/latex": [
       "$\\displaystyle \\left[\\begin{matrix}1 & 0 & 0 & 33.3333333333333\\\\0 & 1 & 0 & 35.0\\\\0 & 0 & 1 & 15.0\\end{matrix}\\right]$"
      ],
      "text/plain": [
       "Matrix([\n",
       "[1, 0, 0, 33.3333333333333],\n",
       "[0, 1, 0,             35.0],\n",
       "[0, 0, 1,             15.0]])"
      ]
     },
     "execution_count": 13,
     "metadata": {},
     "output_type": "execute_result"
    }
   ],
   "source": [
    "d = np.array([0, 18, 0]).reshape(-1, 1)\n",
    "\n",
    "I = np.identity(3)\n",
    "\n",
    "D = np.concatenate([I - C, d], axis=1)\n",
    "\n",
    "Matrix(D).rref()[0]"
   ]
  },
  {
   "cell_type": "markdown",
   "id": "b93fdab4-9938-454b-a822-e27c0acdba54",
   "metadata": {},
   "source": [
    "  "
   ]
  },
  {
   "cell_type": "markdown",
   "id": "d1599391-3809-427b-a570-7641f3513cfe",
   "metadata": {},
   "source": [
    "  "
   ]
  },
  {
   "cell_type": "markdown",
   "id": "553d94a6-67c7-42da-b4a5-b3cf10b0883c",
   "metadata": {},
   "source": [
    "  "
   ]
  },
  {
   "cell_type": "markdown",
   "id": "bc3381a7-fcd9-46e4-9396-6fedd524d960",
   "metadata": {},
   "source": [
    "  "
   ]
  },
  {
   "cell_type": "markdown",
   "id": "e8f1ef23-c0f4-4780-a1a7-7d2e9f405f42",
   "metadata": {},
   "source": [
    "  "
   ]
  },
  {
   "cell_type": "markdown",
   "id": "74e46772-dbe2-4f3d-a03b-b032e17766a0",
   "metadata": {},
   "source": [
    "3."
   ]
  },
  {
   "cell_type": "code",
   "execution_count": 14,
   "id": "b8d05279-7382-422a-8a8e-371de0fc6899",
   "metadata": {},
   "outputs": [
    {
     "data": {
      "text/latex": [
       "$\\displaystyle \\left[\\begin{matrix}1 & 0 & 0 & 40.0\\\\0 & 1 & 0 & 15.0\\\\0 & 0 & 1 & 15.0\\end{matrix}\\right]$"
      ],
      "text/plain": [
       "Matrix([\n",
       "[1, 0, 0, 40.0],\n",
       "[0, 1, 0, 15.0],\n",
       "[0, 0, 1, 15.0]])"
      ]
     },
     "execution_count": 14,
     "metadata": {},
     "output_type": "execute_result"
    }
   ],
   "source": [
    "d = np.array([18, 0, 0]).reshape(-1, 1)\n",
    "\n",
    "I = np.identity(3)\n",
    "\n",
    "D = np.concatenate([I - C, d], axis=1)\n",
    "\n",
    "Matrix(D).rref()[0]"
   ]
  },
  {
   "cell_type": "markdown",
   "id": "f65656b6-de5a-429d-87b7-f745be5deca8",
   "metadata": {},
   "source": [
    "  "
   ]
  },
  {
   "cell_type": "markdown",
   "id": "f1f7ca7a-ffab-4ea5-8aaa-71121e21f6b5",
   "metadata": {},
   "source": [
    "  "
   ]
  },
  {
   "cell_type": "markdown",
   "id": "ae0ddc2f-5784-44b8-951d-c65f729c84ee",
   "metadata": {},
   "source": [
    "  "
   ]
  },
  {
   "cell_type": "markdown",
   "id": "559dc157-db3a-4501-96a0-dfc398376bf2",
   "metadata": {},
   "source": [
    "4."
   ]
  },
  {
   "cell_type": "code",
   "execution_count": 15,
   "id": "58868337-f42a-4dc7-aa23-1ebf26732e03",
   "metadata": {},
   "outputs": [
    {
     "data": {
      "text/latex": [
       "$\\displaystyle \\left[\\begin{matrix}1 & 0 & 0 & 73.3333333333333\\\\0 & 1 & 0 & 50.0\\\\0 & 0 & 1 & 30.0\\end{matrix}\\right]$"
      ],
      "text/plain": [
       "Matrix([\n",
       "[1, 0, 0, 73.3333333333333],\n",
       "[0, 1, 0,             50.0],\n",
       "[0, 0, 1,             30.0]])"
      ]
     },
     "execution_count": 15,
     "metadata": {},
     "output_type": "execute_result"
    }
   ],
   "source": [
    "d = np.array([18, 18, 0]).reshape(-1, 1)\n",
    "\n",
    "I = np.identity(3)\n",
    "\n",
    "D = np.concatenate([I - C, d], axis=1)\n",
    "\n",
    "Matrix(D).rref()[0]"
   ]
  },
  {
   "cell_type": "markdown",
   "id": "76ec4e41-41d0-40f7-b405-11d08e5831ed",
   "metadata": {},
   "source": [
    "  "
   ]
  },
  {
   "cell_type": "markdown",
   "id": "50ca2229-e8ae-41f8-8766-a77f248e94bc",
   "metadata": {},
   "source": [
    "  "
   ]
  },
  {
   "cell_type": "markdown",
   "id": "aa80fcb4-6286-4da5-a358-9d5925f4bf1e",
   "metadata": {},
   "source": [
    "  "
   ]
  },
  {
   "cell_type": "markdown",
   "id": "fd200aec-5acd-4dda-8f10-c661a57825b2",
   "metadata": {},
   "source": [
    "  "
   ]
  },
  {
   "cell_type": "markdown",
   "id": "b9da7b9a-ae07-45b4-955c-28de413986fa",
   "metadata": {},
   "source": [
    "5."
   ]
  },
  {
   "cell_type": "code",
   "execution_count": 16,
   "id": "cf94ae05-610a-482e-a980-82ff1414a1ef",
   "metadata": {},
   "outputs": [],
   "source": [
    "I = np.identity(2)\n",
    "\n",
    "C = np.array(\n",
    "    [\n",
    "        [0., 0.5],\n",
    "        [0.6, 0.2]\n",
    "    ]\n",
    ")"
   ]
  },
  {
   "cell_type": "markdown",
   "id": "5496b659-3edd-406c-9853-72c71ef11ff7",
   "metadata": {},
   "source": [
    "  "
   ]
  },
  {
   "cell_type": "markdown",
   "id": "c5f131f1-caa3-451a-87a3-7c78f12fc6c1",
   "metadata": {},
   "source": [
    "  "
   ]
  },
  {
   "cell_type": "code",
   "execution_count": 27,
   "id": "f48b79ed-6c54-4b1d-9641-17f6ae83806e",
   "metadata": {},
   "outputs": [
    {
     "name": "stdout",
     "output_type": "stream",
     "text": [
      "[[1.6 1. ]\n",
      " [1.2 2. ]]\n"
     ]
    }
   ],
   "source": [
    "d_0 = np.array([50, 30]).reshape(-1, 1)\n",
    "\n",
    "P = np.linalg.inv(I - C) \n",
    "\n",
    "print(P)"
   ]
  },
  {
   "cell_type": "markdown",
   "id": "40b8be24-c600-4671-b348-a2281341eb57",
   "metadata": {},
   "source": [
    "  "
   ]
  },
  {
   "cell_type": "code",
   "execution_count": 28,
   "id": "ba4fb787-68a5-4968-b264-2796f0990121",
   "metadata": {},
   "outputs": [
    {
     "data": {
      "text/plain": [
       "array([[110.],\n",
       "       [120.]])"
      ]
     },
     "execution_count": 28,
     "metadata": {},
     "output_type": "execute_result"
    }
   ],
   "source": [
    "P @ d_0"
   ]
  },
  {
   "cell_type": "markdown",
   "id": "115e781f-5d43-4264-86b8-637753f50515",
   "metadata": {},
   "source": [
    "  "
   ]
  },
  {
   "cell_type": "markdown",
   "id": "b5f649d7-1a3e-4b52-afe7-3b9e0e0d7442",
   "metadata": {},
   "source": [
    "  "
   ]
  },
  {
   "cell_type": "code",
   "execution_count": 30,
   "id": "a2e64ce8-42aa-47a2-8e5d-f482f7d99997",
   "metadata": {},
   "outputs": [
    {
     "data": {
      "text/plain": [
       "array([[1.6],\n",
       "       [1.2]])"
      ]
     },
     "execution_count": 30,
     "metadata": {},
     "output_type": "execute_result"
    }
   ],
   "source": [
    "d_1 = np.array([1, 0]).reshape(-1, 1)\n",
    "\n",
    "P @ d_1"
   ]
  },
  {
   "cell_type": "markdown",
   "id": "93222447-6543-42f5-a65a-5e83f1ebc0f7",
   "metadata": {},
   "source": [
    "  "
   ]
  },
  {
   "cell_type": "markdown",
   "id": "cc6333f4-8fff-4282-91b0-1437bdc1ac77",
   "metadata": {},
   "source": [
    "  "
   ]
  },
  {
   "cell_type": "code",
   "execution_count": 31,
   "id": "09dbd351-64ab-4974-a212-c6d3fe4c0477",
   "metadata": {},
   "outputs": [
    {
     "data": {
      "text/plain": [
       "array([[111.6],\n",
       "       [121.2]])"
      ]
     },
     "execution_count": 31,
     "metadata": {},
     "output_type": "execute_result"
    }
   ],
   "source": [
    "d_t = np.array([51, 30]).reshape(-1, 1)\n",
    "\n",
    "P @ d_t"
   ]
  },
  {
   "cell_type": "markdown",
   "id": "dbcd925d-c44e-4a19-a987-3db23c6cc2d2",
   "metadata": {},
   "source": [
    "  "
   ]
  },
  {
   "cell_type": "markdown",
   "id": "976e5256-28e5-4dc2-8254-e778776fd596",
   "metadata": {},
   "source": [
    "  "
   ]
  },
  {
   "cell_type": "code",
   "execution_count": 33,
   "id": "8719bee1-9bc4-41da-9e69-4426c144b60e",
   "metadata": {},
   "outputs": [
    {
     "data": {
      "text/plain": [
       "array([[111.6],\n",
       "       [121.2]])"
      ]
     },
     "execution_count": 33,
     "metadata": {},
     "output_type": "execute_result"
    }
   ],
   "source": [
    "P @ d_0 + P @ d_1"
   ]
  },
  {
   "cell_type": "markdown",
   "id": "1cfff989-c6a6-49d1-a65f-eb9b9f804405",
   "metadata": {},
   "source": [
    "  "
   ]
  },
  {
   "cell_type": "markdown",
   "id": "a6c7d2ce-8f49-4b54-9523-7ddba9b7c43a",
   "metadata": {},
   "source": [
    "  "
   ]
  },
  {
   "cell_type": "markdown",
   "id": "ef43de2b-dd42-4836-a4b6-aaf3c05868ba",
   "metadata": {},
   "source": [
    "  "
   ]
  },
  {
   "cell_type": "markdown",
   "id": "720fd9bf-39ed-4cef-b1d1-f855350ab836",
   "metadata": {},
   "source": [
    "  "
   ]
  },
  {
   "cell_type": "markdown",
   "id": "4efb1d52-495b-490b-aa4e-d272d8dda81c",
   "metadata": {},
   "source": [
    "  "
   ]
  },
  {
   "cell_type": "markdown",
   "id": "085e34de-de0f-4b9e-a8da-6016a41cd702",
   "metadata": {},
   "source": [
    "  "
   ]
  },
  {
   "cell_type": "markdown",
   "id": "23e08a17-9986-4934-b750-eaaeeab306bd",
   "metadata": {},
   "source": [
    "  "
   ]
  },
  {
   "cell_type": "code",
   "execution_count": null,
   "id": "394e9056-d78b-4531-9e7c-f773ad9402ed",
   "metadata": {},
   "outputs": [],
   "source": [
    "   C = [.1588 .0064 .0025 .0304 .0014 .0083 .1594;.0057 .2645 .0436 .0099 .0083 .0201 .3413;.0264 .1506 .3557 .0139 .0142 .0070 .0236;\n",
    "        .3299 .0565 .0495 .3636 .0204 .0483 .0649;.0089 .0081 .0333 .0295 .3412 .0237 .0020;.1190 .0901 .0996 .1260 .1722 .2368 .3369;\n",
    "        .0063 .0126 .0196 .0098 .0064 .0132 .0012], \n",
    "   d = [74000;56000;10500;25000;17500;196000;5000]\n",
    "elseif ex==14\n",
    "   C = [.1588 .0064 .0025 .0304 .0014 .0083 .1594;.0057 .2645 .0436 .0099 .0083 .0201 .3413;.0264 .1506 .3557 .0139 .0142 .0070 .0236;\n",
    "        .3299 .0565 .0495 .3636 .0204 .0483 .0649;.0089 .0081 .0333 .0295 .3412 .0237 .0020;.1190 .0901 .0996 .1260 .1722 .2368 .3369;\n",
    "        .0063 .0126 .0196 .0098 .0064 .0132 .0012], \n",
    "   d = [99640;75548;14444;33501;23527;263985;6526]"
   ]
  },
  {
   "cell_type": "markdown",
   "id": "06424fd9-0bbb-4582-b3ff-0c3cd17bd9d8",
   "metadata": {},
   "source": [
    "  "
   ]
  },
  {
   "cell_type": "markdown",
   "id": "3e9a805b-b956-4e3f-aa94-47ab44be3178",
   "metadata": {},
   "source": [
    "  "
   ]
  },
  {
   "cell_type": "code",
   "execution_count": 38,
   "id": "15419108-5e00-422d-ba41-d0dbf58977ee",
   "metadata": {},
   "outputs": [
    {
     "name": "stdout",
     "output_type": "stream",
     "text": [
      "[[0.1588 0.0064 0.0025 0.0304 0.0014 0.0083 0.1594]\n",
      " [0.0057 0.2645 0.0436 0.0099 0.0083 0.0201 0.3413]\n",
      " [0.0264 0.1506 0.3557 0.0139 0.0142 0.007  0.0236]\n",
      " [0.3299 0.0565 0.0495 0.3636 0.0204 0.0483 0.0649]\n",
      " [0.0089 0.0081 0.0333 0.0295 0.3412 0.0237 0.002 ]\n",
      " [0.119  0.0901 0.0996 0.126  0.1722 0.2368 0.3369]\n",
      " [0.0063 0.0126 0.0196 0.0098 0.0064 0.0132 0.0012]]\n"
     ]
    }
   ],
   "source": [
    "I = np.identity(7)\n",
    "\n",
    "C = np.array(\n",
    "    [\n",
    "        [.1588, .0064, .0025, .0304, .0014, .0083, .1594],\n",
    "        [.0057, .2645, .0436, .0099, .0083, .0201, .3413],\n",
    "        [.0264, .1506, .3557, .0139, .0142, .0070, .0236],\n",
    "        [.3299, .0565, .0495, .3636, .0204, .0483, .0649],\n",
    "        [.0089, .0081, .0333, .0295, .3412, .0237, .0020],\n",
    "        [.1190, .0901, .0996, .1260, .1722, .2368, .3369],\n",
    "        [.0063, .0126, .0196, .0098, .0064, .0132, .0012],\n",
    "    ]\n",
    ")\n",
    "\n",
    "print(C)"
   ]
  },
  {
   "cell_type": "markdown",
   "id": "63a416ef-6b81-4010-9a8c-2456f742e021",
   "metadata": {},
   "source": [
    "  "
   ]
  },
  {
   "cell_type": "markdown",
   "id": "bf4ec951-595d-4839-a09a-815bc9e6e987",
   "metadata": {},
   "source": [
    "  "
   ]
  },
  {
   "cell_type": "code",
   "execution_count": 37,
   "id": "24e5cdb9-bdf5-4eaa-b05d-6b0816b214a6",
   "metadata": {},
   "outputs": [
    {
     "data": {
      "text/plain": [
       "(7, 7)"
      ]
     },
     "execution_count": 37,
     "metadata": {},
     "output_type": "execute_result"
    }
   ],
   "source": [
    "C.shape"
   ]
  },
  {
   "cell_type": "markdown",
   "id": "eb2969de-ecde-40f3-8721-611f60945e49",
   "metadata": {},
   "source": [
    "  "
   ]
  },
  {
   "cell_type": "markdown",
   "id": "ecb26224-36de-4e02-a87c-930120728099",
   "metadata": {},
   "source": [
    "  "
   ]
  },
  {
   "cell_type": "markdown",
   "id": "b4bb111a-79de-4f43-a27d-0c10ba31db68",
   "metadata": {},
   "source": [
    "  "
   ]
  },
  {
   "cell_type": "code",
   "execution_count": 39,
   "id": "dfa911a9-fe65-4d73-b503-2f713db78e0e",
   "metadata": {},
   "outputs": [],
   "source": [
    "d = np.array([74000, 56000, 10500, 25000, 17500, 196000, 5000]).reshape(-1, 1)"
   ]
  },
  {
   "cell_type": "markdown",
   "id": "2f0a53f7-ccdc-4f4a-930d-8b6be846d9ec",
   "metadata": {},
   "source": [
    "  "
   ]
  },
  {
   "cell_type": "markdown",
   "id": "f1871767-028c-4f5c-b935-35671195716d",
   "metadata": {},
   "source": [
    "  "
   ]
  },
  {
   "cell_type": "code",
   "execution_count": 42,
   "id": "c74aac7c-5cbf-4d62-92d8-6e6afe8ee4c9",
   "metadata": {},
   "outputs": [
    {
     "data": {
      "text/plain": [
       "array([[ 99576.],\n",
       "       [ 97703.],\n",
       "       [ 51231.],\n",
       "       [131570.],\n",
       "       [ 49488.],\n",
       "       [329554.],\n",
       "       [ 13835.]])"
      ]
     },
     "execution_count": 42,
     "metadata": {},
     "output_type": "execute_result"
    }
   ],
   "source": [
    "np.linalg.solve(I - C, d).round()"
   ]
  },
  {
   "cell_type": "markdown",
   "id": "a5cdd378-b55e-4254-b5da-3de576e6088f",
   "metadata": {},
   "source": [
    "  "
   ]
  },
  {
   "cell_type": "markdown",
   "id": "960164d6-40d4-43ad-be44-f81ee245457e",
   "metadata": {},
   "source": [
    "  "
   ]
  },
  {
   "cell_type": "code",
   "execution_count": 49,
   "id": "b22e2f7e-ebc3-4a0c-90e4-16d25df53a16",
   "metadata": {},
   "outputs": [
    {
     "name": "stdout",
     "output_type": "stream",
     "text": [
      "[ 89344.15  77730.45  26708.05  72334.65  30325.55 265158.2    9327.8 ]\n",
      "[ 94681.19  87714.51  37577.26 100520.49  38598.01 296563.81  11479.99]\n",
      "[ 97091.94  92573.11  43867.82 115457.    43490.99 312318.91  12598.76]\n",
      "[ 98291.61  95033.21  47314.51 123202.51  46247.02 320502.38  13185.46]\n",
      "[ 98907.24  96305.31  49160.59 127213.72  47756.37 324796.12  13493.84]\n",
      "[ 99226.61  96969.57  50139.59 129296.74  48569.33 327053.84  13655.95]\n",
      "[ 99393.06  97317.85  50656.42 130381.63  49002.82 328240.89  13741.13]\n",
      "[ 99480.03  97500.72  50928.65 130947.97  49232.54 328864.69  13785.87]\n",
      "[ 99525.54  97596.78  51071.88 131244.12  49353.83 329192.34  13809.37]\n",
      "[ 99549.38  97647.24  51147.18 131399.15  49417.71 329364.38  13821.71]\n",
      "[ 99561.88  97673.73  51186.75 131480.38  49451.31 329454.69  13828.18]\n",
      "[ 99568.43  97687.65  51207.54 131522.96  49468.97 329502.1   13831.58]\n"
     ]
    }
   ],
   "source": [
    "x_0 = d.copy()\n",
    "\n",
    "def compute(x_k_prev):\n",
    "    x_k = d + C @ x_k_prev\n",
    "    return x_k\n",
    "\n",
    "\n",
    "x_k_prev = x_0\n",
    "for k in range(1, 13):\n",
    "    x_k = compute(x_k_prev)\n",
    "    print(x_k.flatten().round(2))\n",
    "    x_k_prev = x_k\n",
    "    "
   ]
  },
  {
   "cell_type": "markdown",
   "id": "f12a6db6-5364-42f5-bd4c-d4d30bef550c",
   "metadata": {},
   "source": [
    "  "
   ]
  },
  {
   "cell_type": "markdown",
   "id": "137c8a3b-210b-4ea0-802d-77719cde9d68",
   "metadata": {},
   "source": [
    "  "
   ]
  },
  {
   "cell_type": "markdown",
   "id": "810d5aa3-9660-45b7-b18b-ca96043ad5da",
   "metadata": {},
   "source": [
    "  "
   ]
  },
  {
   "cell_type": "markdown",
   "id": "eefac564-9642-4a4f-afe4-fa5e7b909f07",
   "metadata": {},
   "source": [
    "  "
   ]
  },
  {
   "cell_type": "markdown",
   "id": "6c3a13ca-aed0-4ea0-b48f-61760c0b7a4a",
   "metadata": {},
   "source": [
    "  "
   ]
  },
  {
   "cell_type": "markdown",
   "id": "3d363aa9-2166-4fa3-bc6c-913732d53abf",
   "metadata": {},
   "source": [
    "  "
   ]
  },
  {
   "cell_type": "markdown",
   "id": "54cd7b50-86cc-44a0-a344-03100e64bed2",
   "metadata": {},
   "source": [
    "  "
   ]
  },
  {
   "cell_type": "markdown",
   "id": "051842bd-dd4f-408d-9f1d-406742a6bee0",
   "metadata": {},
   "source": [
    "  "
   ]
  },
  {
   "cell_type": "markdown",
   "id": "4cda3438-4a35-44fb-a437-e2ec94570f0d",
   "metadata": {},
   "source": [
    "  "
   ]
  },
  {
   "cell_type": "markdown",
   "id": "ef206d75-6c62-40ad-954c-f97a096e4ad6",
   "metadata": {},
   "source": [
    "  "
   ]
  },
  {
   "cell_type": "markdown",
   "id": "0a2dd73e-ce27-4a8d-91be-db93b1b9cc83",
   "metadata": {},
   "source": [
    "  "
   ]
  },
  {
   "cell_type": "markdown",
   "id": "919e5edb-f8c6-4f71-810e-299873e8e71b",
   "metadata": {},
   "source": [
    "  "
   ]
  },
  {
   "cell_type": "markdown",
   "id": "5b1445cc-f80a-4b19-b755-cf34aaff0777",
   "metadata": {},
   "source": [
    "  "
   ]
  },
  {
   "cell_type": "markdown",
   "id": "d0739f06-b1cb-4257-8da3-2f9e268dd434",
   "metadata": {},
   "source": [
    "  "
   ]
  },
  {
   "cell_type": "markdown",
   "id": "14e43b77-53a2-4041-8005-7afe872d3ca1",
   "metadata": {},
   "source": [
    "  "
   ]
  },
  {
   "cell_type": "markdown",
   "id": "bb628225-d4b4-49d1-88e6-79cc672601d7",
   "metadata": {},
   "source": [
    "  "
   ]
  },
  {
   "cell_type": "markdown",
   "id": "1c49d462-f3f2-4a0b-8a9a-a6c466288dd8",
   "metadata": {},
   "source": [
    "  "
   ]
  },
  {
   "cell_type": "markdown",
   "id": "4c9311df-01db-4a5d-9542-67ae8347f10e",
   "metadata": {},
   "source": [
    "  "
   ]
  },
  {
   "cell_type": "markdown",
   "id": "9bc9556f-8135-4b23-abfe-5b56070840d7",
   "metadata": {},
   "source": [
    "  "
   ]
  }
 ],
 "metadata": {
  "kernelspec": {
   "display_name": "projects",
   "language": "python",
   "name": "projects"
  },
  "language_info": {
   "codemirror_mode": {
    "name": "ipython",
    "version": 3
   },
   "file_extension": ".py",
   "mimetype": "text/x-python",
   "name": "python",
   "nbconvert_exporter": "python",
   "pygments_lexer": "ipython3",
   "version": "3.11.6"
  }
 },
 "nbformat": 4,
 "nbformat_minor": 5
}
