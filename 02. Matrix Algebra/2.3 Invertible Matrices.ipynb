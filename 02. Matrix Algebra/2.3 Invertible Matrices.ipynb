{
 "cells": [
  {
   "cell_type": "markdown",
   "id": "ad14ea1c-2dde-40f0-95fd-612cac44d665",
   "metadata": {},
   "source": [
    " "
   ]
  },
  {
   "cell_type": "markdown",
   "id": "4d9e7acb-5dc1-4764-84de-7558a1805cf9",
   "metadata": {},
   "source": [
    " "
   ]
  },
  {
   "cell_type": "markdown",
   "id": "f9873237-488e-4f51-86c3-db61dc96bf61",
   "metadata": {},
   "source": [
    " "
   ]
  },
  {
   "cell_type": "markdown",
   "id": "23cd518f-4dcf-458d-bf96-afc046eafd52",
   "metadata": {},
   "source": [
    " "
   ]
  },
  {
   "cell_type": "code",
   "execution_count": 1,
   "id": "8f749342-caff-4a72-a563-a67fa3c70318",
   "metadata": {},
   "outputs": [],
   "source": [
    "import numpy as np"
   ]
  },
  {
   "cell_type": "markdown",
   "id": "be534378-fe45-4d1b-b085-394041c38f0b",
   "metadata": {},
   "source": [
    " "
   ]
  },
  {
   "cell_type": "markdown",
   "id": "d7504005-ea77-4fe4-9d46-0a7f17570bf8",
   "metadata": {},
   "source": [
    " "
   ]
  },
  {
   "cell_type": "markdown",
   "id": "34d8d7d8-ef60-4cdf-add6-db842157fa45",
   "metadata": {},
   "source": [
    " "
   ]
  },
  {
   "cell_type": "markdown",
   "id": "562874c9-fd87-4284-8194-ea04d9ee13fa",
   "metadata": {},
   "source": [
    " "
   ]
  },
  {
   "cell_type": "markdown",
   "id": "0fd3db48-ea28-4e5d-8d54-0a15d8f747cb",
   "metadata": {},
   "source": [
    " "
   ]
  },
  {
   "cell_type": "markdown",
   "id": "db7b0dfb-350e-4e4c-b977-c1ee57e54647",
   "metadata": {},
   "source": [
    "41."
   ]
  },
  {
   "cell_type": "code",
   "execution_count": 2,
   "id": "aab25612-cec7-4eda-98a8-ded526edca33",
   "metadata": {},
   "outputs": [
    {
     "data": {
      "text/plain": [
       "array([3.94, 0.49])"
      ]
     },
     "execution_count": 2,
     "metadata": {},
     "output_type": "execute_result"
    }
   ],
   "source": [
    "A = np.array(\n",
    "    [\n",
    "        [4.5, 3.1],\n",
    "        [1.6, 1.1]\n",
    "    ]\n",
    ")\n",
    "\n",
    "b = np.array([19.249, 6.843])\n",
    "\n",
    "np.linalg.solve(A, b)"
   ]
  },
  {
   "cell_type": "markdown",
   "id": "2afe41c0-61b2-4120-b39b-2b271ea1c287",
   "metadata": {},
   "source": [
    " "
   ]
  },
  {
   "cell_type": "markdown",
   "id": "5795664d-a4f6-43a4-8b5e-1a8aef820b2b",
   "metadata": {},
   "source": [
    " "
   ]
  },
  {
   "cell_type": "code",
   "execution_count": 3,
   "id": "11d113db-68ae-43c6-ab3f-df1df7549c30",
   "metadata": {},
   "outputs": [
    {
     "data": {
      "text/plain": [
       "array([2.9, 2. ])"
      ]
     },
     "execution_count": 3,
     "metadata": {},
     "output_type": "execute_result"
    }
   ],
   "source": [
    "A = np.array(\n",
    "    [\n",
    "        [4.5, 3.1],\n",
    "        [1.6, 1.1]\n",
    "    ]\n",
    ")\n",
    "\n",
    "b = np.array([19.25, 6.84])\n",
    "\n",
    "np.linalg.solve(A, b)"
   ]
  },
  {
   "cell_type": "markdown",
   "id": "a320b4d7-2098-426f-afc6-775460177f02",
   "metadata": {},
   "source": [
    " "
   ]
  },
  {
   "cell_type": "markdown",
   "id": "7c0f8384-6150-4505-8910-50e66b713d70",
   "metadata": {},
   "source": [
    " "
   ]
  },
  {
   "cell_type": "code",
   "execution_count": 6,
   "id": "54557ef9-031e-4359-8de9-c14d89d4890f",
   "metadata": {},
   "outputs": [
    {
     "data": {
      "text/plain": [
       "26.0"
      ]
     },
     "execution_count": 6,
     "metadata": {},
     "output_type": "execute_result"
    }
   ],
   "source": [
    "round(np.abs(2.9 - 3.94) / 3.94, 2) * 100"
   ]
  },
  {
   "cell_type": "markdown",
   "id": "94e2c0b0-3189-4ab5-87b9-da99e915dade",
   "metadata": {},
   "source": [
    " "
   ]
  },
  {
   "cell_type": "markdown",
   "id": "16f22781-e9f7-43fd-a06b-05b9e0b3b4e9",
   "metadata": {},
   "source": [
    " "
   ]
  },
  {
   "cell_type": "markdown",
   "id": "41fba6a7-8e0a-493e-9840-dbd01cfa24c1",
   "metadata": {},
   "source": [
    " "
   ]
  },
  {
   "cell_type": "code",
   "execution_count": 7,
   "id": "d6700a76-93ad-43fb-962a-eb888a595293",
   "metadata": {},
   "outputs": [
    {
     "data": {
      "text/plain": [
       "308.0"
      ]
     },
     "execution_count": 7,
     "metadata": {},
     "output_type": "execute_result"
    }
   ],
   "source": [
    "round(np.abs(2 - 0.49) / 0.49, 2) * 100"
   ]
  },
  {
   "cell_type": "markdown",
   "id": "8edfc6e9-7808-4809-94af-5df1c12a1f7e",
   "metadata": {},
   "source": [
    " "
   ]
  },
  {
   "cell_type": "markdown",
   "id": "d35c0c24-da33-44cc-b939-e62d07f5039d",
   "metadata": {},
   "source": [
    " "
   ]
  },
  {
   "cell_type": "markdown",
   "id": "b01cc8d1-c3a5-4ee0-8088-70940579a76c",
   "metadata": {},
   "source": [
    " "
   ]
  },
  {
   "cell_type": "code",
   "execution_count": 11,
   "id": "7f629044-bd1e-4ba4-abe3-378d454110b1",
   "metadata": {},
   "outputs": [
    {
     "data": {
      "text/plain": [
       "3362.9997026460064"
      ]
     },
     "execution_count": 11,
     "metadata": {},
     "output_type": "execute_result"
    }
   ],
   "source": [
    "np.linalg.cond(A)"
   ]
  },
  {
   "cell_type": "markdown",
   "id": "161d3f9c-d814-410e-a433-c2b3089f06e7",
   "metadata": {},
   "source": [
    " "
   ]
  },
  {
   "cell_type": "markdown",
   "id": "bdf450cd-71e6-4aa0-8b63-965018631d63",
   "metadata": {},
   "source": [
    " "
   ]
  },
  {
   "cell_type": "markdown",
   "id": "48e69c4f-0b12-4664-a105-9d36a9b782c4",
   "metadata": {},
   "source": [
    " "
   ]
  },
  {
   "cell_type": "markdown",
   "id": "d73623e0-d324-4126-b932-6a92c68a41f3",
   "metadata": {},
   "source": [
    " "
   ]
  },
  {
   "cell_type": "markdown",
   "id": "9a787d7d-398d-4c19-99a0-dd1a42b56d6c",
   "metadata": {},
   "source": [
    " "
   ]
  },
  {
   "cell_type": "markdown",
   "id": "050e9cbf-c355-468f-af59-a90c7b983375",
   "metadata": {},
   "source": [
    " "
   ]
  },
  {
   "cell_type": "markdown",
   "id": "dd12b12c-8e64-4c9f-9811-50e657ea6ae2",
   "metadata": {},
   "source": [
    "42."
   ]
  },
  {
   "cell_type": "markdown",
   "id": "a417989c-e649-44f2-85ba-51c0e4fd3c35",
   "metadata": {},
   "source": [
    " "
   ]
  },
  {
   "cell_type": "code",
   "execution_count": 59,
   "id": "06e5fd7c-845a-4577-bc98-43a93c235b37",
   "metadata": {},
   "outputs": [
    {
     "name": "stdout",
     "output_type": "stream",
     "text": [
      "[[ 4  0 -7 -7]\n",
      " [-6  1 11  9]\n",
      " [ 7 -5 10 19]\n",
      " [-1  2  3 -1]]\n"
     ]
    }
   ],
   "source": [
    "A = np.array(\n",
    "    [\n",
    "        [4, 0, -7, -7],\n",
    "        [-6, 1, 11, 9],\n",
    "        [7, -5, 10, 19],\n",
    "        [-1, 2, 3, -1]\n",
    "    ]\n",
    ")\n",
    "\n",
    "print(A)"
   ]
  },
  {
   "cell_type": "markdown",
   "id": "69b79c33-877b-4fd9-b80e-627390456add",
   "metadata": {},
   "source": [
    " "
   ]
  },
  {
   "cell_type": "markdown",
   "id": "5670518f-e67e-45f9-9cf2-e4e49f5b6aa4",
   "metadata": {},
   "source": [
    " "
   ]
  },
  {
   "cell_type": "code",
   "execution_count": 60,
   "id": "14c5eed2-6857-487e-82ce-939017e0602a",
   "metadata": {},
   "outputs": [
    {
     "data": {
      "text/plain": [
       "23682.927874659617"
      ]
     },
     "execution_count": 60,
     "metadata": {},
     "output_type": "execute_result"
    }
   ],
   "source": [
    "np.linalg.cond(A)"
   ]
  },
  {
   "cell_type": "markdown",
   "id": "7e9282eb-9caa-4721-8a61-ac8ceafa2186",
   "metadata": {},
   "source": [
    " "
   ]
  },
  {
   "cell_type": "markdown",
   "id": "7ba76377-98c7-4c92-9954-862e08cff048",
   "metadata": {},
   "source": [
    " "
   ]
  },
  {
   "cell_type": "markdown",
   "id": "cdf09a3f-5d69-47a7-9c6f-53ad8d596886",
   "metadata": {},
   "source": [
    " "
   ]
  },
  {
   "cell_type": "code",
   "execution_count": 61,
   "id": "73ddccd1-40d1-48f3-a663-c47255bc9a7c",
   "metadata": {},
   "outputs": [],
   "source": [
    "x = (np.random.rand(4)*10)\n",
    "\n",
    "b = A @ x"
   ]
  },
  {
   "cell_type": "markdown",
   "id": "a95753d5-8b38-4d3c-8582-89a0338e5793",
   "metadata": {},
   "source": [
    " "
   ]
  },
  {
   "cell_type": "markdown",
   "id": "33c2d043-39bd-4775-9c73-4efef9ca8e2f",
   "metadata": {},
   "source": [
    " "
   ]
  },
  {
   "cell_type": "code",
   "execution_count": 62,
   "id": "6578b27e-60dc-4ad9-ab52-7a02c2dd1e64",
   "metadata": {},
   "outputs": [
    {
     "data": {
      "text/plain": [
       "dtype('float64')"
      ]
     },
     "execution_count": 62,
     "metadata": {},
     "output_type": "execute_result"
    }
   ],
   "source": [
    "b.dtype"
   ]
  },
  {
   "cell_type": "markdown",
   "id": "e0e0d98f-7b2a-4e6c-97c2-4d0de1aae08e",
   "metadata": {},
   "source": [
    " "
   ]
  },
  {
   "cell_type": "markdown",
   "id": "22d07d6c-7732-4881-b2bb-b7aa42d7e832",
   "metadata": {},
   "source": [
    " "
   ]
  },
  {
   "cell_type": "markdown",
   "id": "d634c97c-7a36-41ee-88de-f7d2214ac37e",
   "metadata": {},
   "source": [
    " "
   ]
  },
  {
   "cell_type": "markdown",
   "id": "219a5ceb-e875-4d56-84f8-7e8ef8caca5c",
   "metadata": {},
   "source": [
    " "
   ]
  },
  {
   "cell_type": "code",
   "execution_count": 63,
   "id": "5129e740-12d9-4f3c-b6a9-2ef7d8ea5f67",
   "metadata": {},
   "outputs": [
    {
     "data": {
      "text/plain": [
       "array([-3.55271368e-14, -1.04805054e-12,  5.09814413e-13, -5.30242517e-13])"
      ]
     },
     "execution_count": 63,
     "metadata": {},
     "output_type": "execute_result"
    }
   ],
   "source": [
    "x_1 = np.linalg.solve(A, b)\n",
    "x_1 - x"
   ]
  },
  {
   "cell_type": "markdown",
   "id": "8df80a30-db31-4448-b565-1b4b56f6e3f5",
   "metadata": {},
   "source": [
    "###### "
   ]
  },
  {
   "cell_type": "markdown",
   "id": "119a7350-8ed9-4ae3-92d5-0b340d782bc5",
   "metadata": {},
   "source": [
    " "
   ]
  },
  {
   "cell_type": "code",
   "execution_count": 66,
   "id": "f48f368e-3b66-4390-ab51-74e31106ccc8",
   "metadata": {},
   "outputs": [
    {
     "data": {
      "text/plain": [
       "array([7.20875103724565 , 3.958220451780279, 5.994076306988045,\n",
       "       5.790386914078062])"
      ]
     },
     "execution_count": 66,
     "metadata": {},
     "output_type": "execute_result"
    }
   ],
   "source": [
    "x"
   ]
  },
  {
   "cell_type": "markdown",
   "id": "7eacced5-15bb-48ef-9625-c8e080c6425e",
   "metadata": {},
   "source": [
    " "
   ]
  },
  {
   "cell_type": "markdown",
   "id": "4acaa264-9efe-456a-8ba3-e59e07e70c3d",
   "metadata": {},
   "source": [
    " "
   ]
  },
  {
   "cell_type": "markdown",
   "id": "637727b7-2cf2-4acd-8335-be8151f92acc",
   "metadata": {},
   "source": [
    " "
   ]
  },
  {
   "cell_type": "code",
   "execution_count": 37,
   "id": "58ca8b3a-ec8d-4774-8ef0-99884caf4b2e",
   "metadata": {},
   "outputs": [
    {
     "data": {
      "text/plain": [
       "dtype('int16')"
      ]
     },
     "execution_count": 37,
     "metadata": {},
     "output_type": "execute_result"
    }
   ],
   "source": [
    "A.dtype"
   ]
  },
  {
   "cell_type": "markdown",
   "id": "5df62402-34b3-4cf8-86f0-8d7305de8cf5",
   "metadata": {},
   "source": [
    " "
   ]
  },
  {
   "cell_type": "code",
   "execution_count": 71,
   "id": "f9e880d6-8052-4499-a7f4-7c9c2a5d31f1",
   "metadata": {},
   "outputs": [],
   "source": [
    "np.set_printoptions(precision=5)"
   ]
  },
  {
   "cell_type": "markdown",
   "id": "645e12f7-d1c6-455d-8998-03f8f5a7dce5",
   "metadata": {},
   "source": [
    " "
   ]
  },
  {
   "cell_type": "markdown",
   "id": "4c7fc8cb-c78c-46ff-87ea-825798c6ce87",
   "metadata": {},
   "source": [
    " "
   ]
  },
  {
   "cell_type": "markdown",
   "id": "f9d0c71a-4e87-49db-8b9d-c1b875fd4555",
   "metadata": {},
   "source": [
    " "
   ]
  },
  {
   "cell_type": "markdown",
   "id": "246b2843-09c9-440f-85d7-cf97abb1531a",
   "metadata": {},
   "source": [
    " "
   ]
  },
  {
   "cell_type": "markdown",
   "id": "6d9ae27d-f8b4-4fd2-84ed-36c2d9446cb7",
   "metadata": {},
   "source": [
    " "
   ]
  },
  {
   "cell_type": "markdown",
   "id": "7a100854-b9db-44f8-9d01-611dfb28cf80",
   "metadata": {},
   "source": [
    "44."
   ]
  },
  {
   "cell_type": "code",
   "execution_count": 76,
   "id": "cd608ce7-fe4d-4336-af44-426eb9699f06",
   "metadata": {},
   "outputs": [
    {
     "name": "stdout",
     "output_type": "stream",
     "text": [
      "[[1.      0.5     0.33333 0.25    0.2    ]\n",
      " [0.5     0.33333 0.25    0.2     0.16667]\n",
      " [0.33333 0.25    0.2     0.16667 0.14286]\n",
      " [0.25    0.2     0.16667 0.14286 0.125  ]\n",
      " [0.2     0.16667 0.14286 0.125   0.11111]]\n"
     ]
    }
   ],
   "source": [
    "from scipy.linalg import hilbert\n",
    "\n",
    "H = hilbert(5)\n",
    "\n",
    "print(H)"
   ]
  },
  {
   "cell_type": "markdown",
   "id": "0ca890f9-b76c-49b6-aa21-9f66d168b23e",
   "metadata": {},
   "source": [
    " "
   ]
  },
  {
   "cell_type": "markdown",
   "id": "f4196f87-9471-4e13-a4a2-6fc8561f6dfa",
   "metadata": {},
   "source": [
    " "
   ]
  },
  {
   "cell_type": "markdown",
   "id": "fabbf7fc-d0ba-4dda-9426-a944be6ca1e6",
   "metadata": {},
   "source": [
    " "
   ]
  },
  {
   "cell_type": "code",
   "execution_count": 77,
   "id": "af78fef6-6610-45fb-80a3-b66a7c6f82ad",
   "metadata": {},
   "outputs": [
    {
     "data": {
      "text/plain": [
       "476607.2502419222"
      ]
     },
     "execution_count": 77,
     "metadata": {},
     "output_type": "execute_result"
    }
   ],
   "source": [
    "np.linalg.cond(H)"
   ]
  },
  {
   "cell_type": "markdown",
   "id": "907cd0fd-142f-41e2-a427-7df254360b09",
   "metadata": {},
   "source": [
    " "
   ]
  },
  {
   "cell_type": "markdown",
   "id": "7e8cf2c7-5790-46c7-b86c-a4939d5d54f1",
   "metadata": {},
   "source": [
    " "
   ]
  },
  {
   "cell_type": "code",
   "execution_count": 79,
   "id": "bf080492-cdbf-479e-857f-55b63f0df440",
   "metadata": {},
   "outputs": [
    {
     "data": {
      "text/plain": [
       "array([-4.30191e-10,  6.60475e-09, -2.43890e-08,  3.25090e-08,\n",
       "       -1.43409e-08])"
      ]
     },
     "execution_count": 79,
     "metadata": {},
     "output_type": "execute_result"
    }
   ],
   "source": [
    "e_5 = np.array([0, 0, 0, 0, 1])\n",
    "\n",
    "np.linalg.solve(H, e_5) - np.array([630,-12600,56700,-88200,44100])"
   ]
  },
  {
   "cell_type": "markdown",
   "id": "3af5c3f7-8b63-4d32-afc7-bac6ac711114",
   "metadata": {},
   "source": [
    " "
   ]
  },
  {
   "cell_type": "markdown",
   "id": "16673a2a-a78f-4b2b-81ac-2786e9f67d75",
   "metadata": {},
   "source": [
    " "
   ]
  },
  {
   "cell_type": "markdown",
   "id": "67aaa7d1-7fdc-47fb-a0c3-c7f3c684fa5a",
   "metadata": {},
   "source": [
    " "
   ]
  },
  {
   "cell_type": "markdown",
   "id": "a231893a-aa95-4d95-b954-f805f56dfb0b",
   "metadata": {},
   "source": [
    " "
   ]
  },
  {
   "cell_type": "code",
   "execution_count": 85,
   "id": "89263f80-c4a3-4030-b5c6-52247c96fe60",
   "metadata": {},
   "outputs": [],
   "source": [
    "H = hilbert(16)\n",
    "\n",
    "H_inv = np.linalg.inv(H)"
   ]
  },
  {
   "cell_type": "markdown",
   "id": "95bff72b-29d7-4ff6-9e6c-f9abb861fc67",
   "metadata": {},
   "source": [
    " "
   ]
  },
  {
   "cell_type": "code",
   "execution_count": 86,
   "id": "85b8656e-e650-43dd-85c7-dabfc21fafa9",
   "metadata": {},
   "outputs": [
    {
     "name": "stdout",
     "output_type": "stream",
     "text": [
      "[[ 1.000e+00  2.861e-06 -1.984e-04 -1.221e-03 -1.367e-02  1.406e-01\n",
      "   6.250e-02 -2.500e-01  0.000e+00 -5.000e-01 -6.250e-02  1.016e-01\n",
      "   5.625e-01  1.250e-01 -1.250e-01 -3.125e-02]\n",
      " [ 1.909e-08  1.000e+00  5.969e-06 -2.622e-03  7.170e-03 -6.519e-02\n",
      "   3.350e-01 -4.637e-01  9.326e-01 -4.216e-01  5.131e-02  2.323e-02\n",
      "   7.310e-01 -9.938e-01  5.541e-02 -1.978e-01]\n",
      " [-3.646e-09  9.654e-07  1.000e+00 -1.090e-03 -7.637e-03 -4.056e-02\n",
      "   1.300e-01  1.232e-01  4.400e-01  5.297e-02 -7.787e-02  1.893e-01\n",
      "   5.309e-02 -1.084e-01 -8.579e-02 -1.250e-01]\n",
      " [-1.894e-08  5.507e-06 -1.160e-04  9.999e-01 -1.094e-02  3.476e-02\n",
      "  -2.058e-01  4.589e-01  2.524e-01  3.857e-01 -2.230e-01  8.313e-02\n",
      "  -4.875e-01  7.756e-01 -4.004e-01 -5.549e-02]\n",
      " [-1.088e-08  2.898e-06 -6.912e-05 -8.016e-04  9.877e-01  9.162e-03\n",
      "   1.487e-01  3.016e-01 -2.585e-01  1.336e-01 -5.414e-02  1.804e-01\n",
      "  -4.153e-02  5.538e-01 -3.197e-01 -2.424e-02]\n",
      " [ 1.683e-08 -1.318e-06  9.490e-05 -3.166e-03  2.470e-02  8.347e-01\n",
      "   6.337e-01 -1.234e+00  2.038e+00 -1.124e+00  4.422e-01  1.433e-01\n",
      "   2.107e-01 -1.822e-01  7.378e-02 -1.227e-01]\n",
      " [-1.121e-08  2.835e-06 -5.847e-05  2.127e-04 -1.073e-02  1.695e-02\n",
      "   9.994e-01  7.459e-02 -2.090e-02 -7.849e-02  6.892e-01  1.950e-02\n",
      "  -7.121e-01  6.381e-01 -4.010e-01  3.449e-04]\n",
      " [-8.715e-09  3.104e-06 -2.236e-05 -4.529e-04 -9.952e-03 -4.440e-02\n",
      "   5.765e-02  1.421e+00  7.163e-02  2.925e-01 -4.089e-01  2.443e-01\n",
      "  -6.754e-02  2.918e-01 -1.232e-01 -8.695e-02]\n",
      " [-1.112e-08  3.108e-06 -9.244e-05  9.529e-04 -7.681e-03  4.184e-02\n",
      "   1.053e-01  3.112e-01  6.425e-01  2.429e-01  1.506e-01 -8.410e-03\n",
      "   8.570e-03  4.968e-01 -7.216e-02 -2.147e-02]\n",
      " [ 6.982e-09 -2.511e-07  7.845e-05 -1.193e-03  1.214e-02 -4.569e-02\n",
      "   3.821e-01 -5.845e-01  6.162e-01  6.401e-01 -9.202e-02  3.533e-01\n",
      "   4.066e-02 -1.089e-01  3.572e-01 -1.120e-01]\n",
      " [ 6.392e-09  1.257e-06  8.709e-05 -2.438e-03  1.155e-03 -7.168e-02\n",
      "   1.793e-01 -9.012e-02  6.521e-01 -1.953e-01  1.055e+00 -2.679e-02\n",
      "   1.003e-01 -1.173e-01  1.676e-01 -8.415e-02]\n",
      " [ 1.295e-09  1.438e-06  2.379e-05 -1.703e-03  5.651e-03 -3.485e-02\n",
      "   1.804e-01 -3.553e-01  3.767e-01 -3.605e-01  2.580e-01  9.413e-01\n",
      "   5.623e-02  1.777e-01  5.304e-03 -8.852e-02]\n",
      " [ 1.914e-09 -3.331e-07  2.540e-05 -1.886e-03  9.499e-04 -9.471e-02\n",
      "   1.706e-01 -3.315e-01  3.721e-01  1.724e-01 -6.840e-01  6.797e-01\n",
      "   5.565e-01  1.961e-02  2.194e-01 -4.128e-02]\n",
      " [-2.717e-09  2.707e-06 -6.832e-05  6.433e-04 -7.347e-03 -2.098e-02\n",
      "  -5.634e-02  6.441e-01 -5.546e-01  1.020e+00 -8.071e-01  5.111e-01\n",
      "  -3.075e-01  1.115e+00  7.020e-02 -5.778e-02]\n",
      " [-1.154e-08  1.623e-06 -1.391e-05  9.474e-04 -1.325e-02  5.056e-02\n",
      "  -1.602e-01  2.935e-01 -4.465e-01  2.486e-01 -1.160e-01  1.874e-01\n",
      "  -3.420e-01  6.681e-01  7.668e-01 -2.461e-02]\n",
      " [-8.389e-09  1.757e-06 -3.062e-05  5.303e-04 -1.082e-02 -1.606e-02\n",
      "   4.428e-02  1.910e-01 -2.170e-01  1.041e-01  2.510e-01 -6.034e-02\n",
      "  -1.539e-01  3.345e-01 -9.698e-02  9.680e-01]]\n"
     ]
    }
   ],
   "source": [
    "np.set_printoptions(precision=3)\n",
    "\n",
    "print(H @ H_inv)"
   ]
  },
  {
   "cell_type": "markdown",
   "id": "f035035e-b59d-493f-902d-645a5ccff5f0",
   "metadata": {},
   "source": [
    " "
   ]
  },
  {
   "cell_type": "markdown",
   "id": "8d3a7a79-e19d-4acb-a9c4-1f3e689d22d3",
   "metadata": {},
   "source": [
    " "
   ]
  },
  {
   "cell_type": "markdown",
   "id": "750b83c0-81f3-487b-bd84-8aab43949e21",
   "metadata": {},
   "source": [
    " "
   ]
  },
  {
   "cell_type": "markdown",
   "id": "3ea2b104-bbdf-4751-9762-3042ee8b1da5",
   "metadata": {},
   "source": [
    " "
   ]
  },
  {
   "cell_type": "markdown",
   "id": "6d6caa8d-e591-41da-8dac-15a742d25f7c",
   "metadata": {},
   "source": [
    " "
   ]
  },
  {
   "cell_type": "markdown",
   "id": "b242b859-0653-4da0-a92d-4071cad40aee",
   "metadata": {},
   "source": [
    " "
   ]
  },
  {
   "cell_type": "markdown",
   "id": "2db71dc2-303c-4cab-a47a-3925cd5e0675",
   "metadata": {},
   "source": [
    " "
   ]
  },
  {
   "cell_type": "markdown",
   "id": "bb300f8c-92fc-44be-a1d9-c4391263e8ec",
   "metadata": {},
   "source": [
    " "
   ]
  },
  {
   "cell_type": "markdown",
   "id": "0e03b931-03cb-42ad-bb21-00d00abd590d",
   "metadata": {},
   "source": [
    " "
   ]
  },
  {
   "cell_type": "markdown",
   "id": "d71ed293-ae71-4553-a368-96e5f2d111a4",
   "metadata": {},
   "source": [
    " "
   ]
  },
  {
   "cell_type": "markdown",
   "id": "ece5a109-56e8-4208-a2fb-7946c7ae0dd9",
   "metadata": {},
   "source": [
    " "
   ]
  },
  {
   "cell_type": "markdown",
   "id": "4d3ed819-62a2-447d-ae0d-c1a02b649dba",
   "metadata": {},
   "source": [
    " "
   ]
  },
  {
   "cell_type": "markdown",
   "id": "56b9d394-b6e3-4db3-8b09-b8bf468b44c2",
   "metadata": {},
   "source": [
    " "
   ]
  },
  {
   "cell_type": "markdown",
   "id": "2293aa8b-3128-400e-bc48-62f18de37127",
   "metadata": {},
   "source": [
    " "
   ]
  }
 ],
 "metadata": {
  "kernelspec": {
   "display_name": "Python 3 (ipykernel)",
   "language": "python",
   "name": "python3"
  },
  "language_info": {
   "codemirror_mode": {
    "name": "ipython",
    "version": 3
   },
   "file_extension": ".py",
   "mimetype": "text/x-python",
   "name": "python",
   "nbconvert_exporter": "python",
   "pygments_lexer": "ipython3",
   "version": "3.9.6"
  }
 },
 "nbformat": 4,
 "nbformat_minor": 5
}
