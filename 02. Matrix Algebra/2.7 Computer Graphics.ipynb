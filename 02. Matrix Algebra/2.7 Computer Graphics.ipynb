{
 "cells": [
  {
   "cell_type": "markdown",
   "id": "9b27129b-f86e-4640-b215-a0ea9dd76412",
   "metadata": {},
   "source": [
    " "
   ]
  },
  {
   "cell_type": "markdown",
   "id": "21b02861-18b3-46f5-b8ae-d1d31f5a965a",
   "metadata": {},
   "source": [
    " "
   ]
  },
  {
   "cell_type": "markdown",
   "id": "57b60978-920a-4dcd-b177-6316f0a14660",
   "metadata": {},
   "source": [
    " "
   ]
  },
  {
   "cell_type": "markdown",
   "id": "1b2f4152-610c-4639-83bb-65fb114cec65",
   "metadata": {},
   "source": [
    " "
   ]
  },
  {
   "cell_type": "code",
   "execution_count": 1,
   "id": "64e68625-c939-4cb4-96cc-0a3d55259e0e",
   "metadata": {},
   "outputs": [],
   "source": [
    "import numpy as np"
   ]
  },
  {
   "cell_type": "markdown",
   "id": "44086100-0710-44b2-95e4-d8e34d6b0a38",
   "metadata": {},
   "source": [
    " "
   ]
  },
  {
   "cell_type": "markdown",
   "id": "bb60d234-145c-4a49-a465-72d4a56a391d",
   "metadata": {},
   "source": [
    " "
   ]
  },
  {
   "cell_type": "markdown",
   "id": "36831ab0-1f6c-4742-aee1-78e74ea72e61",
   "metadata": {},
   "source": [
    " "
   ]
  },
  {
   "cell_type": "markdown",
   "id": "ff974fd2-76c7-4495-9a7b-416cdd9b4f40",
   "metadata": {},
   "source": [
    " "
   ]
  },
  {
   "cell_type": "markdown",
   "id": "7e156cfe-636c-4c0e-a443-647a20d86650",
   "metadata": {},
   "source": [
    " "
   ]
  },
  {
   "cell_type": "markdown",
   "id": "8dc2a1c8-8786-4e9f-aaa5-de09475db5f2",
   "metadata": {},
   "source": [
    " "
   ]
  },
  {
   "cell_type": "markdown",
   "id": "a54493e8-41e3-43fc-a1be-5c73002da239",
   "metadata": {},
   "source": [
    " "
   ]
  },
  {
   "cell_type": "markdown",
   "id": "91bee73d-9169-4137-9371-833a4ea2de79",
   "metadata": {},
   "source": [
    " "
   ]
  },
  {
   "cell_type": "markdown",
   "id": "a3396129-824c-489a-a3d6-29e304aef665",
   "metadata": {},
   "source": [
    " "
   ]
  },
  {
   "cell_type": "markdown",
   "id": "59906a01-53de-4fd2-8349-c2ff07967c8b",
   "metadata": {},
   "source": [
    "21."
   ]
  },
  {
   "cell_type": "markdown",
   "id": "15c5e2d6-2f05-4709-a22a-1a49cdbadadc",
   "metadata": {},
   "source": [
    " "
   ]
  },
  {
   "cell_type": "code",
   "execution_count": 2,
   "id": "46227758-456e-4d17-8f24-722544868b65",
   "metadata": {},
   "outputs": [
    {
     "name": "stdout",
     "output_type": "stream",
     "text": [
      "[[0.61  0.29  0.15 ]\n",
      " [0.35  0.59  0.063]\n",
      " [0.04  0.12  0.787]]\n"
     ]
    }
   ],
   "source": [
    "A = np.array(\n",
    "    [\n",
    "        [.61, .29, .150],\n",
    "        [.35, .59, .063],\n",
    "        [.04, .12, .787],\n",
    "    ]\n",
    ")\n",
    "\n",
    "print(A)"
   ]
  },
  {
   "cell_type": "markdown",
   "id": "bd395064-ba06-40f7-979a-4ec81c271cb4",
   "metadata": {},
   "source": [
    " "
   ]
  },
  {
   "cell_type": "markdown",
   "id": "c71531a4-1fc0-4071-b5f9-251d702aab2d",
   "metadata": {},
   "source": [
    " "
   ]
  },
  {
   "cell_type": "code",
   "execution_count": 3,
   "id": "c5de239a-456b-40eb-a2b4-208c48069261",
   "metadata": {},
   "outputs": [
    {
     "data": {
      "text/plain": [
       "array([[ 2.25855419, -1.03950752, -0.34726068],\n",
       "       [-1.34953521,  2.34409612,  0.06957081],\n",
       "       [ 0.09098101, -0.30458861,  1.27768987]])"
      ]
     },
     "execution_count": 3,
     "metadata": {},
     "output_type": "execute_result"
    }
   ],
   "source": [
    "np.linalg.inv(A)"
   ]
  },
  {
   "cell_type": "markdown",
   "id": "d7d94c6c-a892-4f71-bd47-37d75681a7e0",
   "metadata": {},
   "source": [
    " "
   ]
  },
  {
   "cell_type": "markdown",
   "id": "1ce3153e-28fe-4c6c-9f87-d8f40b88b0e9",
   "metadata": {},
   "source": [
    " "
   ]
  },
  {
   "cell_type": "markdown",
   "id": "8878f057-03cd-4687-9f2f-fec024b49ec1",
   "metadata": {},
   "source": [
    " "
   ]
  },
  {
   "cell_type": "markdown",
   "id": "13a1a455-b2ab-42d4-840e-9a52b7c567dc",
   "metadata": {},
   "source": [
    " "
   ]
  },
  {
   "cell_type": "markdown",
   "id": "413ef0fb-320e-465b-963e-f407100def8a",
   "metadata": {},
   "source": [
    " "
   ]
  },
  {
   "cell_type": "markdown",
   "id": "5ec09034-22d1-4480-8587-43db3767494c",
   "metadata": {},
   "source": [
    " "
   ]
  },
  {
   "cell_type": "markdown",
   "id": "91a67499-255c-4b0a-87ea-f621541fb26d",
   "metadata": {},
   "source": [
    " "
   ]
  },
  {
   "cell_type": "markdown",
   "id": "f254f826-3b73-40bd-b99a-9b90a0df28f2",
   "metadata": {},
   "source": [
    " "
   ]
  },
  {
   "cell_type": "markdown",
   "id": "d4b6e787-6484-4e3c-a70a-063be810cccb",
   "metadata": {},
   "source": [
    " "
   ]
  },
  {
   "cell_type": "markdown",
   "id": "61b9b93e-2693-4cbd-ab5c-3f94fec9c633",
   "metadata": {},
   "source": [
    " "
   ]
  },
  {
   "cell_type": "markdown",
   "id": "a6572e8c-02eb-4b11-913c-9e80b0d2b641",
   "metadata": {},
   "source": [
    " "
   ]
  },
  {
   "cell_type": "markdown",
   "id": "b995b4a4-1083-4407-b6b4-480c5b353c63",
   "metadata": {},
   "source": [
    " "
   ]
  },
  {
   "cell_type": "markdown",
   "id": "2eea58a3-36f6-4f45-8606-4f9ec7e2303d",
   "metadata": {},
   "source": [
    " "
   ]
  },
  {
   "cell_type": "markdown",
   "id": "aba3701e-a122-4ca2-8629-e18a91f01a8a",
   "metadata": {},
   "source": [
    " "
   ]
  },
  {
   "cell_type": "markdown",
   "id": "d5cb7dcb-9737-45a9-bde2-b92564fb30f8",
   "metadata": {},
   "source": [
    " "
   ]
  },
  {
   "cell_type": "markdown",
   "id": "7e2a4449-ebda-4798-ae53-aff426b43555",
   "metadata": {},
   "source": [
    " "
   ]
  },
  {
   "cell_type": "markdown",
   "id": "af3b4f05-dcc3-43ed-9ed7-98060280ce45",
   "metadata": {},
   "source": [
    " "
   ]
  },
  {
   "cell_type": "markdown",
   "id": "3f789c38-878d-4e09-ac21-f519394d543a",
   "metadata": {},
   "source": [
    " "
   ]
  },
  {
   "cell_type": "markdown",
   "id": "18b56381-bf66-4192-bc65-7625a6935471",
   "metadata": {},
   "source": [
    " "
   ]
  },
  {
   "cell_type": "markdown",
   "id": "dd01dee2-a97f-4ada-9588-f21dc56c9b6b",
   "metadata": {},
   "source": [
    " "
   ]
  },
  {
   "cell_type": "markdown",
   "id": "9cf86f1e-9f29-4fa5-9a95-fb1d4f201cef",
   "metadata": {},
   "source": [
    " "
   ]
  },
  {
   "cell_type": "markdown",
   "id": "e100f79c-7b0c-4123-a17c-c49702878326",
   "metadata": {},
   "source": [
    " "
   ]
  },
  {
   "cell_type": "markdown",
   "id": "6d5eaf84-c202-4f64-a07e-73e41b292f53",
   "metadata": {},
   "source": [
    " "
   ]
  },
  {
   "cell_type": "markdown",
   "id": "605f9197-6e5b-4170-802b-3907ffcf18d5",
   "metadata": {},
   "source": [
    " "
   ]
  },
  {
   "cell_type": "markdown",
   "id": "7cd33c9e-447a-474b-913e-d749a3418a35",
   "metadata": {},
   "source": [
    " "
   ]
  },
  {
   "cell_type": "markdown",
   "id": "3b7e6228-37c7-4c4d-a800-b5e4bbaf54d5",
   "metadata": {},
   "source": [
    " "
   ]
  },
  {
   "cell_type": "markdown",
   "id": "3c41f3ca-e5c9-4919-802f-81d0a7a021a3",
   "metadata": {},
   "source": [
    " "
   ]
  },
  {
   "cell_type": "markdown",
   "id": "a12ae511-c3ee-41ff-a176-c29788319b49",
   "metadata": {},
   "source": [
    " "
   ]
  },
  {
   "cell_type": "markdown",
   "id": "0ceef09f-70b9-4442-9d1c-18d01162c759",
   "metadata": {},
   "source": [
    " "
   ]
  },
  {
   "cell_type": "markdown",
   "id": "e89c6654-66d8-4507-8b82-6d4e0c91cdca",
   "metadata": {},
   "source": [
    " "
   ]
  },
  {
   "cell_type": "markdown",
   "id": "cc22d3c4-fdd4-4701-9697-1d94a151916c",
   "metadata": {},
   "source": [
    " "
   ]
  },
  {
   "cell_type": "markdown",
   "id": "273ad15f-41b0-4c8c-994d-e4eb21b9690e",
   "metadata": {},
   "source": [
    " "
   ]
  }
 ],
 "metadata": {
  "kernelspec": {
   "display_name": "projects",
   "language": "python",
   "name": "projects"
  },
  "language_info": {
   "codemirror_mode": {
    "name": "ipython",
    "version": 3
   },
   "file_extension": ".py",
   "mimetype": "text/x-python",
   "name": "python",
   "nbconvert_exporter": "python",
   "pygments_lexer": "ipython3",
   "version": "3.11.6"
  }
 },
 "nbformat": 4,
 "nbformat_minor": 5
}
