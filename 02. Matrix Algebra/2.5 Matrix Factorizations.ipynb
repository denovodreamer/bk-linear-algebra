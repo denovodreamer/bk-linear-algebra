{
 "cells": [
  {
   "cell_type": "markdown",
   "id": "81feb6e9",
   "metadata": {},
   "source": [
    " "
   ]
  },
  {
   "cell_type": "markdown",
   "id": "23718699",
   "metadata": {},
   "source": [
    " "
   ]
  },
  {
   "cell_type": "markdown",
   "id": "a31f0e2d",
   "metadata": {},
   "source": [
    " "
   ]
  },
  {
   "cell_type": "markdown",
   "id": "9253888e",
   "metadata": {},
   "source": [
    " "
   ]
  },
  {
   "cell_type": "markdown",
   "id": "c74d383a-0ae1-44a0-b072-5beade0f3324",
   "metadata": {},
   "source": [
    " "
   ]
  },
  {
   "cell_type": "markdown",
   "id": "dc148517-a596-484b-9c1c-49d77256a827",
   "metadata": {},
   "source": [
    " "
   ]
  },
  {
   "cell_type": "code",
   "execution_count": 24,
   "id": "61fe967a-b80f-46aa-b800-509c26f80ba9",
   "metadata": {},
   "outputs": [],
   "source": [
    "import numpy as np\n",
    "from scipy.linalg import lu"
   ]
  },
  {
   "cell_type": "markdown",
   "id": "cc8c0852-8dee-485e-b4ea-3d053d41147f",
   "metadata": {},
   "source": [
    " "
   ]
  },
  {
   "cell_type": "markdown",
   "id": "b47a4b0e-5d48-490f-be37-b3c997cf5f77",
   "metadata": {},
   "source": [
    " "
   ]
  },
  {
   "cell_type": "markdown",
   "id": "2a1d24e1-47b7-4efa-ac90-1a296869e03b",
   "metadata": {},
   "source": [
    " "
   ]
  },
  {
   "cell_type": "markdown",
   "id": "7b608918-6df4-4b0a-b837-b5a8c9445130",
   "metadata": {},
   "source": [
    " "
   ]
  },
  {
   "cell_type": "markdown",
   "id": "df7b65a5-64a4-4911-b63a-b4faa8f9cbe9",
   "metadata": {},
   "source": [
    " "
   ]
  },
  {
   "cell_type": "markdown",
   "id": "dd8e4e94-b4f6-4a29-aa1c-d00bb28c56eb",
   "metadata": {},
   "source": [
    "31."
   ]
  },
  {
   "cell_type": "markdown",
   "id": "0606c082-e0f6-4119-8c58-0bcefef73e55",
   "metadata": {},
   "source": [
    " "
   ]
  },
  {
   "cell_type": "code",
   "execution_count": 32,
   "id": "7168259d-6180-445a-8a15-256e778b01b4",
   "metadata": {},
   "outputs": [
    {
     "name": "stdout",
     "output_type": "stream",
     "text": [
      "(8, 8)\n",
      "[[ 4. -1. -1.  0.  0.  0.  0.  0.]\n",
      " [-1.  4.  0. -1.  0.  0.  0.  0.]\n",
      " [-1.  0.  4. -1. -1.  0.  0.  0.]\n",
      " [ 0. -1. -1.  4.  0. -1.  0.  0.]\n",
      " [ 0.  0. -1.  0.  4. -1. -1.  0.]\n",
      " [ 0.  0.  0. -1. -1.  4.  0. -1.]\n",
      " [ 0.  0.  0.  0. -1.  0.  4. -1.]\n",
      " [ 0.  0.  0.  0.  0. -1. -1.  4.]]\n"
     ]
    }
   ],
   "source": [
    "b = np.array([5, 15, 0, 10, 0, 10, 20, 30])\n",
    "\n",
    "d = np.array([-1, 0, -1, 0, -1, 0, -1])\n",
    "\n",
    "A = np.zeros(8)\n",
    "A = A + np.diagflat(d, 1)\n",
    "A = A + np.diagflat(-np.ones(6), 2)\n",
    "A = A + A.T + 4 * np.identity(8)\n",
    "\n",
    "print(A.shape)\n",
    "print(A)"
   ]
  },
  {
   "cell_type": "markdown",
   "id": "965d9cf9-696d-4e47-b220-811099ddab43",
   "metadata": {},
   "source": [
    " "
   ]
  },
  {
   "cell_type": "markdown",
   "id": "5a3bde23-bba6-4545-a8a3-750b3cc095de",
   "metadata": {},
   "source": [
    " "
   ]
  },
  {
   "cell_type": "markdown",
   "id": "c6615ac6-449f-421f-b433-9091a93125b7",
   "metadata": {},
   "source": [
    " "
   ]
  },
  {
   "cell_type": "markdown",
   "id": "ae42c683-73ff-43d5-a790-4d84d447ddc0",
   "metadata": {},
   "source": [
    " "
   ]
  },
  {
   "cell_type": "code",
   "execution_count": 26,
   "id": "81d35f53-1e07-44d2-bcca-1d73f91eb073",
   "metadata": {},
   "outputs": [],
   "source": [
    "P, L, U = lu(A)"
   ]
  },
  {
   "cell_type": "markdown",
   "id": "3e8c42e2-b1e9-4114-a7d1-053423b0f13c",
   "metadata": {},
   "source": [
    " "
   ]
  },
  {
   "cell_type": "markdown",
   "id": "2932e82b-d6b9-4683-bf92-30ebb14f6b28",
   "metadata": {},
   "source": [
    " "
   ]
  },
  {
   "cell_type": "code",
   "execution_count": 30,
   "id": "f8ce24d1-8c0e-4f11-a6dd-f4be065d38b1",
   "metadata": {},
   "outputs": [
    {
     "name": "stdout",
     "output_type": "stream",
     "text": [
      "[[1. 0. 0. 0. 0. 0. 0. 0.]\n",
      " [0. 1. 0. 0. 0. 0. 0. 0.]\n",
      " [0. 0. 1. 0. 0. 0. 0. 0.]\n",
      " [0. 0. 0. 1. 0. 0. 0. 0.]\n",
      " [0. 0. 0. 0. 1. 0. 0. 0.]\n",
      " [0. 0. 0. 0. 0. 1. 0. 0.]\n",
      " [0. 0. 0. 0. 0. 0. 1. 0.]\n",
      " [0. 0. 0. 0. 0. 0. 0. 1.]]\n",
      "[[ 1.    0.    0.    0.    0.    0.    0.    0.  ]\n",
      " [-0.25  1.    0.    0.    0.    0.    0.    0.  ]\n",
      " [-0.25 -0.07  1.    0.    0.    0.    0.    0.  ]\n",
      " [ 0.   -0.27 -0.29  1.    0.    0.    0.    0.  ]\n",
      " [ 0.    0.   -0.27 -0.08  1.    0.    0.    0.  ]\n",
      " [ 0.    0.    0.   -0.29 -0.29  1.    0.    0.  ]\n",
      " [ 0.    0.    0.    0.   -0.27 -0.09  1.    0.  ]\n",
      " [ 0.    0.    0.    0.    0.   -0.29 -0.29  1.  ]]\n",
      "[[ 4.   -1.   -1.    0.    0.    0.    0.    0.  ]\n",
      " [ 0.    3.75 -0.25 -1.    0.    0.    0.    0.  ]\n",
      " [ 0.    0.    3.73 -1.07 -1.    0.    0.    0.  ]\n",
      " [ 0.    0.    0.    3.43 -0.29 -1.    0.    0.  ]\n",
      " [ 0.    0.    0.    0.    3.71 -1.08 -1.    0.  ]\n",
      " [ 0.    0.    0.    0.    0.    3.39 -0.29 -1.  ]\n",
      " [ 0.    0.    0.    0.    0.    0.    3.71 -1.09]\n",
      " [ 0.    0.    0.    0.    0.    0.    0.    3.39]]\n"
     ]
    }
   ],
   "source": [
    "print(P)\n",
    "print(L.round(2))\n",
    "print(U.round(2))"
   ]
  },
  {
   "cell_type": "markdown",
   "id": "3be29b73-dc12-4702-8a24-a596af45d489",
   "metadata": {},
   "source": [
    " "
   ]
  },
  {
   "cell_type": "markdown",
   "id": "86fa7a7b-1174-4152-9f7a-015c63632243",
   "metadata": {},
   "source": [
    " "
   ]
  },
  {
   "cell_type": "markdown",
   "id": "df705987-3823-4bf8-a157-51a920e09cc5",
   "metadata": {},
   "source": [
    " "
   ]
  },
  {
   "cell_type": "code",
   "execution_count": 31,
   "id": "7e4f5808-388c-434b-9c5a-56961ad9219a",
   "metadata": {},
   "outputs": [
    {
     "data": {
      "text/plain": [
       "array([[0.00000000e+00, 0.00000000e+00, 0.00000000e+00, 0.00000000e+00,\n",
       "        0.00000000e+00, 0.00000000e+00, 0.00000000e+00, 0.00000000e+00],\n",
       "       [0.00000000e+00, 0.00000000e+00, 0.00000000e+00, 0.00000000e+00,\n",
       "        0.00000000e+00, 0.00000000e+00, 0.00000000e+00, 0.00000000e+00],\n",
       "       [0.00000000e+00, 3.46944695e-18, 0.00000000e+00, 0.00000000e+00,\n",
       "        0.00000000e+00, 0.00000000e+00, 0.00000000e+00, 0.00000000e+00],\n",
       "       [0.00000000e+00, 0.00000000e+00, 0.00000000e+00, 0.00000000e+00,\n",
       "        0.00000000e+00, 0.00000000e+00, 0.00000000e+00, 0.00000000e+00],\n",
       "       [0.00000000e+00, 0.00000000e+00, 0.00000000e+00, 2.64338815e-17,\n",
       "        0.00000000e+00, 0.00000000e+00, 0.00000000e+00, 0.00000000e+00],\n",
       "       [0.00000000e+00, 0.00000000e+00, 0.00000000e+00, 0.00000000e+00,\n",
       "        0.00000000e+00, 0.00000000e+00, 0.00000000e+00, 0.00000000e+00],\n",
       "       [0.00000000e+00, 0.00000000e+00, 0.00000000e+00, 0.00000000e+00,\n",
       "        0.00000000e+00, 2.33570849e-17, 0.00000000e+00, 0.00000000e+00],\n",
       "       [0.00000000e+00, 0.00000000e+00, 0.00000000e+00, 0.00000000e+00,\n",
       "        0.00000000e+00, 1.11022302e-16, 1.11022302e-16, 0.00000000e+00]])"
      ]
     },
     "execution_count": 31,
     "metadata": {},
     "output_type": "execute_result"
    }
   ],
   "source": [
    "L @ U - A"
   ]
  },
  {
   "cell_type": "markdown",
   "id": "9ca46b63-2320-43fe-bb4f-1ef3ab229b17",
   "metadata": {},
   "source": [
    " "
   ]
  },
  {
   "cell_type": "markdown",
   "id": "bdd1cea0-311d-4287-8c16-7bd4b0310767",
   "metadata": {},
   "source": [
    " "
   ]
  },
  {
   "cell_type": "markdown",
   "id": "8d1b90df-0961-4587-ad46-cfa3e2a8f028",
   "metadata": {},
   "source": [
    " "
   ]
  },
  {
   "cell_type": "markdown",
   "id": "a5d858e9-e91c-42cb-ba49-1030ddcefd15",
   "metadata": {},
   "source": [
    " "
   ]
  },
  {
   "cell_type": "code",
   "execution_count": 37,
   "id": "a6e1b7a8-d40b-4ad7-8025-62e6f3d84e9b",
   "metadata": {},
   "outputs": [
    {
     "name": "stdout",
     "output_type": "stream",
     "text": [
      "[ 3.96  6.59  4.24  7.4   5.6   8.76  9.41 12.04]\n"
     ]
    }
   ],
   "source": [
    "y = np.linalg.solve(L, b)\n",
    "x = np.linalg.solve(U, y)\n",
    "\n",
    "print(x.round(2))"
   ]
  },
  {
   "cell_type": "markdown",
   "id": "fc2394de-5ac9-4102-8fa5-cf737ed2ded9",
   "metadata": {},
   "source": [
    " "
   ]
  },
  {
   "cell_type": "markdown",
   "id": "f055b7e3-03d4-4597-8539-d3e4b40af9b6",
   "metadata": {},
   "source": [
    " "
   ]
  },
  {
   "cell_type": "markdown",
   "id": "37fbf22b-27a2-43ec-b374-e928df63b53e",
   "metadata": {},
   "source": [
    " "
   ]
  },
  {
   "cell_type": "code",
   "execution_count": 39,
   "id": "8f22aa4b-7e5d-4d1d-aaec-4d91acbe97cb",
   "metadata": {},
   "outputs": [
    {
     "data": {
      "text/plain": [
       "array([ 5., 15., -0., 10., -0., 10., 20., 30.])"
      ]
     },
     "execution_count": 39,
     "metadata": {},
     "output_type": "execute_result"
    }
   ],
   "source": [
    "(A @ x).round(2)"
   ]
  },
  {
   "cell_type": "markdown",
   "id": "7e4ff861-26b7-4e26-8681-126c698bdbfb",
   "metadata": {},
   "source": [
    " "
   ]
  },
  {
   "cell_type": "markdown",
   "id": "2a0b9902-a4d8-41a8-829a-aa3f9cd34340",
   "metadata": {},
   "source": [
    " "
   ]
  },
  {
   "cell_type": "markdown",
   "id": "90933216-e647-4025-8367-1d188f088bfb",
   "metadata": {},
   "source": [
    " "
   ]
  },
  {
   "cell_type": "code",
   "execution_count": 44,
   "id": "19bcdc46-a8d5-4349-960e-faa7687ba3e4",
   "metadata": {},
   "outputs": [
    {
     "name": "stdout",
     "output_type": "stream",
     "text": [
      "[[0.3  0.09 0.09 0.05 0.03 0.02 0.01 0.01]\n",
      " [0.09 0.3  0.05 0.09 0.02 0.03 0.01 0.01]\n",
      " [0.09 0.05 0.33 0.11 0.1  0.06 0.03 0.02]\n",
      " [0.05 0.09 0.11 0.33 0.06 0.1  0.02 0.03]\n",
      " [0.03 0.02 0.1  0.06 0.33 0.11 0.09 0.05]\n",
      " [0.02 0.03 0.06 0.1  0.11 0.33 0.05 0.09]\n",
      " [0.01 0.01 0.03 0.02 0.09 0.05 0.3  0.09]\n",
      " [0.01 0.01 0.02 0.03 0.05 0.09 0.09 0.3 ]]\n"
     ]
    }
   ],
   "source": [
    "A_inv = np.linalg.inv(A)\n",
    "\n",
    "print(A_inv.round(2))"
   ]
  },
  {
   "cell_type": "markdown",
   "id": "f402351b-6c90-47cf-a5a6-17065561a138",
   "metadata": {},
   "source": [
    " "
   ]
  },
  {
   "cell_type": "markdown",
   "id": "5e1f8c12-c9ad-4896-99a8-e41f2ce74de0",
   "metadata": {},
   "source": [
    " "
   ]
  },
  {
   "cell_type": "markdown",
   "id": "1d8fb2c7-222d-4c12-83e7-0414a804ca48",
   "metadata": {},
   "source": [
    " "
   ]
  },
  {
   "cell_type": "markdown",
   "id": "a40a46b3-33b4-4762-98cf-c58141826038",
   "metadata": {},
   "source": [
    " "
   ]
  },
  {
   "cell_type": "markdown",
   "id": "023e76b5-c528-47d1-8870-d91a39154eb3",
   "metadata": {},
   "source": [
    " "
   ]
  },
  {
   "cell_type": "markdown",
   "id": "e0a45c76-082d-4d75-9d09-247d2f2af9c0",
   "metadata": {},
   "source": [
    " "
   ]
  },
  {
   "cell_type": "markdown",
   "id": "d7f6c2a1-47d6-433e-bfc9-667be45195f4",
   "metadata": {},
   "source": [
    " "
   ]
  },
  {
   "cell_type": "markdown",
   "id": "3c7c3166-f79f-4f13-97a2-e58ea03f3148",
   "metadata": {},
   "source": [
    " "
   ]
  },
  {
   "cell_type": "markdown",
   "id": "897a61ce-c76e-413d-b1f4-0e965057fa65",
   "metadata": {},
   "source": [
    " "
   ]
  },
  {
   "cell_type": "markdown",
   "id": "a11df806-0b01-4ccd-847b-478628a13e68",
   "metadata": {},
   "source": [
    " "
   ]
  },
  {
   "cell_type": "markdown",
   "id": "8fb50ed5-1596-47a1-8c0c-f2ab88da5372",
   "metadata": {},
   "source": [
    " "
   ]
  },
  {
   "cell_type": "markdown",
   "id": "b9ad225b-cedc-4b4f-8e52-92314a3beb04",
   "metadata": {},
   "source": [
    " "
   ]
  },
  {
   "cell_type": "markdown",
   "id": "3f714642-47cb-4748-9839-691ad5577d1a",
   "metadata": {},
   "source": [
    " "
   ]
  },
  {
   "cell_type": "markdown",
   "id": "8da996fb-0245-4200-8e18-b5f13730e8ee",
   "metadata": {},
   "source": [
    " "
   ]
  },
  {
   "cell_type": "markdown",
   "id": "18732cf7-dc2e-4a0c-b049-f639f3c51d6b",
   "metadata": {},
   "source": [
    " "
   ]
  },
  {
   "cell_type": "markdown",
   "id": "cda817ce-7f75-4043-95c2-58ee33de3b6c",
   "metadata": {},
   "source": [
    " "
   ]
  },
  {
   "cell_type": "markdown",
   "id": "726e175c-e292-421a-97af-2776befc23d6",
   "metadata": {},
   "source": [
    " "
   ]
  },
  {
   "cell_type": "markdown",
   "id": "2a4b1ddc-d122-4a73-92f6-d9b89088b96b",
   "metadata": {},
   "source": [
    " "
   ]
  },
  {
   "cell_type": "markdown",
   "id": "453d953a-93e5-4671-8ddf-7766bf24d766",
   "metadata": {},
   "source": [
    " "
   ]
  },
  {
   "cell_type": "markdown",
   "id": "7cb5d16a-054a-44a5-9ce6-6b51a32408bb",
   "metadata": {},
   "source": [
    " "
   ]
  },
  {
   "cell_type": "markdown",
   "id": "0ebb8a00-fc28-4073-8e24-692f96ae65fe",
   "metadata": {},
   "source": [
    " "
   ]
  },
  {
   "cell_type": "markdown",
   "id": "f04ca731-6d16-4edd-b82d-bf23e748b148",
   "metadata": {},
   "source": [
    " "
   ]
  },
  {
   "cell_type": "markdown",
   "id": "db044d1c-8a13-4dfe-9c40-15034f672eeb",
   "metadata": {},
   "source": [
    " "
   ]
  },
  {
   "cell_type": "markdown",
   "id": "4625e4bf-6fa3-4b40-bec6-8130a8c9f5e1",
   "metadata": {},
   "source": [
    " "
   ]
  },
  {
   "cell_type": "markdown",
   "id": "ef034043-1e40-4516-bba7-47f0f0b1f087",
   "metadata": {},
   "source": [
    " "
   ]
  },
  {
   "cell_type": "markdown",
   "id": "9a9c3f72",
   "metadata": {},
   "source": [
    " "
   ]
  },
  {
   "cell_type": "markdown",
   "id": "410cca20",
   "metadata": {},
   "source": [
    " "
   ]
  },
  {
   "cell_type": "markdown",
   "id": "9aa72378",
   "metadata": {},
   "source": [
    " "
   ]
  },
  {
   "cell_type": "markdown",
   "id": "fc40ee5d",
   "metadata": {},
   "source": [
    " "
   ]
  }
 ],
 "metadata": {
  "kernelspec": {
   "display_name": "Python 3 (ipykernel)",
   "language": "python",
   "name": "python3"
  },
  "language_info": {
   "codemirror_mode": {
    "name": "ipython",
    "version": 3
   },
   "file_extension": ".py",
   "mimetype": "text/x-python",
   "name": "python",
   "nbconvert_exporter": "python",
   "pygments_lexer": "ipython3",
   "version": "3.9.6"
  }
 },
 "nbformat": 4,
 "nbformat_minor": 5
}
