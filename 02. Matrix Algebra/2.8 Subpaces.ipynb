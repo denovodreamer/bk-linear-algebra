{
 "cells": [
  {
   "cell_type": "markdown",
   "id": "85779e7c-5ddc-4f6b-a54e-07d7a1c83fee",
   "metadata": {},
   "source": [
    " "
   ]
  },
  {
   "cell_type": "markdown",
   "id": "ff0fbcdb-26fd-4363-aba5-30b2bfd71e28",
   "metadata": {},
   "source": [
    " "
   ]
  },
  {
   "cell_type": "markdown",
   "id": "e0cb25bc-f381-41f6-957a-6c023a2311a9",
   "metadata": {},
   "source": [
    " "
   ]
  },
  {
   "cell_type": "markdown",
   "id": "68b0a7a4-8885-4c1c-a54a-332026cbcd87",
   "metadata": {},
   "source": [
    " "
   ]
  },
  {
   "cell_type": "markdown",
   "id": "262180bc-d29e-4c42-99e5-2942d4dd3bf6",
   "metadata": {},
   "source": [
    " "
   ]
  },
  {
   "cell_type": "code",
   "execution_count": 8,
   "id": "41b2f732-3857-439c-b84b-adb1368bbee5",
   "metadata": {},
   "outputs": [],
   "source": [
    "import numpy as np\n",
    "import scipy"
   ]
  },
  {
   "cell_type": "markdown",
   "id": "fc2dbc99-1e78-43fb-bd27-e09965686369",
   "metadata": {},
   "source": [
    " "
   ]
  },
  {
   "cell_type": "markdown",
   "id": "56e85e83-d67c-422f-9221-2b59b7a604a8",
   "metadata": {},
   "source": [
    " "
   ]
  },
  {
   "cell_type": "markdown",
   "id": "73a9ae5f-78da-432c-a350-64a1f45f8009",
   "metadata": {},
   "source": [
    " "
   ]
  },
  {
   "cell_type": "markdown",
   "id": "feb61f74-8ede-483c-932e-ff2d2f83a55c",
   "metadata": {},
   "source": [
    " "
   ]
  },
  {
   "cell_type": "markdown",
   "id": "774371ec-235c-47de-bcc8-e610a4022cef",
   "metadata": {},
   "source": [
    "37."
   ]
  },
  {
   "cell_type": "markdown",
   "id": "43fda117-2d7b-4c9c-a8cd-ebcaa04d2f69",
   "metadata": {},
   "source": [
    " "
   ]
  },
  {
   "cell_type": "code",
   "execution_count": 19,
   "id": "0eabb686-9521-43f7-9f18-9a36ed6a8ef1",
   "metadata": {},
   "outputs": [
    {
     "name": "stdout",
     "output_type": "stream",
     "text": [
      "[[  3  -5   0  -1   3]\n",
      " [ -7   9  -4   9 -11]\n",
      " [ -5   7  -2   5  -7]\n",
      " [  3  -7  -3   4   0]]\n"
     ]
    }
   ],
   "source": [
    "A = np.array(\n",
    "    [\n",
    "        [3, -5, 0, -1, 3],\n",
    "        [-7, 9, -4, 9, -11],\n",
    "        [-5, 7, -2, 5, -7],\n",
    "        [3, -7, -3, 4, 0],\n",
    "    ]\n",
    ")\n",
    "\n",
    "print(A)"
   ]
  },
  {
   "cell_type": "markdown",
   "id": "f627074c-a6a6-481d-8035-43748c22bec4",
   "metadata": {},
   "source": [
    " "
   ]
  },
  {
   "cell_type": "markdown",
   "id": "ff6883c4-e73a-45ec-8b87-ddc9c53a5a48",
   "metadata": {},
   "source": [
    " "
   ]
  },
  {
   "cell_type": "markdown",
   "id": "fa775983-238e-4fc2-b18a-076ad07bd6fc",
   "metadata": {},
   "source": [
    " "
   ]
  },
  {
   "cell_type": "code",
   "execution_count": 25,
   "id": "621aaced-bbb7-4c57-9208-d8db8a2a8a30",
   "metadata": {},
   "outputs": [
    {
     "data": {
      "text/plain": [
       "array([-0.87539355, -0.46223204,  0.07043824, -0.09953224,  0.07182939])"
      ]
     },
     "execution_count": 25,
     "metadata": {},
     "output_type": "execute_result"
    }
   ],
   "source": [
    "u = scipy.linalg.null_space(A)[:, 0]\n",
    "\n",
    "u"
   ]
  },
  {
   "cell_type": "markdown",
   "id": "23f7278b-fd62-4308-a71f-7b870557eab0",
   "metadata": {},
   "source": [
    " "
   ]
  },
  {
   "cell_type": "markdown",
   "id": "a7e5e902-b225-4859-8e72-6c82769a2e2d",
   "metadata": {},
   "source": [
    " "
   ]
  },
  {
   "cell_type": "code",
   "execution_count": 16,
   "id": "962f11c2-fd64-4ae9-9413-648d635e52d4",
   "metadata": {},
   "outputs": [
    {
     "name": "stdout",
     "output_type": "stream",
     "text": [
      "[[1 0 5/2 -9/2 7/2]\n",
      " [0 1 3/2 -5/2 3/2]\n",
      " [0 0 0 0 0]\n",
      " [0 0 0 0 0]]\n"
     ]
    }
   ],
   "source": [
    "from sympy import Matrix\n",
    "\n",
    "r = Matrix(A).rref()\n",
    "U = r[0]\n",
    "pivot_columns = r[1]\n",
    "\n",
    "U = np.array(U)\n",
    "\n",
    "print(U)"
   ]
  },
  {
   "cell_type": "markdown",
   "id": "7b7e1de5-7c65-4eb4-9af2-ca56c3031e71",
   "metadata": {},
   "source": [
    " "
   ]
  },
  {
   "cell_type": "markdown",
   "id": "63bfa061-6f0a-47d7-b948-21481148bb2a",
   "metadata": {},
   "source": [
    " "
   ]
  },
  {
   "cell_type": "markdown",
   "id": "047dd55e-6f88-4773-9306-e7e79f96cd81",
   "metadata": {},
   "source": [
    " "
   ]
  },
  {
   "cell_type": "markdown",
   "id": "39dfca40-ab51-450d-820c-bd0756b9d751",
   "metadata": {},
   "source": [
    " "
   ]
  },
  {
   "cell_type": "markdown",
   "id": "9335a139-b036-4c38-97c9-696c0472ff26",
   "metadata": {},
   "source": [
    " "
   ]
  },
  {
   "cell_type": "markdown",
   "id": "6e47ba5c-89d1-44c8-a613-89c3cf9e639f",
   "metadata": {},
   "source": [
    " "
   ]
  },
  {
   "cell_type": "markdown",
   "id": "328cc450-0fcb-4887-8ff4-ac9f39e67980",
   "metadata": {},
   "source": [
    " "
   ]
  },
  {
   "cell_type": "markdown",
   "id": "891367a4-445a-4874-926a-4aa6613eea00",
   "metadata": {},
   "source": [
    " "
   ]
  },
  {
   "cell_type": "markdown",
   "id": "7c862cf6-ca11-46aa-8956-7d11e8b5feb9",
   "metadata": {},
   "source": [
    " "
   ]
  },
  {
   "cell_type": "markdown",
   "id": "c992e4ae-06ed-452b-9a7d-f6a1ff878f1e",
   "metadata": {},
   "source": [
    " "
   ]
  },
  {
   "cell_type": "markdown",
   "id": "4e68c56f-2d06-4c04-9f66-e26a583bc946",
   "metadata": {},
   "source": [
    " "
   ]
  },
  {
   "cell_type": "markdown",
   "id": "d905dfa8-ac71-4d0e-96c6-6d2894fda8a0",
   "metadata": {},
   "source": [
    " "
   ]
  },
  {
   "cell_type": "markdown",
   "id": "27a9dbe0-1f41-4eb2-9adf-6b76f7ab11ba",
   "metadata": {},
   "source": [
    " "
   ]
  },
  {
   "cell_type": "markdown",
   "id": "3213850d-efb3-4e24-b3b5-7ebb0dbdeca6",
   "metadata": {},
   "source": [
    " "
   ]
  },
  {
   "cell_type": "markdown",
   "id": "80e2141f-7eec-4537-acb9-deb9289dbad2",
   "metadata": {},
   "source": [
    " "
   ]
  },
  {
   "cell_type": "markdown",
   "id": "ebd35ea8-21d5-4b0a-8d0d-758e1934db31",
   "metadata": {},
   "source": [
    " "
   ]
  },
  {
   "cell_type": "markdown",
   "id": "4293205c-9650-4c54-b774-152b9ded843e",
   "metadata": {},
   "source": [
    " "
   ]
  },
  {
   "cell_type": "markdown",
   "id": "325d1b84-b34e-4354-b070-bf1b87a8c8c3",
   "metadata": {},
   "source": [
    " "
   ]
  },
  {
   "cell_type": "markdown",
   "id": "4d529840-2b69-4cfe-bba6-746474626ec0",
   "metadata": {},
   "source": [
    " "
   ]
  },
  {
   "cell_type": "markdown",
   "id": "7d150bb0-992d-4984-8b52-3632ba6c47df",
   "metadata": {},
   "source": [
    " "
   ]
  },
  {
   "cell_type": "markdown",
   "id": "4bc79961-1fe4-45c5-bd42-aa5aaf388166",
   "metadata": {},
   "source": [
    " "
   ]
  },
  {
   "cell_type": "markdown",
   "id": "353822c0-80ac-4ccf-be39-d87b01d46d40",
   "metadata": {},
   "source": [
    " "
   ]
  },
  {
   "cell_type": "markdown",
   "id": "039450aa-a45e-45f8-b5f6-f319e641d0f2",
   "metadata": {},
   "source": [
    " "
   ]
  },
  {
   "cell_type": "markdown",
   "id": "0e55740c-8ed4-4ef9-856b-07fcfec7123e",
   "metadata": {},
   "source": [
    " "
   ]
  },
  {
   "cell_type": "markdown",
   "id": "c85bbe47-575c-4b2d-9a48-d56fbc8ac833",
   "metadata": {},
   "source": [
    " "
   ]
  },
  {
   "cell_type": "markdown",
   "id": "0cb56793-a4ef-4257-9b58-b89dcaf9566b",
   "metadata": {},
   "source": [
    " "
   ]
  },
  {
   "cell_type": "markdown",
   "id": "b16e3dcf-7707-479f-b93c-84ea2b0a820d",
   "metadata": {},
   "source": [
    " "
   ]
  },
  {
   "cell_type": "markdown",
   "id": "ddea3a75-6598-4026-b5b3-eeabcb7ffa5a",
   "metadata": {},
   "source": [
    " "
   ]
  },
  {
   "cell_type": "markdown",
   "id": "96f008ce-12b8-43eb-aefd-57ae2c4eb9fa",
   "metadata": {},
   "source": [
    " "
   ]
  }
 ],
 "metadata": {
  "kernelspec": {
   "display_name": "projects",
   "language": "python",
   "name": "projects"
  },
  "language_info": {
   "codemirror_mode": {
    "name": "ipython",
    "version": 3
   },
   "file_extension": ".py",
   "mimetype": "text/x-python",
   "name": "python",
   "nbconvert_exporter": "python",
   "pygments_lexer": "ipython3",
   "version": "3.11.6"
  }
 },
 "nbformat": 4,
 "nbformat_minor": 5
}
