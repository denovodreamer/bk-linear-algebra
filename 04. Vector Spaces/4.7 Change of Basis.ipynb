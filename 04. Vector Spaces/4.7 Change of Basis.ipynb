{
 "cells": [
  {
   "cell_type": "markdown",
   "id": "587983f9-b6cb-4cd8-9638-520d62c46e50",
   "metadata": {},
   "source": [
    " "
   ]
  },
  {
   "cell_type": "markdown",
   "id": "197dfe8a-4403-4f79-b006-4358845948f5",
   "metadata": {},
   "source": [
    " "
   ]
  },
  {
   "cell_type": "markdown",
   "id": "4f0436d9-58c3-4e6f-9db5-37a17bf6737b",
   "metadata": {},
   "source": [
    " "
   ]
  },
  {
   "cell_type": "code",
   "execution_count": 1,
   "id": "6112d6d9-36dc-45ec-8d3e-be79007f25ad",
   "metadata": {},
   "outputs": [],
   "source": [
    "import numpy as np"
   ]
  },
  {
   "cell_type": "markdown",
   "id": "81d40b74-e968-4e06-bd88-509ef1dacc9e",
   "metadata": {},
   "source": [
    " "
   ]
  },
  {
   "cell_type": "markdown",
   "id": "c07a3a4f-d3a2-4182-9ced-8547da27b88f",
   "metadata": {},
   "source": [
    " "
   ]
  },
  {
   "cell_type": "markdown",
   "id": "1019157e-b097-49ca-ba63-dce382422932",
   "metadata": {},
   "source": [
    " "
   ]
  },
  {
   "cell_type": "markdown",
   "id": "3dc35f7f-f308-43d3-a244-f33f4ac8669b",
   "metadata": {},
   "source": [
    " "
   ]
  },
  {
   "cell_type": "markdown",
   "id": "39872f37-9871-4602-8b7c-be2d282734fb",
   "metadata": {},
   "source": [
    " "
   ]
  },
  {
   "cell_type": "markdown",
   "id": "29771b1d-3997-4069-8e51-934a0e9ca6b4",
   "metadata": {},
   "source": [
    "**19.**"
   ]
  },
  {
   "cell_type": "code",
   "execution_count": 2,
   "id": "e347b86c-462f-4853-9fc4-8b55a99e69b3",
   "metadata": {},
   "outputs": [],
   "source": [
    "P = np.array(\n",
    "    [\n",
    "        [1, 2, -1],\n",
    "        [-3, -5, 0],\n",
    "        [4, 6, 1],\n",
    "    ]\n",
    ")\n",
    "\n",
    "v1 = np.array([-2, 2, 3])\n",
    "v2 = np.array([-8, 5, 2])\n",
    "v3 = np.array([-7, 2, 6])"
   ]
  },
  {
   "cell_type": "markdown",
   "id": "2184bfbb-7835-409f-8900-9538ae0174af",
   "metadata": {},
   "source": [
    " "
   ]
  },
  {
   "cell_type": "markdown",
   "id": "599f83e2-f910-4429-a0e9-da1583dfd41c",
   "metadata": {},
   "source": [
    " "
   ]
  },
  {
   "cell_type": "code",
   "execution_count": 5,
   "id": "5798df5d-8cc3-4041-9d1e-90b0a7150ec3",
   "metadata": {},
   "outputs": [
    {
     "name": "stdout",
     "output_type": "stream",
     "text": [
      "[[-2 -8 -7]\n",
      " [ 2  5  2]\n",
      " [ 3  2  6]]\n"
     ]
    }
   ],
   "source": [
    "V = np.column_stack([v1, v2, v3])\n",
    "\n",
    "print(V)"
   ]
  },
  {
   "cell_type": "markdown",
   "id": "c870de87-fc99-4dbc-a07b-67c51f6de2de",
   "metadata": {},
   "source": [
    " "
   ]
  },
  {
   "cell_type": "markdown",
   "id": "d03ceed8-eebf-4451-bb6b-2958762470cc",
   "metadata": {},
   "source": [
    " "
   ]
  },
  {
   "cell_type": "code",
   "execution_count": 6,
   "id": "9795d3b9-d151-49ea-875c-4a82769e2e18",
   "metadata": {},
   "outputs": [
    {
     "data": {
      "text/plain": [
       "array([[-6, -6, -5],\n",
       "       [-5, -9,  0],\n",
       "       [21, 32,  3]])"
      ]
     },
     "execution_count": 6,
     "metadata": {},
     "output_type": "execute_result"
    }
   ],
   "source": [
    "V @ P"
   ]
  },
  {
   "cell_type": "markdown",
   "id": "27b2ac93-c3cb-4649-ad37-3289bcf44334",
   "metadata": {},
   "source": [
    " "
   ]
  },
  {
   "cell_type": "markdown",
   "id": "5a76a43d-4c37-4c79-8043-f1216878a831",
   "metadata": {},
   "source": [
    " "
   ]
  },
  {
   "cell_type": "markdown",
   "id": "320600ce-d55a-4313-8f4b-7a9348c5dfa3",
   "metadata": {},
   "source": [
    " "
   ]
  },
  {
   "cell_type": "markdown",
   "id": "a819fe57-4849-4e55-b903-cbe11d34bbe7",
   "metadata": {},
   "source": [
    " "
   ]
  },
  {
   "cell_type": "markdown",
   "id": "22c8a1d4-df3c-4da6-af98-c8882dcd100b",
   "metadata": {},
   "source": [
    " "
   ]
  },
  {
   "cell_type": "markdown",
   "id": "461534a4-4d7f-4a7c-99de-382eecad5126",
   "metadata": {},
   "source": [
    "**20.**"
   ]
  },
  {
   "cell_type": "code",
   "execution_count": 8,
   "id": "78559536-fa0c-45cc-a9fc-4570b373b5c3",
   "metadata": {},
   "outputs": [],
   "source": [
    "basis_0 = np.array([\n",
    "    [7, 5],\n",
    "    [-3, 1]\n",
    "]).T\n",
    "\n",
    "basis_1 = np.array([\n",
    "    [1, -5],\n",
    "    [-2, 2]\n",
    "]).T\n",
    "\n",
    "basis_2 = np.array([\n",
    "    [-1, 8],\n",
    "    [1, -5]\n",
    "]).T"
   ]
  },
  {
   "cell_type": "markdown",
   "id": "5bd29924-4a18-4ebb-9470-33ed2610fcfe",
   "metadata": {},
   "source": [
    " "
   ]
  },
  {
   "cell_type": "markdown",
   "id": "409f5108-a430-4624-8c4f-07f240782216",
   "metadata": {},
   "source": [
    " "
   ]
  },
  {
   "cell_type": "markdown",
   "id": "725a88a7-ca44-4fd9-905d-d0eab3e996ab",
   "metadata": {},
   "source": [
    " "
   ]
  },
  {
   "cell_type": "code",
   "execution_count": 12,
   "id": "4ec24a27-4539-43bf-a173-9dc540432bd5",
   "metadata": {},
   "outputs": [
    {
     "name": "stdout",
     "output_type": "stream",
     "text": [
      "[[13.33333333 -4.66666667]\n",
      " [20.33333333 -7.66666667]]\n",
      "[[13.33333333 -4.66666667]\n",
      " [20.33333333 -7.66666667]]\n"
     ]
    }
   ],
   "source": [
    "def change_of_coordinates(base_to, base_from):\n",
    "    return np.linalg.inv(base_to) @ base_from\n",
    "\n",
    "P = change_of_coordinates(basis_2, basis_0)\n",
    "print(P)\n",
    "\n",
    "P = change_of_coordinates(basis_2, basis_1) @ change_of_coordinates(basis_1, basis_0)\n",
    "print(P)"
   ]
  },
  {
   "cell_type": "markdown",
   "id": "f1a42902-e962-4c61-b863-b2c38318990a",
   "metadata": {},
   "source": [
    " "
   ]
  },
  {
   "cell_type": "markdown",
   "id": "a4922782-6f4e-4ccd-a22e-532dda2a95c3",
   "metadata": {},
   "source": [
    " "
   ]
  },
  {
   "cell_type": "markdown",
   "id": "9a5e524e-13a5-4f01-9eca-21f847439616",
   "metadata": {},
   "source": [
    " "
   ]
  },
  {
   "cell_type": "markdown",
   "id": "77181ab3-7dca-4a3e-bb88-a4f4ba2445a4",
   "metadata": {},
   "source": [
    " "
   ]
  },
  {
   "cell_type": "markdown",
   "id": "38883603-ca3a-44be-84bd-e0705dcc5f71",
   "metadata": {},
   "source": [
    " "
   ]
  },
  {
   "cell_type": "markdown",
   "id": "2d5652d6-069a-426e-bc4f-fb8d11fb4a73",
   "metadata": {},
   "source": [
    " "
   ]
  },
  {
   "cell_type": "markdown",
   "id": "20d82884-a4de-46fd-8d16-c1d70a0d38ac",
   "metadata": {},
   "source": [
    " "
   ]
  },
  {
   "cell_type": "markdown",
   "id": "16a73fe6-7486-4365-b06a-2994346966ec",
   "metadata": {},
   "source": [
    " "
   ]
  },
  {
   "cell_type": "markdown",
   "id": "f052bc55-a3dd-42ff-b42e-a4b9e6ea4e2c",
   "metadata": {},
   "source": [
    " "
   ]
  },
  {
   "cell_type": "markdown",
   "id": "1ef8920b-9147-4cac-a39f-79a5f2e87ed3",
   "metadata": {},
   "source": [
    " "
   ]
  },
  {
   "cell_type": "markdown",
   "id": "cfeda89e-83fb-4049-a481-b0b9e626c6a7",
   "metadata": {},
   "source": [
    " "
   ]
  },
  {
   "cell_type": "markdown",
   "id": "5eb6f89a-c67a-424c-b9b5-97eea1479f4e",
   "metadata": {},
   "source": [
    " "
   ]
  },
  {
   "cell_type": "markdown",
   "id": "757c5b7e-5181-4a20-aafd-37973de93d1b",
   "metadata": {},
   "source": [
    " "
   ]
  },
  {
   "cell_type": "markdown",
   "id": "41c4cb10-1e75-45a6-9b73-39c364dfd392",
   "metadata": {},
   "source": [
    " "
   ]
  },
  {
   "cell_type": "markdown",
   "id": "82f758d4-e11a-4d11-b7b4-bac7693b0748",
   "metadata": {},
   "source": [
    " "
   ]
  },
  {
   "cell_type": "markdown",
   "id": "0f7c41b4-9f91-4085-8c90-31ce01fdab10",
   "metadata": {},
   "source": [
    " "
   ]
  },
  {
   "cell_type": "markdown",
   "id": "e97811c5-70b6-4e10-a195-3d88b42e6af7",
   "metadata": {},
   "source": [
    " "
   ]
  },
  {
   "cell_type": "markdown",
   "id": "057c4eaa-59b1-4cfa-b7dd-565aa7f12090",
   "metadata": {},
   "source": [
    " "
   ]
  },
  {
   "cell_type": "markdown",
   "id": "d7d945f5-4542-4b80-807f-7435c585d03d",
   "metadata": {},
   "source": [
    " "
   ]
  },
  {
   "cell_type": "markdown",
   "id": "08c61a8e-cf8a-48a5-bfe7-f9c563e27afa",
   "metadata": {},
   "source": [
    " "
   ]
  },
  {
   "cell_type": "markdown",
   "id": "4936d28f-39cb-493c-ad2b-cf66669a220d",
   "metadata": {},
   "source": [
    " "
   ]
  },
  {
   "cell_type": "markdown",
   "id": "2041742a-4293-46a1-9420-7b7562e222dc",
   "metadata": {},
   "source": [
    " "
   ]
  },
  {
   "cell_type": "markdown",
   "id": "9cc94044-4127-4ad4-a6db-f492b8fec03b",
   "metadata": {},
   "source": [
    " "
   ]
  },
  {
   "cell_type": "markdown",
   "id": "32ea4940-476f-494b-98c9-03294c294484",
   "metadata": {},
   "source": [
    " "
   ]
  },
  {
   "cell_type": "markdown",
   "id": "084ca015-c61c-4c38-aed3-4abd2e0a0f28",
   "metadata": {},
   "source": [
    " "
   ]
  },
  {
   "cell_type": "markdown",
   "id": "5cffd435-f275-4476-b95d-0297e0f26960",
   "metadata": {},
   "source": [
    " "
   ]
  },
  {
   "cell_type": "markdown",
   "id": "446c5239-e3f0-486a-b704-3ac5691d2c62",
   "metadata": {},
   "source": [
    " "
   ]
  },
  {
   "cell_type": "markdown",
   "id": "085913ea-6be6-483b-a5df-ca2281f750a4",
   "metadata": {},
   "source": [
    " "
   ]
  },
  {
   "cell_type": "markdown",
   "id": "002f42e3-d64d-4949-b69c-5ef0327ff29c",
   "metadata": {},
   "source": [
    " "
   ]
  },
  {
   "cell_type": "markdown",
   "id": "241e270b-1d1f-4906-becc-7278caf58b9b",
   "metadata": {},
   "source": [
    " "
   ]
  },
  {
   "cell_type": "markdown",
   "id": "c68cea86-10a4-40e6-9e76-065969159ab6",
   "metadata": {},
   "source": [
    " "
   ]
  },
  {
   "cell_type": "markdown",
   "id": "3727d57d-1646-45ad-a31d-b574b22f31cf",
   "metadata": {},
   "source": [
    " "
   ]
  },
  {
   "cell_type": "markdown",
   "id": "7bb85ec8-8b88-4897-96a7-d87c9711826f",
   "metadata": {},
   "source": [
    " "
   ]
  },
  {
   "cell_type": "markdown",
   "id": "a93359d4-7896-410f-bf67-0d0e0c4295e6",
   "metadata": {},
   "source": [
    " "
   ]
  },
  {
   "cell_type": "markdown",
   "id": "c03f8f45-3545-48c2-99e4-c17d269c96dd",
   "metadata": {},
   "source": [
    " "
   ]
  }
 ],
 "metadata": {
  "kernelspec": {
   "display_name": "projects",
   "language": "python",
   "name": "projects"
  },
  "language_info": {
   "codemirror_mode": {
    "name": "ipython",
    "version": 3
   },
   "file_extension": ".py",
   "mimetype": "text/x-python",
   "name": "python",
   "nbconvert_exporter": "python",
   "pygments_lexer": "ipython3",
   "version": "3.11.6"
  }
 },
 "nbformat": 4,
 "nbformat_minor": 5
}
