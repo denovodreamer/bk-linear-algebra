{
 "cells": [
  {
   "cell_type": "markdown",
   "id": "c0ef18bf-095c-48bd-9414-a7fe57ee824b",
   "metadata": {},
   "source": [
    " "
   ]
  },
  {
   "cell_type": "markdown",
   "id": "fc9b3a42-3162-4795-8a79-aab9e7c7570d",
   "metadata": {},
   "source": [
    " "
   ]
  },
  {
   "cell_type": "markdown",
   "id": "8b985cfa-936a-4e49-a586-c6085fbb2f62",
   "metadata": {},
   "source": [
    " "
   ]
  },
  {
   "cell_type": "markdown",
   "id": "a35fabeb-9337-4a40-bd3a-504f5441b40d",
   "metadata": {},
   "source": [
    " "
   ]
  },
  {
   "cell_type": "markdown",
   "id": "b13b7563-defe-4906-9ba9-2f914b34fc30",
   "metadata": {},
   "source": [
    " "
   ]
  },
  {
   "cell_type": "markdown",
   "id": "66a01934-cf7f-4424-ab15-e33473a1f200",
   "metadata": {},
   "source": [
    " "
   ]
  },
  {
   "cell_type": "markdown",
   "id": "d363d58f-e4dd-413a-b629-c52759857910",
   "metadata": {},
   "source": [
    " "
   ]
  },
  {
   "cell_type": "code",
   "execution_count": 27,
   "id": "7d817e08-8cf0-4845-8f20-7e3ec175550a",
   "metadata": {},
   "outputs": [],
   "source": [
    "import numpy as np\n",
    "from scipy.linalg import null_space\n",
    "from sympy import Matrix"
   ]
  },
  {
   "cell_type": "markdown",
   "id": "c31e27df-fa17-4f95-91c6-c7fb096f70a8",
   "metadata": {},
   "source": [
    " "
   ]
  },
  {
   "cell_type": "markdown",
   "id": "7a62d999-68bb-4902-8d9e-0e23e129e674",
   "metadata": {},
   "source": [
    " "
   ]
  },
  {
   "cell_type": "markdown",
   "id": "c1cce361-b4eb-4d0a-b936-6c7979e6475a",
   "metadata": {},
   "source": [
    " "
   ]
  },
  {
   "cell_type": "markdown",
   "id": "069c9775-e9c1-4ec0-a2e3-c43845b89854",
   "metadata": {},
   "source": [
    " "
   ]
  },
  {
   "cell_type": "markdown",
   "id": "7755613b-b2b3-4a58-877e-998a9d5e16b8",
   "metadata": {},
   "source": [
    " "
   ]
  },
  {
   "cell_type": "markdown",
   "id": "e9f98954-d365-437b-a9e1-24b5f590ddda",
   "metadata": {},
   "source": [
    "**37.**"
   ]
  },
  {
   "cell_type": "code",
   "execution_count": 3,
   "id": "c088f082-2f28-4f8e-bbbd-25cca5547362",
   "metadata": {},
   "outputs": [],
   "source": [
    "A = np.array(\n",
    "    [\n",
    "        [7, 6, -4, 1],\n",
    "        [-5, -1, 0, -2],\n",
    "        [9, -11, 7, -3],\n",
    "        [19, -9, 7, 1],\n",
    "])\n",
    "\n",
    "w = np.array([1, 1, -1, -3])"
   ]
  },
  {
   "cell_type": "markdown",
   "id": "d6412064-5e5e-4f43-9aa6-8a9ffcb0f20b",
   "metadata": {},
   "source": [
    " "
   ]
  },
  {
   "cell_type": "markdown",
   "id": "c1eb71b8-cc86-45c3-aa06-517cffdb74ba",
   "metadata": {},
   "source": [
    " "
   ]
  },
  {
   "cell_type": "markdown",
   "id": "10e5c2c2-e8bc-4ebb-9466-d18f417db77e",
   "metadata": {},
   "source": [
    " "
   ]
  },
  {
   "cell_type": "code",
   "execution_count": 4,
   "id": "79f17594-2151-4de2-8e5c-f30585e08aaa",
   "metadata": {},
   "outputs": [
    {
     "data": {
      "text/plain": [
       "array([14,  0,  0,  0])"
      ]
     },
     "execution_count": 4,
     "metadata": {},
     "output_type": "execute_result"
    }
   ],
   "source": [
    "A @ w"
   ]
  },
  {
   "cell_type": "markdown",
   "id": "c204b6be-7322-4386-8fe3-fb3b5e724f5f",
   "metadata": {},
   "source": [
    " "
   ]
  },
  {
   "cell_type": "markdown",
   "id": "3ff77b9f-0331-45c0-8f12-31148fe38b8e",
   "metadata": {},
   "source": [
    " "
   ]
  },
  {
   "cell_type": "code",
   "execution_count": 17,
   "id": "cab5114b-3db6-49b8-a1bc-de870927c97b",
   "metadata": {},
   "outputs": [
    {
     "data": {
      "text/plain": [
       "array([ 0.00644855, -0.25746799, -0.72176387, -0.38738739])"
      ]
     },
     "execution_count": 17,
     "metadata": {},
     "output_type": "execute_result"
    }
   ],
   "source": [
    "np.linalg.solve(A, w)"
   ]
  },
  {
   "cell_type": "markdown",
   "id": "63422a78-31e1-4743-b280-1f3695293719",
   "metadata": {},
   "source": [
    " "
   ]
  },
  {
   "cell_type": "markdown",
   "id": "ce73eb2f-f49a-4ad0-8141-4214ea8a4953",
   "metadata": {},
   "source": [
    " "
   ]
  },
  {
   "cell_type": "markdown",
   "id": "5b35396a-9bea-46ab-b270-3c64b1d3e4c4",
   "metadata": {},
   "source": [
    " "
   ]
  },
  {
   "cell_type": "markdown",
   "id": "03b2ab5f-351c-4452-9db3-a40b15a7b643",
   "metadata": {},
   "source": [
    " "
   ]
  },
  {
   "cell_type": "markdown",
   "id": "e60d1bca-611b-40b4-af81-c58022093b44",
   "metadata": {},
   "source": [
    " "
   ]
  },
  {
   "cell_type": "markdown",
   "id": "291f7e02-7192-4870-9701-22b2d7bb1b17",
   "metadata": {},
   "source": [
    " "
   ]
  },
  {
   "cell_type": "markdown",
   "id": "15e33cde-1ca6-4812-ab36-90ee22b1caa0",
   "metadata": {},
   "source": [
    "**39.**"
   ]
  },
  {
   "cell_type": "code",
   "execution_count": 23,
   "id": "8cd4b3e4-2dc8-467f-9791-2f8f8a85f170",
   "metadata": {},
   "outputs": [],
   "source": [
    "A = np.array(\n",
    "    [\n",
    "        [5, 1, 2, 2, 0],\n",
    "        [3, 3, 2, -1, -12],\n",
    "        [8, 4, 4, -5, 12],\n",
    "        [2, 1, 1, 0, -2],\n",
    "    ]\n",
    ")\n",
    "\n",
    "B = A[:, [0, 1, 3]]"
   ]
  },
  {
   "cell_type": "markdown",
   "id": "98247e0d-66d3-42d2-a7c3-865d5fe7560e",
   "metadata": {},
   "source": [
    " "
   ]
  },
  {
   "cell_type": "markdown",
   "id": "2a465ab7-372f-4abe-a3e1-82631c42baa0",
   "metadata": {},
   "source": [
    " "
   ]
  },
  {
   "cell_type": "code",
   "execution_count": 29,
   "id": "413be25f-cb4c-4e64-84c5-1987912b74aa",
   "metadata": {},
   "outputs": [
    {
     "data": {
      "text/latex": [
       "$\\displaystyle \\left[\\begin{matrix}1 & 0 & \\frac{1}{3} & 0 & \\frac{10}{3}\\\\0 & 1 & \\frac{1}{3} & 0 & - \\frac{26}{3}\\\\0 & 0 & 0 & 1 & -4\\\\0 & 0 & 0 & 0 & 0\\end{matrix}\\right]$"
      ],
      "text/plain": [
       "Matrix([\n",
       "[1, 0, 1/3, 0,  10/3],\n",
       "[0, 1, 1/3, 0, -26/3],\n",
       "[0, 0,   0, 1,    -4],\n",
       "[0, 0,   0, 0,     0]])"
      ]
     },
     "execution_count": 29,
     "metadata": {},
     "output_type": "execute_result"
    }
   ],
   "source": [
    "Matrix(A).rref()[0]"
   ]
  },
  {
   "cell_type": "markdown",
   "id": "d35f8919-0e2f-4e39-bbaf-6c4a175a8e80",
   "metadata": {},
   "source": [
    " "
   ]
  },
  {
   "cell_type": "markdown",
   "id": "d1ee8c24-6582-4800-8877-f2e9fdade58e",
   "metadata": {},
   "source": [
    " "
   ]
  },
  {
   "cell_type": "markdown",
   "id": "94efc532-0530-4cad-b022-4a6d790132bc",
   "metadata": {},
   "source": [
    " "
   ]
  },
  {
   "cell_type": "code",
   "execution_count": 28,
   "id": "8a2535a8-3e67-46da-9aab-536c9f526723",
   "metadata": {},
   "outputs": [
    {
     "data": {
      "text/plain": [
       "array([[-0.26555021,  0.40651622],\n",
       "       [-0.37462332, -0.78470053],\n",
       "       [ 0.8875449 , -0.22686804],\n",
       "       [-0.0363577 , -0.39707225],\n",
       "       [-0.00908943, -0.09926806]])"
      ]
     },
     "execution_count": 28,
     "metadata": {},
     "output_type": "execute_result"
    }
   ],
   "source": [
    "null_space(A)"
   ]
  },
  {
   "cell_type": "markdown",
   "id": "d2523a2f-ada2-44ce-8992-a2d647ee9e8d",
   "metadata": {},
   "source": [
    " "
   ]
  },
  {
   "cell_type": "markdown",
   "id": "09f32bcd-73d3-41f1-b59f-829f6c87211e",
   "metadata": {},
   "source": [
    " "
   ]
  },
  {
   "cell_type": "markdown",
   "id": "7c12493e-74af-4a41-9330-7c9150a9bee2",
   "metadata": {},
   "source": [
    " "
   ]
  },
  {
   "cell_type": "markdown",
   "id": "5d9f9677-3856-49a4-ae7e-540ea74edd05",
   "metadata": {},
   "source": [
    "**40.**"
   ]
  },
  {
   "cell_type": "code",
   "execution_count": 55,
   "id": "6a77f29a-4156-42bf-9960-8f084f55b00c",
   "metadata": {},
   "outputs": [
    {
     "data": {
      "text/plain": [
       "array([[ 5,  1, -2,  0],\n",
       "       [ 3,  3,  1, 12],\n",
       "       [ 8,  4, -5, 28]])"
      ]
     },
     "execution_count": 55,
     "metadata": {},
     "output_type": "execute_result"
    }
   ],
   "source": [
    "v1 = np.array([5, 3, 8])\n",
    "v2 = np.array([1, 3, 4])\n",
    "v3 = np.array([2, -1, 5])\n",
    "v4 = np.array([0, -12, -28])\n",
    "\n",
    "A = np.column_stack([v1, v2, -v3, -v4])\n",
    "\n",
    "A"
   ]
  },
  {
   "cell_type": "markdown",
   "id": "9655a306-b8c8-4f24-ad00-b97065baf948",
   "metadata": {},
   "source": [
    " "
   ]
  },
  {
   "cell_type": "markdown",
   "id": "9cd8c397-ef75-4750-917b-3ccfcb71d020",
   "metadata": {},
   "source": [
    " "
   ]
  },
  {
   "cell_type": "code",
   "execution_count": 52,
   "id": "6d4e5119-85f2-416c-aaee-7a3e95fe4c27",
   "metadata": {},
   "outputs": [],
   "source": [
    "zero = np.zeros(shape=(4, 1))"
   ]
  },
  {
   "cell_type": "markdown",
   "id": "a6e42863-eee9-4c6e-8599-88f7bba57fba",
   "metadata": {},
   "source": [
    " "
   ]
  },
  {
   "cell_type": "code",
   "execution_count": 53,
   "id": "1353140f-f7bd-4b16-a9c6-1b973d8c6bec",
   "metadata": {},
   "outputs": [
    {
     "ename": "LinAlgError",
     "evalue": "Incompatible dimensions",
     "output_type": "error",
     "traceback": [
      "\u001b[0;31m---------------------------------------------------------------------------\u001b[0m",
      "\u001b[0;31mLinAlgError\u001b[0m                               Traceback (most recent call last)",
      "Cell \u001b[0;32mIn[53], line 1\u001b[0m\n\u001b[0;32m----> 1\u001b[0m \u001b[43mnp\u001b[49m\u001b[38;5;241;43m.\u001b[39;49m\u001b[43mlinalg\u001b[49m\u001b[38;5;241;43m.\u001b[39;49m\u001b[43mlstsq\u001b[49m\u001b[43m(\u001b[49m\u001b[43mA\u001b[49m\u001b[43m,\u001b[49m\u001b[43m \u001b[49m\u001b[43mzero\u001b[49m\u001b[43m)\u001b[49m\n",
      "File \u001b[0;32m/opt/homebrew/lib/python3.11/site-packages/numpy/linalg/linalg.py:2297\u001b[0m, in \u001b[0;36mlstsq\u001b[0;34m(a, b, rcond)\u001b[0m\n\u001b[1;32m   2295\u001b[0m m2, n_rhs \u001b[38;5;241m=\u001b[39m b\u001b[38;5;241m.\u001b[39mshape[\u001b[38;5;241m-\u001b[39m\u001b[38;5;241m2\u001b[39m:]\n\u001b[1;32m   2296\u001b[0m \u001b[38;5;28;01mif\u001b[39;00m m \u001b[38;5;241m!=\u001b[39m m2:\n\u001b[0;32m-> 2297\u001b[0m     \u001b[38;5;28;01mraise\u001b[39;00m LinAlgError(\u001b[38;5;124m'\u001b[39m\u001b[38;5;124mIncompatible dimensions\u001b[39m\u001b[38;5;124m'\u001b[39m)\n\u001b[1;32m   2299\u001b[0m t, result_t \u001b[38;5;241m=\u001b[39m _commonType(a, b)\n\u001b[1;32m   2300\u001b[0m result_real_t \u001b[38;5;241m=\u001b[39m _realType(result_t)\n",
      "\u001b[0;31mLinAlgError\u001b[0m: Incompatible dimensions"
     ]
    }
   ],
   "source": [
    "np.linalg.lstsq(A, zero)"
   ]
  },
  {
   "cell_type": "markdown",
   "id": "03d4b5ec-c337-41d7-97ba-2e53c0271826",
   "metadata": {},
   "source": [
    " "
   ]
  },
  {
   "cell_type": "markdown",
   "id": "230a1a10-a7f1-4b23-a14b-7fa2f3ecb4ab",
   "metadata": {},
   "source": [
    " "
   ]
  },
  {
   "cell_type": "code",
   "execution_count": 57,
   "id": "a20093e9-21e4-42fb-9783-afa2fafe317e",
   "metadata": {},
   "outputs": [
    {
     "data": {
      "text/plain": [
       "(3, 4)"
      ]
     },
     "execution_count": 57,
     "metadata": {},
     "output_type": "execute_result"
    }
   ],
   "source": [
    "A.shape"
   ]
  },
  {
   "cell_type": "markdown",
   "id": "446f8afc-e40b-4f80-a4d6-364e82d29463",
   "metadata": {},
   "source": [
    " "
   ]
  },
  {
   "cell_type": "markdown",
   "id": "449b128c-7f23-4468-b5c1-2c8a292956dc",
   "metadata": {},
   "source": [
    " "
   ]
  },
  {
   "cell_type": "markdown",
   "id": "1d48791a-330e-4dcc-bbc1-1c1925ebe21d",
   "metadata": {},
   "source": [
    " "
   ]
  },
  {
   "cell_type": "markdown",
   "id": "6a1fe3df-37f9-4de6-81ee-e4c562a5d308",
   "metadata": {},
   "source": [
    " "
   ]
  },
  {
   "cell_type": "markdown",
   "id": "a9c3db6a-aefd-4815-bca6-c4297bd8e199",
   "metadata": {},
   "source": [
    " "
   ]
  },
  {
   "cell_type": "markdown",
   "id": "2708734e-b892-49f2-bf9c-82d014b40010",
   "metadata": {},
   "source": [
    " "
   ]
  },
  {
   "cell_type": "markdown",
   "id": "2c896d69-9425-4d77-afb4-6c8b75d36fbb",
   "metadata": {},
   "source": [
    " "
   ]
  },
  {
   "cell_type": "markdown",
   "id": "ecbfd31b-537d-4589-82a2-d2918e0820e0",
   "metadata": {},
   "source": [
    " "
   ]
  },
  {
   "cell_type": "markdown",
   "id": "6821a1e5-892d-4312-b3ec-91b36f522ff1",
   "metadata": {},
   "source": [
    " "
   ]
  },
  {
   "cell_type": "markdown",
   "id": "244a7b5d-18d2-41a9-92a2-95f9669b2bd4",
   "metadata": {},
   "source": [
    " "
   ]
  },
  {
   "cell_type": "markdown",
   "id": "f8200c9d-ea2d-4a84-b384-cf7243246dee",
   "metadata": {},
   "source": [
    " "
   ]
  },
  {
   "cell_type": "markdown",
   "id": "c8ce39c7-9ec9-44f2-96ef-370f91d2fe63",
   "metadata": {},
   "source": [
    " "
   ]
  },
  {
   "cell_type": "markdown",
   "id": "e21abb13-2f1d-4730-97a1-e20c6f2729d5",
   "metadata": {},
   "source": [
    " "
   ]
  },
  {
   "cell_type": "markdown",
   "id": "da375c3f-9aec-4147-831e-f83649759196",
   "metadata": {},
   "source": [
    " "
   ]
  },
  {
   "cell_type": "markdown",
   "id": "6ca6df1d-61af-4f6c-8d35-79724bc9806e",
   "metadata": {},
   "source": [
    " "
   ]
  },
  {
   "cell_type": "markdown",
   "id": "e6153737-881b-4c6a-8231-5fe61e397b2e",
   "metadata": {},
   "source": [
    " "
   ]
  },
  {
   "cell_type": "markdown",
   "id": "6add1334-2014-478e-9a43-b4e837c13a53",
   "metadata": {},
   "source": [
    " "
   ]
  },
  {
   "cell_type": "markdown",
   "id": "021fb3ad-d8e6-4886-ba38-2111fc85e880",
   "metadata": {},
   "source": [
    " "
   ]
  }
 ],
 "metadata": {
  "kernelspec": {
   "display_name": "projects",
   "language": "python",
   "name": "projects"
  },
  "language_info": {
   "codemirror_mode": {
    "name": "ipython",
    "version": 3
   },
   "file_extension": ".py",
   "mimetype": "text/x-python",
   "name": "python",
   "nbconvert_exporter": "python",
   "pygments_lexer": "ipython3",
   "version": "3.11.6"
  }
 },
 "nbformat": 4,
 "nbformat_minor": 5
}
