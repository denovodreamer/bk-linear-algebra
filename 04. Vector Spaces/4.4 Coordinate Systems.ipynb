{
 "cells": [
  {
   "cell_type": "markdown",
   "id": "a664f6a9-946b-4af0-b3a5-3bda9c2b051b",
   "metadata": {},
   "source": [
    " "
   ]
  },
  {
   "cell_type": "markdown",
   "id": "26a494a7-e974-40af-963c-b642000bb458",
   "metadata": {},
   "source": [
    " "
   ]
  },
  {
   "cell_type": "markdown",
   "id": "4915869a-3c1b-4c04-b9e5-25315fcad82b",
   "metadata": {},
   "source": [
    " "
   ]
  },
  {
   "cell_type": "markdown",
   "id": "99ee1f89-9be1-4df3-8e18-e1d326992453",
   "metadata": {},
   "source": [
    " "
   ]
  },
  {
   "cell_type": "markdown",
   "id": "0ac1815c-503f-477f-82ed-f91ee8fc9eb5",
   "metadata": {},
   "source": [
    " "
   ]
  },
  {
   "cell_type": "code",
   "execution_count": 2,
   "id": "47bdd52d-c48c-4023-8065-17d488f1c696",
   "metadata": {},
   "outputs": [],
   "source": [
    "import numpy as np\n",
    "from sympy import Matrix"
   ]
  },
  {
   "cell_type": "markdown",
   "id": "76d22e14-1e04-453b-bc2c-88045af2dc56",
   "metadata": {},
   "source": [
    " "
   ]
  },
  {
   "cell_type": "markdown",
   "id": "c0e97f5b-d1bb-4451-87c5-3238c5a2cc58",
   "metadata": {},
   "source": [
    " "
   ]
  },
  {
   "cell_type": "markdown",
   "id": "38a8d781-ff5a-4ade-8020-8d0daf95ddae",
   "metadata": {},
   "source": [
    " "
   ]
  },
  {
   "cell_type": "markdown",
   "id": "97fa954e-b83a-4e48-a77b-489c49f7cd8e",
   "metadata": {},
   "source": [
    " "
   ]
  },
  {
   "cell_type": "code",
   "execution_count": 6,
   "id": "4d53a075-ceed-410c-9a10-a0b3f1c2e64b",
   "metadata": {},
   "outputs": [
    {
     "data": {
      "text/plain": [
       "array([ 2.,  6., -1.])"
      ]
     },
     "execution_count": 6,
     "metadata": {},
     "output_type": "execute_result"
    }
   ],
   "source": [
    "P_B = np.array(\n",
    "    [\n",
    "        [1, 0, 1],\n",
    "        [0, 1, 2],\n",
    "        [1, 1, 1]\n",
    "    ]\n",
    ")\n",
    "\n",
    "x = np.array([1, 4, 7])\n",
    "\n",
    "np.linalg.inv(P_B) @ x"
   ]
  },
  {
   "cell_type": "markdown",
   "id": "36be136a-b2d8-4cea-ae56-3b4c5afdfa54",
   "metadata": {},
   "source": [
    " "
   ]
  },
  {
   "cell_type": "markdown",
   "id": "e54e4695-c671-4d13-8cfb-b10f3ead5657",
   "metadata": {},
   "source": [
    " "
   ]
  },
  {
   "cell_type": "markdown",
   "id": "e84a800b-3859-4914-9c19-80e2c3c8be50",
   "metadata": {},
   "source": [
    " "
   ]
  },
  {
   "cell_type": "markdown",
   "id": "97ab459e-d4fe-4a8d-a4e5-24a0cafc5aa6",
   "metadata": {},
   "source": [
    " "
   ]
  },
  {
   "cell_type": "markdown",
   "id": "d9c9d73e-8afa-4950-bfbb-741f5b299b74",
   "metadata": {},
   "source": [
    " "
   ]
  },
  {
   "cell_type": "markdown",
   "id": "7b9bd682-f6dc-48e9-a5e4-51ee13d5fa68",
   "metadata": {},
   "source": [
    " "
   ]
  },
  {
   "cell_type": "markdown",
   "id": "a3d2c728-4cea-47ba-821b-dffc4ff4c7ad",
   "metadata": {},
   "source": [
    " "
   ]
  },
  {
   "cell_type": "markdown",
   "id": "8d9385ed-269a-4561-bb48-dd0248183ce2",
   "metadata": {},
   "source": [
    " "
   ]
  },
  {
   "cell_type": "markdown",
   "id": "0e447f02-0a21-4269-a8a8-95b4587055a5",
   "metadata": {},
   "source": [
    " "
   ]
  },
  {
   "cell_type": "markdown",
   "id": "3b43e331-a42a-463e-b7a5-33e8f9d0a9d4",
   "metadata": {},
   "source": [
    " "
   ]
  },
  {
   "cell_type": "markdown",
   "id": "40ca56f8-cae6-4d35-8bb7-6e0882471fcd",
   "metadata": {},
   "source": [
    " "
   ]
  },
  {
   "cell_type": "markdown",
   "id": "96609a79-67d5-4a08-beb9-c44005de9b22",
   "metadata": {},
   "source": [
    " "
   ]
  },
  {
   "cell_type": "markdown",
   "id": "e40c8b87-7760-4619-88cc-8f99d48424c6",
   "metadata": {},
   "source": [
    " "
   ]
  },
  {
   "cell_type": "markdown",
   "id": "54201a20-0737-4097-b744-1902520bc6db",
   "metadata": {},
   "source": [
    " "
   ]
  },
  {
   "cell_type": "markdown",
   "id": "882b8408-b17f-4419-8d56-25abb2de2827",
   "metadata": {},
   "source": [
    " "
   ]
  },
  {
   "cell_type": "markdown",
   "id": "4c03ea12-293e-4db5-82ca-3f3866da8909",
   "metadata": {},
   "source": [
    " "
   ]
  },
  {
   "cell_type": "markdown",
   "id": "0715eb47-5129-40a4-b3c2-99a2cb603f65",
   "metadata": {},
   "source": [
    " "
   ]
  },
  {
   "cell_type": "markdown",
   "id": "449100cf-7f55-49b8-9668-84525fe69d5e",
   "metadata": {},
   "source": [
    " "
   ]
  },
  {
   "cell_type": "markdown",
   "id": "aa7fc926-b01d-4ca1-aa18-e36ba3a88438",
   "metadata": {},
   "source": [
    " "
   ]
  },
  {
   "cell_type": "markdown",
   "id": "48c736fa-54d5-407c-b8fc-6795af2b4477",
   "metadata": {},
   "source": [
    " "
   ]
  },
  {
   "cell_type": "markdown",
   "id": "d999630f-e6ee-45a2-863e-915591820050",
   "metadata": {},
   "source": [
    " "
   ]
  },
  {
   "cell_type": "markdown",
   "id": "42d28583-c241-45bc-955e-58cf147336e0",
   "metadata": {},
   "source": [
    " "
   ]
  },
  {
   "cell_type": "markdown",
   "id": "e70b9ea7-e4af-4c64-b5dc-da468a4afef6",
   "metadata": {},
   "source": [
    " "
   ]
  },
  {
   "cell_type": "markdown",
   "id": "4027fcd4-b4b9-4eae-9221-d1e234404b46",
   "metadata": {},
   "source": [
    " "
   ]
  },
  {
   "cell_type": "markdown",
   "id": "16214f81-b7ea-4015-aa68-8d6fe059a3f6",
   "metadata": {},
   "source": [
    " "
   ]
  },
  {
   "cell_type": "markdown",
   "id": "678f269f-1121-4588-addb-f8d35d6c1212",
   "metadata": {},
   "source": [
    " "
   ]
  },
  {
   "cell_type": "markdown",
   "id": "f42f2a67-bd0e-4a36-950a-655f99385bd1",
   "metadata": {},
   "source": [
    " "
   ]
  },
  {
   "cell_type": "markdown",
   "id": "107805a9-9a65-47a4-8abd-f0dffdd3a1c0",
   "metadata": {},
   "source": [
    " "
   ]
  },
  {
   "cell_type": "markdown",
   "id": "d123e691-5174-48e3-b89d-9b3e2820da79",
   "metadata": {},
   "source": [
    " "
   ]
  },
  {
   "cell_type": "markdown",
   "id": "7bc31aac-8e01-443e-b66b-b11c3d4416d4",
   "metadata": {},
   "source": [
    " "
   ]
  },
  {
   "cell_type": "markdown",
   "id": "de578451-1ef4-46eb-a2ae-3685c3a82505",
   "metadata": {},
   "source": [
    " "
   ]
  },
  {
   "cell_type": "markdown",
   "id": "c3fd143f-8f5d-4960-86c2-7e077f94be78",
   "metadata": {},
   "source": [
    " "
   ]
  },
  {
   "cell_type": "markdown",
   "id": "a363078b-9d71-4f5a-b33a-44ad4b7f38d3",
   "metadata": {},
   "source": [
    " "
   ]
  },
  {
   "cell_type": "markdown",
   "id": "b11cfbd0-a795-48a7-abdc-c10ffa567e50",
   "metadata": {},
   "source": [
    " "
   ]
  },
  {
   "cell_type": "markdown",
   "id": "3f901d27-70b2-4d88-9779-70920c27ad95",
   "metadata": {},
   "source": [
    " "
   ]
  },
  {
   "cell_type": "markdown",
   "id": "d37cc735-3e6b-4c26-9afb-acd127ab1e23",
   "metadata": {},
   "source": [
    " "
   ]
  },
  {
   "cell_type": "markdown",
   "id": "d34523b1-629c-4c9f-b499-d63d6d5cf9ed",
   "metadata": {},
   "source": [
    " "
   ]
  },
  {
   "cell_type": "markdown",
   "id": "ecc6a216-9de6-41f7-a0e5-e332f035de92",
   "metadata": {},
   "source": [
    " "
   ]
  },
  {
   "cell_type": "markdown",
   "id": "ec797ef7-16b3-4da5-8747-18350232df87",
   "metadata": {},
   "source": [
    " "
   ]
  }
 ],
 "metadata": {
  "kernelspec": {
   "display_name": "projects",
   "language": "python",
   "name": "projects"
  },
  "language_info": {
   "codemirror_mode": {
    "name": "ipython",
    "version": 3
   },
   "file_extension": ".py",
   "mimetype": "text/x-python",
   "name": "python",
   "nbconvert_exporter": "python",
   "pygments_lexer": "ipython3",
   "version": "3.11.6"
  }
 },
 "nbformat": 4,
 "nbformat_minor": 5
}
