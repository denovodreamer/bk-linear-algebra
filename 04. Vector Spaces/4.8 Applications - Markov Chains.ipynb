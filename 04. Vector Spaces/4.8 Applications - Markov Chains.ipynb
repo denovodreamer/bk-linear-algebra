{
 "cells": [
  {
   "cell_type": "markdown",
   "id": "88d61288-6150-4afa-8e98-8855f430eb6c",
   "metadata": {},
   "source": [
    " "
   ]
  },
  {
   "cell_type": "markdown",
   "id": "c4002149-42d3-4b68-8376-5580f113e1c6",
   "metadata": {},
   "source": [
    " "
   ]
  },
  {
   "cell_type": "markdown",
   "id": "f77f9392-da1b-45d6-b271-a3c3e8eaa3d6",
   "metadata": {},
   "source": [
    " "
   ]
  },
  {
   "cell_type": "markdown",
   "id": "3530a5f7-688b-4b09-b9da-730605772442",
   "metadata": {},
   "source": [
    " "
   ]
  },
  {
   "cell_type": "markdown",
   "id": "ad367400-e43c-4899-a5ec-da6f69a80dd4",
   "metadata": {},
   "source": [
    " "
   ]
  },
  {
   "cell_type": "code",
   "execution_count": 15,
   "id": "18506043-7469-4643-8878-690e7586591c",
   "metadata": {},
   "outputs": [],
   "source": [
    "import numpy as np\n",
    "from sympy import Matrix\n",
    "from scipy.linalg import null_space"
   ]
  },
  {
   "cell_type": "markdown",
   "id": "5b8ba6a6-4295-437b-b01e-604f71b8c508",
   "metadata": {},
   "source": [
    " "
   ]
  },
  {
   "cell_type": "markdown",
   "id": "086e5114-5521-4a4b-ab39-b21625e90e0e",
   "metadata": {},
   "source": [
    " "
   ]
  },
  {
   "cell_type": "markdown",
   "id": "c2116a33-7dcd-4f57-809b-524bff84d3d8",
   "metadata": {},
   "source": [
    " "
   ]
  },
  {
   "cell_type": "markdown",
   "id": "d1aba6e5-21d0-4684-8193-1b6eefb9180c",
   "metadata": {},
   "source": [
    " "
   ]
  },
  {
   "cell_type": "markdown",
   "id": "091b9a7c-2a98-4084-a5ad-10e187c8d9e7",
   "metadata": {},
   "source": [
    "**1.**"
   ]
  },
  {
   "cell_type": "code",
   "execution_count": 35,
   "id": "8e0f54a5-9504-4a8a-b330-95967ee69157",
   "metadata": {},
   "outputs": [
    {
     "data": {
      "text/plain": [
       "array([0.67, 0.33])"
      ]
     },
     "execution_count": 35,
     "metadata": {},
     "output_type": "execute_result"
    }
   ],
   "source": [
    "P = np.array(\n",
    "    [\n",
    "        [0.7, 0.6],\n",
    "        [0.3, 0.4],\n",
    "    ]\n",
    ")\n",
    "\n",
    "x_0 = np.array([1, 0]).T\n",
    "\n",
    "P @ (P @ x_0)"
   ]
  },
  {
   "cell_type": "markdown",
   "id": "b33a6bdd-4dcf-4771-82fb-d7ca1f46f5e0",
   "metadata": {},
   "source": [
    " "
   ]
  },
  {
   "cell_type": "markdown",
   "id": "8a55a2c9-1dbd-4ada-b48c-f07e50ab63d8",
   "metadata": {},
   "source": [
    " "
   ]
  },
  {
   "cell_type": "markdown",
   "id": "45cf25dd-567b-4314-b0b1-5a595dcc2f15",
   "metadata": {},
   "source": [
    " "
   ]
  },
  {
   "cell_type": "markdown",
   "id": "dfabffe8-c423-4663-8982-293527f29d72",
   "metadata": {},
   "source": [
    " "
   ]
  },
  {
   "cell_type": "markdown",
   "id": "624b3234-b06f-42bb-908b-fee1eba9ee7c",
   "metadata": {},
   "source": [
    " "
   ]
  },
  {
   "cell_type": "markdown",
   "id": "ffd79aeb-34b9-417a-95e0-fce3ad5c3c8e",
   "metadata": {},
   "source": [
    " "
   ]
  },
  {
   "cell_type": "markdown",
   "id": "49a5d428-f72e-43e5-a68c-f8ed900c191c",
   "metadata": {},
   "source": [
    " "
   ]
  },
  {
   "cell_type": "markdown",
   "id": "cfc9d9f3-6f47-47b1-b345-a72783bdbea6",
   "metadata": {},
   "source": [
    " "
   ]
  },
  {
   "cell_type": "code",
   "execution_count": 6,
   "id": "a44f34f3-da9b-4499-ab4c-e8ab833a8cfc",
   "metadata": {},
   "outputs": [
    {
     "data": {
      "text/plain": [
       "array([[1., 0.],\n",
       "       [0., 1.]])"
      ]
     },
     "execution_count": 6,
     "metadata": {},
     "output_type": "execute_result"
    }
   ],
   "source": [
    "np.identity(2)"
   ]
  },
  {
   "cell_type": "markdown",
   "id": "2688d8ee-a3ec-44f7-a72c-7250f749fb4a",
   "metadata": {},
   "source": [
    " "
   ]
  },
  {
   "cell_type": "code",
   "execution_count": 10,
   "id": "e7c44d50-4ffe-426d-856c-871033ccb69e",
   "metadata": {},
   "outputs": [
    {
     "data": {
      "text/latex": [
       "$\\displaystyle \\left[\\begin{matrix}1 & -0.666666666666667\\\\0 & 0\\end{matrix}\\right]$"
      ],
      "text/plain": [
       "Matrix([\n",
       "[1, -0.666666666666667],\n",
       "[0,                  0]])"
      ]
     },
     "execution_count": 10,
     "metadata": {},
     "output_type": "execute_result"
    }
   ],
   "source": [
    "A = np.array(\n",
    "    [\n",
    "        [0.1, 0.6],\n",
    "        [0.9, 0.4],\n",
    "    ]\n",
    ")\n",
    "\n",
    "Matrix(A - np.identity(2)).rref()[0]"
   ]
  },
  {
   "cell_type": "markdown",
   "id": "394b531b-84cf-4085-b20d-4c70b40c3ebd",
   "metadata": {},
   "source": [
    " "
   ]
  },
  {
   "cell_type": "markdown",
   "id": "e9abb276-a420-42d3-8acd-00e84bf1ffb9",
   "metadata": {},
   "source": [
    " "
   ]
  },
  {
   "cell_type": "markdown",
   "id": "653b7566-c4a3-4cf5-8635-214d37303e10",
   "metadata": {},
   "source": [
    " "
   ]
  },
  {
   "cell_type": "code",
   "execution_count": 7,
   "id": "226fc449-545d-4b80-a90b-021084348e77",
   "metadata": {},
   "outputs": [
    {
     "data": {
      "text/plain": [
       "array([[-0.9,  0.6],\n",
       "       [ 0.9, -0.6]])"
      ]
     },
     "execution_count": 7,
     "metadata": {},
     "output_type": "execute_result"
    }
   ],
   "source": [
    "A - np.identity(2)"
   ]
  },
  {
   "cell_type": "markdown",
   "id": "eb1fee11-7ad9-4118-9954-92a1c18abd6e",
   "metadata": {},
   "source": [
    " "
   ]
  },
  {
   "cell_type": "markdown",
   "id": "1492131a-73e9-4c0c-9cee-2bebda6f4b5e",
   "metadata": {},
   "source": [
    " "
   ]
  },
  {
   "cell_type": "markdown",
   "id": "c31f5892-eaa8-4cec-9bfd-4214f49521ec",
   "metadata": {},
   "source": [
    " "
   ]
  },
  {
   "cell_type": "markdown",
   "id": "e7e4e1c2-9a15-4678-8d3c-6b2c766998ce",
   "metadata": {},
   "source": [
    " "
   ]
  },
  {
   "cell_type": "markdown",
   "id": "567106d8-f4cc-4fc5-841d-fdbff6eb80a3",
   "metadata": {},
   "source": [
    " "
   ]
  },
  {
   "cell_type": "markdown",
   "id": "abf2b123-a7ae-4c42-b2a0-5e2dabd27e4f",
   "metadata": {},
   "source": [
    " "
   ]
  },
  {
   "cell_type": "markdown",
   "id": "d8bb14de-9632-47c2-ab07-03287232b68d",
   "metadata": {},
   "source": [
    " "
   ]
  },
  {
   "cell_type": "markdown",
   "id": "3d422003-99b3-4686-a850-ef4fb8dbcc59",
   "metadata": {},
   "source": [
    "**21.**"
   ]
  },
  {
   "cell_type": "markdown",
   "id": "f979ab76-eca4-4d9f-ad6e-2af7fd22fe82",
   "metadata": {},
   "source": [
    " "
   ]
  },
  {
   "cell_type": "code",
   "execution_count": 18,
   "id": "47dffbcf-c5d0-4bb4-a9a1-4b3d83f88dbc",
   "metadata": {},
   "outputs": [
    {
     "name": "stdout",
     "output_type": "stream",
     "text": [
      "[[0.3355 0.3682 0.3067 0.0389]\n",
      " [0.2663 0.2723 0.3277 0.5451]\n",
      " [0.1935 0.1502 0.1589 0.2395]\n",
      " [0.2047 0.2093 0.2067 0.1765]]\n"
     ]
    }
   ],
   "source": [
    "A = np.array(\n",
    "    [\n",
    "        [.3355, .3682, .3067, .0389],\n",
    "        [.2663, .2723, .3277, .5451],\n",
    "        [.1935, .1502, .1589, .2395],\n",
    "        [.2047, .2093, .2067, .1765],\n",
    "    ]\n",
    ")\n",
    "\n",
    "print(A)"
   ]
  },
  {
   "cell_type": "markdown",
   "id": "cfca185f-2556-4f0c-8292-0f488a3d617d",
   "metadata": {},
   "source": [
    " "
   ]
  },
  {
   "cell_type": "markdown",
   "id": "fd8e9058-7c43-4a5b-9142-2bd0f904f0fc",
   "metadata": {},
   "source": [
    " "
   ]
  },
  {
   "cell_type": "code",
   "execution_count": 14,
   "id": "eae7cd6a-286a-45bf-9de2-fd1908d6c721",
   "metadata": {},
   "outputs": [
    {
     "name": "stdout",
     "output_type": "stream",
     "text": [
      "[[0.2779 0.278  0.2803 0.2941]\n",
      " [0.3368 0.3355 0.3357 0.3335]\n",
      " [0.1847 0.1861 0.1833 0.1697]\n",
      " [0.2005 0.2004 0.2007 0.2027]]\n",
      "\n",
      "[[0.2817 0.2817 0.2817 0.2814]\n",
      " [0.3356 0.3356 0.3355 0.3352]\n",
      " [0.1817 0.1817 0.1819 0.1825]\n",
      " [0.201  0.201  0.201  0.2009]]\n",
      "\n",
      "[[0.2816 0.2816 0.2816 0.2816]\n",
      " [0.3355 0.3355 0.3355 0.3355]\n",
      " [0.1819 0.1819 0.1819 0.1819]\n",
      " [0.2009 0.2009 0.2009 0.2009]]\n",
      "\n",
      "[[0.2816 0.2816 0.2816 0.2816]\n",
      " [0.3355 0.3355 0.3355 0.3355]\n",
      " [0.1819 0.1819 0.1819 0.1819]\n",
      " [0.2009 0.2009 0.2009 0.2009]]\n",
      "\n"
     ]
    }
   ],
   "source": [
    "for k in range(2, 5+1):\n",
    "    P_k = np.linalg.matrix_power(A, k)\n",
    "    print(P_k.round(4))\n",
    "    print()"
   ]
  },
  {
   "cell_type": "markdown",
   "id": "8e7e9dd9-8700-4fe6-94ea-71539cbb052e",
   "metadata": {},
   "source": [
    " "
   ]
  },
  {
   "cell_type": "markdown",
   "id": "0f02a86a-aee8-4920-9223-a6c0a1f0f266",
   "metadata": {},
   "source": [
    " "
   ]
  },
  {
   "cell_type": "code",
   "execution_count": 28,
   "id": "b5138d4a-0ad4-41f3-a0fa-07e9b205938d",
   "metadata": {},
   "outputs": [
    {
     "name": "stdout",
     "output_type": "stream",
     "text": [
      "[[0.54672738]\n",
      " [0.65130902]\n",
      " [0.35316006]\n",
      " [0.39008167]]\n"
     ]
    }
   ],
   "source": [
    "v = null_space(A - np.identity(4))\n",
    "\n",
    "v = v * np.sign(v[0,0]) \n",
    "\n",
    "v = v / np.linalg.norm(v)\n",
    "\n",
    "print(v)"
   ]
  },
  {
   "cell_type": "markdown",
   "id": "32751a25-59ed-4b94-8a67-3014ae291da7",
   "metadata": {},
   "source": [
    " "
   ]
  },
  {
   "cell_type": "markdown",
   "id": "122e2d01-0b63-4838-a6e6-a9cac9dab2a0",
   "metadata": {},
   "source": [
    " "
   ]
  },
  {
   "cell_type": "code",
   "execution_count": 33,
   "id": "84241c96-b6c4-4246-8e81-9e45013205b9",
   "metadata": {},
   "outputs": [
    {
     "name": "stdout",
     "output_type": "stream",
     "text": [
      "[0.56326538 0.67101051 0.36384282 0.40188128]\n"
     ]
    }
   ],
   "source": [
    "v = np.linalg.matrix_power(A, 500) @ np.array([1, 0, 1, 0]).T\n",
    "print(v)"
   ]
  },
  {
   "cell_type": "markdown",
   "id": "5b23a7f7-9642-40e3-902e-38809ca88d7f",
   "metadata": {},
   "source": [
    " "
   ]
  },
  {
   "cell_type": "markdown",
   "id": "3adf072f-3c02-4277-b763-345b758ef412",
   "metadata": {},
   "source": [
    " "
   ]
  },
  {
   "cell_type": "markdown",
   "id": "143d5729-f230-4055-9b8a-0643a2c4863c",
   "metadata": {},
   "source": [
    " "
   ]
  },
  {
   "cell_type": "markdown",
   "id": "17b31381-3767-4e1c-8ee7-b08782649e71",
   "metadata": {},
   "source": [
    " "
   ]
  },
  {
   "cell_type": "markdown",
   "id": "b64ec465-82e5-4abd-85bf-395da807f384",
   "metadata": {},
   "source": [
    " "
   ]
  },
  {
   "cell_type": "markdown",
   "id": "e4fc684c-7905-4c9d-8a08-d15aae114c45",
   "metadata": {},
   "source": [
    " "
   ]
  },
  {
   "cell_type": "markdown",
   "id": "c0e73537-0f2d-423b-8c27-5ff25284dbd9",
   "metadata": {},
   "source": [
    " "
   ]
  },
  {
   "cell_type": "markdown",
   "id": "5ace420a-147f-48d4-9353-bb38d988b15a",
   "metadata": {},
   "source": [
    " "
   ]
  },
  {
   "cell_type": "markdown",
   "id": "807ba33a-6090-424a-9d1e-1808c0237fab",
   "metadata": {},
   "source": [
    " "
   ]
  },
  {
   "cell_type": "markdown",
   "id": "d1c4309d-f759-42de-887c-a7c2d2dde63b",
   "metadata": {},
   "source": [
    " "
   ]
  },
  {
   "cell_type": "markdown",
   "id": "0333c688-a2e8-4f06-a45f-738d81605cff",
   "metadata": {},
   "source": [
    " "
   ]
  },
  {
   "cell_type": "markdown",
   "id": "949ae43c-bab3-4228-8bd0-4218333ea5ee",
   "metadata": {},
   "source": [
    " "
   ]
  },
  {
   "cell_type": "markdown",
   "id": "8f210b62-c9f1-437c-9855-e44c29eeef9c",
   "metadata": {},
   "source": [
    " "
   ]
  },
  {
   "cell_type": "markdown",
   "id": "378ac091-a766-49e1-9751-7e923bdf586f",
   "metadata": {},
   "source": [
    " "
   ]
  },
  {
   "cell_type": "markdown",
   "id": "80c55a17-9ff0-44c1-beed-643d80976059",
   "metadata": {},
   "source": [
    " "
   ]
  },
  {
   "cell_type": "markdown",
   "id": "c5673e99-ccc0-412b-9c54-660ab4ad8214",
   "metadata": {},
   "source": [
    " "
   ]
  },
  {
   "cell_type": "markdown",
   "id": "c58ebc8f-70a9-47d8-869d-27834f3a95bb",
   "metadata": {},
   "source": [
    " "
   ]
  },
  {
   "cell_type": "markdown",
   "id": "29dc1fa9-3db2-4c52-a641-bcd2333cc7d3",
   "metadata": {},
   "source": [
    " "
   ]
  },
  {
   "cell_type": "markdown",
   "id": "09e3c70f-87fb-4136-8cb5-6f43d84fd483",
   "metadata": {},
   "source": [
    " "
   ]
  },
  {
   "cell_type": "markdown",
   "id": "ba3b5bdc-1027-46b1-892b-8491a88bc33e",
   "metadata": {},
   "source": [
    " "
   ]
  },
  {
   "cell_type": "markdown",
   "id": "b1774f8c-88ca-4e5d-82c3-59e9799ce00a",
   "metadata": {},
   "source": [
    " "
   ]
  },
  {
   "cell_type": "markdown",
   "id": "9fad8c27-447d-4364-ba5a-67f8ff46079a",
   "metadata": {},
   "source": [
    " "
   ]
  },
  {
   "cell_type": "markdown",
   "id": "d3b1159b-6da8-43d0-be11-780960e74049",
   "metadata": {},
   "source": [
    " "
   ]
  },
  {
   "cell_type": "markdown",
   "id": "1d5c486e-f389-490e-8b29-77c281a8de8d",
   "metadata": {},
   "source": [
    " "
   ]
  },
  {
   "cell_type": "markdown",
   "id": "d6f85f5c-6a26-4dfd-8b82-6efb10ce3912",
   "metadata": {},
   "source": [
    " "
   ]
  },
  {
   "cell_type": "markdown",
   "id": "e6337425-8e73-4588-9c7f-a6e0c67f16da",
   "metadata": {},
   "source": [
    " "
   ]
  }
 ],
 "metadata": {
  "kernelspec": {
   "display_name": "projects",
   "language": "python",
   "name": "projects"
  },
  "language_info": {
   "codemirror_mode": {
    "name": "ipython",
    "version": 3
   },
   "file_extension": ".py",
   "mimetype": "text/x-python",
   "name": "python",
   "nbconvert_exporter": "python",
   "pygments_lexer": "ipython3",
   "version": "3.11.6"
  }
 },
 "nbformat": 4,
 "nbformat_minor": 5
}
