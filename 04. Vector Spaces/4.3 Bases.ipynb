{
 "cells": [
  {
   "cell_type": "markdown",
   "id": "3a156cfc-afd5-4d6c-b901-b5f8fc5bc6f7",
   "metadata": {},
   "source": [
    " "
   ]
  },
  {
   "cell_type": "markdown",
   "id": "6bf44543-8e7c-463c-8488-6f4fa50d3976",
   "metadata": {},
   "source": [
    " "
   ]
  },
  {
   "cell_type": "markdown",
   "id": "e179e193-e39e-47f1-b861-63939ab5edeb",
   "metadata": {},
   "source": [
    " "
   ]
  },
  {
   "cell_type": "markdown",
   "id": "7fbab2a1-796a-410a-bd14-8803aafc0abf",
   "metadata": {},
   "source": [
    " "
   ]
  },
  {
   "cell_type": "markdown",
   "id": "7fd39238-8f64-4f0b-b6e8-2185b995656e",
   "metadata": {},
   "source": [
    " "
   ]
  },
  {
   "cell_type": "code",
   "execution_count": 2,
   "id": "5e1ca63c-ec18-47c9-af0c-2a9f6cb29293",
   "metadata": {},
   "outputs": [],
   "source": [
    "import numpy as np\n",
    "from sympy import Matrix"
   ]
  },
  {
   "cell_type": "markdown",
   "id": "37726fbb-0b25-4a5e-8755-d248465a8e63",
   "metadata": {},
   "source": [
    " "
   ]
  },
  {
   "cell_type": "markdown",
   "id": "bc9c14f2-fa50-4749-b0a0-32d1a6b87dee",
   "metadata": {},
   "source": [
    " "
   ]
  },
  {
   "cell_type": "markdown",
   "id": "253253cd-c431-4734-90e9-d01bbd5ada01",
   "metadata": {},
   "source": [
    " "
   ]
  },
  {
   "cell_type": "markdown",
   "id": "015af1a2-bf0d-43ee-82b2-679749cad2f7",
   "metadata": {},
   "source": [
    " "
   ]
  },
  {
   "cell_type": "markdown",
   "id": "2e354919-4128-4c53-92e9-e30f0c1e8ab7",
   "metadata": {},
   "source": [
    " "
   ]
  },
  {
   "cell_type": "markdown",
   "id": "074ee725-2704-480d-bdb4-008db4cdd227",
   "metadata": {},
   "source": [
    " "
   ]
  },
  {
   "cell_type": "markdown",
   "id": "24135d81-4c3a-4163-b2e4-7d3dcef9b64a",
   "metadata": {},
   "source": [
    " "
   ]
  },
  {
   "cell_type": "markdown",
   "id": "dac1b959-3d3a-4694-aca0-53e8c9eb1de3",
   "metadata": {},
   "source": [
    " "
   ]
  },
  {
   "cell_type": "markdown",
   "id": "165c9bbc-c155-4ae4-977e-6b18412378c8",
   "metadata": {},
   "source": [
    "**36.**"
   ]
  },
  {
   "cell_type": "code",
   "execution_count": 11,
   "id": "fba25a66-729f-4ebe-8ecd-949919e4769e",
   "metadata": {},
   "outputs": [],
   "source": [
    "u1 = np.array([1, 2, 0, -1])\n",
    "u2 = np.array([0, 2, -1, 1])\n",
    "u3 = np.array([3, 4, 1, -4])\n",
    "\n",
    "v1 = np.array([-2, -2, -1, 3])\n",
    "v2 = np.array([2, 3, 2, -6])\n",
    "v3 = np.array([-1, 4, 6, -2])\n",
    "\n",
    "A = np.column_stack([u1, u2, u3])\n",
    "B = np.column_stack([v1, v2, v3])\n",
    "C = np.concatenate([A, B], axis=1)"
   ]
  },
  {
   "cell_type": "markdown",
   "id": "e90f8192-0e87-44e4-a532-47154f6d4959",
   "metadata": {},
   "source": [
    " "
   ]
  },
  {
   "cell_type": "markdown",
   "id": "96c9de17-75ff-4d36-812d-3eae65b365e1",
   "metadata": {},
   "source": [
    " "
   ]
  },
  {
   "cell_type": "code",
   "execution_count": 12,
   "id": "97358c65-281a-4094-aa93-04b928a663c3",
   "metadata": {},
   "outputs": [
    {
     "name": "stdout",
     "output_type": "stream",
     "text": [
      "[[ 1  0  3 -2  2 -1]\n",
      " [ 2  2  4 -2  3  4]\n",
      " [ 0 -1  1 -1  2  6]\n",
      " [-1  1 -4  3 -6 -2]]\n"
     ]
    }
   ],
   "source": [
    "print(C)"
   ]
  },
  {
   "cell_type": "markdown",
   "id": "4cd8e515-d288-4ad6-bf8b-3d8810e28a92",
   "metadata": {},
   "source": [
    " "
   ]
  },
  {
   "cell_type": "markdown",
   "id": "6ef4f25a-66a8-491a-9450-4d68630e8793",
   "metadata": {},
   "source": [
    " "
   ]
  },
  {
   "cell_type": "code",
   "execution_count": 15,
   "id": "30956013-dd47-423c-ad3d-3973db364623",
   "metadata": {},
   "outputs": [
    {
     "data": {
      "text/latex": [
       "$\\displaystyle \\left[\\begin{matrix}1 & 0 & 3\\\\0 & 1 & -1\\\\0 & 0 & 0\\\\0 & 0 & 0\\end{matrix}\\right]$"
      ],
      "text/plain": [
       "Matrix([\n",
       "[1, 0,  3],\n",
       "[0, 1, -1],\n",
       "[0, 0,  0],\n",
       "[0, 0,  0]])"
      ]
     },
     "execution_count": 15,
     "metadata": {},
     "output_type": "execute_result"
    }
   ],
   "source": [
    "Matrix(A).rref()[0]"
   ]
  },
  {
   "cell_type": "markdown",
   "id": "06067cfb-f85f-4c46-a53e-9bd797ce67e5",
   "metadata": {},
   "source": [
    " "
   ]
  },
  {
   "cell_type": "markdown",
   "id": "6b7e63a9-c0ae-46c0-b4ed-e6622ff42dbd",
   "metadata": {},
   "source": [
    " "
   ]
  },
  {
   "cell_type": "code",
   "execution_count": 16,
   "id": "63e9cb45-d04d-491d-b7df-b38635a4c236",
   "metadata": {},
   "outputs": [
    {
     "data": {
      "text/latex": [
       "$\\displaystyle \\left[\\begin{matrix}1 & 0 & 0\\\\0 & 1 & 0\\\\0 & 0 & 1\\\\0 & 0 & 0\\end{matrix}\\right]$"
      ],
      "text/plain": [
       "Matrix([\n",
       "[1, 0, 0],\n",
       "[0, 1, 0],\n",
       "[0, 0, 1],\n",
       "[0, 0, 0]])"
      ]
     },
     "execution_count": 16,
     "metadata": {},
     "output_type": "execute_result"
    }
   ],
   "source": [
    "Matrix(B).rref()[0]"
   ]
  },
  {
   "cell_type": "markdown",
   "id": "c4685e11-e116-40d2-85ac-caf204af85cb",
   "metadata": {},
   "source": [
    " "
   ]
  },
  {
   "cell_type": "markdown",
   "id": "c2ab33bd-8ca4-4ff9-ac19-625390dccd7b",
   "metadata": {},
   "source": [
    " "
   ]
  },
  {
   "cell_type": "code",
   "execution_count": 17,
   "id": "62b3e175-d654-4737-bf04-68ba2d538287",
   "metadata": {},
   "outputs": [
    {
     "data": {
      "text/latex": [
       "$\\displaystyle \\left[\\begin{matrix}1 & 0 & 3 & -2 & 0 & 0\\\\0 & 1 & -1 & 1 & 0 & 0\\\\0 & 0 & 0 & 0 & 1 & 0\\\\0 & 0 & 0 & 0 & 0 & 1\\end{matrix}\\right]$"
      ],
      "text/plain": [
       "Matrix([\n",
       "[1, 0,  3, -2, 0, 0],\n",
       "[0, 1, -1,  1, 0, 0],\n",
       "[0, 0,  0,  0, 1, 0],\n",
       "[0, 0,  0,  0, 0, 1]])"
      ]
     },
     "execution_count": 17,
     "metadata": {},
     "output_type": "execute_result"
    }
   ],
   "source": [
    "Matrix(C).rref()[0]"
   ]
  },
  {
   "cell_type": "markdown",
   "id": "082338f1-e4a6-4bb6-bbf3-47231d63f621",
   "metadata": {},
   "source": [
    " "
   ]
  },
  {
   "cell_type": "markdown",
   "id": "3ec68d92-0626-478a-b3c0-59f3d36ce137",
   "metadata": {},
   "source": [
    " "
   ]
  },
  {
   "cell_type": "markdown",
   "id": "e7046975-994f-455b-8f98-82ee75fc891b",
   "metadata": {},
   "source": [
    " "
   ]
  },
  {
   "cell_type": "markdown",
   "id": "fd2e2470-b468-41ff-b728-ebe17df8c6d5",
   "metadata": {},
   "source": [
    " "
   ]
  },
  {
   "cell_type": "markdown",
   "id": "cac62536-2ac8-4e52-bc42-b88ab4b019af",
   "metadata": {},
   "source": [
    " "
   ]
  },
  {
   "cell_type": "markdown",
   "id": "51288ab2-a8b8-465c-b678-4f3eba92eb1a",
   "metadata": {},
   "source": [
    " "
   ]
  },
  {
   "cell_type": "markdown",
   "id": "4d96e78c-2c79-49cc-92e1-4930527021c0",
   "metadata": {},
   "source": [
    " "
   ]
  },
  {
   "cell_type": "markdown",
   "id": "98fe80cf-9bcf-4940-9dee-a4945475a2b7",
   "metadata": {},
   "source": [
    " "
   ]
  },
  {
   "cell_type": "markdown",
   "id": "9333858c-0820-45a1-86e5-d1b041c7524e",
   "metadata": {},
   "source": [
    " "
   ]
  },
  {
   "cell_type": "markdown",
   "id": "f595a011-366b-42df-8cb7-512dfda46a66",
   "metadata": {},
   "source": [
    " "
   ]
  },
  {
   "cell_type": "markdown",
   "id": "337cd92e-832b-4f05-bff5-e5ab840c2059",
   "metadata": {},
   "source": [
    " "
   ]
  },
  {
   "cell_type": "markdown",
   "id": "f3958007-03e9-4656-a5c1-b1a878003852",
   "metadata": {},
   "source": [
    " "
   ]
  },
  {
   "cell_type": "markdown",
   "id": "8691f168-ca3d-4878-8f98-ef22849546b7",
   "metadata": {},
   "source": [
    " "
   ]
  },
  {
   "cell_type": "markdown",
   "id": "a91ff517-973c-4552-a7f5-64f3e7b79cb3",
   "metadata": {},
   "source": [
    " "
   ]
  },
  {
   "cell_type": "markdown",
   "id": "ad6629c3-dcad-446c-bd6c-1636743f5284",
   "metadata": {},
   "source": [
    " "
   ]
  },
  {
   "cell_type": "markdown",
   "id": "9bca4536-a95c-4bfb-90c8-838d8b1e6a3a",
   "metadata": {},
   "source": [
    " "
   ]
  },
  {
   "cell_type": "markdown",
   "id": "e6c7ea35-a376-479e-b1d1-3e3bfd8a1be3",
   "metadata": {},
   "source": [
    " "
   ]
  },
  {
   "cell_type": "markdown",
   "id": "cf3ab6cf-2e7d-4699-8223-5e4dd821c8cd",
   "metadata": {},
   "source": [
    " "
   ]
  },
  {
   "cell_type": "markdown",
   "id": "7db63000-6f9e-4f6d-a3a0-da6b2364de9a",
   "metadata": {},
   "source": [
    " "
   ]
  },
  {
   "cell_type": "markdown",
   "id": "4ad00ca8-798e-47b2-a736-51032915d19b",
   "metadata": {},
   "source": [
    " "
   ]
  },
  {
   "cell_type": "markdown",
   "id": "6b279db0-27e1-4f70-8a8f-da523237b5bb",
   "metadata": {},
   "source": [
    " "
   ]
  },
  {
   "cell_type": "markdown",
   "id": "e55cc931-5dbf-4475-9b7e-e749693c0131",
   "metadata": {},
   "source": [
    " "
   ]
  },
  {
   "cell_type": "markdown",
   "id": "2f79440b-46e0-480c-9831-1716f584de5c",
   "metadata": {},
   "source": [
    " "
   ]
  },
  {
   "cell_type": "markdown",
   "id": "100b45b9-ac2a-49b3-bd43-3eb8a0df822d",
   "metadata": {},
   "source": [
    " "
   ]
  },
  {
   "cell_type": "markdown",
   "id": "b7c298af-c9c3-4436-a481-f2a75ac3840a",
   "metadata": {},
   "source": [
    " "
   ]
  },
  {
   "cell_type": "markdown",
   "id": "8c384ae8-b6fc-49ef-be08-1bd28a22bb83",
   "metadata": {},
   "source": [
    " "
   ]
  },
  {
   "cell_type": "markdown",
   "id": "b7614232-93d6-4ae3-bd15-d75a64e95846",
   "metadata": {},
   "source": [
    " "
   ]
  }
 ],
 "metadata": {
  "kernelspec": {
   "display_name": "projects",
   "language": "python",
   "name": "projects"
  },
  "language_info": {
   "codemirror_mode": {
    "name": "ipython",
    "version": 3
   },
   "file_extension": ".py",
   "mimetype": "text/x-python",
   "name": "python",
   "nbconvert_exporter": "python",
   "pygments_lexer": "ipython3",
   "version": "3.11.6"
  }
 },
 "nbformat": 4,
 "nbformat_minor": 5
}
