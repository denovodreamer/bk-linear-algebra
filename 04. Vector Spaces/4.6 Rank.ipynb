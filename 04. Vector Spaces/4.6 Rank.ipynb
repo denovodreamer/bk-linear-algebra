{
 "cells": [
  {
   "cell_type": "markdown",
   "id": "6718cb45-74d7-4426-a1a8-1cb3a0426748",
   "metadata": {},
   "source": [
    " "
   ]
  },
  {
   "cell_type": "markdown",
   "id": "7aba43f9-bb11-451d-8806-9acaef988029",
   "metadata": {},
   "source": [
    " "
   ]
  },
  {
   "cell_type": "markdown",
   "id": "9cf84510-c017-4671-94a9-738987a94fb6",
   "metadata": {},
   "source": [
    " "
   ]
  },
  {
   "cell_type": "markdown",
   "id": "f3c57c70-0cae-4bdb-93d3-cf51f6df5a3d",
   "metadata": {},
   "source": [
    " "
   ]
  },
  {
   "cell_type": "code",
   "execution_count": 4,
   "id": "a7ffa32e-725d-4cd6-bd78-289eae37c0a8",
   "metadata": {},
   "outputs": [],
   "source": [
    "import numpy as np\n",
    "from sympy import Matrix"
   ]
  },
  {
   "cell_type": "markdown",
   "id": "91a5d073-95df-4082-9d32-ed008110b11f",
   "metadata": {},
   "source": [
    " "
   ]
  },
  {
   "cell_type": "markdown",
   "id": "d15a6663-cab4-4b85-912f-20add12163bf",
   "metadata": {},
   "source": [
    " "
   ]
  },
  {
   "cell_type": "markdown",
   "id": "e334498c-fdec-48b1-926f-acb02bc5eb7c",
   "metadata": {},
   "source": [
    " "
   ]
  },
  {
   "cell_type": "markdown",
   "id": "db4319f1-3c89-4172-8581-9e14d55cef28",
   "metadata": {},
   "source": [
    " "
   ]
  },
  {
   "cell_type": "markdown",
   "id": "688a0bc0-adc3-4ab8-9282-f6b0d8f2c967",
   "metadata": {},
   "source": [
    " "
   ]
  },
  {
   "cell_type": "code",
   "execution_count": 3,
   "id": "5e04b632-3b3e-4a25-aba9-5c1ad6bb7dd2",
   "metadata": {},
   "outputs": [
    {
     "name": "stdout",
     "output_type": "stream",
     "text": [
      "[[ 7 -9 -4  5  3 -3 -7]\n",
      " [-4  6  7 -2 -6 -5  5]\n",
      " [ 5 -7 -6  5 -6  2  8]\n",
      " [-3  5  8 -1 -7 -4  8]\n",
      " [ 6 -8 -5  4  4  9  3]]\n"
     ]
    }
   ],
   "source": [
    "A = np.array(\n",
    "    [\n",
    "        [7, -9, -4, 5, 3, -3, -7],\n",
    "        [-4, 6, 7, -2, -6, -5, 5],\n",
    "        [5, -7, -6, 5, -6, 2, 8],\n",
    "        [-3, 5, 8, -1, -7, -4, 8],\n",
    "        [6, -8, -5, 4, 4, 9, 3],\n",
    "    ]\n",
    ")\n",
    "\n",
    "print(A)"
   ]
  },
  {
   "cell_type": "markdown",
   "id": "69d9d56c-c74c-4e4e-a412-d6ad0e6e10f9",
   "metadata": {},
   "source": [
    " "
   ]
  },
  {
   "cell_type": "markdown",
   "id": "dc4f118b-d851-4626-a770-67defed771ad",
   "metadata": {},
   "source": [
    " "
   ]
  },
  {
   "cell_type": "code",
   "execution_count": 5,
   "id": "855bd07b-1dd7-4ff7-9cb6-6bee056a3a22",
   "metadata": {},
   "outputs": [
    {
     "data": {
      "text/latex": [
       "$\\displaystyle \\left[\\begin{matrix}1 & 0 & \\frac{13}{2} & 0 & 5 & 0 & -3\\\\0 & 1 & \\frac{11}{2} & 0 & \\frac{1}{2} & 0 & 2\\\\0 & 0 & 0 & 1 & - \\frac{11}{2} & 0 & 7\\\\0 & 0 & 0 & 0 & 0 & 1 & 1\\\\0 & 0 & 0 & 0 & 0 & 0 & 0\\end{matrix}\\right]$"
      ],
      "text/plain": [
       "Matrix([\n",
       "[1, 0, 13/2, 0,     5, 0, -3],\n",
       "[0, 1, 11/2, 0,   1/2, 0,  2],\n",
       "[0, 0,    0, 1, -11/2, 0,  7],\n",
       "[0, 0,    0, 0,     0, 1,  1],\n",
       "[0, 0,    0, 0,     0, 0,  0]])"
      ]
     },
     "execution_count": 5,
     "metadata": {},
     "output_type": "execute_result"
    }
   ],
   "source": [
    "Matrix(A).rref()[0]"
   ]
  },
  {
   "cell_type": "markdown",
   "id": "f77ad17a-23b6-4d03-8f7f-be5e16da27ea",
   "metadata": {},
   "source": [
    " "
   ]
  },
  {
   "cell_type": "markdown",
   "id": "7541f27f-0296-451b-a9be-6aed493dd4f1",
   "metadata": {},
   "source": [
    " "
   ]
  },
  {
   "cell_type": "code",
   "execution_count": 9,
   "id": "9b88fb03-776d-4083-a748-76883b659f27",
   "metadata": {},
   "outputs": [
    {
     "name": "stdout",
     "output_type": "stream",
     "text": [
      "[[ 7 -9  5 -3]\n",
      " [-4  6 -2 -5]\n",
      " [ 5 -7  5  2]\n",
      " [-3  5 -1 -4]\n",
      " [ 6 -8  4  9]]\n"
     ]
    }
   ],
   "source": [
    "pivots = Matrix(A).rref()[1]\n",
    "\n",
    "C = A[:, pivots]\n",
    "\n",
    "print(C)"
   ]
  },
  {
   "cell_type": "markdown",
   "id": "cc2189be-0755-466c-baca-299195dc51f2",
   "metadata": {},
   "source": [
    " "
   ]
  },
  {
   "cell_type": "markdown",
   "id": "5c3443a0-2947-4af4-ba00-3b92fabb2907",
   "metadata": {},
   "source": [
    " "
   ]
  },
  {
   "cell_type": "markdown",
   "id": "3e903e25-2b2f-49b9-bffa-c5006d75bb1b",
   "metadata": {},
   "source": [
    " "
   ]
  },
  {
   "cell_type": "code",
   "execution_count": 31,
   "id": "4a7c7a49-9c23-4056-8cb7-43acf785aa3d",
   "metadata": {},
   "outputs": [
    {
     "data": {
      "text/latex": [
       "$\\displaystyle \\left[\\begin{matrix}- \\frac{13}{2}\\\\- \\frac{11}{2}\\\\1\\\\0\\\\0\\\\0\\\\0\\end{matrix}\\right]$"
      ],
      "text/plain": [
       "Matrix([\n",
       "[-13/2],\n",
       "[-11/2],\n",
       "[    1],\n",
       "[    0],\n",
       "[    0],\n",
       "[    0],\n",
       "[    0]])"
      ]
     },
     "execution_count": 31,
     "metadata": {},
     "output_type": "execute_result"
    }
   ],
   "source": [
    "Matrix(A).nullspace()[0]"
   ]
  },
  {
   "cell_type": "markdown",
   "id": "13fa00cf-01c0-49c0-a01f-67bd811981eb",
   "metadata": {},
   "source": [
    " "
   ]
  },
  {
   "cell_type": "code",
   "execution_count": 32,
   "id": "354ab4e9-e4b4-4bae-b5b6-c47a35f3b96e",
   "metadata": {},
   "outputs": [
    {
     "name": "stdout",
     "output_type": "stream",
     "text": [
      "[[-6.5 -5.   3. ]\n",
      " [-5.5 -0.5 -2. ]\n",
      " [ 1.   0.   0. ]\n",
      " [ 0.   5.5 -7. ]\n",
      " [ 0.   1.   0. ]\n",
      " [ 0.   0.  -1. ]\n",
      " [ 0.   0.   1. ]]\n"
     ]
    }
   ],
   "source": [
    "null_space = Matrix(A).nullspace()\n",
    "\n",
    "N = np.array(null_space).astype(float).reshape(3, 7).transpose()\n",
    "\n",
    "print(N)"
   ]
  },
  {
   "cell_type": "markdown",
   "id": "a07c6677-b8d4-4230-9b70-8732b634fa5b",
   "metadata": {},
   "source": [
    " "
   ]
  },
  {
   "cell_type": "markdown",
   "id": "ebf38864-2b6f-4f88-80ac-e1fc8e59f648",
   "metadata": {},
   "source": [
    " "
   ]
  },
  {
   "cell_type": "code",
   "execution_count": 42,
   "id": "59323cbc-ec83-49d2-a648-93fc5f24752d",
   "metadata": {},
   "outputs": [
    {
     "name": "stdout",
     "output_type": "stream",
     "text": [
      "[[ 1.   0.   6.5  0.   5.   0.  -3. ]\n",
      " [ 0.   1.   5.5  0.   0.5  0.   2. ]\n",
      " [ 0.   0.   0.   1.  -5.5  0.   7. ]\n",
      " [ 0.   0.   0.   0.   0.   1.   1. ]]\n"
     ]
    }
   ],
   "source": [
    "pivots_rows = Matrix(A.T).rref()[1]\n",
    "\n",
    "U = Matrix(A).rref()[0]\n",
    "\n",
    "R = np.array(U[pivots_rows, :]).astype(float)\n",
    "\n",
    "print(R)"
   ]
  },
  {
   "cell_type": "markdown",
   "id": "4a6c4d48-d9a5-4a07-be15-f523575d6c22",
   "metadata": {},
   "source": [
    " "
   ]
  },
  {
   "cell_type": "markdown",
   "id": "3af52bbe-b38c-4d50-ae4d-27587f109dba",
   "metadata": {},
   "source": [
    " "
   ]
  },
  {
   "cell_type": "markdown",
   "id": "4023aafc-5f80-4e78-a91a-aab4724bcde7",
   "metadata": {},
   "source": [
    " "
   ]
  },
  {
   "cell_type": "markdown",
   "id": "d4ed67a0-1932-445c-8531-57b4e62aa2f2",
   "metadata": {},
   "source": [
    " "
   ]
  },
  {
   "cell_type": "markdown",
   "id": "e6c0ca6e-033e-4393-a578-0fb80657b497",
   "metadata": {},
   "source": [
    " "
   ]
  },
  {
   "cell_type": "markdown",
   "id": "db9da3ac-462d-4132-ae0b-81a060de3275",
   "metadata": {},
   "source": [
    " "
   ]
  },
  {
   "cell_type": "markdown",
   "id": "370e750a-1485-4041-a323-13799330fad9",
   "metadata": {},
   "source": [
    " "
   ]
  },
  {
   "cell_type": "markdown",
   "id": "a769fa21-71e0-4f63-b0ce-076277acef33",
   "metadata": {},
   "source": [
    " "
   ]
  },
  {
   "cell_type": "markdown",
   "id": "1a3e2280-80e4-4bca-b632-17a08f065a04",
   "metadata": {},
   "source": [
    " "
   ]
  },
  {
   "cell_type": "markdown",
   "id": "78dd5500-d464-4844-abe3-490ec48e7f3d",
   "metadata": {},
   "source": [
    " "
   ]
  },
  {
   "cell_type": "markdown",
   "id": "17139f22-4022-4e73-b201-94d7d8927269",
   "metadata": {},
   "source": [
    " "
   ]
  },
  {
   "cell_type": "markdown",
   "id": "2f2c2611-c68f-4bd3-afe9-c5696f04bc54",
   "metadata": {},
   "source": [
    " "
   ]
  },
  {
   "cell_type": "markdown",
   "id": "4e5be578-3ca2-408a-8c6b-cec2dfb2b815",
   "metadata": {},
   "source": [
    " "
   ]
  },
  {
   "cell_type": "markdown",
   "id": "938d469b-a3f6-4859-9594-604321fedb7f",
   "metadata": {},
   "source": [
    " "
   ]
  },
  {
   "cell_type": "markdown",
   "id": "4a6b1a6a-13da-4985-b65a-591c2bb6f9e4",
   "metadata": {},
   "source": [
    " "
   ]
  },
  {
   "cell_type": "markdown",
   "id": "e53a1996-ae41-4461-9d11-1cdcbba39907",
   "metadata": {},
   "source": [
    " "
   ]
  },
  {
   "cell_type": "markdown",
   "id": "c700e584-28c6-4693-8e89-0a88b5869924",
   "metadata": {},
   "source": [
    " "
   ]
  },
  {
   "cell_type": "markdown",
   "id": "9c9e55ad-025d-4fa8-93bf-1cf3196f7114",
   "metadata": {},
   "source": [
    " "
   ]
  },
  {
   "cell_type": "markdown",
   "id": "86ef23f3-e69a-4f85-9aac-11d752074758",
   "metadata": {},
   "source": [
    " "
   ]
  },
  {
   "cell_type": "markdown",
   "id": "1b47a9cd-e54f-40c3-b77d-352f2d36f6c8",
   "metadata": {},
   "source": [
    " "
   ]
  },
  {
   "cell_type": "markdown",
   "id": "acd105a1-a921-4f73-8aa3-5eac35fe6a67",
   "metadata": {},
   "source": [
    " "
   ]
  },
  {
   "cell_type": "markdown",
   "id": "008263ef-c761-404c-af4e-070e76f79d78",
   "metadata": {},
   "source": [
    " "
   ]
  },
  {
   "cell_type": "markdown",
   "id": "ec5b9fa2-7282-45f3-8002-3c5d82d51da1",
   "metadata": {},
   "source": [
    " "
   ]
  },
  {
   "cell_type": "markdown",
   "id": "2d73c6aa-fed6-43c1-93ed-c181eb89930f",
   "metadata": {},
   "source": [
    " "
   ]
  },
  {
   "cell_type": "markdown",
   "id": "d761c236-6302-4c5b-bf0b-78013a472a1e",
   "metadata": {},
   "source": [
    " "
   ]
  },
  {
   "cell_type": "markdown",
   "id": "31755c5c-8856-4494-b0ba-8bd9f4a84105",
   "metadata": {},
   "source": [
    " "
   ]
  },
  {
   "cell_type": "markdown",
   "id": "772be067-d505-46df-9c71-0fa018e34831",
   "metadata": {},
   "source": [
    " "
   ]
  },
  {
   "cell_type": "markdown",
   "id": "92d49c16-2b8c-4a6f-80f9-00e956a8276e",
   "metadata": {},
   "source": [
    " "
   ]
  },
  {
   "cell_type": "markdown",
   "id": "b339edff-bb2c-4448-8742-3a41f78ffa28",
   "metadata": {},
   "source": [
    " "
   ]
  },
  {
   "cell_type": "markdown",
   "id": "1a4f510d-033d-4c15-ad01-49cae44ae13d",
   "metadata": {},
   "source": [
    " "
   ]
  }
 ],
 "metadata": {
  "kernelspec": {
   "display_name": "projects",
   "language": "python",
   "name": "projects"
  },
  "language_info": {
   "codemirror_mode": {
    "name": "ipython",
    "version": 3
   },
   "file_extension": ".py",
   "mimetype": "text/x-python",
   "name": "python",
   "nbconvert_exporter": "python",
   "pygments_lexer": "ipython3",
   "version": "3.11.6"
  }
 },
 "nbformat": 4,
 "nbformat_minor": 5
}
