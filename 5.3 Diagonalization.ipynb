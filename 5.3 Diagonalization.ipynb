{
 "cells": [
  {
   "cell_type": "markdown",
   "id": "81feb6e9",
   "metadata": {},
   "source": [
    " "
   ]
  },
  {
   "cell_type": "markdown",
   "id": "23718699",
   "metadata": {},
   "source": [
    " "
   ]
  },
  {
   "cell_type": "code",
   "execution_count": 7,
   "id": "c26e5a00",
   "metadata": {},
   "outputs": [],
   "source": [
    "import numpy as np\n",
    "import scipy"
   ]
  },
  {
   "cell_type": "markdown",
   "id": "a31f0e2d",
   "metadata": {},
   "source": [
    " "
   ]
  },
  {
   "cell_type": "markdown",
   "id": "6230663e",
   "metadata": {},
   "source": [
    " "
   ]
  },
  {
   "cell_type": "markdown",
   "id": "3e0bf9b9",
   "metadata": {},
   "source": [
    " "
   ]
  },
  {
   "cell_type": "code",
   "execution_count": null,
   "id": "357d90ad",
   "metadata": {},
   "outputs": [],
   "source": [
    "   A = [-6 4 0 9;-3 0 1 6;-1 -2 1 0;-4 4 0 7]\n",
    "elseif ex==34\n",
    "   A = [0 13 8 4;4 9 8 4;8 6 12 8;0 5 0 -4]\n",
    "elseif ex==35\n",
    "   A = [11 -6 4 -10 -4;-3 5 -2 4 1;-8 12 -3 12 4;1 6 -2 3 -1;\n",
    "8 -18 8 -14 -1]\n",
    "elseif ex==36\n",
    "   A = [4 4 2 3 -2;0 1 -2 -2 2;6 12 11 2 -4;9 20 10 10 -6;15 28 14 5 -3]"
   ]
  },
  {
   "cell_type": "markdown",
   "id": "f0c30f6d",
   "metadata": {},
   "source": [
    " "
   ]
  },
  {
   "cell_type": "markdown",
   "id": "3c1eb473",
   "metadata": {},
   "source": [
    " "
   ]
  },
  {
   "cell_type": "code",
   "execution_count": 2,
   "id": "4f866e84",
   "metadata": {},
   "outputs": [],
   "source": [
    "A = np.array(\n",
    "    [\n",
    "        [-6, 4, 0, 9],\n",
    "        [-3, 0, 1, 6],\n",
    "        [-1, -2, 1, 0],\n",
    "        [-4, 4, 0, 7]\n",
    "    ]\n",
    ")"
   ]
  },
  {
   "cell_type": "markdown",
   "id": "e3b23813",
   "metadata": {},
   "source": [
    " "
   ]
  },
  {
   "cell_type": "markdown",
   "id": "91c58f89",
   "metadata": {},
   "source": [
    " "
   ]
  },
  {
   "cell_type": "code",
   "execution_count": 4,
   "id": "7965a41a",
   "metadata": {},
   "outputs": [
    {
     "data": {
      "text/plain": [
       "(array([ 5., -2.,  1., -2.]),\n",
       " array([[-0.63245553,  0.79971478, -0.26261287,  0.49476378],\n",
       "        [-0.31622777,  0.30334009,  0.13130643, -0.65085374],\n",
       "        [ 0.31622777,  0.46879832,  0.91914503, -0.26898123],\n",
       "        [-0.63245553,  0.22061097, -0.26261287,  0.50916334]]))"
      ]
     },
     "execution_count": 4,
     "metadata": {},
     "output_type": "execute_result"
    }
   ],
   "source": [
    "eigenvalues, eigenvectors = np.linalg.eig(A)\n",
    "\n",
    "eigenvalues, eigenvectors"
   ]
  },
  {
   "cell_type": "markdown",
   "id": "b5b5aa26",
   "metadata": {},
   "source": [
    " "
   ]
  },
  {
   "cell_type": "markdown",
   "id": "2a8e457f",
   "metadata": {},
   "source": [
    " "
   ]
  },
  {
   "cell_type": "markdown",
   "id": "d87cc159",
   "metadata": {},
   "source": [
    " "
   ]
  },
  {
   "cell_type": "code",
   "execution_count": 9,
   "id": "1ae5c7ae",
   "metadata": {},
   "outputs": [
    {
     "name": "stdout",
     "output_type": "stream",
     "text": [
      "[[-0.63245553]\n",
      " [-0.31622777]\n",
      " [ 0.31622777]\n",
      " [-0.63245553]]\n",
      "[[-0.8057784  -0.33924767]\n",
      " [ 0.31493544 -0.71415059]\n",
      " [-0.05863584 -0.58918295]\n",
      " [-0.49809504  0.16662352]]\n",
      "[[-0.26261287]\n",
      " [ 0.13130643]\n",
      " [ 0.91914503]\n",
      " [-0.26261287]]\n",
      "[[ 0.86132153  0.14997678]\n",
      " [ 0.12091972 -0.77108613]\n",
      " [ 0.36772033 -0.46406516]\n",
      " [ 0.32906747  0.40936129]]\n"
     ]
    }
   ],
   "source": [
    "for eigenvalue in eigenvalues:\n",
    "\n",
    "    B = A - eigenvalue * np.identity(4)\n",
    "    basis = scipy.linalg.null_space(B)\n",
    "    \n",
    "    print(basis)"
   ]
  },
  {
   "cell_type": "markdown",
   "id": "b030e6e9",
   "metadata": {},
   "source": [
    " "
   ]
  },
  {
   "cell_type": "markdown",
   "id": "070b3fd7",
   "metadata": {},
   "source": [
    " "
   ]
  },
  {
   "cell_type": "code",
   "execution_count": 15,
   "id": "4db4f477",
   "metadata": {},
   "outputs": [
    {
     "data": {
      "text/plain": [
       "array([[ 2.],\n",
       "       [ 1.],\n",
       "       [-1.],\n",
       "       [ 2.]])"
      ]
     },
     "execution_count": 15,
     "metadata": {},
     "output_type": "execute_result"
    }
   ],
   "source": [
    "B = A - 5 * np.identity(4)\n",
    "basis = scipy.linalg.null_space(B)\n",
    "\n",
    "(basis * 6.3245553 * 0.5).round(0)"
   ]
  },
  {
   "cell_type": "markdown",
   "id": "74c95bcc",
   "metadata": {},
   "source": [
    " "
   ]
  },
  {
   "cell_type": "code",
   "execution_count": 16,
   "id": "93eae040",
   "metadata": {},
   "outputs": [
    {
     "data": {
      "text/plain": [
       "array([[ 0.86132153,  0.14997678],\n",
       "       [ 0.12091972, -0.77108613],\n",
       "       [ 0.36772033, -0.46406516],\n",
       "       [ 0.32906747,  0.40936129]])"
      ]
     },
     "execution_count": 16,
     "metadata": {},
     "output_type": "execute_result"
    }
   ],
   "source": [
    "B = A + 2 * np.identity(4)\n",
    "basis = scipy.linalg.null_space(B)\n",
    "\n",
    "# (basis * 6.3245553 * 0.5).round(0)\n",
    "basis"
   ]
  },
  {
   "cell_type": "markdown",
   "id": "842ac6da",
   "metadata": {},
   "source": [
    " "
   ]
  },
  {
   "cell_type": "markdown",
   "id": "315471ce",
   "metadata": {},
   "source": [
    " "
   ]
  },
  {
   "cell_type": "markdown",
   "id": "1e887b4e",
   "metadata": {},
   "source": [
    " "
   ]
  },
  {
   "cell_type": "markdown",
   "id": "9ddb4338",
   "metadata": {},
   "source": [
    " "
   ]
  },
  {
   "cell_type": "markdown",
   "id": "39869227",
   "metadata": {},
   "source": [
    " "
   ]
  },
  {
   "cell_type": "markdown",
   "id": "3c8398ac",
   "metadata": {},
   "source": [
    " "
   ]
  },
  {
   "cell_type": "markdown",
   "id": "73f022b9",
   "metadata": {},
   "source": [
    " "
   ]
  },
  {
   "cell_type": "markdown",
   "id": "9253888e",
   "metadata": {},
   "source": [
    " "
   ]
  },
  {
   "cell_type": "markdown",
   "id": "9a9c3f72",
   "metadata": {},
   "source": [
    " "
   ]
  },
  {
   "cell_type": "markdown",
   "id": "410cca20",
   "metadata": {},
   "source": [
    " "
   ]
  },
  {
   "cell_type": "markdown",
   "id": "9aa72378",
   "metadata": {},
   "source": [
    " "
   ]
  },
  {
   "cell_type": "markdown",
   "id": "fc40ee5d",
   "metadata": {},
   "source": [
    " "
   ]
  }
 ],
 "metadata": {
  "kernelspec": {
   "display_name": "Python 3 (ipykernel)",
   "language": "python",
   "name": "python3"
  },
  "language_info": {
   "codemirror_mode": {
    "name": "ipython",
    "version": 3
   },
   "file_extension": ".py",
   "mimetype": "text/x-python",
   "name": "python",
   "nbconvert_exporter": "python",
   "pygments_lexer": "ipython3",
   "version": "3.11.5"
  }
 },
 "nbformat": 4,
 "nbformat_minor": 5
}
