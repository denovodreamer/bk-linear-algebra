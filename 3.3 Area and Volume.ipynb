{
 "cells": [
  {
   "cell_type": "markdown",
   "id": "81feb6e9",
   "metadata": {},
   "source": [
    " "
   ]
  },
  {
   "cell_type": "markdown",
   "id": "23718699",
   "metadata": {},
   "source": [
    " "
   ]
  },
  {
   "cell_type": "markdown",
   "id": "a31f0e2d",
   "metadata": {},
   "source": [
    " "
   ]
  },
  {
   "cell_type": "code",
   "execution_count": 1,
   "id": "67ad22f8",
   "metadata": {},
   "outputs": [],
   "source": [
    "import numpy as np"
   ]
  },
  {
   "cell_type": "markdown",
   "id": "6230663e",
   "metadata": {},
   "source": [
    " "
   ]
  },
  {
   "cell_type": "markdown",
   "id": "3e0bf9b9",
   "metadata": {},
   "source": [
    " "
   ]
  },
  {
   "cell_type": "markdown",
   "id": "f0c30f6d",
   "metadata": {},
   "source": [
    "33."
   ]
  },
  {
   "cell_type": "code",
   "execution_count": 20,
   "id": "f95a51c3",
   "metadata": {},
   "outputs": [
    {
     "data": {
      "text/plain": [
       "array([[ 0.31620358, -1.12290749,  0.82795268,  5.17673193],\n",
       "       [-7.83111011,  7.54857101, -3.70449463, -4.31418072],\n",
       "       [ 1.16018416,  2.44076131,  5.10269167, -4.2306648 ],\n",
       "       [-8.07183032,  2.06733846,  0.93771061,  2.63697173]])"
      ]
     },
     "execution_count": 20,
     "metadata": {},
     "output_type": "execute_result"
    }
   ],
   "source": [
    "n = 4\n",
    "\n",
    "A = np.random.uniform(low=-10, high=10, size=(n, n))\n",
    "\n",
    "det_A = np.linalg.det(A)\n",
    "\n",
    "A"
   ]
  },
  {
   "cell_type": "markdown",
   "id": "3c1eb473",
   "metadata": {},
   "source": [
    " "
   ]
  },
  {
   "cell_type": "code",
   "execution_count": 21,
   "id": "732d4141",
   "metadata": {},
   "outputs": [
    {
     "data": {
      "text/plain": [
       "array([[ 1.66566196e-01,  5.58427667e-02,  4.38790405e-02,\n",
       "        -1.65233188e-01],\n",
       "       [ 3.23592154e-01,  1.86477462e-01,  1.10863842e-01,\n",
       "        -1.52305241e-01],\n",
       "       [ 1.52443367e-02, -6.28509698e-02,  1.33043012e-01,\n",
       "         8.06963908e-02],\n",
       "       [ 2.50751565e-01,  4.70908842e-02,  8.92087656e-05,\n",
       "        -3.58508351e-02]])"
      ]
     },
     "execution_count": 21,
     "metadata": {},
     "output_type": "execute_result"
    }
   ],
   "source": [
    "C = np.zeros((4, 4))\n",
    "\n",
    "for i in range(n):\n",
    "    for j in range(n):\n",
    "        A_ij = np.delete(A, i, axis=0)\n",
    "        A_ij = np.delete(A_ij, j, axis=1)\n",
    "        C[i, j] = ((-1)**((i+1)+(j+1)))*np.linalg.det(A_ij)\n",
    "        \n",
    "        \n",
    "A_inv = (1/det_A)*(C.transpose())\n",
    "\n",
    "A_inv"
   ]
  },
  {
   "cell_type": "markdown",
   "id": "e3b23813",
   "metadata": {},
   "source": [
    " "
   ]
  },
  {
   "cell_type": "markdown",
   "id": "91c58f89",
   "metadata": {},
   "source": [
    " "
   ]
  },
  {
   "cell_type": "markdown",
   "id": "b5b5aa26",
   "metadata": {},
   "source": [
    " "
   ]
  },
  {
   "cell_type": "code",
   "execution_count": 23,
   "id": "77197b04",
   "metadata": {},
   "outputs": [
    {
     "name": "stdout",
     "output_type": "stream",
     "text": [
      "[[ 5.55111512e-17 -6.93889390e-18 -6.93889390e-18  5.55111512e-17]\n",
      " [ 2.22044605e-16  1.11022302e-16  1.38777878e-17 -1.11022302e-16]\n",
      " [ 5.20417043e-18 -1.38777878e-17  8.32667268e-17  2.77555756e-17]\n",
      " [ 0.00000000e+00  2.08166817e-17  1.35525272e-20  0.00000000e+00]]\n"
     ]
    }
   ],
   "source": [
    "print(A_inv - np.linalg.inv(A))"
   ]
  },
  {
   "cell_type": "markdown",
   "id": "2a8e457f",
   "metadata": {},
   "source": [
    " "
   ]
  },
  {
   "cell_type": "markdown",
   "id": "d87cc159",
   "metadata": {},
   "source": [
    " "
   ]
  },
  {
   "cell_type": "markdown",
   "id": "1e887b4e",
   "metadata": {},
   "source": [
    " "
   ]
  },
  {
   "cell_type": "markdown",
   "id": "9ddb4338",
   "metadata": {},
   "source": [
    " "
   ]
  },
  {
   "cell_type": "markdown",
   "id": "39869227",
   "metadata": {},
   "source": [
    "34."
   ]
  },
  {
   "cell_type": "markdown",
   "id": "3c8398ac",
   "metadata": {},
   "source": [
    " "
   ]
  },
  {
   "cell_type": "code",
   "execution_count": 34,
   "id": "af2b2775",
   "metadata": {},
   "outputs": [
    {
     "name": "stdout",
     "output_type": "stream",
     "text": [
      "[[-2.31119587 -3.15436211  4.14799476 -8.0840155 ]\n",
      " [ 3.18672078  6.28317151  8.14575437 -9.81786601]\n",
      " [ 0.54451361  2.85742212 -1.58999426 -7.34661316]\n",
      " [ 3.807517   -8.76463797 -8.53691595 -3.94555605]]\n",
      "\n",
      "[ 5.2567126  -5.91814445  5.94907461  6.60073124]\n"
     ]
    }
   ],
   "source": [
    "n = 4\n",
    "\n",
    "A = np.random.uniform(low=-10, high=10, size=(n, n))\n",
    "det_A = np.linalg.det(A)\n",
    "\n",
    "b = np.random.uniform(low=-10, high=10, size=(n))\n",
    "\n",
    "print(A)\n",
    "print()\n",
    "print(b)"
   ]
  },
  {
   "cell_type": "markdown",
   "id": "fff1ed90",
   "metadata": {},
   "source": [
    " "
   ]
  },
  {
   "cell_type": "code",
   "execution_count": 36,
   "id": "93a41d7b",
   "metadata": {},
   "outputs": [
    {
     "data": {
      "text/plain": [
       "array([-1.41532955, -0.07212963, -0.99412415, -0.72757253])"
      ]
     },
     "execution_count": 36,
     "metadata": {},
     "output_type": "execute_result"
    }
   ],
   "source": [
    "def cramer_i(i):\n",
    "    A_i = A.copy()\n",
    "    A_i[:, i] = b\n",
    "    det_Ai = np.linalg.det(A_i)\n",
    "    x_i = det_Ai / det_A\n",
    "    return x_i\n",
    "\n",
    "x = np.zeros(n)\n",
    "\n",
    "for i in range(n):\n",
    "    x[i] = cramer_i(i)\n",
    "    \n",
    "x"
   ]
  },
  {
   "cell_type": "markdown",
   "id": "0243cea1",
   "metadata": {},
   "source": [
    " "
   ]
  },
  {
   "cell_type": "markdown",
   "id": "02045c61",
   "metadata": {},
   "source": [
    " "
   ]
  },
  {
   "cell_type": "markdown",
   "id": "eb2cbfb5",
   "metadata": {},
   "source": [
    " "
   ]
  },
  {
   "cell_type": "markdown",
   "id": "b01a624d",
   "metadata": {},
   "source": [
    " "
   ]
  },
  {
   "cell_type": "markdown",
   "id": "a8891931",
   "metadata": {},
   "source": [
    " "
   ]
  },
  {
   "cell_type": "code",
   "execution_count": 37,
   "id": "e68300e0",
   "metadata": {},
   "outputs": [
    {
     "data": {
      "text/plain": [
       "array([3.10862447e-15, 1.80411242e-16, 2.22044605e-16, 8.88178420e-16])"
      ]
     },
     "execution_count": 37,
     "metadata": {},
     "output_type": "execute_result"
    }
   ],
   "source": [
    "x - np.linalg.inv(A) @ b"
   ]
  },
  {
   "cell_type": "markdown",
   "id": "56f15577",
   "metadata": {},
   "source": [
    " "
   ]
  },
  {
   "cell_type": "markdown",
   "id": "dcc7e862",
   "metadata": {},
   "source": [
    " "
   ]
  },
  {
   "cell_type": "markdown",
   "id": "879e8be7",
   "metadata": {},
   "source": [
    " "
   ]
  },
  {
   "cell_type": "markdown",
   "id": "34a9106e",
   "metadata": {},
   "source": [
    " "
   ]
  },
  {
   "cell_type": "markdown",
   "id": "8a16ccf6",
   "metadata": {},
   "source": [
    " "
   ]
  },
  {
   "cell_type": "markdown",
   "id": "c698899b",
   "metadata": {},
   "source": [
    " "
   ]
  },
  {
   "cell_type": "markdown",
   "id": "73f022b9",
   "metadata": {},
   "source": [
    " "
   ]
  },
  {
   "cell_type": "markdown",
   "id": "9253888e",
   "metadata": {},
   "source": [
    " "
   ]
  },
  {
   "cell_type": "markdown",
   "id": "9a9c3f72",
   "metadata": {},
   "source": [
    " "
   ]
  },
  {
   "cell_type": "markdown",
   "id": "410cca20",
   "metadata": {},
   "source": [
    " "
   ]
  },
  {
   "cell_type": "markdown",
   "id": "9aa72378",
   "metadata": {},
   "source": [
    " "
   ]
  },
  {
   "cell_type": "markdown",
   "id": "fc40ee5d",
   "metadata": {},
   "source": [
    " "
   ]
  }
 ],
 "metadata": {
  "kernelspec": {
   "display_name": "Python 3 (ipykernel)",
   "language": "python",
   "name": "python3"
  },
  "language_info": {
   "codemirror_mode": {
    "name": "ipython",
    "version": 3
   },
   "file_extension": ".py",
   "mimetype": "text/x-python",
   "name": "python",
   "nbconvert_exporter": "python",
   "pygments_lexer": "ipython3",
   "version": "3.11.5"
  },
  "toc": {
   "base_numbering": 1,
   "nav_menu": {},
   "number_sections": true,
   "sideBar": true,
   "skip_h1_title": false,
   "title_cell": "Table of Contents",
   "title_sidebar": "Contents",
   "toc_cell": false,
   "toc_position": {
    "height": "calc(100% - 180px)",
    "left": "10px",
    "top": "150px",
    "width": "226px"
   },
   "toc_section_display": true,
   "toc_window_display": true
  }
 },
 "nbformat": 4,
 "nbformat_minor": 5
}
