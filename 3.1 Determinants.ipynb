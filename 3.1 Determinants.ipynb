{
 "cells": [
  {
   "cell_type": "markdown",
   "id": "81feb6e9",
   "metadata": {},
   "source": [
    " "
   ]
  },
  {
   "cell_type": "markdown",
   "id": "23718699",
   "metadata": {},
   "source": [
    " "
   ]
  },
  {
   "cell_type": "code",
   "execution_count": 1,
   "id": "7c548033",
   "metadata": {},
   "outputs": [],
   "source": [
    "import numpy as np"
   ]
  },
  {
   "cell_type": "markdown",
   "id": "a31f0e2d",
   "metadata": {},
   "source": [
    " "
   ]
  },
  {
   "cell_type": "markdown",
   "id": "529f23fe",
   "metadata": {},
   "source": [
    " "
   ]
  },
  {
   "cell_type": "markdown",
   "id": "bf1b2698",
   "metadata": {},
   "source": [
    " "
   ]
  },
  {
   "cell_type": "markdown",
   "id": "58203cb3",
   "metadata": {},
   "source": [
    " "
   ]
  },
  {
   "cell_type": "markdown",
   "id": "1385d331",
   "metadata": {},
   "source": [
    "# Ex 43"
   ]
  },
  {
   "cell_type": "markdown",
   "id": "35854c4a",
   "metadata": {},
   "source": [
    " "
   ]
  },
  {
   "cell_type": "code",
   "execution_count": 2,
   "id": "34a8c42d",
   "metadata": {},
   "outputs": [],
   "source": [
    "n = 6"
   ]
  },
  {
   "cell_type": "markdown",
   "id": "c22b1e0b",
   "metadata": {},
   "source": [
    " "
   ]
  },
  {
   "cell_type": "code",
   "execution_count": 3,
   "id": "ad6b1264",
   "metadata": {},
   "outputs": [
    {
     "data": {
      "text/plain": [
       "array([[ 1.30224733,  5.69340913,  4.19356151,  8.6086966 , -4.97441805,\n",
       "        -0.59214158],\n",
       "       [ 5.08673358,  7.69470721, -8.98349162, -6.36603388,  6.49399587,\n",
       "         1.47589739],\n",
       "       [ 0.46184813,  4.47195417,  6.92982566, -4.56447932, -4.50433268,\n",
       "         6.82047341],\n",
       "       [-6.77265137,  4.82863046,  6.99634978,  8.97709926, -8.01408017,\n",
       "         2.37343688],\n",
       "       [ 6.35415451,  4.40016279, -1.20789348,  1.02091557, -0.13942112,\n",
       "         4.01735443],\n",
       "       [-6.45020407, -5.59781422,  4.97154558,  5.73245433,  4.98904047,\n",
       "         2.79515048]])"
      ]
     },
     "execution_count": 3,
     "metadata": {},
     "output_type": "execute_result"
    }
   ],
   "source": [
    "A = np.random.uniform(low=-9, high=9, size=(n, n))\n",
    "\n",
    "A"
   ]
  },
  {
   "cell_type": "markdown",
   "id": "da960ede",
   "metadata": {},
   "source": [
    " "
   ]
  },
  {
   "cell_type": "code",
   "execution_count": 4,
   "id": "bfe2e54b",
   "metadata": {},
   "outputs": [
    {
     "data": {
      "text/plain": [
       "array([[ 0.07008013, -0.04561502,  0.01276274, -0.09473061,  0.06799362,\n",
       "        -0.00949675],\n",
       "       [ 0.10014773,  0.09318304,  0.04150309, -0.0033496 , -0.09354813,\n",
       "         0.00803834],\n",
       "       [ 0.17382694,  0.00270175,  0.11111987, -0.1303661 , -0.12678251,\n",
       "         0.05716993],\n",
       "       [ 0.00859473, -0.01531405, -0.06449565,  0.03367438,  0.07802573,\n",
       "         0.02654637],\n",
       "       [ 0.11317795,  0.07318385,  0.03464703, -0.09246435, -0.08290486,\n",
       "         0.09846085],\n",
       "       [-0.16652674, -0.02267027, -0.01464165,  0.10253842,  0.18301321,\n",
       "         0.02007663]])"
      ]
     },
     "execution_count": 4,
     "metadata": {},
     "output_type": "execute_result"
    }
   ],
   "source": [
    "A_inverse = np.linalg.inv(A)\n",
    "\n",
    "A_inverse"
   ]
  },
  {
   "cell_type": "markdown",
   "id": "ffa9c300",
   "metadata": {},
   "source": [
    " "
   ]
  },
  {
   "cell_type": "code",
   "execution_count": 5,
   "id": "641b9328",
   "metadata": {},
   "outputs": [
    {
     "data": {
      "text/plain": [
       "1.0000000000000018"
      ]
     },
     "execution_count": 5,
     "metadata": {},
     "output_type": "execute_result"
    }
   ],
   "source": [
    "np.linalg.det(A) * np.linalg.det(A_inverse)"
   ]
  },
  {
   "cell_type": "markdown",
   "id": "89c73740",
   "metadata": {},
   "source": [
    " "
   ]
  },
  {
   "cell_type": "markdown",
   "id": "4869382b",
   "metadata": {},
   "source": [
    " "
   ]
  },
  {
   "cell_type": "markdown",
   "id": "f22f8e53",
   "metadata": {},
   "source": [
    " "
   ]
  },
  {
   "cell_type": "markdown",
   "id": "651fcf4a",
   "metadata": {},
   "source": [
    " "
   ]
  },
  {
   "cell_type": "markdown",
   "id": "3d752788",
   "metadata": {},
   "source": [
    " "
   ]
  },
  {
   "cell_type": "markdown",
   "id": "e2dee4b4",
   "metadata": {},
   "source": [
    " "
   ]
  },
  {
   "cell_type": "markdown",
   "id": "6230663e",
   "metadata": {},
   "source": [
    " "
   ]
  },
  {
   "cell_type": "markdown",
   "id": "3e0bf9b9",
   "metadata": {},
   "source": [
    "# Ex 44"
   ]
  },
  {
   "cell_type": "code",
   "execution_count": 6,
   "id": "b1db343d",
   "metadata": {},
   "outputs": [
    {
     "data": {
      "text/plain": [
       "-5.204170427930421e-17"
      ]
     },
     "execution_count": 6,
     "metadata": {},
     "output_type": "execute_result"
    }
   ],
   "source": [
    "n = 2\n",
    "\n",
    "A = np.random.rand(n, n)\n",
    "B = np.random.rand(n, n)\n",
    "\n",
    "det_A = np.linalg.det(A)\n",
    "det_B = np.linalg.det(B)\n",
    "\n",
    "AB = np.dot(A, B)\n",
    "det_AB = np.linalg.det(AB)\n",
    "\n",
    "det_AB - det_A * det_B"
   ]
  },
  {
   "cell_type": "markdown",
   "id": "f0c30f6d",
   "metadata": {},
   "source": [
    " "
   ]
  },
  {
   "cell_type": "markdown",
   "id": "3c1eb473",
   "metadata": {},
   "source": [
    " "
   ]
  },
  {
   "cell_type": "markdown",
   "id": "e3b23813",
   "metadata": {},
   "source": [
    " "
   ]
  },
  {
   "cell_type": "markdown",
   "id": "91c58f89",
   "metadata": {},
   "source": [
    " "
   ]
  },
  {
   "cell_type": "markdown",
   "id": "b5b5aa26",
   "metadata": {},
   "source": [
    "# Ex 45"
   ]
  },
  {
   "cell_type": "code",
   "execution_count": 7,
   "id": "c13935fb",
   "metadata": {},
   "outputs": [
    {
     "data": {
      "text/plain": [
       "-0.41786069989969954"
      ]
     },
     "execution_count": 7,
     "metadata": {},
     "output_type": "execute_result"
    }
   ],
   "source": [
    "n = 2\n",
    "\n",
    "A = np.random.rand(n, n)\n",
    "B = np.random.rand(n, n)\n",
    "\n",
    "det_A = np.linalg.det(A)\n",
    "det_B = np.linalg.det(B)\n",
    "\n",
    "det_A_B = np.linalg.det(A + B)\n",
    "\n",
    "det_A_B - (det_A + det_B)"
   ]
  },
  {
   "cell_type": "markdown",
   "id": "14d187e6",
   "metadata": {},
   "source": [
    " "
   ]
  },
  {
   "cell_type": "markdown",
   "id": "f8e76ede",
   "metadata": {},
   "source": [
    " "
   ]
  },
  {
   "cell_type": "markdown",
   "id": "7a023de7",
   "metadata": {},
   "source": [
    " "
   ]
  },
  {
   "cell_type": "markdown",
   "id": "158928de",
   "metadata": {},
   "source": [
    " "
   ]
  },
  {
   "cell_type": "markdown",
   "id": "7c1d7f8b",
   "metadata": {},
   "source": [
    "# Ex 46"
   ]
  },
  {
   "cell_type": "code",
   "execution_count": 24,
   "id": "01577c8a",
   "metadata": {},
   "outputs": [
    {
     "name": "stdout",
     "output_type": "stream",
     "text": [
      "1.0\n",
      "-1.0\n",
      "100000.0000000001\n",
      "3199999.9999999995\n"
     ]
    }
   ],
   "source": [
    "n = 5\n",
    "\n",
    "A = np.random.rand(n, n)\n",
    "\n",
    "det_A_0 = np.linalg.det(A)\n",
    "\n",
    "det_A_1 = np.linalg.det(A.transpose())\n",
    "det_A_2 = np.linalg.det(-A)\n",
    "det_A_3 = np.linalg.det(10*A)\n",
    "det_A_4 = np.linalg.det(20*A)\n",
    "\n",
    "print(det_A_1 / det_A_0)\n",
    "print(det_A_2 / det_A_0)\n",
    "print(det_A_3 / det_A_0)\n",
    "print(det_A_4 / det_A_0)"
   ]
  },
  {
   "cell_type": "markdown",
   "id": "a0968c36",
   "metadata": {},
   "source": [
    " "
   ]
  },
  {
   "cell_type": "markdown",
   "id": "ee83708a",
   "metadata": {},
   "source": [
    " "
   ]
  },
  {
   "cell_type": "code",
   "execution_count": 25,
   "id": "5b059d04",
   "metadata": {},
   "outputs": [
    {
     "name": "stdout",
     "output_type": "stream",
     "text": [
      "-1\n",
      "100000\n",
      "3200000\n"
     ]
    }
   ],
   "source": [
    "print((-1)**n)\n",
    "print(10**n)\n",
    "print(20**n)"
   ]
  },
  {
   "cell_type": "markdown",
   "id": "24c2c7aa",
   "metadata": {},
   "source": [
    " "
   ]
  },
  {
   "cell_type": "markdown",
   "id": "d010b328",
   "metadata": {},
   "source": [
    " "
   ]
  },
  {
   "cell_type": "markdown",
   "id": "bcad7f32",
   "metadata": {},
   "source": [
    " "
   ]
  },
  {
   "cell_type": "markdown",
   "id": "d1f1278b",
   "metadata": {},
   "source": [
    " "
   ]
  },
  {
   "cell_type": "markdown",
   "id": "2a8e457f",
   "metadata": {},
   "source": [
    " "
   ]
  },
  {
   "cell_type": "markdown",
   "id": "d87cc159",
   "metadata": {},
   "source": [
    " "
   ]
  },
  {
   "cell_type": "markdown",
   "id": "1e887b4e",
   "metadata": {},
   "source": [
    " "
   ]
  },
  {
   "cell_type": "markdown",
   "id": "9ddb4338",
   "metadata": {},
   "source": [
    " "
   ]
  },
  {
   "cell_type": "markdown",
   "id": "39869227",
   "metadata": {},
   "source": [
    " "
   ]
  },
  {
   "cell_type": "markdown",
   "id": "3c8398ac",
   "metadata": {},
   "source": [
    " "
   ]
  },
  {
   "cell_type": "markdown",
   "id": "73f022b9",
   "metadata": {},
   "source": [
    " "
   ]
  },
  {
   "cell_type": "markdown",
   "id": "9253888e",
   "metadata": {},
   "source": [
    " "
   ]
  },
  {
   "cell_type": "markdown",
   "id": "9a9c3f72",
   "metadata": {},
   "source": [
    " "
   ]
  },
  {
   "cell_type": "markdown",
   "id": "410cca20",
   "metadata": {},
   "source": [
    " "
   ]
  },
  {
   "cell_type": "markdown",
   "id": "9aa72378",
   "metadata": {},
   "source": [
    " "
   ]
  },
  {
   "cell_type": "markdown",
   "id": "fc40ee5d",
   "metadata": {},
   "source": [
    " "
   ]
  }
 ],
 "metadata": {
  "kernelspec": {
   "display_name": "Python 3 (ipykernel)",
   "language": "python",
   "name": "python3"
  },
  "language_info": {
   "codemirror_mode": {
    "name": "ipython",
    "version": 3
   },
   "file_extension": ".py",
   "mimetype": "text/x-python",
   "name": "python",
   "nbconvert_exporter": "python",
   "pygments_lexer": "ipython3",
   "version": "3.11.5"
  },
  "toc": {
   "base_numbering": 1,
   "nav_menu": {},
   "number_sections": true,
   "sideBar": true,
   "skip_h1_title": false,
   "title_cell": "Table of Contents",
   "title_sidebar": "Contents",
   "toc_cell": false,
   "toc_position": {
    "height": "calc(100% - 180px)",
    "left": "10px",
    "top": "150px",
    "width": "180.6px"
   },
   "toc_section_display": true,
   "toc_window_display": true
  }
 },
 "nbformat": 4,
 "nbformat_minor": 5
}
