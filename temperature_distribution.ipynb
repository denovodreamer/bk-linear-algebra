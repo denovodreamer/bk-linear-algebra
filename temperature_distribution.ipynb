{
 "cells": [
  {
   "cell_type": "markdown",
   "id": "fa2d0ec9-0132-4900-8b00-f41834d91b44",
   "metadata": {},
   "source": [
    " "
   ]
  },
  {
   "cell_type": "markdown",
   "id": "5ad40249-141e-4dde-8bcf-9f6cf789e105",
   "metadata": {},
   "source": [
    " "
   ]
  },
  {
   "cell_type": "markdown",
   "id": "b782ceaf-e15b-4b56-9b3a-a3b1d1965a59",
   "metadata": {},
   "source": [
    " "
   ]
  },
  {
   "cell_type": "markdown",
   "id": "29e807da-8de8-4ebf-924e-15542e0470d2",
   "metadata": {},
   "source": [
    " "
   ]
  },
  {
   "cell_type": "markdown",
   "id": "accdef07-5dde-41d2-946e-787e2d4feaff",
   "metadata": {},
   "source": [
    " "
   ]
  },
  {
   "cell_type": "code",
   "execution_count": 3,
   "id": "68c687a4-16ce-409b-88c6-34bb708902f2",
   "metadata": {},
   "outputs": [],
   "source": [
    "import numpy as np"
   ]
  },
  {
   "cell_type": "markdown",
   "id": "9279f89c-8bfe-44e3-930e-3611eb6b76cd",
   "metadata": {},
   "source": [
    " "
   ]
  },
  {
   "cell_type": "markdown",
   "id": "c283bd32-7ef9-488d-a97e-0050e83efcbb",
   "metadata": {},
   "source": [
    " "
   ]
  },
  {
   "cell_type": "code",
   "execution_count": 7,
   "id": "e6c18fe9-2ff6-42f1-a869-3bf1445c1927",
   "metadata": {},
   "outputs": [
    {
     "data": {
      "text/plain": [
       "array([20. , 27.5, 30. , 22.5])"
      ]
     },
     "execution_count": 7,
     "metadata": {},
     "output_type": "execute_result"
    }
   ],
   "source": [
    "\n",
    "\n",
    "\n",
    "def compute_distribution(T_left, T_right, T_lower, T_upper):\n",
    "    A = np.array(\n",
    "        [\n",
    "            [4, -1, 0, -1],\n",
    "            [-1, 4, -1, 0],\n",
    "            [-1, 0, -1, 4],\n",
    "            [0, -1, 4, -1],\n",
    "        ]\n",
    "    )\n",
    "    \n",
    "    Tb = np.array(\n",
    "        [\n",
    "            T_left+T_upper,\n",
    "            T_upper+T_right,\n",
    "            T_left+T_lower,\n",
    "            T_right+T_lower,\n",
    "        ]\n",
    "    )\n",
    "\n",
    "\n",
    "    temp_dist = np.linalg.solve(A, Tb)\n",
    "\n",
    "    return temp_dist\n",
    "    \n",
    "\n",
    "\n",
    "\n"
   ]
  },
  {
   "cell_type": "markdown",
   "id": "aa92bb08-89a8-4cf0-99f6-282aad7a42c9",
   "metadata": {},
   "source": [
    " "
   ]
  },
  {
   "cell_type": "markdown",
   "id": "a1512cfd-9c47-4a6d-9d60-5d3c748cec83",
   "metadata": {},
   "source": [
    " "
   ]
  },
  {
   "cell_type": "markdown",
   "id": "7f68a81b-d6c5-4b22-9d9f-d313b3e51f6d",
   "metadata": {},
   "source": [
    " "
   ]
  },
  {
   "cell_type": "code",
   "execution_count": 8,
   "id": "d42a450a-86c0-4cb3-b8c9-a3370ba74dcc",
   "metadata": {},
   "outputs": [
    {
     "data": {
      "text/plain": [
       "array([20. , 27.5, 30. , 22.5])"
      ]
     },
     "execution_count": 8,
     "metadata": {},
     "output_type": "execute_result"
    }
   ],
   "source": [
    "T_left = 10\n",
    "T_right = 40\n",
    "T_lower = 30\n",
    "T_upper = 20\n",
    "\n",
    "compute_distribution(T_left, T_right, T_lower, T_upper)"
   ]
  },
  {
   "cell_type": "markdown",
   "id": "8dd64959-5df1-48c2-8f1c-b8c553faad3c",
   "metadata": {},
   "source": [
    " "
   ]
  },
  {
   "cell_type": "markdown",
   "id": "34191967-1630-4759-8e12-e98aff2d2ba4",
   "metadata": {},
   "source": [
    " "
   ]
  },
  {
   "cell_type": "markdown",
   "id": "354cbbac-e4c1-4772-9630-62e45c79fb9b",
   "metadata": {},
   "source": [
    " "
   ]
  },
  {
   "cell_type": "code",
   "execution_count": 11,
   "id": "cbee047f-c3c1-4714-930d-d198ab8a7671",
   "metadata": {},
   "outputs": [
    {
     "data": {
      "text/plain": [
       "array([30., 30., 30., 30.])"
      ]
     },
     "execution_count": 11,
     "metadata": {},
     "output_type": "execute_result"
    }
   ],
   "source": [
    "T_left = 0\n",
    "T_right = 0\n",
    "T_lower = 20\n",
    "T_upper = 20\n",
    "\n",
    "compute_distribution(T_left*3, T_right*3, T_lower*3, T_upper*3)"
   ]
  },
  {
   "cell_type": "markdown",
   "id": "2f6425f1-0aed-4bac-b1e0-29c8c524511b",
   "metadata": {},
   "source": [
    " "
   ]
  },
  {
   "cell_type": "markdown",
   "id": "41ded30e-2393-46df-84f6-15461ae030fb",
   "metadata": {},
   "source": [
    " "
   ]
  },
  {
   "cell_type": "markdown",
   "id": "aa5dd609-490a-4597-8dfa-6e5b78bdf675",
   "metadata": {},
   "source": [
    " "
   ]
  },
  {
   "cell_type": "code",
   "execution_count": 10,
   "id": "b7e78256-2600-4101-93bd-e651a2db10a1",
   "metadata": {},
   "outputs": [
    {
     "data": {
      "text/plain": [
       "array([10. , 17.5, 20. , 12.5])"
      ]
     },
     "execution_count": 10,
     "metadata": {},
     "output_type": "execute_result"
    }
   ],
   "source": [
    "T_left = 10\n",
    "T_right = 40\n",
    "T_lower = 10\n",
    "T_upper = 0\n",
    "\n",
    "compute_distribution(T_left, T_right, T_lower, T_upper)"
   ]
  },
  {
   "cell_type": "markdown",
   "id": "38884e56-0ffc-4d42-9ddd-7046e1cac14b",
   "metadata": {},
   "source": [
    " "
   ]
  },
  {
   "cell_type": "markdown",
   "id": "d1d6a532-1247-4a3d-830d-3d7c9b0c1616",
   "metadata": {},
   "source": [
    " "
   ]
  },
  {
   "cell_type": "markdown",
   "id": "5062bf79-fd9e-460d-9cde-1a0623e2afc2",
   "metadata": {},
   "source": [
    " "
   ]
  },
  {
   "cell_type": "markdown",
   "id": "f8376f03-4267-4014-97dc-6ee59ead6158",
   "metadata": {},
   "source": [
    " "
   ]
  },
  {
   "cell_type": "markdown",
   "id": "83758e4e-2a1e-4f57-a204-c9b3e5358650",
   "metadata": {},
   "source": [
    " "
   ]
  },
  {
   "cell_type": "markdown",
   "id": "336aab1c-798e-4fe0-8b21-47d08836807f",
   "metadata": {},
   "source": [
    " "
   ]
  },
  {
   "cell_type": "markdown",
   "id": "36e7e0b7-cec3-449a-8c39-77d5819aacba",
   "metadata": {},
   "source": [
    " "
   ]
  },
  {
   "cell_type": "code",
   "execution_count": null,
   "id": "865ce7d0-ec5e-4f9c-a9d2-b9a39a69d82a",
   "metadata": {},
   "outputs": [],
   "source": [
    "b = np.array([5, 15, 0, 10, 0, 10, 20, 30])\n",
    "\n",
    "d = np.array([-1, 0, -1, 0, -1, 0, -1])\n",
    "\n",
    "A = np.zeros(8)\n",
    "A = A + np.diagflat(d, 1)\n",
    "A = A + np.diagflat(-np.ones(6), 2)\n",
    "A = A + A.T + 4 * np.identity(8)\n",
    "\n",
    "print(A.shape)\n",
    "print(A)"
   ]
  },
  {
   "cell_type": "markdown",
   "id": "09778f1b-3c0b-4b28-aaad-88533e49d8e2",
   "metadata": {},
   "source": [
    " "
   ]
  },
  {
   "cell_type": "markdown",
   "id": "472c802a-c3fb-4033-84e5-a0f3304bdfbc",
   "metadata": {},
   "source": [
    " "
   ]
  },
  {
   "cell_type": "markdown",
   "id": "9cf3f8d3-b42c-4110-94ef-1b13e2213a58",
   "metadata": {},
   "source": [
    " "
   ]
  },
  {
   "cell_type": "markdown",
   "id": "6e0fd06d-3004-4446-b04d-98810406d115",
   "metadata": {},
   "source": [
    " "
   ]
  },
  {
   "cell_type": "markdown",
   "id": "caa3b5d4-defb-42a3-9bdb-e1262db9d5e4",
   "metadata": {},
   "source": [
    " "
   ]
  },
  {
   "cell_type": "markdown",
   "id": "817c5be6-f8ad-4801-b1b3-4937b7735418",
   "metadata": {},
   "source": [
    " "
   ]
  },
  {
   "cell_type": "markdown",
   "id": "cbf9e41d-2c0c-45b6-a653-5d1b2efe74ff",
   "metadata": {},
   "source": [
    " "
   ]
  },
  {
   "cell_type": "markdown",
   "id": "0b7a994a-f84c-4a29-b28f-a76f4b829802",
   "metadata": {},
   "source": [
    " "
   ]
  },
  {
   "cell_type": "markdown",
   "id": "fde84efe-0dae-4036-a149-af635ead8aa5",
   "metadata": {},
   "source": [
    " "
   ]
  },
  {
   "cell_type": "markdown",
   "id": "9e071f50-40c9-4396-9a4f-142b64c84eb5",
   "metadata": {},
   "source": [
    " "
   ]
  },
  {
   "cell_type": "markdown",
   "id": "631cd839-4029-4647-ad9a-f7059af80dd2",
   "metadata": {},
   "source": [
    " "
   ]
  },
  {
   "cell_type": "markdown",
   "id": "bf8b6bb1-02ca-4ce2-9a87-1ace693660c0",
   "metadata": {},
   "source": [
    " "
   ]
  },
  {
   "cell_type": "markdown",
   "id": "1a12771b-50b2-4f57-b964-6adf9a0897f6",
   "metadata": {},
   "source": [
    " "
   ]
  }
 ],
 "metadata": {
  "kernelspec": {
   "display_name": "Python 3 (ipykernel)",
   "language": "python",
   "name": "python3"
  },
  "language_info": {
   "codemirror_mode": {
    "name": "ipython",
    "version": 3
   },
   "file_extension": ".py",
   "mimetype": "text/x-python",
   "name": "python",
   "nbconvert_exporter": "python",
   "pygments_lexer": "ipython3",
   "version": "3.9.6"
  }
 },
 "nbformat": 4,
 "nbformat_minor": 5
}
