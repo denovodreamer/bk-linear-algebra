{
 "cells": [
  {
   "cell_type": "markdown",
   "id": "17747bc3-bed2-4569-ae68-a6cacad35e45",
   "metadata": {},
   "source": [
    " "
   ]
  },
  {
   "cell_type": "markdown",
   "id": "d3887331-ec6f-4e8e-9363-4d03938ad43d",
   "metadata": {},
   "source": [
    " "
   ]
  },
  {
   "cell_type": "markdown",
   "id": "989693ac-55ee-4156-a9db-0b2658672a40",
   "metadata": {},
   "source": [
    " "
   ]
  },
  {
   "cell_type": "markdown",
   "id": "415822a4-4e45-40da-a38f-7ed25e17ddfd",
   "metadata": {},
   "source": [
    " "
   ]
  },
  {
   "cell_type": "code",
   "execution_count": 1,
   "id": "cb92428c-88e4-45d1-ad99-6eaa7d90d734",
   "metadata": {},
   "outputs": [],
   "source": [
    "import numpy as np\n",
    "from utils.linalg import matrices"
   ]
  },
  {
   "cell_type": "markdown",
   "id": "29c79af2-e759-4c12-8a6d-6ac1d04237ea",
   "metadata": {},
   "source": [
    " "
   ]
  },
  {
   "cell_type": "markdown",
   "id": "6d537b33-c4c2-4d48-b5ef-b09fe47c419f",
   "metadata": {},
   "source": [
    " "
   ]
  },
  {
   "cell_type": "markdown",
   "id": "f716a152-8bd6-419f-8b02-787dc0f0e9fb",
   "metadata": {},
   "source": [
    " "
   ]
  },
  {
   "cell_type": "markdown",
   "id": "9ed548ea-05af-4edf-8b70-843277ef8846",
   "metadata": {},
   "source": [
    " "
   ]
  },
  {
   "cell_type": "markdown",
   "id": "b6b89b6d-1a22-4e68-a419-027a1886d6ed",
   "metadata": {},
   "source": [
    "**Practice 1**"
   ]
  },
  {
   "cell_type": "code",
   "execution_count": 27,
   "id": "244a7a50-5647-415c-8962-cadada51961d",
   "metadata": {},
   "outputs": [],
   "source": [
    "A = np.array(\n",
    "    [\n",
    "        [1, -3, -3],\n",
    "        [1, 5, 1],\n",
    "        [1, 7, 2]\n",
    "    ]\n",
    ")\n",
    "\n",
    "b = np.array([5, -3, -5]).reshape(-1, 1)"
   ]
  },
  {
   "cell_type": "markdown",
   "id": "f842af6f-728f-4f5a-9974-7b357b232f0e",
   "metadata": {},
   "source": [
    " "
   ]
  },
  {
   "cell_type": "markdown",
   "id": "f0539f77-ccf1-49d0-a687-78d7fa50c461",
   "metadata": {},
   "source": [
    " "
   ]
  },
  {
   "cell_type": "code",
   "execution_count": 28,
   "id": "f556dae6-0281-4d5b-91ff-4ea34e9a346e",
   "metadata": {},
   "outputs": [
    {
     "data": {
      "text/plain": [
       "array([[ 3,  9,  0],\n",
       "       [ 9, 83, 28],\n",
       "       [ 0, 28, 14]])"
      ]
     },
     "execution_count": 28,
     "metadata": {},
     "output_type": "execute_result"
    }
   ],
   "source": [
    "A.T @ A"
   ]
  },
  {
   "cell_type": "markdown",
   "id": "9d0078b9-53dd-44a8-a98b-e5341a9a4ddc",
   "metadata": {},
   "source": [
    " "
   ]
  },
  {
   "cell_type": "markdown",
   "id": "cb274d44-f8c0-4e29-8780-d5b286d4db20",
   "metadata": {},
   "source": [
    " "
   ]
  },
  {
   "cell_type": "markdown",
   "id": "fdcfa6d9-e798-45fc-9514-25be6627da5f",
   "metadata": {},
   "source": [
    " "
   ]
  },
  {
   "cell_type": "markdown",
   "id": "82579930-ab83-476d-b45f-788dbd1023b9",
   "metadata": {},
   "source": [
    " "
   ]
  },
  {
   "cell_type": "code",
   "execution_count": 29,
   "id": "c39e4e1c-6e76-4180-9df4-9375f5966102",
   "metadata": {},
   "outputs": [
    {
     "data": {
      "text/plain": [
       "array([[ 1. ,  0. , -1.5],\n",
       "       [ 0. ,  1. ,  0.5],\n",
       "       [ 0. ,  0. ,  0. ]])"
      ]
     },
     "execution_count": 29,
     "metadata": {},
     "output_type": "execute_result"
    }
   ],
   "source": [
    "rref, pivots = matrices.row_reduction(A.T @ A)\n",
    "\n",
    "rref"
   ]
  },
  {
   "cell_type": "markdown",
   "id": "87c0a538-6030-4e84-873f-e53b73fd4599",
   "metadata": {},
   "source": [
    " "
   ]
  },
  {
   "cell_type": "markdown",
   "id": "2d5cabc6-639b-436e-b7d0-96ad65ede80f",
   "metadata": {},
   "source": [
    " "
   ]
  },
  {
   "cell_type": "markdown",
   "id": "e1bdbec0-5f72-491f-a02b-11fbc5a12c15",
   "metadata": {},
   "source": [
    " "
   ]
  },
  {
   "cell_type": "markdown",
   "id": "54e6ba0c-a11c-422a-ac59-1efccdfdaea0",
   "metadata": {},
   "source": [
    " "
   ]
  },
  {
   "cell_type": "markdown",
   "id": "b6e4c700-9308-4cbf-84a2-10bf7e03c188",
   "metadata": {},
   "source": [
    " "
   ]
  },
  {
   "cell_type": "code",
   "execution_count": 6,
   "id": "b9be8046-12a2-4a76-a978-69f9d56e119c",
   "metadata": {},
   "outputs": [
    {
     "name": "stdout",
     "output_type": "stream",
     "text": [
      "[[ 1.   0.  -1.5  2. ]\n",
      " [ 0.   1.   0.5 -1. ]\n",
      " [ 0.   0.   0.   0. ]]\n"
     ]
    }
   ],
   "source": [
    "rref, pivots = matrices.row_reduction_aug(A.T @ A, A.T @ b)\n",
    "\n",
    "print(rref)"
   ]
  },
  {
   "cell_type": "markdown",
   "id": "93659ac8-b315-4f64-97a3-73521d8bf2aa",
   "metadata": {},
   "source": [
    " "
   ]
  },
  {
   "cell_type": "markdown",
   "id": "36083ffa-47d6-48f3-89d9-a688bebc6d67",
   "metadata": {},
   "source": [
    " "
   ]
  },
  {
   "cell_type": "markdown",
   "id": "2f79b3bd-729b-457a-9260-ae10d4765552",
   "metadata": {},
   "source": [
    " "
   ]
  },
  {
   "cell_type": "markdown",
   "id": "80c85399-8559-42cd-b3ae-0c62924abd4b",
   "metadata": {},
   "source": [
    " "
   ]
  },
  {
   "cell_type": "markdown",
   "id": "7f9fdfc7-f433-41eb-b60e-d7e70c0532d5",
   "metadata": {},
   "source": [
    " "
   ]
  },
  {
   "cell_type": "markdown",
   "id": "c3d375bd-d33d-45a1-bd18-0dcb5148e414",
   "metadata": {},
   "source": [
    "**1.**"
   ]
  },
  {
   "cell_type": "code",
   "execution_count": 24,
   "id": "735d02d7-8a2e-48d9-bad2-ba98858b005f",
   "metadata": {},
   "outputs": [
    {
     "name": "stdout",
     "output_type": "stream",
     "text": [
      "[[-1  2]\n",
      " [ 2 -3]\n",
      " [-1  3]]\n"
     ]
    }
   ],
   "source": [
    "A = np.array(\n",
    "    [\n",
    "        [-1, 2],\n",
    "        [2, -3],\n",
    "        [-1, 3],\n",
    "    ]\n",
    ")\n",
    "\n",
    "b = np.array([4, 1, 2]).reshape(-1, 1)\n",
    "\n",
    "print(A)"
   ]
  },
  {
   "cell_type": "markdown",
   "id": "abb6b1e5-e456-4ec2-b8c9-93473e76eb69",
   "metadata": {},
   "source": [
    " "
   ]
  },
  {
   "cell_type": "markdown",
   "id": "96a4bf8c-9e32-4067-9158-0693182f9340",
   "metadata": {},
   "source": [
    " "
   ]
  },
  {
   "cell_type": "code",
   "execution_count": 9,
   "id": "c7519f44-8385-45c8-9b01-f5a9e1f8d2e1",
   "metadata": {},
   "outputs": [
    {
     "data": {
      "text/plain": [
       "array([[  6, -11],\n",
       "       [-11,  22]])"
      ]
     },
     "execution_count": 9,
     "metadata": {},
     "output_type": "execute_result"
    }
   ],
   "source": [
    "A.T @ A"
   ]
  },
  {
   "cell_type": "markdown",
   "id": "79a7b7fe-a64a-46e1-a39a-f28f0c908853",
   "metadata": {},
   "source": [
    " "
   ]
  },
  {
   "cell_type": "code",
   "execution_count": 14,
   "id": "fb041472-d876-49c9-b67c-7ae7b724ab4f",
   "metadata": {},
   "outputs": [
    {
     "data": {
      "text/plain": [
       "10.999999999999991"
      ]
     },
     "execution_count": 14,
     "metadata": {},
     "output_type": "execute_result"
    }
   ],
   "source": [
    "np.linalg.det(A.T @ A)"
   ]
  },
  {
   "cell_type": "markdown",
   "id": "b0e6c877-3e04-41f2-9bf0-0631f733b623",
   "metadata": {},
   "source": [
    " "
   ]
  },
  {
   "cell_type": "markdown",
   "id": "2a02739f-d318-441e-a3ed-9587b4e00c38",
   "metadata": {},
   "source": [
    " "
   ]
  },
  {
   "cell_type": "markdown",
   "id": "f1790ff8-dd14-4214-80a9-2fdace75da8d",
   "metadata": {},
   "source": [
    " "
   ]
  },
  {
   "cell_type": "code",
   "execution_count": 13,
   "id": "69678af1-4e21-44ba-a88a-7db14d595c76",
   "metadata": {},
   "outputs": [
    {
     "data": {
      "text/plain": [
       "array([[-4],\n",
       "       [11]])"
      ]
     },
     "execution_count": 13,
     "metadata": {},
     "output_type": "execute_result"
    }
   ],
   "source": [
    "A.T @ b"
   ]
  },
  {
   "cell_type": "markdown",
   "id": "881ec66b-f2ab-4497-b077-41d33a3bb87c",
   "metadata": {},
   "source": [
    " "
   ]
  },
  {
   "cell_type": "markdown",
   "id": "1db982cb-abea-431a-861f-9b15e338f903",
   "metadata": {},
   "source": [
    " "
   ]
  },
  {
   "cell_type": "code",
   "execution_count": 16,
   "id": "fa1fad15-48aa-425d-88f3-5016dbbcd76e",
   "metadata": {},
   "outputs": [
    {
     "data": {
      "text/plain": [
       "array([[1., 0., 3.],\n",
       "       [0., 1., 2.]])"
      ]
     },
     "execution_count": 16,
     "metadata": {},
     "output_type": "execute_result"
    }
   ],
   "source": [
    "matrices.row_reduction_aug(A.T @ A, A.T @ b)[0]"
   ]
  },
  {
   "cell_type": "markdown",
   "id": "f962cd54-4eed-421a-b639-5c6a189ed0ce",
   "metadata": {},
   "source": [
    " "
   ]
  },
  {
   "cell_type": "markdown",
   "id": "32527684-2b17-4eaf-a38e-ed2b5209a1db",
   "metadata": {},
   "source": [
    " "
   ]
  },
  {
   "cell_type": "code",
   "execution_count": 18,
   "id": "eb4fecc4-175e-4afb-931a-a1a7b3e43d06",
   "metadata": {},
   "outputs": [
    {
     "data": {
      "text/plain": [
       "array([[1],\n",
       "       [0],\n",
       "       [3]])"
      ]
     },
     "execution_count": 18,
     "metadata": {},
     "output_type": "execute_result"
    }
   ],
   "source": [
    "x_hat = np.array([[3, 2]]).T\n",
    "\n",
    "A @ x_hat"
   ]
  },
  {
   "cell_type": "markdown",
   "id": "b74dbb11-d78b-420e-9456-97f63b5e3cd8",
   "metadata": {},
   "source": [
    " "
   ]
  },
  {
   "cell_type": "markdown",
   "id": "7ad7b625-92ec-4170-b32b-233eb24c5170",
   "metadata": {},
   "source": [
    " "
   ]
  },
  {
   "cell_type": "code",
   "execution_count": 25,
   "id": "d4cf9ccc-567a-417a-add0-c8d278f85b27",
   "metadata": {},
   "outputs": [
    {
     "data": {
      "text/plain": [
       "array([[-4],\n",
       "       [11]])"
      ]
     },
     "execution_count": 25,
     "metadata": {},
     "output_type": "execute_result"
    }
   ],
   "source": [
    "A.T @ b"
   ]
  },
  {
   "cell_type": "markdown",
   "id": "d18168a8-ca61-4891-b74d-579bb81eed59",
   "metadata": {},
   "source": [
    " "
   ]
  },
  {
   "cell_type": "markdown",
   "id": "5fba2390-037a-47d4-86b1-0b0efdd21cf8",
   "metadata": {},
   "source": [
    " "
   ]
  },
  {
   "cell_type": "markdown",
   "id": "032e763e-77e4-424c-82b2-202186d5f0e6",
   "metadata": {},
   "source": [
    " "
   ]
  },
  {
   "cell_type": "markdown",
   "id": "50eacdcf-f13c-42a2-a562-a47f64b8ee74",
   "metadata": {},
   "source": [
    " "
   ]
  },
  {
   "cell_type": "code",
   "execution_count": 31,
   "id": "6c2bb42c-78f7-41db-9f65-37efb04f6fad",
   "metadata": {},
   "outputs": [
    {
     "data": {
      "text/plain": [
       "7.0"
      ]
     },
     "execution_count": 31,
     "metadata": {},
     "output_type": "execute_result"
    }
   ],
   "source": [
    "42 / 6"
   ]
  },
  {
   "cell_type": "markdown",
   "id": "1d377b4b-e8d1-4027-8cbe-935f9485757f",
   "metadata": {},
   "source": [
    " "
   ]
  },
  {
   "cell_type": "markdown",
   "id": "072215e0-358b-4208-96c5-e205cbefaff5",
   "metadata": {},
   "source": [
    " "
   ]
  },
  {
   "cell_type": "code",
   "execution_count": 33,
   "id": "01ad3558-c2e7-4d8b-90a9-bf5395de0b28",
   "metadata": {},
   "outputs": [
    {
     "data": {
      "text/plain": [
       "array([[ 1.,  0.],\n",
       "       [-0.,  1.]])"
      ]
     },
     "execution_count": 33,
     "metadata": {},
     "output_type": "execute_result"
    }
   ],
   "source": [
    "A = np.array([\n",
    "    [1, -1],\n",
    "    [0, 0]\n",
    "])\n",
    "\n",
    "\n",
    "Q, R = np.linalg.qr(A)\n",
    "\n",
    "Q"
   ]
  },
  {
   "cell_type": "markdown",
   "id": "5f38977f-9d12-4fc6-8093-38bab30ca49b",
   "metadata": {},
   "source": [
    " "
   ]
  },
  {
   "cell_type": "markdown",
   "id": "cbcd1358-12e2-4f35-af1e-9cfd893e305a",
   "metadata": {},
   "source": [
    " "
   ]
  },
  {
   "cell_type": "code",
   "execution_count": 34,
   "id": "71c8285a-62f7-4e21-a4ee-5738822cab46",
   "metadata": {},
   "outputs": [
    {
     "data": {
      "text/plain": [
       "array([[ 1., -1.],\n",
       "       [ 0.,  0.]])"
      ]
     },
     "execution_count": 34,
     "metadata": {},
     "output_type": "execute_result"
    }
   ],
   "source": [
    "R"
   ]
  },
  {
   "cell_type": "markdown",
   "id": "bbe9194e-4480-4508-ac98-b8a47d2ccff1",
   "metadata": {},
   "source": [
    " "
   ]
  },
  {
   "cell_type": "markdown",
   "id": "bd78aa66-5b30-4592-bdf1-6cbe5569811b",
   "metadata": {},
   "source": [
    " "
   ]
  },
  {
   "cell_type": "markdown",
   "id": "59f99b95-43d1-41ae-bddd-0a2d81814806",
   "metadata": {},
   "source": [
    " "
   ]
  },
  {
   "cell_type": "markdown",
   "id": "c11a270a-56e3-4d30-94d2-8142cb3cc6eb",
   "metadata": {},
   "source": [
    " "
   ]
  },
  {
   "cell_type": "markdown",
   "id": "38266991-8347-4b15-bf10-7303395fce66",
   "metadata": {},
   "source": [
    " "
   ]
  },
  {
   "cell_type": "markdown",
   "id": "4cd0c343-6fd1-490e-979c-4036272a0f89",
   "metadata": {},
   "source": [
    "**13.**"
   ]
  },
  {
   "cell_type": "code",
   "execution_count": 35,
   "id": "426f6e38-61d3-4e7b-ab36-3936702562f8",
   "metadata": {},
   "outputs": [],
   "source": [
    "A = np.array(\n",
    "    [\n",
    "        [3, 4],\n",
    "        [-2, 1],\n",
    "        [3, 4],\n",
    "    ]\n",
    ")\n",
    "\n",
    "b = np.array([11, -9, 5]).reshape(-1, 1) \n",
    "u = np.array([5, -1]).reshape(-1, 1) \n",
    "v = np.array([5, -2]).reshape(-1, 1) "
   ]
  },
  {
   "cell_type": "markdown",
   "id": "628ec548-3e61-434b-a66d-1dad7f906912",
   "metadata": {},
   "source": [
    " "
   ]
  },
  {
   "cell_type": "markdown",
   "id": "be47469c-abb4-4f15-a3ae-63446f1d9487",
   "metadata": {},
   "source": [
    " "
   ]
  },
  {
   "cell_type": "markdown",
   "id": "233acb9d-7919-4119-9c23-8f5723e7be98",
   "metadata": {},
   "source": [
    " "
   ]
  },
  {
   "cell_type": "code",
   "execution_count": 36,
   "id": "8aa6e9f4-ee97-4019-bf5e-cff6be095245",
   "metadata": {},
   "outputs": [
    {
     "data": {
      "text/plain": [
       "array([[ 11],\n",
       "       [-11],\n",
       "       [ 11]])"
      ]
     },
     "execution_count": 36,
     "metadata": {},
     "output_type": "execute_result"
    }
   ],
   "source": [
    "A @ u"
   ]
  },
  {
   "cell_type": "markdown",
   "id": "e65a6f1e-d6a6-4518-841e-69f9e43119b2",
   "metadata": {},
   "source": [
    " "
   ]
  },
  {
   "cell_type": "markdown",
   "id": "07154f7f-2fda-415e-b711-b65f7e11ff8a",
   "metadata": {},
   "source": [
    " "
   ]
  },
  {
   "cell_type": "code",
   "execution_count": 38,
   "id": "3fc3fefb-8bea-4e2e-a638-bb96b6d3bd35",
   "metadata": {},
   "outputs": [
    {
     "data": {
      "text/plain": [
       "array([[  7],\n",
       "       [-12],\n",
       "       [  7]])"
      ]
     },
     "execution_count": 38,
     "metadata": {},
     "output_type": "execute_result"
    }
   ],
   "source": [
    "A @ v"
   ]
  },
  {
   "cell_type": "markdown",
   "id": "20cc0d60-5a2a-406b-b225-7c937f56d0ee",
   "metadata": {},
   "source": [
    " "
   ]
  },
  {
   "cell_type": "markdown",
   "id": "aced517a-51ad-402e-b304-1aa8d4300202",
   "metadata": {},
   "source": [
    " "
   ]
  },
  {
   "cell_type": "markdown",
   "id": "8f109a93-a0fe-48e1-acc1-36864784dd1d",
   "metadata": {},
   "source": [
    " "
   ]
  },
  {
   "cell_type": "markdown",
   "id": "63067f00-de9c-4457-8850-c689473b4b3a",
   "metadata": {},
   "source": [
    " "
   ]
  },
  {
   "cell_type": "markdown",
   "id": "e8c66ccd-b946-463e-b045-8db546d92e7c",
   "metadata": {},
   "source": [
    " "
   ]
  },
  {
   "cell_type": "markdown",
   "id": "cb9a934a-746f-4846-933c-4d6272fca82e",
   "metadata": {},
   "source": [
    " "
   ]
  },
  {
   "cell_type": "markdown",
   "id": "1228d69b-5636-4a04-ba73-2257107a4d24",
   "metadata": {},
   "source": [
    " "
   ]
  },
  {
   "cell_type": "markdown",
   "id": "05c8defc-f7a9-480c-8995-7cd528d61e9f",
   "metadata": {},
   "source": [
    " "
   ]
  },
  {
   "cell_type": "markdown",
   "id": "99284d9b-8956-46c3-9d56-2e657209a2cf",
   "metadata": {},
   "source": [
    " "
   ]
  },
  {
   "cell_type": "markdown",
   "id": "863607f1-f587-4c84-b9af-3a558c41afbf",
   "metadata": {},
   "source": [
    " "
   ]
  },
  {
   "cell_type": "markdown",
   "id": "f62d616c-37f6-40bc-bb17-c17d186ab83d",
   "metadata": {},
   "source": [
    " "
   ]
  },
  {
   "cell_type": "markdown",
   "id": "8d283837-6e67-4a4d-8995-925d6cec7973",
   "metadata": {},
   "source": [
    " "
   ]
  },
  {
   "cell_type": "markdown",
   "id": "31f88c1a-b2a4-4ef3-97f5-219dc63bb20f",
   "metadata": {},
   "source": [
    " "
   ]
  },
  {
   "cell_type": "markdown",
   "id": "67c487e4-b6b8-49fa-9e9a-94d117c96606",
   "metadata": {},
   "source": [
    " "
   ]
  },
  {
   "cell_type": "markdown",
   "id": "bba8cadf-6070-41c6-810e-8f42e620a4bc",
   "metadata": {},
   "source": [
    " "
   ]
  },
  {
   "cell_type": "markdown",
   "id": "166a5c29-dd4c-4705-a355-f5cda6c3be83",
   "metadata": {},
   "source": [
    " "
   ]
  },
  {
   "cell_type": "markdown",
   "id": "e825490e-1cac-4356-b344-47a1907fbb16",
   "metadata": {},
   "source": [
    " "
   ]
  },
  {
   "cell_type": "markdown",
   "id": "7d9bdd63-1ec6-4cc2-ac99-5e766eb4cadc",
   "metadata": {},
   "source": [
    " "
   ]
  },
  {
   "cell_type": "markdown",
   "id": "2a5373c8-02bd-4888-acfe-9f2912222b96",
   "metadata": {},
   "source": [
    " "
   ]
  },
  {
   "cell_type": "markdown",
   "id": "0d08e7ca-c670-461f-91da-95d5260d7696",
   "metadata": {},
   "source": [
    " "
   ]
  }
 ],
 "metadata": {
  "kernelspec": {
   "display_name": "projects",
   "language": "python",
   "name": "projects"
  },
  "language_info": {
   "codemirror_mode": {
    "name": "ipython",
    "version": 3
   },
   "file_extension": ".py",
   "mimetype": "text/x-python",
   "name": "python",
   "nbconvert_exporter": "python",
   "pygments_lexer": "ipython3",
   "version": "3.11.7"
  }
 },
 "nbformat": 4,
 "nbformat_minor": 5
}
