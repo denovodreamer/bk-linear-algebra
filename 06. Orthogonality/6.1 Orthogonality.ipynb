{
 "cells": [
  {
   "cell_type": "markdown",
   "id": "81feb6e9",
   "metadata": {},
   "source": [
    " "
   ]
  },
  {
   "cell_type": "markdown",
   "id": "23718699",
   "metadata": {},
   "source": [
    " "
   ]
  },
  {
   "cell_type": "code",
   "execution_count": 1,
   "id": "5fc6b612-ee00-4f72-934e-0ec24b654153",
   "metadata": {},
   "outputs": [],
   "source": [
    "import numpy as np"
   ]
  },
  {
   "cell_type": "markdown",
   "id": "a31f0e2d",
   "metadata": {},
   "source": [
    " "
   ]
  },
  {
   "cell_type": "markdown",
   "id": "244b7fa7-19b9-40c1-9fbd-278bd08c72d1",
   "metadata": {},
   "source": [
    " "
   ]
  },
  {
   "cell_type": "markdown",
   "id": "0d41085e-5765-4f6b-a1b1-6d9b6ca71b67",
   "metadata": {},
   "source": [
    " "
   ]
  },
  {
   "cell_type": "markdown",
   "id": "8eb375db-1b7b-4e44-af00-5eb6735ec7c5",
   "metadata": {},
   "source": [
    " "
   ]
  },
  {
   "cell_type": "markdown",
   "id": "f6db2ec3-2312-4fb0-ba25-de60ee9c5e85",
   "metadata": {},
   "source": [
    " "
   ]
  },
  {
   "cell_type": "markdown",
   "id": "ab946a57-0103-4ea1-8cf6-50c03e7c3c72",
   "metadata": {},
   "source": [
    " "
   ]
  },
  {
   "cell_type": "markdown",
   "id": "9589d90c-d79e-41d1-85f4-97be89d22af4",
   "metadata": {},
   "source": [
    " "
   ]
  },
  {
   "cell_type": "markdown",
   "id": "6230663e",
   "metadata": {},
   "source": [
    " "
   ]
  },
  {
   "cell_type": "markdown",
   "id": "65a0a8e2-0b4f-4b77-8054-a76ff2ebb66f",
   "metadata": {},
   "source": [
    "**32.**"
   ]
  },
  {
   "cell_type": "code",
   "execution_count": 72,
   "id": "c644613a-2895-4293-88b0-969eaec31808",
   "metadata": {},
   "outputs": [
    {
     "name": "stdout",
     "output_type": "stream",
     "text": [
      "[[ 0.5  0.5  0.5  0.5]\n",
      " [ 0.5  0.5 -0.5 -0.5]\n",
      " [ 0.5 -0.5  0.5 -0.5]\n",
      " [ 0.5 -0.5 -0.5  0.5]]\n"
     ]
    }
   ],
   "source": [
    "A = np.array(\n",
    "    [\n",
    "        [0.5, 0.5, 0.5, 0.5],\n",
    "        [0.5, 0.5, -0.5, -0.5],\n",
    "        [0.5, -0.5, 0.5, -0.5],\n",
    "        [0.5, -0.5, -0.5, 0.5],\n",
    "    ]\n",
    ")\n",
    "\n",
    "print(A)"
   ]
  },
  {
   "cell_type": "markdown",
   "id": "3e0bf9b9",
   "metadata": {},
   "source": [
    " "
   ]
  },
  {
   "cell_type": "markdown",
   "id": "f0c30f6d",
   "metadata": {},
   "source": [
    " "
   ]
  },
  {
   "cell_type": "markdown",
   "id": "48d39808-4612-4577-9675-d5accbff1586",
   "metadata": {},
   "source": [
    " "
   ]
  },
  {
   "cell_type": "code",
   "execution_count": 10,
   "id": "a62f9aeb-9a09-473b-a41b-397fef81dee2",
   "metadata": {},
   "outputs": [
    {
     "name": "stdout",
     "output_type": "stream",
     "text": [
      "[[ 0.5]\n",
      " [ 0.5]\n",
      " [-0.5]\n",
      " [-0.5]]\n"
     ]
    }
   ],
   "source": [
    "a_1 = A[:, [0]]\n",
    "a_2 = A[:, [1]]\n",
    "a_3 = A[:, [2]]\n",
    "a_4 = A[:, [3]]\n",
    "\n",
    "print(a_2)"
   ]
  },
  {
   "cell_type": "markdown",
   "id": "abfbf24d-8918-47ce-a27b-62f97478c6a7",
   "metadata": {},
   "source": [
    " "
   ]
  },
  {
   "cell_type": "markdown",
   "id": "1ae5009a-58bf-4e7a-91f0-30e68cf72d2e",
   "metadata": {},
   "source": [
    " "
   ]
  },
  {
   "cell_type": "markdown",
   "id": "8627970f-f421-4830-8d35-4bb488791284",
   "metadata": {},
   "source": [
    " "
   ]
  },
  {
   "cell_type": "markdown",
   "id": "0a0f19f2-6694-4a9f-9b9c-4f1e73112fa7",
   "metadata": {},
   "source": [
    " "
   ]
  },
  {
   "cell_type": "markdown",
   "id": "3c1eb473",
   "metadata": {},
   "source": [
    " "
   ]
  },
  {
   "cell_type": "markdown",
   "id": "e3b23813",
   "metadata": {},
   "source": [
    " "
   ]
  },
  {
   "cell_type": "code",
   "execution_count": 11,
   "id": "79356ff1-9123-4161-b136-de73b97e43e3",
   "metadata": {},
   "outputs": [
    {
     "name": "stdout",
     "output_type": "stream",
     "text": [
      "1.0\n",
      "1.0\n",
      "1.0\n",
      "1.0\n"
     ]
    }
   ],
   "source": [
    "for a in A:\n",
    "    print(np.linalg.norm(a))"
   ]
  },
  {
   "cell_type": "markdown",
   "id": "91c58f89",
   "metadata": {},
   "source": [
    " "
   ]
  },
  {
   "cell_type": "markdown",
   "id": "fbf1a2e2-6bc3-4ca6-a2d1-ea44fab6cb4c",
   "metadata": {},
   "source": [
    " "
   ]
  },
  {
   "cell_type": "markdown",
   "id": "d03a1051-fade-487d-bcbb-ab5b4b778374",
   "metadata": {},
   "source": [
    " "
   ]
  },
  {
   "cell_type": "code",
   "execution_count": 5,
   "id": "a051e686-a0a7-42a5-9b20-d70f7ea6cc8c",
   "metadata": {},
   "outputs": [
    {
     "name": "stdout",
     "output_type": "stream",
     "text": [
      "1 1 1.0\n",
      "1 2 0.0\n",
      "1 3 0.0\n",
      "1 4 0.0\n",
      "2 1 0.0\n",
      "2 2 1.0\n",
      "2 3 0.0\n",
      "2 4 0.0\n",
      "3 1 0.0\n",
      "3 2 0.0\n",
      "3 3 1.0\n",
      "3 4 0.0\n",
      "4 1 0.0\n",
      "4 2 0.0\n",
      "4 3 0.0\n",
      "4 4 1.0\n"
     ]
    }
   ],
   "source": [
    "for i, a_i in enumerate(A):\n",
    "    for j, a_j in enumerate(A):\n",
    "        print(i+1, j+1, np.dot(a_i, a_j))"
   ]
  },
  {
   "cell_type": "markdown",
   "id": "eaff6b88-71f5-4260-afff-a960625c97e4",
   "metadata": {},
   "source": [
    " "
   ]
  },
  {
   "cell_type": "markdown",
   "id": "cbecdef5-deee-4723-9b4d-c1a72cfe427a",
   "metadata": {},
   "source": [
    " "
   ]
  },
  {
   "cell_type": "code",
   "execution_count": 73,
   "id": "85b86ead-55c8-4f85-b269-bdda39e2ac5b",
   "metadata": {},
   "outputs": [
    {
     "data": {
      "text/plain": [
       "array([[1., 0., 0., 0.],\n",
       "       [0., 1., 0., 0.],\n",
       "       [0., 0., 1., 0.],\n",
       "       [0., 0., 0., 1.]])"
      ]
     },
     "execution_count": 73,
     "metadata": {},
     "output_type": "execute_result"
    }
   ],
   "source": [
    "A.T @ A"
   ]
  },
  {
   "cell_type": "markdown",
   "id": "81826f5a-9196-484e-be02-380150f002f5",
   "metadata": {},
   "source": [
    " "
   ]
  },
  {
   "cell_type": "markdown",
   "id": "11a10114-52e4-41a3-ab62-71fb41ce4342",
   "metadata": {},
   "source": [
    " "
   ]
  },
  {
   "cell_type": "markdown",
   "id": "7b1e08d4-4488-49af-a6fa-055854e76e45",
   "metadata": {},
   "source": [
    " "
   ]
  },
  {
   "cell_type": "markdown",
   "id": "61b91da9-dc01-4e7a-8ad7-63af5cebecb1",
   "metadata": {},
   "source": [
    " "
   ]
  },
  {
   "cell_type": "markdown",
   "id": "b22a5290-3a96-4442-9830-83eeb99b2e26",
   "metadata": {},
   "source": [
    " "
   ]
  },
  {
   "cell_type": "markdown",
   "id": "d1f8b88a-0331-4657-96b8-6e1df6f46084",
   "metadata": {},
   "source": [
    " "
   ]
  },
  {
   "cell_type": "code",
   "execution_count": 19,
   "id": "3eef3438-ae45-4d2d-bd87-cbe59dc74ebe",
   "metadata": {},
   "outputs": [
    {
     "name": "stdout",
     "output_type": "stream",
     "text": [
      "[[8.75182844]\n",
      " [7.9130288 ]\n",
      " [0.46846318]\n",
      " [1.28991896]]\n",
      "[[8.52953911]\n",
      " [9.42014858]\n",
      " [4.75001385]\n",
      " [0.33589774]]\n"
     ]
    }
   ],
   "source": [
    "u = 10 * np.random.rand(4, 1)\n",
    "v = 10 * np.random.rand(4,1)\n",
    "\n",
    "print(u)\n",
    "print(v)"
   ]
  },
  {
   "cell_type": "markdown",
   "id": "7e75f8e9-6b31-4847-9704-368f50d4f331",
   "metadata": {},
   "source": [
    " "
   ]
  },
  {
   "cell_type": "markdown",
   "id": "6ee01f23-04a6-4c47-b1ff-7efbf8c5cfaa",
   "metadata": {},
   "source": [
    " "
   ]
  },
  {
   "cell_type": "code",
   "execution_count": 20,
   "id": "5914c1df-3758-44c8-a94c-355508c1ed9d",
   "metadata": {},
   "outputs": [
    {
     "name": "stdout",
     "output_type": "stream",
     "text": [
      "11.878294262434576\n",
      "11.878294262434578\n"
     ]
    }
   ],
   "source": [
    "u_norm = np.linalg.norm(u)\n",
    "Au_norm = np.linalg.norm(A @ u)\n",
    "\n",
    "print(u_norm)\n",
    "print(Au_norm)"
   ]
  },
  {
   "cell_type": "markdown",
   "id": "56d50744-a00d-466e-ae5d-fec8cf4f7622",
   "metadata": {},
   "source": [
    " "
   ]
  },
  {
   "cell_type": "code",
   "execution_count": 21,
   "id": "138dfe3c-67a5-4e00-b621-708ce5c5a7c3",
   "metadata": {},
   "outputs": [
    {
     "name": "stdout",
     "output_type": "stream",
     "text": [
      "13.57083989373785\n",
      "13.570839893737846\n"
     ]
    }
   ],
   "source": [
    "v_norm = np.linalg.norm(v)\n",
    "Av_norm = np.linalg.norm(A @ v)\n",
    "\n",
    "print(v_norm)\n",
    "print(Av_norm)"
   ]
  },
  {
   "cell_type": "markdown",
   "id": "b5b5aa26",
   "metadata": {},
   "source": [
    " "
   ]
  },
  {
   "cell_type": "markdown",
   "id": "2a8e457f",
   "metadata": {},
   "source": [
    " "
   ]
  },
  {
   "cell_type": "markdown",
   "id": "fe8dcf0a-d653-412e-ae84-f083f2b14a4b",
   "metadata": {},
   "source": [
    " "
   ]
  },
  {
   "cell_type": "markdown",
   "id": "6deb2074-e09c-4729-b35b-658c07ce68b2",
   "metadata": {},
   "source": [
    " "
   ]
  },
  {
   "cell_type": "code",
   "execution_count": 22,
   "id": "d9876379-d868-4c51-bc25-ebc6b133f400",
   "metadata": {},
   "outputs": [
    {
     "data": {
      "text/plain": [
       "array([[0.94200333]])"
      ]
     },
     "execution_count": 22,
     "metadata": {},
     "output_type": "execute_result"
    }
   ],
   "source": [
    "(u.T @ v)/(u_norm * v_norm)"
   ]
  },
  {
   "cell_type": "markdown",
   "id": "147bcde6-c5e5-408f-8e85-5c57c93ea697",
   "metadata": {},
   "source": [
    " "
   ]
  },
  {
   "cell_type": "markdown",
   "id": "9be95059-14bd-4695-81ac-64bc5f4558ef",
   "metadata": {},
   "source": [
    " "
   ]
  },
  {
   "cell_type": "code",
   "execution_count": 23,
   "id": "ba744ead-e8f2-4eba-beb3-f5295f0b2733",
   "metadata": {},
   "outputs": [
    {
     "data": {
      "text/plain": [
       "array([[0.94200333]])"
      ]
     },
     "execution_count": 23,
     "metadata": {},
     "output_type": "execute_result"
    }
   ],
   "source": [
    "((A @ u).T @ (A @ v))/(u_norm * v_norm)"
   ]
  },
  {
   "cell_type": "markdown",
   "id": "77714118-e021-452d-a45f-4f56d33cb5d0",
   "metadata": {},
   "source": [
    " "
   ]
  },
  {
   "cell_type": "markdown",
   "id": "e5c1971a-83c0-4d1b-8f87-c286c6b129be",
   "metadata": {},
   "source": [
    " "
   ]
  },
  {
   "cell_type": "markdown",
   "id": "ec7b85e5-ee75-4f95-8e2f-cf34e7068232",
   "metadata": {},
   "source": [
    " "
   ]
  },
  {
   "cell_type": "markdown",
   "id": "4ef21a1e-3a56-4b14-abdc-a009f99c8580",
   "metadata": {},
   "source": [
    " "
   ]
  },
  {
   "cell_type": "markdown",
   "id": "4dc93479-2611-46c1-96d5-fe1d58c8630f",
   "metadata": {},
   "source": [
    " "
   ]
  },
  {
   "cell_type": "markdown",
   "id": "bb31af3c-82e5-48fd-ba7b-e6ce567ca6d5",
   "metadata": {},
   "source": [
    " "
   ]
  },
  {
   "cell_type": "markdown",
   "id": "c2e3d362-9894-4a2c-8a0b-9b04caeda8c0",
   "metadata": {},
   "source": [
    " "
   ]
  },
  {
   "cell_type": "markdown",
   "id": "f5c544c7-565e-4ddc-a1bf-0d445d8425c1",
   "metadata": {},
   "source": [
    "**33.**"
   ]
  },
  {
   "cell_type": "markdown",
   "id": "9cf055be-ff1b-42d0-a33b-e312451f118a",
   "metadata": {},
   "source": [
    " "
   ]
  },
  {
   "cell_type": "code",
   "execution_count": 31,
   "id": "23fe0893-e950-4742-b734-ca56aa46d55e",
   "metadata": {},
   "outputs": [
    {
     "name": "stdout",
     "output_type": "stream",
     "text": [
      "[[2]\n",
      " [0]\n",
      " [1]\n",
      " [0]]\n",
      "[[1]\n",
      " [2]\n",
      " [2]\n",
      " [4]]\n",
      "[[2]\n",
      " [0]\n",
      " [4]\n",
      " [3]]\n"
     ]
    }
   ],
   "source": [
    "x = np.random.randint(5, size=(4,1))\n",
    "y = np.random.randint(5, size=(4,1))\n",
    "v = np.random.randint(5, size=(4,1))\n",
    "\n",
    "print(x)\n",
    "print(y)\n",
    "print(v)"
   ]
  },
  {
   "cell_type": "markdown",
   "id": "168bc300-7fdc-4c33-bb8f-b00e7539aa49",
   "metadata": {},
   "source": [
    " "
   ]
  },
  {
   "cell_type": "markdown",
   "id": "e8b578e2-47f9-41e5-81ef-d4048a2ede3c",
   "metadata": {},
   "source": [
    " "
   ]
  },
  {
   "cell_type": "markdown",
   "id": "31b91c85-1ca9-4e7f-919c-a368ef2e05bb",
   "metadata": {},
   "source": [
    " "
   ]
  },
  {
   "cell_type": "code",
   "execution_count": 32,
   "id": "767977f2-f649-45d0-89f6-9417fe037e63",
   "metadata": {},
   "outputs": [
    {
     "data": {
      "text/plain": [
       "array([[0.55172414],\n",
       "       [0.        ],\n",
       "       [1.10344828],\n",
       "       [0.82758621]])"
      ]
     },
     "execution_count": 32,
     "metadata": {},
     "output_type": "execute_result"
    }
   ],
   "source": [
    "((x.T @ v) / (v.T @ v)) * v"
   ]
  },
  {
   "cell_type": "markdown",
   "id": "7a7323a2-2e45-4fd5-8f31-645255deee12",
   "metadata": {},
   "source": [
    " "
   ]
  },
  {
   "cell_type": "markdown",
   "id": "78c4da44-cc04-48f3-a7f3-d24490290ccd",
   "metadata": {},
   "source": [
    " "
   ]
  },
  {
   "cell_type": "code",
   "execution_count": 33,
   "id": "34e3300e-102d-4bbe-b73a-8f3618822a5b",
   "metadata": {},
   "outputs": [
    {
     "data": {
      "text/plain": [
       "array([[1.51724138],\n",
       "       [0.        ],\n",
       "       [3.03448276],\n",
       "       [2.27586207]])"
      ]
     },
     "execution_count": 33,
     "metadata": {},
     "output_type": "execute_result"
    }
   ],
   "source": [
    "((y.T @ v) / (v.T @ v)) * v"
   ]
  },
  {
   "cell_type": "markdown",
   "id": "3dd00c63-abb6-4c69-8452-517895afed3a",
   "metadata": {},
   "source": [
    " "
   ]
  },
  {
   "cell_type": "markdown",
   "id": "9be35001-8be8-41c6-96f2-0001a23a179e",
   "metadata": {},
   "source": [
    " "
   ]
  },
  {
   "cell_type": "code",
   "execution_count": 34,
   "id": "ffd9c766-92c0-4cee-a7e3-2966ae56a8e0",
   "metadata": {},
   "outputs": [
    {
     "data": {
      "text/plain": [
       "array([[2.06896552],\n",
       "       [0.        ],\n",
       "       [4.13793103],\n",
       "       [3.10344828]])"
      ]
     },
     "execution_count": 34,
     "metadata": {},
     "output_type": "execute_result"
    }
   ],
   "source": [
    "(((x + y).T @ v) / (v.T @ v)) * v"
   ]
  },
  {
   "cell_type": "markdown",
   "id": "4ad8d4bd-f7f9-46f7-b11e-06cbed3a15c7",
   "metadata": {},
   "source": [
    " "
   ]
  },
  {
   "cell_type": "markdown",
   "id": "ebde8cfd-3f69-49e4-beba-4448b519eb54",
   "metadata": {},
   "source": [
    " "
   ]
  },
  {
   "cell_type": "code",
   "execution_count": 35,
   "id": "bba493a5-9b17-497a-a499-84588106c6ef",
   "metadata": {},
   "outputs": [
    {
     "data": {
      "text/plain": [
       "array([[ 5.51724138],\n",
       "       [ 0.        ],\n",
       "       [11.03448276],\n",
       "       [ 8.27586207]])"
      ]
     },
     "execution_count": 35,
     "metadata": {},
     "output_type": "execute_result"
    }
   ],
   "source": [
    "(((10 * x).T @ v) / (v.T @ v)) * v"
   ]
  },
  {
   "cell_type": "markdown",
   "id": "fc04271b-38e4-4b67-98bc-bdd3bbd96613",
   "metadata": {},
   "source": [
    " "
   ]
  },
  {
   "cell_type": "markdown",
   "id": "d87cc159",
   "metadata": {},
   "source": [
    " "
   ]
  },
  {
   "cell_type": "code",
   "execution_count": 44,
   "id": "46c2a4f2-2bd3-4056-a872-f15404a3eb06",
   "metadata": {},
   "outputs": [
    {
     "name": "stdout",
     "output_type": "stream",
     "text": [
      "[[2.]\n",
      " [0.]\n",
      " [4.]\n",
      " [3.]]\n"
     ]
    }
   ],
   "source": [
    "x_proj = (((x.T @ v) / (v.T @ v)) * v)\n",
    "\n",
    "x_proj_scaled = (x_proj / x_proj.max())*4\n",
    "print(x_proj_scaled)"
   ]
  },
  {
   "cell_type": "markdown",
   "id": "b063ba99-e5ac-42e3-8c65-819344e2879b",
   "metadata": {},
   "source": [
    " "
   ]
  },
  {
   "cell_type": "code",
   "execution_count": 42,
   "id": "327cffdc-0ade-41da-aa5c-28f693e09a18",
   "metadata": {},
   "outputs": [
    {
     "name": "stdout",
     "output_type": "stream",
     "text": [
      "[[2]\n",
      " [0]\n",
      " [4]\n",
      " [3]]\n"
     ]
    }
   ],
   "source": [
    "print(v)"
   ]
  },
  {
   "cell_type": "markdown",
   "id": "445e589b-32d3-45cf-89dc-99f813a79729",
   "metadata": {},
   "source": [
    " "
   ]
  },
  {
   "cell_type": "markdown",
   "id": "da71b2d0-c625-494e-992d-d380bfb7cec9",
   "metadata": {},
   "source": [
    " "
   ]
  },
  {
   "cell_type": "markdown",
   "id": "9d469865-5c62-4e36-b9fb-735a73559236",
   "metadata": {},
   "source": [
    " "
   ]
  },
  {
   "cell_type": "markdown",
   "id": "12c5d1eb-034a-4d54-a8ea-865d787836d5",
   "metadata": {},
   "source": [
    " "
   ]
  },
  {
   "cell_type": "markdown",
   "id": "1e887b4e",
   "metadata": {},
   "source": [
    " "
   ]
  },
  {
   "cell_type": "markdown",
   "id": "9ddb4338",
   "metadata": {},
   "source": [
    "**34.**"
   ]
  },
  {
   "cell_type": "code",
   "execution_count": 45,
   "id": "337af8c0",
   "metadata": {},
   "outputs": [],
   "source": [
    "A = np.array(\n",
    "    [\n",
    "        [-6, 3, -27, -33, -13],\n",
    "        [6, -5, 25, 28, 14],\n",
    "        [8, -6, 34, 38, 18],\n",
    "        [12, -10, 50, 41, 23],\n",
    "        [14, -21, 49, 29, 33]\n",
    "    ]\n",
    ")"
   ]
  },
  {
   "cell_type": "markdown",
   "id": "39869227",
   "metadata": {},
   "source": [
    " "
   ]
  },
  {
   "cell_type": "markdown",
   "id": "39609fcf",
   "metadata": {},
   "source": [
    " "
   ]
  },
  {
   "cell_type": "markdown",
   "id": "d9d4aca4-876d-43e4-a526-55f9014bba33",
   "metadata": {},
   "source": [
    " "
   ]
  },
  {
   "cell_type": "markdown",
   "id": "2f675ad8-8048-4b5f-b853-e4998af17e14",
   "metadata": {},
   "source": [
    " "
   ]
  },
  {
   "cell_type": "code",
   "execution_count": 65,
   "id": "fa0a6419-26be-4afc-98ef-1acf456dc6c4",
   "metadata": {},
   "outputs": [],
   "source": [
    "from scipy.linalg import null_space, orth"
   ]
  },
  {
   "cell_type": "markdown",
   "id": "68ed2508-c10f-4c39-ae24-eae262ccc0b9",
   "metadata": {},
   "source": [
    " "
   ]
  },
  {
   "cell_type": "markdown",
   "id": "5714614f-9a60-4182-aa6c-d4791dabde77",
   "metadata": {},
   "source": [
    " "
   ]
  },
  {
   "cell_type": "markdown",
   "id": "985a842f-cb0c-42a8-bc03-901942a1c2fe",
   "metadata": {},
   "source": [
    " "
   ]
  },
  {
   "cell_type": "markdown",
   "id": "61ab3a92-9145-47ed-9be4-bd195d97c74a",
   "metadata": {},
   "source": [
    "Row space of A is equal to the column space of A transpose. Orth builds a orthornormal basis."
   ]
  },
  {
   "cell_type": "code",
   "execution_count": 67,
   "id": "676c831a-e899-4f06-89b0-2f8dfa78a0b7",
   "metadata": {},
   "outputs": [
    {
     "name": "stdout",
     "output_type": "stream",
     "text": [
      "[[-0.1697937   0.17333328 -0.6756352  -0.58913655 -0.37089199]\n",
      " [ 0.14785201 -0.51743687  0.22182316 -0.70467624  0.40573975]\n",
      " [-0.06975271 -0.32402536 -0.67278889  0.33864856  0.56816757]]\n"
     ]
    }
   ],
   "source": [
    "R = orth(A.T).T\n",
    "\n",
    "print(R)"
   ]
  },
  {
   "cell_type": "markdown",
   "id": "cd192362-6ea9-4cee-a41a-c328753437b6",
   "metadata": {},
   "source": [
    " "
   ]
  },
  {
   "cell_type": "markdown",
   "id": "852d52fd-ceac-4f43-bae4-b12788f11bfd",
   "metadata": {},
   "source": [
    " "
   ]
  },
  {
   "cell_type": "markdown",
   "id": "a2b8cafd-4c83-4e63-934a-2c85603b33a8",
   "metadata": {},
   "source": [
    " "
   ]
  },
  {
   "cell_type": "markdown",
   "id": "d49a672e-263a-4f24-b35d-34ac7e1112ea",
   "metadata": {},
   "source": [
    "Null space of A"
   ]
  },
  {
   "cell_type": "code",
   "execution_count": 69,
   "id": "dc2ce72a-e7d3-463c-90f2-6303b2447bfa",
   "metadata": {},
   "outputs": [],
   "source": [
    "N = null_space(A)"
   ]
  },
  {
   "cell_type": "markdown",
   "id": "e3b0aecf-c3c3-4702-a2ad-f011e8d5d8bb",
   "metadata": {},
   "source": [
    " "
   ]
  },
  {
   "cell_type": "markdown",
   "id": "2da2e6ca-27bb-41f4-add9-559055308a6f",
   "metadata": {},
   "source": [
    " "
   ]
  },
  {
   "cell_type": "markdown",
   "id": "cad2dbc9-8f9f-4c1d-b8b1-1241c88ffa4e",
   "metadata": {},
   "source": [
    " "
   ]
  },
  {
   "cell_type": "markdown",
   "id": "68a69c94-edd0-4f00-91f7-5e8fed34c41e",
   "metadata": {},
   "source": [
    " "
   ]
  },
  {
   "cell_type": "code",
   "execution_count": 71,
   "id": "acd0eb37-cd4a-445b-8749-c14d17fe7168",
   "metadata": {},
   "outputs": [
    {
     "data": {
      "text/plain": [
       "array([[-1.23526213e-16,  3.23922947e-16],\n",
       "       [ 1.18190500e-17, -2.10577684e-16],\n",
       "       [-1.69336501e-15, -3.31169905e-16]])"
      ]
     },
     "execution_count": 71,
     "metadata": {},
     "output_type": "execute_result"
    }
   ],
   "source": [
    "R @ N"
   ]
  },
  {
   "cell_type": "markdown",
   "id": "ae0ffbcf-c84b-4caf-8372-77a220bb473b",
   "metadata": {},
   "source": [
    " "
   ]
  },
  {
   "cell_type": "markdown",
   "id": "55b1c775-1aab-4560-ab86-f0836efa0aa4",
   "metadata": {},
   "source": [
    " "
   ]
  },
  {
   "cell_type": "markdown",
   "id": "30d2280f-cf29-4455-9176-54a1aba70315",
   "metadata": {},
   "source": [
    " "
   ]
  },
  {
   "cell_type": "markdown",
   "id": "40d2d226-e087-4c54-9e45-a245545fa527",
   "metadata": {},
   "source": [
    " "
   ]
  },
  {
   "cell_type": "markdown",
   "id": "771bc915-87fa-4c4e-8c81-a70d28f5f501",
   "metadata": {},
   "source": [
    " "
   ]
  },
  {
   "cell_type": "markdown",
   "id": "cbcc44a0-1a15-4b10-a035-546d220a5815",
   "metadata": {},
   "source": [
    " "
   ]
  },
  {
   "cell_type": "markdown",
   "id": "7042867e-9d21-45ac-ac68-2cfbbd84b92f",
   "metadata": {},
   "source": [
    " "
   ]
  },
  {
   "cell_type": "markdown",
   "id": "945c46a1",
   "metadata": {},
   "source": [
    " "
   ]
  },
  {
   "cell_type": "markdown",
   "id": "b7bd08e7",
   "metadata": {},
   "source": [
    " "
   ]
  },
  {
   "cell_type": "markdown",
   "id": "3c8398ac",
   "metadata": {},
   "source": [
    " "
   ]
  },
  {
   "cell_type": "markdown",
   "id": "73f022b9",
   "metadata": {},
   "source": [
    " "
   ]
  },
  {
   "cell_type": "markdown",
   "id": "9253888e",
   "metadata": {},
   "source": [
    " "
   ]
  },
  {
   "cell_type": "markdown",
   "id": "9a9c3f72",
   "metadata": {},
   "source": [
    " "
   ]
  },
  {
   "cell_type": "markdown",
   "id": "410cca20",
   "metadata": {},
   "source": [
    " "
   ]
  },
  {
   "cell_type": "markdown",
   "id": "9aa72378",
   "metadata": {},
   "source": [
    " "
   ]
  },
  {
   "cell_type": "markdown",
   "id": "fc40ee5d",
   "metadata": {},
   "source": [
    " "
   ]
  }
 ],
 "metadata": {
  "kernelspec": {
   "display_name": "projects",
   "language": "python",
   "name": "projects"
  },
  "language_info": {
   "codemirror_mode": {
    "name": "ipython",
    "version": 3
   },
   "file_extension": ".py",
   "mimetype": "text/x-python",
   "name": "python",
   "nbconvert_exporter": "python",
   "pygments_lexer": "ipython3",
   "version": "3.11.7"
  }
 },
 "nbformat": 4,
 "nbformat_minor": 5
}
