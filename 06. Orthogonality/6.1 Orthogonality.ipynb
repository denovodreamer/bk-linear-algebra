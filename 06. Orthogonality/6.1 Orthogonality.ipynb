{
 "cells": [
  {
   "cell_type": "markdown",
   "id": "81feb6e9",
   "metadata": {},
   "source": [
    " "
   ]
  },
  {
   "cell_type": "markdown",
   "id": "23718699",
   "metadata": {},
   "source": [
    " "
   ]
  },
  {
   "cell_type": "code",
   "execution_count": 1,
   "id": "5fc6b612-ee00-4f72-934e-0ec24b654153",
   "metadata": {},
   "outputs": [],
   "source": [
    "import numpy as np"
   ]
  },
  {
   "cell_type": "markdown",
   "id": "a31f0e2d",
   "metadata": {},
   "source": [
    " "
   ]
  },
  {
   "cell_type": "markdown",
   "id": "6230663e",
   "metadata": {},
   "source": [
    " "
   ]
  },
  {
   "cell_type": "markdown",
   "id": "65a0a8e2-0b4f-4b77-8054-a76ff2ebb66f",
   "metadata": {},
   "source": [
    "# 32."
   ]
  },
  {
   "cell_type": "markdown",
   "id": "384d2d71-aa04-45b5-9994-ced869156d82",
   "metadata": {},
   "source": [
    " "
   ]
  },
  {
   "cell_type": "code",
   "execution_count": 2,
   "id": "c644613a-2895-4293-88b0-969eaec31808",
   "metadata": {},
   "outputs": [
    {
     "data": {
      "text/plain": [
       "array([[ 0.5,  0.5,  0.5,  0.5],\n",
       "       [ 0.5,  0.5, -0.5, -0.5],\n",
       "       [ 0.5, -0.5,  0.5, -0.5],\n",
       "       [ 0.5, -0.5, -0.5,  0.5]])"
      ]
     },
     "execution_count": 2,
     "metadata": {},
     "output_type": "execute_result"
    }
   ],
   "source": [
    "A = np.array(\n",
    "    [\n",
    "        [0.5, 0.5, 0.5, 0.5],\n",
    "        [0.5, 0.5, -0.5, -0.5],\n",
    "        [0.5, -0.5, 0.5, -0.5],\n",
    "        [0.5, -0.5, -0.5, 0.5],\n",
    "    ]\n",
    ")\n",
    "\n",
    "A"
   ]
  },
  {
   "cell_type": "markdown",
   "id": "3e0bf9b9",
   "metadata": {},
   "source": [
    " "
   ]
  },
  {
   "cell_type": "markdown",
   "id": "f0c30f6d",
   "metadata": {},
   "source": [
    " "
   ]
  },
  {
   "cell_type": "markdown",
   "id": "48d39808-4612-4577-9675-d5accbff1586",
   "metadata": {},
   "source": [
    " "
   ]
  },
  {
   "cell_type": "code",
   "execution_count": 3,
   "id": "a62f9aeb-9a09-473b-a41b-397fef81dee2",
   "metadata": {},
   "outputs": [
    {
     "data": {
      "text/plain": [
       "array([0.5, 0.5, 0.5, 0.5])"
      ]
     },
     "execution_count": 3,
     "metadata": {},
     "output_type": "execute_result"
    }
   ],
   "source": [
    "a_1 = A[0]\n",
    "a_2 = A[1]\n",
    "a_3 = A[2]\n",
    "a_4 = A[3]\n",
    "\n",
    "a_1"
   ]
  },
  {
   "cell_type": "markdown",
   "id": "abfbf24d-8918-47ce-a27b-62f97478c6a7",
   "metadata": {},
   "source": [
    " "
   ]
  },
  {
   "cell_type": "markdown",
   "id": "1ae5009a-58bf-4e7a-91f0-30e68cf72d2e",
   "metadata": {},
   "source": [
    " "
   ]
  },
  {
   "cell_type": "markdown",
   "id": "8627970f-f421-4830-8d35-4bb488791284",
   "metadata": {},
   "source": [
    " "
   ]
  },
  {
   "cell_type": "markdown",
   "id": "0a0f19f2-6694-4a9f-9b9c-4f1e73112fa7",
   "metadata": {},
   "source": [
    " "
   ]
  },
  {
   "cell_type": "markdown",
   "id": "3c1eb473",
   "metadata": {},
   "source": [
    " "
   ]
  },
  {
   "cell_type": "markdown",
   "id": "e3b23813",
   "metadata": {},
   "source": [
    " "
   ]
  },
  {
   "cell_type": "code",
   "execution_count": 4,
   "id": "79356ff1-9123-4161-b136-de73b97e43e3",
   "metadata": {},
   "outputs": [
    {
     "name": "stdout",
     "output_type": "stream",
     "text": [
      "1.0\n",
      "1.0\n",
      "1.0\n",
      "1.0\n"
     ]
    }
   ],
   "source": [
    "for a in A:\n",
    "    print(np.linalg.norm(a))"
   ]
  },
  {
   "cell_type": "markdown",
   "id": "91c58f89",
   "metadata": {},
   "source": [
    " "
   ]
  },
  {
   "cell_type": "markdown",
   "id": "fbf1a2e2-6bc3-4ca6-a2d1-ea44fab6cb4c",
   "metadata": {},
   "source": [
    " "
   ]
  },
  {
   "cell_type": "markdown",
   "id": "d03a1051-fade-487d-bcbb-ab5b4b778374",
   "metadata": {},
   "source": [
    " "
   ]
  },
  {
   "cell_type": "code",
   "execution_count": 5,
   "id": "a051e686-a0a7-42a5-9b20-d70f7ea6cc8c",
   "metadata": {},
   "outputs": [
    {
     "name": "stdout",
     "output_type": "stream",
     "text": [
      "1 1 1.0\n",
      "1 2 0.0\n",
      "1 3 0.0\n",
      "1 4 0.0\n",
      "2 1 0.0\n",
      "2 2 1.0\n",
      "2 3 0.0\n",
      "2 4 0.0\n",
      "3 1 0.0\n",
      "3 2 0.0\n",
      "3 3 1.0\n",
      "3 4 0.0\n",
      "4 1 0.0\n",
      "4 2 0.0\n",
      "4 3 0.0\n",
      "4 4 1.0\n"
     ]
    }
   ],
   "source": [
    "for i, a_i in enumerate(A):\n",
    "    for j, a_j in enumerate(A):\n",
    "        print(i+1, j+1, np.dot(a_i, a_j))"
   ]
  },
  {
   "cell_type": "markdown",
   "id": "eaff6b88-71f5-4260-afff-a960625c97e4",
   "metadata": {},
   "source": [
    " "
   ]
  },
  {
   "cell_type": "markdown",
   "id": "cbecdef5-deee-4723-9b4d-c1a72cfe427a",
   "metadata": {},
   "source": [
    " "
   ]
  },
  {
   "cell_type": "markdown",
   "id": "d1f8b88a-0331-4657-96b8-6e1df6f46084",
   "metadata": {},
   "source": [
    " "
   ]
  },
  {
   "cell_type": "code",
   "execution_count": 6,
   "id": "3eef3438-ae45-4d2d-bd87-cbe59dc74ebe",
   "metadata": {},
   "outputs": [
    {
     "data": {
      "text/plain": [
       "(array([3.61349574, 6.8598916 , 7.77900785, 1.72721543]),\n",
       " array([0.62499126, 8.51543631, 2.30741292, 8.95415029]))"
      ]
     },
     "execution_count": 6,
     "metadata": {},
     "output_type": "execute_result"
    }
   ],
   "source": [
    "u = 10 * np.random.rand(4)\n",
    "v = 10 * np.random.rand(4)\n",
    "\n",
    "u, v"
   ]
  },
  {
   "cell_type": "markdown",
   "id": "7e75f8e9-6b31-4847-9704-368f50d4f331",
   "metadata": {},
   "source": [
    " "
   ]
  },
  {
   "cell_type": "markdown",
   "id": "6ee01f23-04a6-4c47-b1ff-7efbf8c5cfaa",
   "metadata": {},
   "source": [
    " "
   ]
  },
  {
   "cell_type": "code",
   "execution_count": 7,
   "id": "5914c1df-3758-44c8-a94c-355508c1ed9d",
   "metadata": {},
   "outputs": [
    {
     "name": "stdout",
     "output_type": "stream",
     "text": [
      "11.118079892844218\n",
      "11.118079892844218\n"
     ]
    }
   ],
   "source": [
    "u_norm = np.linalg.norm(u)\n",
    "Au_norm = np.linalg.norm(A @ u)\n",
    "\n",
    "print(u_norm)\n",
    "print(Au_norm)"
   ]
  },
  {
   "cell_type": "markdown",
   "id": "56d50744-a00d-466e-ae5d-fec8cf4f7622",
   "metadata": {},
   "source": [
    " "
   ]
  },
  {
   "cell_type": "code",
   "execution_count": 8,
   "id": "138dfe3c-67a5-4e00-b621-708ce5c5a7c3",
   "metadata": {},
   "outputs": [
    {
     "name": "stdout",
     "output_type": "stream",
     "text": [
      "12.585874279888415\n",
      "12.585874279888413\n"
     ]
    }
   ],
   "source": [
    "v_norm = np.linalg.norm(v)\n",
    "Av_norm = np.linalg.norm(A @ v)\n",
    "\n",
    "print(v_norm)\n",
    "print(Av_norm)"
   ]
  },
  {
   "cell_type": "markdown",
   "id": "b5b5aa26",
   "metadata": {},
   "source": [
    " "
   ]
  },
  {
   "cell_type": "markdown",
   "id": "2a8e457f",
   "metadata": {},
   "source": [
    " "
   ]
  },
  {
   "cell_type": "markdown",
   "id": "fe8dcf0a-d653-412e-ae84-f083f2b14a4b",
   "metadata": {},
   "source": [
    " "
   ]
  },
  {
   "cell_type": "markdown",
   "id": "6deb2074-e09c-4729-b35b-658c07ce68b2",
   "metadata": {},
   "source": [
    " "
   ]
  },
  {
   "cell_type": "code",
   "execution_count": 9,
   "id": "d9876379-d868-4c51-bc25-ebc6b133f400",
   "metadata": {},
   "outputs": [
    {
     "data": {
      "text/plain": [
       "0.6723933023508817"
      ]
     },
     "execution_count": 9,
     "metadata": {},
     "output_type": "execute_result"
    }
   ],
   "source": [
    "(u @ v)/(u_norm * v_norm)"
   ]
  },
  {
   "cell_type": "markdown",
   "id": "147bcde6-c5e5-408f-8e85-5c57c93ea697",
   "metadata": {},
   "source": [
    " "
   ]
  },
  {
   "cell_type": "markdown",
   "id": "9be95059-14bd-4695-81ac-64bc5f4558ef",
   "metadata": {},
   "source": [
    " "
   ]
  },
  {
   "cell_type": "code",
   "execution_count": 10,
   "id": "ba744ead-e8f2-4eba-beb3-f5295f0b2733",
   "metadata": {},
   "outputs": [
    {
     "data": {
      "text/plain": [
       "0.6723933023508818"
      ]
     },
     "execution_count": 10,
     "metadata": {},
     "output_type": "execute_result"
    }
   ],
   "source": [
    "((A @ u) @ (A @ v))/(Au_norm * Av_norm)"
   ]
  },
  {
   "cell_type": "markdown",
   "id": "77714118-e021-452d-a45f-4f56d33cb5d0",
   "metadata": {},
   "source": [
    " "
   ]
  },
  {
   "cell_type": "markdown",
   "id": "e5c1971a-83c0-4d1b-8f87-c286c6b129be",
   "metadata": {},
   "source": [
    " "
   ]
  },
  {
   "cell_type": "markdown",
   "id": "ec7b85e5-ee75-4f95-8e2f-cf34e7068232",
   "metadata": {},
   "source": [
    " "
   ]
  },
  {
   "cell_type": "markdown",
   "id": "c2e3d362-9894-4a2c-8a0b-9b04caeda8c0",
   "metadata": {},
   "source": [
    " "
   ]
  },
  {
   "cell_type": "markdown",
   "id": "f5c544c7-565e-4ddc-a1bf-0d445d8425c1",
   "metadata": {},
   "source": [
    "# 33."
   ]
  },
  {
   "cell_type": "markdown",
   "id": "9cf055be-ff1b-42d0-a33b-e312451f118a",
   "metadata": {},
   "source": [
    " "
   ]
  },
  {
   "cell_type": "markdown",
   "id": "7b227602-8690-416c-8e9e-96316c7cf87e",
   "metadata": {},
   "source": [
    " "
   ]
  },
  {
   "cell_type": "code",
   "execution_count": 11,
   "id": "23fe0893-e950-4742-b734-ca56aa46d55e",
   "metadata": {},
   "outputs": [
    {
     "data": {
      "text/plain": [
       "(array([1, 1, 0, 3]), array([1, 1, 3, 2]), array([1, 4, 1, 1]))"
      ]
     },
     "execution_count": 11,
     "metadata": {},
     "output_type": "execute_result"
    }
   ],
   "source": [
    "x = np.random.randint(5, size=(4,))\n",
    "y = np.random.randint(5, size=(4,))\n",
    "v = np.random.randint(5, size=(4,))\n",
    "\n",
    "x, y, v"
   ]
  },
  {
   "cell_type": "markdown",
   "id": "168bc300-7fdc-4c33-bb8f-b00e7539aa49",
   "metadata": {},
   "source": [
    " "
   ]
  },
  {
   "cell_type": "markdown",
   "id": "e8b578e2-47f9-41e5-81ef-d4048a2ede3c",
   "metadata": {},
   "source": [
    " "
   ]
  },
  {
   "cell_type": "markdown",
   "id": "31b91c85-1ca9-4e7f-919c-a368ef2e05bb",
   "metadata": {},
   "source": [
    " "
   ]
  },
  {
   "cell_type": "code",
   "execution_count": 12,
   "id": "767977f2-f649-45d0-89f6-9417fe037e63",
   "metadata": {},
   "outputs": [
    {
     "data": {
      "text/plain": [
       "array([0.42105263, 1.68421053, 0.42105263, 0.42105263])"
      ]
     },
     "execution_count": 12,
     "metadata": {},
     "output_type": "execute_result"
    }
   ],
   "source": [
    "((x @ v) / (v @ v)) * v"
   ]
  },
  {
   "cell_type": "markdown",
   "id": "7a7323a2-2e45-4fd5-8f31-645255deee12",
   "metadata": {},
   "source": [
    " "
   ]
  },
  {
   "cell_type": "markdown",
   "id": "78c4da44-cc04-48f3-a7f3-d24490290ccd",
   "metadata": {},
   "source": [
    " "
   ]
  },
  {
   "cell_type": "code",
   "execution_count": 13,
   "id": "34e3300e-102d-4bbe-b73a-8f3618822a5b",
   "metadata": {},
   "outputs": [
    {
     "data": {
      "text/plain": [
       "array([0.52631579, 2.10526316, 0.52631579, 0.52631579])"
      ]
     },
     "execution_count": 13,
     "metadata": {},
     "output_type": "execute_result"
    }
   ],
   "source": [
    "((y @ v) / (v @ v)) * v"
   ]
  },
  {
   "cell_type": "markdown",
   "id": "3dd00c63-abb6-4c69-8452-517895afed3a",
   "metadata": {},
   "source": [
    " "
   ]
  },
  {
   "cell_type": "markdown",
   "id": "9be35001-8be8-41c6-96f2-0001a23a179e",
   "metadata": {},
   "source": [
    " "
   ]
  },
  {
   "cell_type": "code",
   "execution_count": 14,
   "id": "ffd9c766-92c0-4cee-a7e3-2966ae56a8e0",
   "metadata": {},
   "outputs": [
    {
     "data": {
      "text/plain": [
       "array([0.94736842, 3.78947368, 0.94736842, 0.94736842])"
      ]
     },
     "execution_count": 14,
     "metadata": {},
     "output_type": "execute_result"
    }
   ],
   "source": [
    "(((x + y) @ v) / (v @ v)) * v"
   ]
  },
  {
   "cell_type": "markdown",
   "id": "4ad8d4bd-f7f9-46f7-b11e-06cbed3a15c7",
   "metadata": {},
   "source": [
    " "
   ]
  },
  {
   "cell_type": "markdown",
   "id": "ebde8cfd-3f69-49e4-beba-4448b519eb54",
   "metadata": {},
   "source": [
    " "
   ]
  },
  {
   "cell_type": "code",
   "execution_count": 15,
   "id": "bba493a5-9b17-497a-a499-84588106c6ef",
   "metadata": {},
   "outputs": [
    {
     "data": {
      "text/plain": [
       "array([ 4.21052632, 16.84210526,  4.21052632,  4.21052632])"
      ]
     },
     "execution_count": 15,
     "metadata": {},
     "output_type": "execute_result"
    }
   ],
   "source": [
    "(((10 * x) @ v) / (v @ v)) * v"
   ]
  },
  {
   "cell_type": "markdown",
   "id": "fc04271b-38e4-4b67-98bc-bdd3bbd96613",
   "metadata": {},
   "source": [
    " "
   ]
  },
  {
   "cell_type": "markdown",
   "id": "d87cc159",
   "metadata": {},
   "source": [
    " "
   ]
  },
  {
   "cell_type": "markdown",
   "id": "1e887b4e",
   "metadata": {},
   "source": [
    " "
   ]
  },
  {
   "cell_type": "markdown",
   "id": "9ddb4338",
   "metadata": {},
   "source": [
    "# 34."
   ]
  },
  {
   "cell_type": "code",
   "execution_count": 16,
   "id": "337af8c0",
   "metadata": {},
   "outputs": [],
   "source": [
    "A = np.array(\n",
    "    [\n",
    "        [-6, 3, -27, -33, -13],\n",
    "        [6, -5, 25, 28, 14],\n",
    "        [8, -6, 34, 38, 18],\n",
    "        [12, -10, 50, 41, 23],\n",
    "        [14, -21, 49, 29, 33]\n",
    "    ]\n",
    ")"
   ]
  },
  {
   "cell_type": "markdown",
   "id": "39869227",
   "metadata": {},
   "source": [
    " "
   ]
  },
  {
   "cell_type": "markdown",
   "id": "39609fcf",
   "metadata": {},
   "source": [
    " "
   ]
  },
  {
   "cell_type": "code",
   "execution_count": null,
   "id": "3d9320a0",
   "metadata": {},
   "outputs": [],
   "source": []
  },
  {
   "cell_type": "markdown",
   "id": "c1f0dd66",
   "metadata": {},
   "source": [
    " "
   ]
  },
  {
   "cell_type": "markdown",
   "id": "847f47df",
   "metadata": {},
   "source": [
    " "
   ]
  },
  {
   "cell_type": "markdown",
   "id": "6a4747c6",
   "metadata": {},
   "source": [
    " "
   ]
  },
  {
   "cell_type": "markdown",
   "id": "945c46a1",
   "metadata": {},
   "source": [
    " "
   ]
  },
  {
   "cell_type": "markdown",
   "id": "b7bd08e7",
   "metadata": {},
   "source": [
    " "
   ]
  },
  {
   "cell_type": "markdown",
   "id": "3c8398ac",
   "metadata": {},
   "source": [
    " "
   ]
  },
  {
   "cell_type": "markdown",
   "id": "73f022b9",
   "metadata": {},
   "source": [
    " "
   ]
  },
  {
   "cell_type": "markdown",
   "id": "9253888e",
   "metadata": {},
   "source": [
    " "
   ]
  },
  {
   "cell_type": "markdown",
   "id": "9a9c3f72",
   "metadata": {},
   "source": [
    " "
   ]
  },
  {
   "cell_type": "markdown",
   "id": "410cca20",
   "metadata": {},
   "source": [
    " "
   ]
  },
  {
   "cell_type": "markdown",
   "id": "9aa72378",
   "metadata": {},
   "source": [
    " "
   ]
  },
  {
   "cell_type": "markdown",
   "id": "fc40ee5d",
   "metadata": {},
   "source": [
    " "
   ]
  }
 ],
 "metadata": {
  "kernelspec": {
   "display_name": "Python 3 (ipykernel)",
   "language": "python",
   "name": "python3"
  },
  "language_info": {
   "codemirror_mode": {
    "name": "ipython",
    "version": 3
   },
   "file_extension": ".py",
   "mimetype": "text/x-python",
   "name": "python",
   "nbconvert_exporter": "python",
   "pygments_lexer": "ipython3",
   "version": "3.11.5"
  }
 },
 "nbformat": 4,
 "nbformat_minor": 5
}
