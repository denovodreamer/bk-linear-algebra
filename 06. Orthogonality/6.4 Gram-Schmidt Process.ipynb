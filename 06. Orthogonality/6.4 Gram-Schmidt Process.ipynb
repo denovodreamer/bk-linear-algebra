{
 "cells": [
  {
   "cell_type": "markdown",
   "id": "08a124da-80d8-4a1d-9474-61bfe25d0fa1",
   "metadata": {},
   "source": [
    " "
   ]
  },
  {
   "cell_type": "markdown",
   "id": "9e90806a-2e4b-4e8c-a9e0-da74135ba280",
   "metadata": {},
   "source": [
    " "
   ]
  },
  {
   "cell_type": "markdown",
   "id": "22a029e1-efc1-4e08-b00b-e19c793bf7bf",
   "metadata": {},
   "source": [
    " "
   ]
  },
  {
   "cell_type": "markdown",
   "id": "8ab5087f-f952-4ae6-972e-d475a6cea4d7",
   "metadata": {},
   "source": [
    " "
   ]
  },
  {
   "cell_type": "markdown",
   "id": "87afe78f-29f9-4587-a6ea-25d2a427ebd8",
   "metadata": {},
   "source": [
    " "
   ]
  },
  {
   "cell_type": "code",
   "execution_count": 1,
   "id": "1b5cdcdf-220c-4e41-ad2b-9369f9a421ed",
   "metadata": {},
   "outputs": [],
   "source": [
    "import numpy as np\n",
    "from utils.linalg import orthogonality"
   ]
  },
  {
   "cell_type": "markdown",
   "id": "6ffeabf0-349c-4eb6-947f-2a3b9018a7ca",
   "metadata": {},
   "source": [
    " "
   ]
  },
  {
   "cell_type": "markdown",
   "id": "62837e24-471f-4837-addf-4df0c6ed15d8",
   "metadata": {},
   "source": [
    " "
   ]
  },
  {
   "cell_type": "markdown",
   "id": "7eb8d9e9-bab4-4332-9098-7edce33beadc",
   "metadata": {},
   "source": [
    " "
   ]
  },
  {
   "cell_type": "markdown",
   "id": "39b9228a-6457-46a3-b356-b13257072976",
   "metadata": {},
   "source": [
    " "
   ]
  },
  {
   "cell_type": "markdown",
   "id": "b6f24383-9c4e-4001-9997-ae90fb62a35c",
   "metadata": {},
   "source": [
    " "
   ]
  },
  {
   "cell_type": "markdown",
   "id": "fb1273f4-875c-4f1c-a880-ed264f1ae645",
   "metadata": {},
   "source": [
    " "
   ]
  },
  {
   "cell_type": "markdown",
   "id": "faa3b65f-5076-47ca-872d-e5bf51dccb6c",
   "metadata": {},
   "source": [
    " "
   ]
  },
  {
   "cell_type": "markdown",
   "id": "a217dfa7-b2e8-4c0d-9a19-92c433bbff4e",
   "metadata": {},
   "source": [
    " "
   ]
  },
  {
   "cell_type": "markdown",
   "id": "4235583b-b437-40ae-a5a6-1d0a853a35b8",
   "metadata": {},
   "source": [
    "**Practice 1.**"
   ]
  },
  {
   "cell_type": "code",
   "execution_count": 2,
   "id": "0685ab40-c5f8-44c1-9bd9-7dd8dd4e6ed4",
   "metadata": {},
   "outputs": [],
   "source": [
    "x1 = np.array([1, 1, 1]).reshape(-1, 1)\n",
    "x2 = np.array([1/3, 1/3, -2/3]).reshape(-1, 1)"
   ]
  },
  {
   "cell_type": "markdown",
   "id": "383a26a8-4ee1-4039-9ed7-1ff65eb06ee2",
   "metadata": {},
   "source": [
    " "
   ]
  },
  {
   "cell_type": "markdown",
   "id": "4ec4a035-51da-4b34-9301-84a690fdbcfa",
   "metadata": {},
   "source": [
    " "
   ]
  },
  {
   "cell_type": "markdown",
   "id": "abbc8a4c-9a8d-4457-9572-1f7f98c8948e",
   "metadata": {},
   "source": [
    " "
   ]
  },
  {
   "cell_type": "code",
   "execution_count": 3,
   "id": "04814b74-1ecc-462e-a03b-647ff08401e6",
   "metadata": {},
   "outputs": [
    {
     "data": {
      "text/plain": [
       "array([[ 1.        ,  0.33333333],\n",
       "       [ 1.        ,  0.33333333],\n",
       "       [ 1.        , -0.66666667]])"
      ]
     },
     "execution_count": 3,
     "metadata": {},
     "output_type": "execute_result"
    }
   ],
   "source": [
    "v1 = x1.copy()\n",
    "\n",
    "v2 = x2 - orthogonality.proj(x2, v1)\n",
    "\n",
    "V = np.column_stack([v1, v2])\n",
    "\n",
    "V"
   ]
  },
  {
   "cell_type": "markdown",
   "id": "d71770ba-7290-4732-881a-6da241b23930",
   "metadata": {},
   "source": [
    " "
   ]
  },
  {
   "cell_type": "markdown",
   "id": "f0538210-f934-410b-9f7b-40299ed14009",
   "metadata": {},
   "source": [
    " "
   ]
  },
  {
   "cell_type": "markdown",
   "id": "9460b0ef-a1b2-4182-ad30-ee344d8bc4bb",
   "metadata": {},
   "source": [
    " "
   ]
  },
  {
   "cell_type": "code",
   "execution_count": 5,
   "id": "39b3df6e-fcd2-459a-9e50-d97b39ac9da5",
   "metadata": {},
   "outputs": [
    {
     "data": {
      "text/plain": [
       "array([[ 0.57735027,  0.40824829],\n",
       "       [ 0.57735027,  0.40824829],\n",
       "       [ 0.57735027, -0.81649658]])"
      ]
     },
     "execution_count": 5,
     "metadata": {},
     "output_type": "execute_result"
    }
   ],
   "source": [
    "U = orthogonality.normalization(V)\n",
    "\n",
    "U"
   ]
  },
  {
   "cell_type": "markdown",
   "id": "fb54a8ee-8323-428f-b67d-bc3f7d7dc449",
   "metadata": {},
   "source": [
    " "
   ]
  },
  {
   "cell_type": "markdown",
   "id": "391fbf34-81fb-4876-b377-63a41e1aeb55",
   "metadata": {},
   "source": [
    " "
   ]
  },
  {
   "cell_type": "markdown",
   "id": "01a9bf46-8600-4094-ade6-16ab79d9b1fa",
   "metadata": {},
   "source": [
    " "
   ]
  },
  {
   "cell_type": "markdown",
   "id": "1c1668b3-4aba-4b77-92b2-08c1b0b2be99",
   "metadata": {},
   "source": [
    " "
   ]
  },
  {
   "cell_type": "markdown",
   "id": "a99ed76d-3f86-447e-9386-193a81bd677a",
   "metadata": {},
   "source": [
    " "
   ]
  },
  {
   "cell_type": "markdown",
   "id": "9b6df62d-24d0-46fb-a486-e71cefebc959",
   "metadata": {},
   "source": [
    "**1.**"
   ]
  },
  {
   "cell_type": "code",
   "execution_count": 5,
   "id": "af4e18ce-734f-4c22-b6ce-6b78342dc448",
   "metadata": {},
   "outputs": [
    {
     "data": {
      "text/plain": [
       "array([[ 3., -1.],\n",
       "       [ 0.,  5.],\n",
       "       [-1., -3.]])"
      ]
     },
     "execution_count": 5,
     "metadata": {},
     "output_type": "execute_result"
    }
   ],
   "source": [
    "x1 = np.array([3, 0, -1]).reshape(-1, 1)\n",
    "x2 = np.array([8, 5, -6]).reshape(-1, 1)\n",
    "\n",
    "basis = np.column_stack([x1, x2])\n",
    "\n",
    "orthogonality.gram_schmidt(basis, normalize=False)"
   ]
  },
  {
   "cell_type": "markdown",
   "id": "b9956457-fecb-4a99-a13b-48504cdadd9b",
   "metadata": {},
   "source": [
    " "
   ]
  },
  {
   "cell_type": "markdown",
   "id": "48fb54ec-c1e0-4b7e-a6b2-e32c631aa484",
   "metadata": {},
   "source": [
    " "
   ]
  },
  {
   "cell_type": "markdown",
   "id": "d1cbdc08-eb50-41dc-ae45-5e40f7d2a868",
   "metadata": {},
   "source": [
    " "
   ]
  },
  {
   "cell_type": "markdown",
   "id": "60d0cae9-55d4-4e09-b13b-3f5ca74b03dd",
   "metadata": {},
   "source": [
    " "
   ]
  },
  {
   "cell_type": "markdown",
   "id": "266a5800-491d-4dcb-a658-f4bc7acd3a67",
   "metadata": {},
   "source": [
    " "
   ]
  },
  {
   "cell_type": "markdown",
   "id": "c8daba1d-561d-4775-a905-0e25392ed889",
   "metadata": {},
   "source": [
    " "
   ]
  },
  {
   "cell_type": "markdown",
   "id": "def065e9-99d1-4077-b5e7-5b05ad81ec43",
   "metadata": {},
   "source": [
    "**9.**"
   ]
  },
  {
   "cell_type": "code",
   "execution_count": 10,
   "id": "29bbe4af-37b8-48ba-a200-47d129c9d86d",
   "metadata": {},
   "outputs": [
    {
     "name": "stdout",
     "output_type": "stream",
     "text": [
      "[[ 3 -5  1]\n",
      " [ 1  1  1]\n",
      " [-1  5 -2]\n",
      " [ 3 -7  8]]\n"
     ]
    }
   ],
   "source": [
    "A = np.array(\n",
    "    [\n",
    "        [3, -5, 1],\n",
    "        [1, 1, 1],\n",
    "        [-1, 5, -2],\n",
    "        [3, -7, 8],\n",
    "    ]\n",
    ")\n",
    "\n",
    "print(A)"
   ]
  },
  {
   "cell_type": "markdown",
   "id": "fa4b68c0-3feb-49d1-8ab1-06a7ccdac508",
   "metadata": {},
   "source": [
    " "
   ]
  },
  {
   "cell_type": "code",
   "execution_count": 11,
   "id": "fb0013c1-474a-4615-bf21-491738dc1579",
   "metadata": {},
   "outputs": [
    {
     "data": {
      "text/plain": [
       "array([[ 3.,  1., -3.],\n",
       "       [ 1.,  3.,  1.],\n",
       "       [-1.,  3.,  1.],\n",
       "       [ 3., -1.,  3.]])"
      ]
     },
     "execution_count": 11,
     "metadata": {},
     "output_type": "execute_result"
    }
   ],
   "source": [
    "orthogonality.gram_schmidt(A, normalize=False)"
   ]
  },
  {
   "cell_type": "markdown",
   "id": "4ddc3975-ae64-45a2-b81c-b80b68b7168b",
   "metadata": {},
   "source": [
    " "
   ]
  },
  {
   "cell_type": "markdown",
   "id": "8309872c-ed47-4f86-a79e-4e88252a2357",
   "metadata": {},
   "source": [
    " "
   ]
  },
  {
   "cell_type": "markdown",
   "id": "550e89b0-d321-409c-8898-a4bba3f55fe4",
   "metadata": {},
   "source": [
    " "
   ]
  },
  {
   "cell_type": "markdown",
   "id": "95db885c-c0db-4365-a8ef-b91d30d04cb5",
   "metadata": {},
   "source": [
    " "
   ]
  },
  {
   "cell_type": "markdown",
   "id": "f26f11e7-bf51-4da9-b09f-964e97440de3",
   "metadata": {},
   "source": [
    "**13.**"
   ]
  },
  {
   "cell_type": "code",
   "execution_count": 14,
   "id": "dab47164-55c8-41a1-903e-86f5eda2f771",
   "metadata": {},
   "outputs": [
    {
     "name": "stdout",
     "output_type": "stream",
     "text": [
      "[[ 5  9]\n",
      " [ 1  7]\n",
      " [-3 -5]\n",
      " [ 1  5]] \n",
      "\n",
      " [[ 0.83333333 -0.16666667]\n",
      " [ 0.16666667  0.83333333]\n",
      " [-0.5         0.16666667]\n",
      " [ 0.16666667  0.5       ]]\n"
     ]
    }
   ],
   "source": [
    "A = np.array(\n",
    "    [\n",
    "        [5, 9],\n",
    "        [1, 7],\n",
    "        [-3, -5],\n",
    "        [1, 5],\n",
    "    ]\n",
    ")\n",
    "\n",
    "Q = np.array(\n",
    "    [\n",
    "        [5/6, -1/6],\n",
    "        [1/6, 5/6],\n",
    "        [-3/6, 1/6],\n",
    "        [1/6, 3/6],\n",
    "    ]\n",
    ")\n",
    "\n",
    "print(A, \"\\n\\n\", Q)"
   ]
  },
  {
   "cell_type": "markdown",
   "id": "1224871f-5190-4330-877e-7b6069ad45e9",
   "metadata": {},
   "source": [
    " "
   ]
  },
  {
   "cell_type": "markdown",
   "id": "30e1fc8e-1330-44f5-a53e-70ab064c4092",
   "metadata": {},
   "source": [
    " "
   ]
  },
  {
   "cell_type": "code",
   "execution_count": 16,
   "id": "54007fb1-399f-4b16-add7-0eb746542463",
   "metadata": {},
   "outputs": [
    {
     "name": "stdout",
     "output_type": "stream",
     "text": [
      "[[ 6. 12.]\n",
      " [ 0.  6.]]\n"
     ]
    }
   ],
   "source": [
    "R = Q.T @ A\n",
    "\n",
    "print(R.round(4))"
   ]
  },
  {
   "cell_type": "markdown",
   "id": "d28e9e56-d9b1-4d4d-9de9-0d01008d426b",
   "metadata": {},
   "source": [
    " "
   ]
  },
  {
   "cell_type": "code",
   "execution_count": 17,
   "id": "f3b7a030-8539-494e-bbc3-64da7f432eae",
   "metadata": {},
   "outputs": [
    {
     "data": {
      "text/plain": [
       "array([[ 5.,  9.],\n",
       "       [ 1.,  7.],\n",
       "       [-3., -5.],\n",
       "       [ 1.,  5.]])"
      ]
     },
     "execution_count": 17,
     "metadata": {},
     "output_type": "execute_result"
    }
   ],
   "source": [
    "Q @ R"
   ]
  },
  {
   "cell_type": "markdown",
   "id": "80bb5f2d-ea9b-4a3f-a340-631f01a2c7a6",
   "metadata": {},
   "source": [
    " "
   ]
  },
  {
   "cell_type": "markdown",
   "id": "1f4d1eb5-e88a-4f5b-ad0d-b5fb209a39c7",
   "metadata": {},
   "source": [
    " "
   ]
  },
  {
   "cell_type": "markdown",
   "id": "c6287c6d-8b90-411f-ae77-eb1c6cee19fc",
   "metadata": {},
   "source": [
    " "
   ]
  },
  {
   "cell_type": "markdown",
   "id": "e89ceb2f-cc5e-4f78-b9a4-04e2dba3a789",
   "metadata": {},
   "source": [
    " "
   ]
  },
  {
   "cell_type": "markdown",
   "id": "28488ec5-136f-426e-ab0a-334ca95a6e68",
   "metadata": {},
   "source": [
    "**15.**"
   ]
  },
  {
   "cell_type": "code",
   "execution_count": 18,
   "id": "31dcd528-2a9e-4f2f-8a67-3b88d8de48f9",
   "metadata": {},
   "outputs": [
    {
     "name": "stdout",
     "output_type": "stream",
     "text": [
      "[[ 1  2  5]\n",
      " [-1  1 -4]\n",
      " [-1  4 -3]\n",
      " [ 1 -4  7]\n",
      " [ 1  2  1]]\n"
     ]
    }
   ],
   "source": [
    "A = np.array(\n",
    "    [\n",
    "        [1, 2, 5],\n",
    "        [-1, 1, -4],\n",
    "        [-1, 4, -3],\n",
    "        [1, -4, 7],\n",
    "        [1, 2, 1],\n",
    "    ]\n",
    ")\n",
    "\n",
    "print(A)"
   ]
  },
  {
   "cell_type": "markdown",
   "id": "1784af77-d58e-4f50-921e-1e18c3f22ec8",
   "metadata": {},
   "source": [
    " "
   ]
  },
  {
   "cell_type": "markdown",
   "id": "8d2f0457-ece3-458e-ba37-642ba46491dd",
   "metadata": {},
   "source": [
    " "
   ]
  },
  {
   "cell_type": "code",
   "execution_count": 20,
   "id": "ca033a7e-0ee0-402c-9b72-896fd1e4cc44",
   "metadata": {},
   "outputs": [
    {
     "name": "stdout",
     "output_type": "stream",
     "text": [
      "[[ 0.4472136  0.5        0.5      ]\n",
      " [-0.4472136  0.         0.       ]\n",
      " [-0.4472136  0.5        0.5      ]\n",
      " [ 0.4472136 -0.5        0.5      ]\n",
      " [ 0.4472136  0.5       -0.5      ]]\n"
     ]
    }
   ],
   "source": [
    "Q = orthogonality.gram_schmidt(A)\n",
    "print(Q)"
   ]
  },
  {
   "cell_type": "markdown",
   "id": "462427df-7c31-4e35-b9cf-2c99ed686f93",
   "metadata": {},
   "source": [
    " "
   ]
  },
  {
   "cell_type": "markdown",
   "id": "69a47b25-c5aa-43ac-86ad-c53ead3e8e72",
   "metadata": {},
   "source": [
    " "
   ]
  },
  {
   "cell_type": "code",
   "execution_count": 23,
   "id": "056bc10a-cabd-4860-a919-9fe2e5875987",
   "metadata": {},
   "outputs": [
    {
     "name": "stdout",
     "output_type": "stream",
     "text": [
      "[[ 2.23606798 -2.23606798  8.94427191]\n",
      " [ 0.          6.         -2.        ]\n",
      " [ 0.          0.          4.        ]]\n"
     ]
    }
   ],
   "source": [
    "R = Q.T @ A\n",
    "print(R)"
   ]
  },
  {
   "cell_type": "markdown",
   "id": "98de2b73-54dc-4ee2-81d9-dab974af4600",
   "metadata": {},
   "source": [
    " "
   ]
  },
  {
   "cell_type": "markdown",
   "id": "f8d3f9e3-f308-4e41-ad7a-2b04da9fca4c",
   "metadata": {},
   "source": [
    " "
   ]
  },
  {
   "cell_type": "markdown",
   "id": "9ad234a0-9a17-4bf1-9963-550574a326e9",
   "metadata": {},
   "source": [
    " "
   ]
  },
  {
   "cell_type": "code",
   "execution_count": 24,
   "id": "89f2f1b4-2b62-4ee8-a809-6af4592697b6",
   "metadata": {},
   "outputs": [
    {
     "data": {
      "text/plain": [
       "array([[ 1.,  2.,  5.],\n",
       "       [-1.,  1., -4.],\n",
       "       [-1.,  4., -3.],\n",
       "       [ 1., -4.,  7.],\n",
       "       [ 1.,  2.,  1.]])"
      ]
     },
     "execution_count": 24,
     "metadata": {},
     "output_type": "execute_result"
    }
   ],
   "source": [
    "Q @ R"
   ]
  },
  {
   "cell_type": "markdown",
   "id": "24098e65-af16-4f02-9bb7-cf2540dd9408",
   "metadata": {},
   "source": [
    " "
   ]
  },
  {
   "cell_type": "markdown",
   "id": "295f0c59-c98d-4d34-93b0-2e679e18ca26",
   "metadata": {},
   "source": [
    " "
   ]
  },
  {
   "cell_type": "markdown",
   "id": "38c4a67b-6aec-4451-9d4a-ddf4c6719a96",
   "metadata": {},
   "source": [
    " "
   ]
  },
  {
   "cell_type": "markdown",
   "id": "430b55f9-b362-4378-a8f3-1224d8f6c042",
   "metadata": {},
   "source": [
    " "
   ]
  },
  {
   "cell_type": "markdown",
   "id": "2f85f444-2b04-48be-b172-77b45a0d3a28",
   "metadata": {},
   "source": [
    " "
   ]
  },
  {
   "cell_type": "markdown",
   "id": "573354a1-cb9e-4fd9-bc53-07e2addff3f4",
   "metadata": {},
   "source": [
    " "
   ]
  },
  {
   "cell_type": "markdown",
   "id": "4c982613-c068-45b3-81ca-1f0419fd1b1d",
   "metadata": {},
   "source": [
    " "
   ]
  },
  {
   "cell_type": "markdown",
   "id": "28896487-54e5-48ea-a099-ac4e4ca793e1",
   "metadata": {},
   "source": [
    " "
   ]
  },
  {
   "cell_type": "markdown",
   "id": "ddbb16bf-da63-4fe4-ac59-8ec947c8b4cc",
   "metadata": {},
   "source": [
    " "
   ]
  },
  {
   "cell_type": "markdown",
   "id": "cffc3816-b8be-46c0-8dd5-d5c330eb7fe4",
   "metadata": {},
   "source": [
    " "
   ]
  },
  {
   "cell_type": "markdown",
   "id": "d45749cd-ddd8-4468-b268-d79c31fa7621",
   "metadata": {},
   "source": [
    " "
   ]
  },
  {
   "cell_type": "markdown",
   "id": "769fc748-4317-4922-9a9f-450eafd1a720",
   "metadata": {},
   "source": [
    " "
   ]
  },
  {
   "cell_type": "markdown",
   "id": "50ca1971-830f-4e0f-aa05-d1f66813eb52",
   "metadata": {},
   "source": [
    " "
   ]
  },
  {
   "cell_type": "markdown",
   "id": "7e569db3-112b-48c2-897b-d1a9d1bd5c66",
   "metadata": {},
   "source": [
    " "
   ]
  },
  {
   "cell_type": "markdown",
   "id": "181b169b-5a3f-4e4b-abd9-bd532b25f672",
   "metadata": {},
   "source": [
    " "
   ]
  }
 ],
 "metadata": {
  "kernelspec": {
   "display_name": "projects",
   "language": "python",
   "name": "projects"
  },
  "language_info": {
   "codemirror_mode": {
    "name": "ipython",
    "version": 3
   },
   "file_extension": ".py",
   "mimetype": "text/x-python",
   "name": "python",
   "nbconvert_exporter": "python",
   "pygments_lexer": "ipython3",
   "version": "3.11.7"
  }
 },
 "nbformat": 4,
 "nbformat_minor": 5
}
