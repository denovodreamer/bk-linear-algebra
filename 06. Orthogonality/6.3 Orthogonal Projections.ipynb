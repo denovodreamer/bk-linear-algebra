{
 "cells": [
  {
   "cell_type": "markdown",
   "id": "0eb65dd1-dc0f-465b-b01a-1405a81fa9c8",
   "metadata": {},
   "source": [
    "  "
   ]
  },
  {
   "cell_type": "markdown",
   "id": "08337e6d-9a3d-40ab-a944-da0bf7fd61a7",
   "metadata": {},
   "source": [
    "  "
   ]
  },
  {
   "cell_type": "markdown",
   "id": "d5f6fbb3-2b99-4d98-8d5a-ab5db8dc0b79",
   "metadata": {},
   "source": [
    "  "
   ]
  },
  {
   "cell_type": "markdown",
   "id": "9675ca30-4a63-42e4-aa4d-80b5cc2a7d35",
   "metadata": {},
   "source": [
    "  "
   ]
  },
  {
   "cell_type": "code",
   "execution_count": 1,
   "id": "e1a8122a-7c81-4753-a33e-a94a24c9424d",
   "metadata": {},
   "outputs": [],
   "source": [
    "import numpy as np\n",
    "from utils.linalg import orthogonality"
   ]
  },
  {
   "cell_type": "markdown",
   "id": "12ea9ea7-1efb-4fc6-ace6-1e90d08eff9c",
   "metadata": {},
   "source": [
    "  "
   ]
  },
  {
   "cell_type": "markdown",
   "id": "36f398e2-f0fb-4d4a-a52b-8be687227967",
   "metadata": {},
   "source": [
    "  "
   ]
  },
  {
   "cell_type": "markdown",
   "id": "227bc532-dbf5-4129-9a13-52ed0fd4f136",
   "metadata": {},
   "source": [
    "  "
   ]
  },
  {
   "cell_type": "markdown",
   "id": "76e36338-e75b-4ce7-9663-a47d95a1a7af",
   "metadata": {},
   "source": [
    "  "
   ]
  },
  {
   "cell_type": "markdown",
   "id": "f8cfd087-8b7f-4e32-bd60-5c83040e1dfb",
   "metadata": {},
   "source": [
    "  "
   ]
  },
  {
   "cell_type": "markdown",
   "id": "f036f54f-6c28-4ffc-b6c4-108bcd6fd3af",
   "metadata": {},
   "source": [
    "  "
   ]
  },
  {
   "cell_type": "markdown",
   "id": "a71b95fd-8c53-4c3d-b0da-cecbfde4d56b",
   "metadata": {},
   "source": [
    "**1.**"
   ]
  },
  {
   "cell_type": "code",
   "execution_count": 2,
   "id": "b0d153e1-8e9c-4d45-be97-1a55249604ae",
   "metadata": {},
   "outputs": [],
   "source": [
    "u1 = np.array([0, 1, -4, -1]).reshape(-1, 1)\n",
    "u2 = np.array([3, 5, 1, 1]).reshape(-1, 1)\n",
    "u3 = np.array([1, 0, 1, -4]).reshape(-1, 1)\n",
    "u4 = np.array([5, -3, -1, 1]).reshape(-1, 1)\n",
    "\n",
    "x = np.array([10, -8, 2, 0]).reshape(-1, 1)"
   ]
  },
  {
   "cell_type": "markdown",
   "id": "fdf50a1c-32b6-420c-9c8a-74563fe6c75f",
   "metadata": {},
   "source": [
    "  "
   ]
  },
  {
   "cell_type": "markdown",
   "id": "ede93afa-2e7c-4f98-8134-4df0e97e9d84",
   "metadata": {},
   "source": [
    "  "
   ]
  },
  {
   "cell_type": "markdown",
   "id": "1a51bae8-b9b8-49c4-b1ab-fb89d4450760",
   "metadata": {},
   "source": [
    "  "
   ]
  },
  {
   "cell_type": "code",
   "execution_count": 3,
   "id": "4c2da22b-3917-4ffa-850b-4cd7b0ba07b1",
   "metadata": {},
   "outputs": [
    {
     "name": "stdout",
     "output_type": "stream",
     "text": [
      "[[10.]\n",
      " [-6.]\n",
      " [-2.]\n",
      " [ 2.]]\n"
     ]
    }
   ],
   "source": [
    "v = orthogonality.proj(x, u4)\n",
    "print(v)"
   ]
  },
  {
   "cell_type": "markdown",
   "id": "805dfef1-5c01-4461-a91a-9527e775b5a1",
   "metadata": {},
   "source": [
    "  "
   ]
  },
  {
   "cell_type": "markdown",
   "id": "0588df50-65a0-4bf0-8c77-a02f2f6e62ec",
   "metadata": {},
   "source": [
    "  "
   ]
  },
  {
   "cell_type": "markdown",
   "id": "d6ecd4e7-0b23-4d50-a770-d97f54bfba3b",
   "metadata": {},
   "source": [
    "  "
   ]
  },
  {
   "cell_type": "code",
   "execution_count": 4,
   "id": "9a54834e-e5c9-4b06-9abd-0d37586caa40",
   "metadata": {},
   "outputs": [
    {
     "name": "stdout",
     "output_type": "stream",
     "text": [
      "[[ 0.]\n",
      " [-2.]\n",
      " [ 4.]\n",
      " [-2.]]\n"
     ]
    }
   ],
   "source": [
    "w = orthogonality.proj(x, u1) + orthogonality.proj(x, u2) + orthogonality.proj(x, u3)\n",
    "print(w)"
   ]
  },
  {
   "cell_type": "markdown",
   "id": "2c3963f2-b201-4c25-b520-424588e08a33",
   "metadata": {},
   "source": [
    "  "
   ]
  },
  {
   "cell_type": "markdown",
   "id": "2a9aa7cf-e8cf-49fb-a070-8d7751530fbc",
   "metadata": {},
   "source": [
    "  "
   ]
  },
  {
   "cell_type": "markdown",
   "id": "d54da6a1-966d-451c-a52e-c1c504aceef8",
   "metadata": {},
   "source": [
    "  "
   ]
  },
  {
   "cell_type": "code",
   "execution_count": 6,
   "id": "597ba347-3efe-4693-a9d0-4a63d91bea8f",
   "metadata": {},
   "outputs": [
    {
     "data": {
      "text/plain": [
       "array([[ 0.],\n",
       "       [-2.],\n",
       "       [ 4.],\n",
       "       [-2.]])"
      ]
     },
     "execution_count": 6,
     "metadata": {},
     "output_type": "execute_result"
    }
   ],
   "source": [
    "U = np.column_stack([u1, u2, u3])\n",
    "\n",
    "orthogonality.proj_W(x, U)"
   ]
  },
  {
   "cell_type": "markdown",
   "id": "1b42cfb0-411a-4cff-8471-15fbd89a038f",
   "metadata": {},
   "source": [
    "  "
   ]
  },
  {
   "cell_type": "markdown",
   "id": "279621e5-2c28-4b0c-87e8-567b6098edbd",
   "metadata": {},
   "source": [
    "  "
   ]
  },
  {
   "cell_type": "markdown",
   "id": "e3f98a9a-df32-42e2-bb6f-5eddd2dcf7a1",
   "metadata": {},
   "source": [
    "  "
   ]
  },
  {
   "cell_type": "markdown",
   "id": "a286f5fc-11c9-4d75-be43-d061a3dd3751",
   "metadata": {},
   "source": [
    "  "
   ]
  },
  {
   "cell_type": "markdown",
   "id": "9d4c7427-3204-452d-b819-f0cfda834af8",
   "metadata": {},
   "source": [
    "  "
   ]
  },
  {
   "cell_type": "markdown",
   "id": "217e2dd7-8b29-4a4e-82cf-efe39566a5db",
   "metadata": {},
   "source": [
    "  "
   ]
  },
  {
   "cell_type": "markdown",
   "id": "2c8cddbd-d362-4efe-a542-a02cfe764ac2",
   "metadata": {},
   "source": [
    "**17.**"
   ]
  },
  {
   "cell_type": "markdown",
   "id": "9575b104-60aa-4d28-baf2-8b56de10352c",
   "metadata": {},
   "source": [
    "  "
   ]
  },
  {
   "cell_type": "code",
   "execution_count": 11,
   "id": "e33bbce5-6ee8-4304-97ea-c0b6a9d7a2d8",
   "metadata": {},
   "outputs": [
    {
     "data": {
      "text/plain": [
       "0.9999999999999999"
      ]
     },
     "execution_count": 11,
     "metadata": {},
     "output_type": "execute_result"
    }
   ],
   "source": [
    "y = np.array([4, 8, 1]).reshape(-1, 1)\n",
    "\n",
    "u1 = np.array([2/3, 1/3, 2/3]).reshape(-1, 1)\n",
    "u2 = np.array([-2/3, 2/3, 1/3]).reshape(-1, 1)\n",
    "\n",
    "np.linalg.norm(u1)"
   ]
  },
  {
   "cell_type": "markdown",
   "id": "a03646ac-fc02-4018-a592-4bd96bc13367",
   "metadata": {},
   "source": [
    "  "
   ]
  },
  {
   "cell_type": "markdown",
   "id": "79bba750-04a0-4b17-ae5e-0d08c5af5f60",
   "metadata": {},
   "source": [
    "  "
   ]
  },
  {
   "cell_type": "markdown",
   "id": "0f003a57-6acc-4467-8e4a-d213f08cd7c8",
   "metadata": {},
   "source": [
    "  "
   ]
  },
  {
   "cell_type": "code",
   "execution_count": 13,
   "id": "fc409c37-db7a-41ac-a807-d610eb8a1e7d",
   "metadata": {},
   "outputs": [
    {
     "name": "stdout",
     "output_type": "stream",
     "text": [
      "[[ 0.66666667 -0.66666667]\n",
      " [ 0.33333333  0.66666667]\n",
      " [ 0.66666667  0.33333333]]\n"
     ]
    }
   ],
   "source": [
    "U = np.column_stack([u1, u2])\n",
    "\n",
    "print(U)"
   ]
  },
  {
   "cell_type": "markdown",
   "id": "6925d6f4-27a3-481c-ab95-c774973c6c44",
   "metadata": {},
   "source": [
    "  "
   ]
  },
  {
   "cell_type": "markdown",
   "id": "58e7f4fc-b9da-49b7-bf63-f4bb3935da8c",
   "metadata": {},
   "source": [
    "  "
   ]
  },
  {
   "cell_type": "markdown",
   "id": "5d2984b4-8fcb-4376-a1c4-0ca67d09531e",
   "metadata": {},
   "source": [
    "  "
   ]
  },
  {
   "cell_type": "markdown",
   "id": "af1ec96d-6578-4484-ad6b-194cec6a6d81",
   "metadata": {},
   "source": [
    "  "
   ]
  },
  {
   "cell_type": "code",
   "execution_count": 14,
   "id": "1a901412-88eb-4a28-aacf-10edabaa72ea",
   "metadata": {},
   "outputs": [
    {
     "data": {
      "text/plain": [
       "array([[ 1., -0.],\n",
       "       [-0.,  1.]])"
      ]
     },
     "execution_count": 14,
     "metadata": {},
     "output_type": "execute_result"
    }
   ],
   "source": [
    "(U.T @ U).round(4)"
   ]
  },
  {
   "cell_type": "markdown",
   "id": "6545691c-89bc-442f-87c0-8f34b736ad74",
   "metadata": {},
   "source": [
    "  "
   ]
  },
  {
   "cell_type": "markdown",
   "id": "ad371c9e-83cb-4d81-9a48-563302bd3626",
   "metadata": {},
   "source": [
    "  "
   ]
  },
  {
   "cell_type": "code",
   "execution_count": 10,
   "id": "f6c2d9da-55ae-4b62-bf1a-d860560c9c8b",
   "metadata": {},
   "outputs": [
    {
     "data": {
      "text/plain": [
       "array([[ 0.8889, -0.2222,  0.2222],\n",
       "       [-0.2222,  0.5556,  0.4444],\n",
       "       [ 0.2222,  0.4444,  0.5556]])"
      ]
     },
     "execution_count": 10,
     "metadata": {},
     "output_type": "execute_result"
    }
   ],
   "source": [
    "(U @ U.T).round(4)"
   ]
  },
  {
   "cell_type": "markdown",
   "id": "d9f40ebe-ef10-449b-9667-334bd8d378e4",
   "metadata": {},
   "source": [
    "  "
   ]
  },
  {
   "cell_type": "code",
   "execution_count": 15,
   "id": "e8df040e-6f2b-4238-9da4-6c62c5c30513",
   "metadata": {},
   "outputs": [
    {
     "data": {
      "text/plain": [
       "array([[2.],\n",
       "       [4.],\n",
       "       [5.]])"
      ]
     },
     "execution_count": 15,
     "metadata": {},
     "output_type": "execute_result"
    }
   ],
   "source": [
    "orthogonality.proj_W(y, U)"
   ]
  },
  {
   "cell_type": "markdown",
   "id": "1c855321-f0c6-419a-9b3d-814d19736eef",
   "metadata": {},
   "source": [
    "  "
   ]
  },
  {
   "cell_type": "markdown",
   "id": "968c5f86-a6d1-41c8-9e60-b6d1818931ad",
   "metadata": {},
   "source": [
    "  "
   ]
  },
  {
   "cell_type": "code",
   "execution_count": 16,
   "id": "5cf6d24f-23d7-49c6-ab27-b5647e23401a",
   "metadata": {},
   "outputs": [
    {
     "data": {
      "text/plain": [
       "array([[2.],\n",
       "       [4.],\n",
       "       [5.]])"
      ]
     },
     "execution_count": 16,
     "metadata": {},
     "output_type": "execute_result"
    }
   ],
   "source": [
    "U @ U.T @ y"
   ]
  },
  {
   "cell_type": "markdown",
   "id": "c94989bf-9a04-49e8-b25c-b93af8ab4a95",
   "metadata": {},
   "source": [
    "  "
   ]
  },
  {
   "cell_type": "markdown",
   "id": "61455526-63f3-4ad7-9d85-05b05c48a337",
   "metadata": {},
   "source": [
    "  "
   ]
  },
  {
   "cell_type": "markdown",
   "id": "8d18f269-fe92-49e2-9f09-008f3b937b20",
   "metadata": {},
   "source": [
    "  "
   ]
  },
  {
   "cell_type": "markdown",
   "id": "d47949a4-cee2-408f-a6fd-aaa8ec66d905",
   "metadata": {},
   "source": [
    "  "
   ]
  },
  {
   "cell_type": "markdown",
   "id": "950d18d7-6707-44c6-b5e7-22958232251a",
   "metadata": {},
   "source": [
    "  "
   ]
  },
  {
   "cell_type": "code",
   "execution_count": null,
   "id": "e1a9d75e-3842-40a2-b176-5ec46c048c23",
   "metadata": {},
   "outputs": [],
   "source": []
  },
  {
   "cell_type": "markdown",
   "id": "60a3f7d0-d3ff-46f8-ae11-64a417ae603d",
   "metadata": {},
   "source": [
    "  "
   ]
  },
  {
   "cell_type": "markdown",
   "id": "1a64b6b3-3c9f-4a7e-b16c-004c8db909eb",
   "metadata": {},
   "source": [
    "  "
   ]
  },
  {
   "cell_type": "markdown",
   "id": "5fdd242f-529a-4a28-b9ac-05a264952fe5",
   "metadata": {},
   "source": [
    "  "
   ]
  },
  {
   "cell_type": "markdown",
   "id": "7d08c04f-5356-4124-92b2-60a04d3db1ce",
   "metadata": {},
   "source": [
    "  "
   ]
  },
  {
   "cell_type": "markdown",
   "id": "41c83c95-6712-4981-814c-8e1dac4ded35",
   "metadata": {},
   "source": [
    "  "
   ]
  },
  {
   "cell_type": "markdown",
   "id": "e14b769e-a4f8-425b-beb7-68bdaa810928",
   "metadata": {},
   "source": [
    "  "
   ]
  },
  {
   "cell_type": "markdown",
   "id": "07a633eb-4e5f-49ef-b55f-6b5ed76edf2f",
   "metadata": {},
   "source": [
    "  "
   ]
  },
  {
   "cell_type": "markdown",
   "id": "8ef7b630-1b94-434d-9a04-b2f12c9c41b8",
   "metadata": {},
   "source": [
    "  "
   ]
  },
  {
   "cell_type": "markdown",
   "id": "e12a35ce-68d6-4db1-864b-a641a4c975b2",
   "metadata": {},
   "source": [
    "  "
   ]
  },
  {
   "cell_type": "markdown",
   "id": "0269c42c-dba6-4696-9373-0cd72eb19981",
   "metadata": {},
   "source": [
    "  "
   ]
  },
  {
   "cell_type": "markdown",
   "id": "f11a0410-c1ae-4a07-aa99-0707058d1f0f",
   "metadata": {},
   "source": [
    "  "
   ]
  },
  {
   "cell_type": "markdown",
   "id": "16ee604f-5b27-4886-aad3-db7db8f1abbf",
   "metadata": {},
   "source": [
    "  "
   ]
  },
  {
   "cell_type": "markdown",
   "id": "e1932477-b28a-438c-afe4-f4445fcdc1ed",
   "metadata": {},
   "source": [
    "  "
   ]
  },
  {
   "cell_type": "markdown",
   "id": "cacfa872-5d8d-4372-aaf4-fd60d6ebc186",
   "metadata": {},
   "source": [
    "  "
   ]
  },
  {
   "cell_type": "markdown",
   "id": "e3e63bc9-2fbb-46b9-a3af-c8977c5688c0",
   "metadata": {},
   "source": [
    "  "
   ]
  },
  {
   "cell_type": "markdown",
   "id": "d00f08be-d073-4589-ab78-39787d8d9f69",
   "metadata": {},
   "source": [
    "  "
   ]
  },
  {
   "cell_type": "markdown",
   "id": "412d1dcb-3915-4edf-be80-34c2f1dc82a7",
   "metadata": {},
   "source": [
    "  "
   ]
  },
  {
   "cell_type": "markdown",
   "id": "3e9051b5-36fb-4a73-aaa0-094d5f4d447e",
   "metadata": {},
   "source": [
    "  "
   ]
  },
  {
   "cell_type": "markdown",
   "id": "0917f288-ceaa-45ce-98ef-ef6004bdfacb",
   "metadata": {},
   "source": [
    "  "
   ]
  },
  {
   "cell_type": "markdown",
   "id": "fa940d78-0799-47fd-a415-6e78ebb4dcfc",
   "metadata": {},
   "source": [
    "  "
   ]
  },
  {
   "cell_type": "markdown",
   "id": "c7cda8ad-b924-4e08-889f-4102778cd7ff",
   "metadata": {},
   "source": [
    "  "
   ]
  },
  {
   "cell_type": "markdown",
   "id": "7c39a03b-2305-4747-8682-3a94aee69975",
   "metadata": {},
   "source": [
    "  "
   ]
  }
 ],
 "metadata": {
  "kernelspec": {
   "display_name": "projects",
   "language": "python",
   "name": "projects"
  },
  "language_info": {
   "codemirror_mode": {
    "name": "ipython",
    "version": 3
   },
   "file_extension": ".py",
   "mimetype": "text/x-python",
   "name": "python",
   "nbconvert_exporter": "python",
   "pygments_lexer": "ipython3",
   "version": "3.11.7"
  }
 },
 "nbformat": 4,
 "nbformat_minor": 5
}
