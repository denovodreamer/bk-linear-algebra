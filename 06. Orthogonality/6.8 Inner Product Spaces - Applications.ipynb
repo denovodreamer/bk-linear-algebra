{
 "cells": [
  {
   "cell_type": "markdown",
   "id": "d195b828-fbbd-4708-a7f7-ea7396e7e49e",
   "metadata": {},
   "source": [
    " "
   ]
  },
  {
   "cell_type": "markdown",
   "id": "beaf1e5f-27d5-4975-8cb6-dedb5311f052",
   "metadata": {},
   "source": [
    " "
   ]
  },
  {
   "cell_type": "markdown",
   "id": "04ef4bed-b6a3-438f-a95d-0854f0a9ed19",
   "metadata": {},
   "source": [
    " "
   ]
  },
  {
   "cell_type": "markdown",
   "id": "5f50cf1a-624e-4664-a265-ca362ff12061",
   "metadata": {},
   "source": [
    " "
   ]
  },
  {
   "cell_type": "markdown",
   "id": "9e29b3fe-4978-4866-a894-67d208179fa1",
   "metadata": {},
   "source": [
    " "
   ]
  },
  {
   "cell_type": "markdown",
   "id": "951f8210-3411-4914-b4d9-c30563431b2d",
   "metadata": {},
   "source": [
    " "
   ]
  },
  {
   "cell_type": "code",
   "execution_count": 1,
   "id": "9a1d5b88-f5d0-4209-8c1f-aa4c7c6c9933",
   "metadata": {},
   "outputs": [],
   "source": [
    "import numpy as np"
   ]
  },
  {
   "cell_type": "markdown",
   "id": "db79ba6c-6f50-428d-8536-aecc4711c7f3",
   "metadata": {},
   "source": [
    " "
   ]
  },
  {
   "cell_type": "markdown",
   "id": "7e902a19-d054-4aa2-83da-49d64f9e9fe4",
   "metadata": {},
   "source": [
    " "
   ]
  },
  {
   "cell_type": "markdown",
   "id": "98390477-61f5-40f6-9d35-e08fff0c4c14",
   "metadata": {},
   "source": [
    " "
   ]
  },
  {
   "cell_type": "markdown",
   "id": "d1e1e85e-6932-4030-af90-6a2db9a09730",
   "metadata": {},
   "source": [
    " "
   ]
  },
  {
   "cell_type": "markdown",
   "id": "68350fde-d0d2-4514-b9ad-e5553b72e903",
   "metadata": {},
   "source": [
    " "
   ]
  },
  {
   "cell_type": "markdown",
   "id": "59a218b1-2b2e-4de1-8499-23e09ac6ccdb",
   "metadata": {},
   "source": [
    " "
   ]
  },
  {
   "cell_type": "markdown",
   "id": "06b2e319-42b5-49ce-8ad8-d04b2f1de35a",
   "metadata": {},
   "source": [
    " "
   ]
  },
  {
   "cell_type": "markdown",
   "id": "4c2e19fc-6ce2-431f-b3f3-46a67603b93f",
   "metadata": {},
   "source": [
    "**1.**"
   ]
  },
  {
   "cell_type": "code",
   "execution_count": 2,
   "id": "a7efe749-6f0c-4291-9616-8fb4401fae9e",
   "metadata": {},
   "outputs": [
    {
     "name": "stdout",
     "output_type": "stream",
     "text": [
      "[[1 0 0 0 0]\n",
      " [0 2 0 0 0]\n",
      " [0 0 2 0 0]\n",
      " [0 0 0 2 0]\n",
      " [0 0 0 0 1]]\n"
     ]
    }
   ],
   "source": [
    "W = np.diag([1, 2, 2, 2, 1])\n",
    "\n",
    "print(W)"
   ]
  },
  {
   "cell_type": "markdown",
   "id": "8fc99472-f6bf-426b-ab66-c2c97f906524",
   "metadata": {},
   "source": [
    " "
   ]
  },
  {
   "cell_type": "markdown",
   "id": "1710f9d3-389d-4252-b735-66505a5460b1",
   "metadata": {},
   "source": [
    " "
   ]
  },
  {
   "cell_type": "code",
   "execution_count": 5,
   "id": "66e92b4a-18da-4339-9943-2fb2ea391e06",
   "metadata": {},
   "outputs": [],
   "source": [
    "data = np.array(\n",
    "    [\n",
    "        [-2, 0],\n",
    "        [-1, 0],\n",
    "        [0, 2],\n",
    "        [1, 4],\n",
    "        [2, 4]\n",
    "    ]\n",
    ")\n",
    "\n",
    "x_i = data[:, [0]]\n",
    "y_i = data[:, [1]]\n",
    "\n",
    "n = len(x_i)"
   ]
  },
  {
   "cell_type": "markdown",
   "id": "bf392148-8c95-4052-8299-e338b643734f",
   "metadata": {},
   "source": [
    " "
   ]
  },
  {
   "cell_type": "markdown",
   "id": "2b557882-0892-495c-a3a0-760e50d24169",
   "metadata": {},
   "source": [
    " "
   ]
  },
  {
   "cell_type": "code",
   "execution_count": 9,
   "id": "261a539d-b6d9-427f-a348-c57bcdbd9947",
   "metadata": {},
   "outputs": [
    {
     "name": "stdout",
     "output_type": "stream",
     "text": [
      "[[ 1. -2.]\n",
      " [ 1. -1.]\n",
      " [ 1.  0.]\n",
      " [ 1.  1.]\n",
      " [ 1.  2.]]\n"
     ]
    }
   ],
   "source": [
    "X = np.ones((n, 1))\n",
    "X = np.column_stack([X, x_i])\n",
    "\n",
    "print(X)"
   ]
  },
  {
   "cell_type": "markdown",
   "id": "1f1a36ed-1451-4168-b8b9-0f1430b026d5",
   "metadata": {},
   "source": [
    " "
   ]
  },
  {
   "cell_type": "markdown",
   "id": "01d380f3-b02d-46e6-86fd-a9730907d10c",
   "metadata": {},
   "source": [
    " "
   ]
  },
  {
   "cell_type": "markdown",
   "id": "fb12d271-876e-4ddb-a952-539fff0a34b0",
   "metadata": {},
   "source": [
    " "
   ]
  },
  {
   "cell_type": "markdown",
   "id": "e09ccb5b-6500-4df1-a63c-211b8d21cfe0",
   "metadata": {},
   "source": [
    " "
   ]
  },
  {
   "cell_type": "markdown",
   "id": "edf45469-5880-4d35-b4fc-3b232e91bebd",
   "metadata": {},
   "source": [
    "Ordinary linear model"
   ]
  },
  {
   "cell_type": "code",
   "execution_count": 16,
   "id": "ceb06814-4571-4792-9ca6-aaf94aa9ce6b",
   "metadata": {},
   "outputs": [
    {
     "data": {
      "text/plain": [
       "array([[2. ],\n",
       "       [1.2]])"
      ]
     },
     "execution_count": 16,
     "metadata": {},
     "output_type": "execute_result"
    }
   ],
   "source": [
    "beta = np.linalg.solve(X.T @ X, X.T @ y_i)\n",
    "\n",
    "beta"
   ]
  },
  {
   "cell_type": "markdown",
   "id": "5b60b691-4b73-46e0-90d0-91a8c6556125",
   "metadata": {},
   "source": [
    " "
   ]
  },
  {
   "cell_type": "markdown",
   "id": "b2a4dda4-b27f-4121-9c9f-6e3cf0a2c304",
   "metadata": {},
   "source": [
    " "
   ]
  },
  {
   "cell_type": "markdown",
   "id": "1874ac94-cbaf-42f0-ba50-da660cf0e6f6",
   "metadata": {},
   "source": [
    "Weighted SSE"
   ]
  },
  {
   "cell_type": "code",
   "execution_count": 24,
   "id": "94db5268-343a-4c81-aab2-1aa7d579c5a4",
   "metadata": {},
   "outputs": [
    {
     "data": {
      "text/plain": [
       "array([[2. ],\n",
       "       [1.5]])"
      ]
     },
     "execution_count": 24,
     "metadata": {},
     "output_type": "execute_result"
    }
   ],
   "source": [
    "beta_w = np.linalg.solve((W @ X).T @ (W @ X), (W @ X).T @ (W @ y_i))\n",
    "\n",
    "beta_w"
   ]
  },
  {
   "cell_type": "markdown",
   "id": "cf5ebe04-5c79-449a-9c02-fc5374ecb8a0",
   "metadata": {},
   "source": [
    " "
   ]
  },
  {
   "cell_type": "markdown",
   "id": "f51cf91e-acab-4fd3-a74e-d17441ada449",
   "metadata": {},
   "source": [
    " "
   ]
  },
  {
   "cell_type": "markdown",
   "id": "69020d2a-c99f-40ea-969f-1edda8bf4f23",
   "metadata": {},
   "source": [
    " "
   ]
  },
  {
   "cell_type": "markdown",
   "id": "9b715886-f277-43f2-8313-e01d218591ff",
   "metadata": {},
   "source": [
    " "
   ]
  },
  {
   "cell_type": "markdown",
   "id": "d2fb7507-37bf-46cc-8780-4cd04efedf7b",
   "metadata": {},
   "source": [
    " "
   ]
  },
  {
   "cell_type": "code",
   "execution_count": 26,
   "id": "c53e241c-7006-4f77-a1ea-58ddd618abdf",
   "metadata": {},
   "outputs": [
    {
     "data": {
      "text/plain": [
       "<matplotlib.collections.PathCollection at 0x118aafd50>"
      ]
     },
     "execution_count": 26,
     "metadata": {},
     "output_type": "execute_result"
    },
    {
     "data": {
      "image/png": "[encoded data removed]",
      "text/plain": [
       "<Figure size 640x480 with 1 Axes>"
      ]
     },
     "metadata": {},
     "output_type": "display_data"
    }
   ],
   "source": [
    "import matplotlib.pyplot as plt\n",
    "\n",
    "\n",
    "plt.plot(X[:, 1], X @ beta)\n",
    "plt.plot(X[:, 1], X @ beta_w)\n",
    "\n",
    "plt.scatter(*data.T)"
   ]
  },
  {
   "cell_type": "markdown",
   "id": "0b93bbd6-ac54-478e-98eb-3080ff72af54",
   "metadata": {},
   "source": [
    " "
   ]
  },
  {
   "cell_type": "markdown",
   "id": "f401e05e-f4a3-4487-bde5-3ba72008d2bf",
   "metadata": {},
   "source": [
    " "
   ]
  },
  {
   "cell_type": "markdown",
   "id": "abcbe968-e6a7-4e6e-9c77-710c1152218e",
   "metadata": {},
   "source": [
    " "
   ]
  },
  {
   "cell_type": "markdown",
   "id": "17f703f4-aa52-46bd-9d6c-76e8b71066e1",
   "metadata": {},
   "source": [
    " "
   ]
  },
  {
   "cell_type": "markdown",
   "id": "12d3d941-e5bf-401a-bd0f-2b2395b91493",
   "metadata": {},
   "source": [
    " "
   ]
  },
  {
   "cell_type": "markdown",
   "id": "62403714-c782-49d8-bf1a-4549b9780e18",
   "metadata": {},
   "source": [
    " "
   ]
  },
  {
   "cell_type": "markdown",
   "id": "785b3a02-7612-4af8-b4ac-cdccf68354c7",
   "metadata": {},
   "source": [
    " "
   ]
  },
  {
   "cell_type": "markdown",
   "id": "1665f384-41d8-40cf-aed6-5fffa6fc3953",
   "metadata": {},
   "source": [
    " "
   ]
  },
  {
   "cell_type": "markdown",
   "id": "597f8e83-2d96-43be-8868-47091275edd2",
   "metadata": {},
   "source": [
    " "
   ]
  },
  {
   "cell_type": "markdown",
   "id": "5a301337-9e26-492e-9e3e-fdf1caeadaa5",
   "metadata": {},
   "source": [
    " "
   ]
  },
  {
   "cell_type": "markdown",
   "id": "2398ec67-b2e1-485f-837e-c360aa5efb62",
   "metadata": {},
   "source": [
    " "
   ]
  },
  {
   "cell_type": "markdown",
   "id": "ca64d67b-c8d2-41d1-a017-47b431b9d774",
   "metadata": {},
   "source": [
    " "
   ]
  },
  {
   "cell_type": "markdown",
   "id": "a88aedc8-74f3-4bd3-b825-8b618cb00424",
   "metadata": {},
   "source": [
    " "
   ]
  },
  {
   "cell_type": "markdown",
   "id": "3b06322b-4154-4efc-bbf2-96ef54a84ccb",
   "metadata": {},
   "source": [
    " "
   ]
  },
  {
   "cell_type": "markdown",
   "id": "84e2e0e8-f942-4f4d-a26c-50ffa7974e0a",
   "metadata": {},
   "source": [
    " "
   ]
  },
  {
   "cell_type": "markdown",
   "id": "cc2b4f85-9651-4be9-9277-66c442847379",
   "metadata": {},
   "source": [
    " "
   ]
  },
  {
   "cell_type": "markdown",
   "id": "5c2601af-63ba-45df-8383-6364dc395776",
   "metadata": {},
   "source": [
    " "
   ]
  },
  {
   "cell_type": "markdown",
   "id": "db9af822-e443-4fd6-8341-6713a9a5ae97",
   "metadata": {},
   "source": [
    " "
   ]
  },
  {
   "cell_type": "markdown",
   "id": "5b320e37-5282-42dc-8602-ec60b2b50612",
   "metadata": {},
   "source": [
    " "
   ]
  },
  {
   "cell_type": "markdown",
   "id": "4c4bf993-653f-4d61-8f13-afa2a7e72618",
   "metadata": {},
   "source": [
    " "
   ]
  },
  {
   "cell_type": "markdown",
   "id": "7ef7a579-204e-43fc-8ab0-7505180dbbef",
   "metadata": {},
   "source": [
    " "
   ]
  },
  {
   "cell_type": "markdown",
   "id": "fe74230a-f9fe-4add-bd80-14f9a4d976ff",
   "metadata": {},
   "source": [
    " "
   ]
  },
  {
   "cell_type": "markdown",
   "id": "f513905a-b2df-461f-a43a-6c361a75c00d",
   "metadata": {},
   "source": [
    " "
   ]
  },
  {
   "cell_type": "markdown",
   "id": "3361a057-3229-4880-9cb2-63407353b6fb",
   "metadata": {},
   "source": [
    " "
   ]
  }
 ],
 "metadata": {
  "kernelspec": {
   "display_name": "projects",
   "language": "python",
   "name": "projects"
  },
  "language_info": {
   "codemirror_mode": {
    "name": "ipython",
    "version": 3
   },
   "file_extension": ".py",
   "mimetype": "text/x-python",
   "name": "python",
   "nbconvert_exporter": "python",
   "pygments_lexer": "ipython3",
   "version": "3.11.7"
  }
 },
 "nbformat": 4,
 "nbformat_minor": 5
}
