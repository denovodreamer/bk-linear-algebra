{
 "cells": [
  {
   "cell_type": "markdown",
   "id": "c56865dd-ec32-41f8-9097-38eb3e6d0af2",
   "metadata": {},
   "source": [
    " "
   ]
  },
  {
   "cell_type": "markdown",
   "id": "d8c9a102-7931-4f88-9057-797d45ccc3f8",
   "metadata": {},
   "source": [
    " "
   ]
  },
  {
   "cell_type": "markdown",
   "id": "8faa875c-9764-42c7-879d-38673320a50b",
   "metadata": {},
   "source": [
    " "
   ]
  },
  {
   "cell_type": "markdown",
   "id": "60788370-3b3a-4999-8c17-cb076fa0cce9",
   "metadata": {},
   "source": [
    " "
   ]
  },
  {
   "cell_type": "markdown",
   "id": "ad19aa7d-bd75-4745-9cb9-6fcd3d7ee2c6",
   "metadata": {},
   "source": [
    " "
   ]
  },
  {
   "cell_type": "code",
   "execution_count": 19,
   "id": "a4dd898e-8c1a-4d71-9e1b-cd88adc180ba",
   "metadata": {},
   "outputs": [],
   "source": [
    "import numpy as np\n",
    "from utils.linear_algebra import orthogonality"
   ]
  },
  {
   "cell_type": "markdown",
   "id": "0f94bfad-fd44-482c-95b1-da63d8e0538d",
   "metadata": {},
   "source": [
    " "
   ]
  },
  {
   "cell_type": "markdown",
   "id": "87f354c8-7f74-4e60-981b-2533cdec67e6",
   "metadata": {},
   "source": [
    " "
   ]
  },
  {
   "cell_type": "markdown",
   "id": "9cdc2622-b096-4ea2-a792-c7feef795040",
   "metadata": {},
   "source": [
    " "
   ]
  },
  {
   "cell_type": "markdown",
   "id": "87361b91-082b-4556-b09a-518a0e886543",
   "metadata": {},
   "source": [
    " "
   ]
  },
  {
   "cell_type": "markdown",
   "id": "761580a1-db7f-4528-9c04-3212236d00d7",
   "metadata": {},
   "source": [
    " "
   ]
  },
  {
   "cell_type": "markdown",
   "id": "54e03ea0-e82b-4b1c-a91e-b980d46d1c81",
   "metadata": {},
   "source": [
    " "
   ]
  },
  {
   "cell_type": "markdown",
   "id": "f14de802-e9df-4daa-9064-ac5bcc82b94b",
   "metadata": {},
   "source": [
    "**10.**"
   ]
  },
  {
   "cell_type": "code",
   "execution_count": 8,
   "id": "559f7a94-3a06-4427-9d43-f6145178207a",
   "metadata": {},
   "outputs": [
    {
     "data": {
      "text/plain": [
       "array([[ 3,  2,  1],\n",
       "       [-3,  2,  1],\n",
       "       [ 0, -1,  4]])"
      ]
     },
     "execution_count": 8,
     "metadata": {},
     "output_type": "execute_result"
    }
   ],
   "source": [
    "u1 = np.array([3, -3, 0]).reshape(-1, 1)\n",
    "u2 = np.array([2, 2, -1]).reshape(-1, 1)\n",
    "u3 = np.array([1, 1, 4]).reshape(-1, 1)\n",
    "\n",
    "x = np.array([5, -3, 1]).reshape(-1, 1)\n",
    "\n",
    "U = np.column_stack([u1, u2, u3])\n",
    "\n",
    "U"
   ]
  },
  {
   "cell_type": "markdown",
   "id": "4d7a2d00-8ae0-4239-99cd-4498cf284b84",
   "metadata": {},
   "source": [
    " "
   ]
  },
  {
   "cell_type": "markdown",
   "id": "aa17c6e3-7fcf-4aff-a90f-7de309775ae9",
   "metadata": {},
   "source": [
    " "
   ]
  },
  {
   "cell_type": "code",
   "execution_count": 3,
   "id": "0eeb0459-f1cc-4bdf-91ba-e7c9eff9aaf8",
   "metadata": {},
   "outputs": [
    {
     "data": {
      "text/plain": [
       "array([[18,  0,  0],\n",
       "       [ 0,  9,  0],\n",
       "       [ 0,  0, 18]])"
      ]
     },
     "execution_count": 3,
     "metadata": {},
     "output_type": "execute_result"
    }
   ],
   "source": [
    "U.T @ U"
   ]
  },
  {
   "cell_type": "markdown",
   "id": "fec92f90-c682-4265-94e0-427dad33ad57",
   "metadata": {},
   "source": [
    " "
   ]
  },
  {
   "cell_type": "code",
   "execution_count": 12,
   "id": "c0f8cd40-b9eb-4e76-a5f5-80560e621c77",
   "metadata": {},
   "outputs": [
    {
     "data": {
      "text/plain": [
       "array([[ 2],\n",
       "       [ 2],\n",
       "       [-1]])"
      ]
     },
     "execution_count": 12,
     "metadata": {},
     "output_type": "execute_result"
    }
   ],
   "source": [
    "U[:, [1]]"
   ]
  },
  {
   "cell_type": "markdown",
   "id": "69efd919-b316-44a8-b6de-3c21f8d910dc",
   "metadata": {},
   "source": [
    " "
   ]
  },
  {
   "cell_type": "code",
   "execution_count": 14,
   "id": "8df4e887-31ae-43e4-9c19-2c9791bb73e0",
   "metadata": {},
   "outputs": [
    {
     "data": {
      "text/plain": [
       "array([[1.33333333],\n",
       "       [0.33333333],\n",
       "       [0.33333333]])"
      ]
     },
     "execution_count": 14,
     "metadata": {},
     "output_type": "execute_result"
    }
   ],
   "source": [
    "def proj(x, u):\n",
    "    return ((x.T @ u) / (u.T @ u)) * u\n",
    "\n",
    "def decomposition(x, U):\n",
    "    n = x.shape[0]\n",
    "    x_d = np.array([])\n",
    "    for i in range(n):\n",
    "        u_i = U[:, [i]]\n",
    "        c_i = ((x.T @ u_i) / (u_i.T @ u_i))\n",
    "        x_d = np.append(x_d, c_i)\n",
    "    return x_d.reshape(-1, 1)\n",
    "\n",
    "decomposition(x, U)"
   ]
  },
  {
   "cell_type": "markdown",
   "id": "cd678061-754a-4515-ae3d-3f8ffbe16396",
   "metadata": {},
   "source": [
    " "
   ]
  },
  {
   "cell_type": "markdown",
   "id": "5545551d-41fd-41de-8244-a01b226a6229",
   "metadata": {},
   "source": [
    " "
   ]
  },
  {
   "cell_type": "markdown",
   "id": "4a7a3ac1-355a-4434-940f-187f02534ee4",
   "metadata": {},
   "source": [
    " "
   ]
  },
  {
   "cell_type": "markdown",
   "id": "8bc57afb-0829-4497-9e4d-021dba44c1f2",
   "metadata": {},
   "source": [
    " "
   ]
  },
  {
   "cell_type": "markdown",
   "id": "cf609687-63c3-4942-be2d-216cb0a327ef",
   "metadata": {},
   "source": [
    " "
   ]
  },
  {
   "cell_type": "markdown",
   "id": "dbd64712-40fb-40fe-a4db-f5289954b51e",
   "metadata": {},
   "source": [
    " "
   ]
  },
  {
   "cell_type": "markdown",
   "id": "d6c9308f-1bac-46d6-aa34-e3341cc6db52",
   "metadata": {},
   "source": [
    "**11.**"
   ]
  },
  {
   "cell_type": "code",
   "execution_count": 15,
   "id": "cc8a2ded-8705-4f82-a131-e04156fd63d4",
   "metadata": {},
   "outputs": [
    {
     "name": "stdout",
     "output_type": "stream",
     "text": [
      "[[-6 -3  6  1]\n",
      " [-1  2  1 -6]\n",
      " [ 3  6  3 -2]\n",
      " [ 6 -3  6 -1]\n",
      " [ 2 -1  2  3]\n",
      " [-3  6  3  2]\n",
      " [-2 -1  2 -3]\n",
      " [ 1  2  1  6]]\n"
     ]
    }
   ],
   "source": [
    "A = np.array(\n",
    "    [\n",
    "        [-6, -3, 6, 1],\n",
    "        [-1, 2, 1, -6],\n",
    "        [3, 6, 3, -2],\n",
    "        [6, -3, 6, -1],\n",
    "        [2, -1, 2, 3],\n",
    "        [-3, 6, 3, 2],\n",
    "        [-2, -1, 2, -3],\n",
    "        [1, 2, 1, 6],\n",
    "    ]\n",
    ")\n",
    "\n",
    "print(A)"
   ]
  },
  {
   "cell_type": "markdown",
   "id": "8865b5d5-730c-42e1-90b8-79daf885ae96",
   "metadata": {},
   "source": [
    " "
   ]
  },
  {
   "cell_type": "markdown",
   "id": "c6e771ac-6bf8-4cb0-ab4b-8b546c92d248",
   "metadata": {},
   "source": [
    " "
   ]
  },
  {
   "cell_type": "markdown",
   "id": "8c844c2a-18d0-4abd-9083-a3709fb09c82",
   "metadata": {},
   "source": [
    " "
   ]
  },
  {
   "cell_type": "code",
   "execution_count": 16,
   "id": "8fc9c8eb-7424-4565-93fa-bd6691371041",
   "metadata": {},
   "outputs": [
    {
     "data": {
      "text/plain": [
       "array([[100,   0,   0,   0],\n",
       "       [  0, 100,   0,   0],\n",
       "       [  0,   0, 100,   0],\n",
       "       [  0,   0,   0, 100]])"
      ]
     },
     "execution_count": 16,
     "metadata": {},
     "output_type": "execute_result"
    }
   ],
   "source": [
    "A.T @ A"
   ]
  },
  {
   "cell_type": "markdown",
   "id": "ca2d8973-876b-4478-a5f2-b57607289ed3",
   "metadata": {},
   "source": [
    " "
   ]
  },
  {
   "cell_type": "markdown",
   "id": "283cae68-e1e5-4dcd-8c49-23a3b883a441",
   "metadata": {},
   "source": [
    " "
   ]
  },
  {
   "cell_type": "markdown",
   "id": "be940502-9645-4f2c-aff0-68aded6fa2cd",
   "metadata": {},
   "source": [
    " "
   ]
  },
  {
   "cell_type": "markdown",
   "id": "cea815d9-7611-46f1-80b1-eb971aa8087b",
   "metadata": {},
   "source": [
    " "
   ]
  },
  {
   "cell_type": "markdown",
   "id": "370e9d74-2d13-4570-bc04-7908212face6",
   "metadata": {},
   "source": [
    "**36.**"
   ]
  },
  {
   "cell_type": "code",
   "execution_count": 24,
   "id": "19f27857-3fe7-4d80-bbfa-fa066ef3f703",
   "metadata": {},
   "outputs": [
    {
     "name": "stdout",
     "output_type": "stream",
     "text": [
      "[[-0.6 -0.3  0.6  0.1]\n",
      " [-0.1  0.2  0.1 -0.6]\n",
      " [ 0.3  0.6  0.3 -0.2]\n",
      " [ 0.6 -0.3  0.6 -0.1]\n",
      " [ 0.2 -0.1  0.2  0.3]\n",
      " [-0.3  0.6  0.3  0.2]\n",
      " [-0.2 -0.1  0.2 -0.3]\n",
      " [ 0.1  0.2  0.1  0.6]]\n"
     ]
    }
   ],
   "source": [
    "U = A / np.linalg.norm(A, axis=0)\n",
    "\n",
    "print(U)"
   ]
  },
  {
   "cell_type": "markdown",
   "id": "dbefca31-d487-48ca-958c-64ab575e87ee",
   "metadata": {},
   "source": [
    " "
   ]
  },
  {
   "cell_type": "markdown",
   "id": "3086a31b-2bf7-4009-96fd-72b333384a29",
   "metadata": {},
   "source": [
    " "
   ]
  },
  {
   "cell_type": "code",
   "execution_count": 28,
   "id": "f6afb3bf-47e3-4d2a-b647-b273ef9ea809",
   "metadata": {},
   "outputs": [
    {
     "data": {
      "text/plain": [
       "array([[ 1.,  0., -0.,  0.],\n",
       "       [ 0.,  1., -0., -0.],\n",
       "       [-0., -0.,  1., -0.],\n",
       "       [ 0., -0., -0.,  1.]])"
      ]
     },
     "execution_count": 28,
     "metadata": {},
     "output_type": "execute_result"
    }
   ],
   "source": [
    "(U.T @ U).round(4)"
   ]
  },
  {
   "cell_type": "markdown",
   "id": "b3b4dfff-6db8-4f23-8ed8-0647f8215164",
   "metadata": {},
   "source": [
    " "
   ]
  },
  {
   "cell_type": "code",
   "execution_count": 29,
   "id": "4e92a0a3-73c7-4956-b0aa-15093741986a",
   "metadata": {},
   "outputs": [
    {
     "data": {
      "text/plain": [
       "array([[ 0.82, -0.  , -0.2 ,  0.08,  0.06,  0.2 ,  0.24,  0.  ],\n",
       "       [-0.  ,  0.42,  0.24,  0.  , -0.2 ,  0.06,  0.2 , -0.32],\n",
       "       [-0.2 ,  0.24,  0.58,  0.2 , -0.  ,  0.32,  0.  ,  0.06],\n",
       "       [ 0.08,  0.  ,  0.2 ,  0.82,  0.24, -0.2 ,  0.06, -0.  ],\n",
       "       [ 0.06, -0.2 , -0.  ,  0.24,  0.18,  0.  , -0.08,  0.2 ],\n",
       "       [ 0.2 ,  0.06,  0.32, -0.2 ,  0.  ,  0.58, -0.  ,  0.24],\n",
       "       [ 0.24,  0.2 ,  0.  ,  0.06, -0.08, -0.  ,  0.18, -0.2 ],\n",
       "       [ 0.  , -0.32,  0.06, -0.  ,  0.2 ,  0.24, -0.2 ,  0.42]])"
      ]
     },
     "execution_count": 29,
     "metadata": {},
     "output_type": "execute_result"
    }
   ],
   "source": [
    "(U @ U.T).round(4)"
   ]
  },
  {
   "cell_type": "markdown",
   "id": "4c30e0e1-6657-48ac-9433-23706c2c4032",
   "metadata": {},
   "source": [
    " "
   ]
  },
  {
   "cell_type": "markdown",
   "id": "d4535942-ef6e-4865-9ac6-ba0f650e821f",
   "metadata": {},
   "source": [
    " "
   ]
  },
  {
   "cell_type": "markdown",
   "id": "d3d35b59-018e-46a0-b9b8-d45bdbfe4178",
   "metadata": {},
   "source": [
    " "
   ]
  },
  {
   "cell_type": "markdown",
   "id": "8b6f5514-7cff-4140-9f90-1ce6022e8a47",
   "metadata": {},
   "source": [
    " "
   ]
  },
  {
   "cell_type": "markdown",
   "id": "32d142ca-78e5-4d12-8475-47a5c6dbca26",
   "metadata": {},
   "source": [
    " "
   ]
  },
  {
   "cell_type": "code",
   "execution_count": 32,
   "id": "fcd12a27-c744-44b2-8056-19d4c9850679",
   "metadata": {},
   "outputs": [
    {
     "name": "stdout",
     "output_type": "stream",
     "text": [
      "[[0.04122542]\n",
      " [0.80249837]\n",
      " [0.87162486]\n",
      " [0.59602295]\n",
      " [0.83472744]\n",
      " [0.83559956]\n",
      " [0.5082649 ]\n",
      " [0.25904739]]\n"
     ]
    }
   ],
   "source": [
    "y = np.random.random((8, 1))\n",
    "\n",
    "print(y)"
   ]
  },
  {
   "cell_type": "markdown",
   "id": "071b5fba-4bbc-40f9-b817-a9a3ef361212",
   "metadata": {},
   "source": [
    " "
   ]
  },
  {
   "cell_type": "markdown",
   "id": "56f264e8-075d-4c97-a122-94c48a081817",
   "metadata": {},
   "source": [
    " "
   ]
  },
  {
   "cell_type": "markdown",
   "id": "7947b66c-0950-42cb-9607-58b62968cc04",
   "metadata": {},
   "source": [
    " "
   ]
  },
  {
   "cell_type": "markdown",
   "id": "b3edcf19-c4d6-41c7-b46f-bd0a7b596e4c",
   "metadata": {},
   "source": [
    " "
   ]
  },
  {
   "cell_type": "code",
   "execution_count": 33,
   "id": "553f67aa-d428-4e50-b8a5-827f85f1b0e2",
   "metadata": {},
   "outputs": [
    {
     "data": {
      "text/plain": [
       "array([[0.24634884],\n",
       "       [0.44818758],\n",
       "       [1.09203623],\n",
       "       [0.73007239],\n",
       "       [0.14641858],\n",
       "       [0.76292947],\n",
       "       [0.17905516],\n",
       "       [0.17013432]])"
      ]
     },
     "execution_count": 33,
     "metadata": {},
     "output_type": "execute_result"
    }
   ],
   "source": [
    "p = U @ U.T @ y\n",
    "\n",
    "p"
   ]
  },
  {
   "cell_type": "markdown",
   "id": "06e4bd7b-21a5-46e5-b3a0-5e394a25da1d",
   "metadata": {},
   "source": [
    " "
   ]
  },
  {
   "cell_type": "markdown",
   "id": "58ada2e4-d276-4b99-aea6-e72a8fb85151",
   "metadata": {},
   "source": [
    " "
   ]
  },
  {
   "cell_type": "code",
   "execution_count": 37,
   "id": "b2fe9d1f-813a-41b1-bf40-fecd3611d49d",
   "metadata": {},
   "outputs": [
    {
     "data": {
      "text/plain": [
       "array([[0.]])"
      ]
     },
     "execution_count": 37,
     "metadata": {},
     "output_type": "execute_result"
    }
   ],
   "source": [
    "z = y - p\n",
    "\n",
    "(z.T @ p).round(4)"
   ]
  },
  {
   "cell_type": "markdown",
   "id": "e00383ef-57d0-4100-94cf-ceae4eb71614",
   "metadata": {},
   "source": [
    " "
   ]
  },
  {
   "cell_type": "markdown",
   "id": "d431ae58-bd0d-4b1b-9456-e954ab22e4c5",
   "metadata": {},
   "source": [
    " "
   ]
  },
  {
   "cell_type": "markdown",
   "id": "1af7b470-f020-44bd-8b51-0ae5ab7b6bf2",
   "metadata": {},
   "source": [
    " "
   ]
  },
  {
   "cell_type": "markdown",
   "id": "2da9cd27-381d-4d77-a510-b26b3e385f2f",
   "metadata": {},
   "source": [
    " "
   ]
  },
  {
   "cell_type": "markdown",
   "id": "1f012f3a-58fb-403b-bc86-5b4749675dd2",
   "metadata": {},
   "source": [
    " "
   ]
  },
  {
   "cell_type": "markdown",
   "id": "abc7f8ef-56b9-4b5f-b2b0-447ea5e5b702",
   "metadata": {},
   "source": [
    " "
   ]
  },
  {
   "cell_type": "markdown",
   "id": "b48f46bb-bbad-4c9e-9945-e7aed357a407",
   "metadata": {},
   "source": [
    " "
   ]
  },
  {
   "cell_type": "markdown",
   "id": "83d98f2e-43f9-4abe-b0eb-07d9a6a3ec5e",
   "metadata": {},
   "source": [
    " "
   ]
  },
  {
   "cell_type": "markdown",
   "id": "2b9d5f39-8614-4da7-8b19-3440da726042",
   "metadata": {},
   "source": [
    " "
   ]
  },
  {
   "cell_type": "markdown",
   "id": "bd3099ce-b69f-44e4-9814-c20313907d70",
   "metadata": {},
   "source": [
    " "
   ]
  },
  {
   "cell_type": "markdown",
   "id": "95152bf5-c13e-4a11-9ca9-5c0796bc9f3b",
   "metadata": {},
   "source": [
    " "
   ]
  },
  {
   "cell_type": "markdown",
   "id": "94a7a8b8-66ea-4217-b3b0-4c4f62961a70",
   "metadata": {},
   "source": [
    " "
   ]
  },
  {
   "cell_type": "markdown",
   "id": "48c5d5db-a70d-4ba5-969f-4265589bab40",
   "metadata": {},
   "source": [
    " "
   ]
  },
  {
   "cell_type": "markdown",
   "id": "41363119-96f1-4d4d-8bfe-8689bad854c1",
   "metadata": {},
   "source": [
    " "
   ]
  },
  {
   "cell_type": "markdown",
   "id": "98b290c8-f647-40ea-bf29-8122995699b1",
   "metadata": {},
   "source": [
    " "
   ]
  },
  {
   "cell_type": "markdown",
   "id": "fb9c2beb-87b5-4cfd-9fa5-9bf7c5ee4406",
   "metadata": {},
   "source": [
    " "
   ]
  },
  {
   "cell_type": "markdown",
   "id": "0ee9c410-8219-44ed-acef-98eda56e52da",
   "metadata": {},
   "source": [
    " "
   ]
  },
  {
   "cell_type": "markdown",
   "id": "f35e4e3d-6a3a-4a1e-8f1b-0b03f013ff44",
   "metadata": {},
   "source": [
    " "
   ]
  },
  {
   "cell_type": "markdown",
   "id": "318fa271-0219-4294-a146-9b5512ef4e8d",
   "metadata": {},
   "source": [
    " "
   ]
  },
  {
   "cell_type": "markdown",
   "id": "7271f52d-4037-4825-b8f4-d265a512b7c9",
   "metadata": {},
   "source": [
    " "
   ]
  },
  {
   "cell_type": "markdown",
   "id": "9ef79ab4-49ff-415a-9d7b-a178128a569a",
   "metadata": {},
   "source": [
    " "
   ]
  }
 ],
 "metadata": {
  "kernelspec": {
   "display_name": "projects",
   "language": "python",
   "name": "projects"
  },
  "language_info": {
   "codemirror_mode": {
    "name": "ipython",
    "version": 3
   },
   "file_extension": ".py",
   "mimetype": "text/x-python",
   "name": "python",
   "nbconvert_exporter": "python",
   "pygments_lexer": "ipython3",
   "version": "3.11.7"
  }
 },
 "nbformat": 4,
 "nbformat_minor": 5
}
