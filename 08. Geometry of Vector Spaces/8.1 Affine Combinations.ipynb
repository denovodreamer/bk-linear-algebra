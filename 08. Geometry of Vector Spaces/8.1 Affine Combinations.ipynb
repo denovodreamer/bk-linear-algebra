{
 "cells": [
  {
   "cell_type": "markdown",
   "id": "6fe83c70-9c3b-4c1a-a710-a9d79d888d82",
   "metadata": {},
   "source": [
    " "
   ]
  },
  {
   "cell_type": "markdown",
   "id": "9316d2c9-7296-4d4f-bcf4-35321a5592d9",
   "metadata": {},
   "source": [
    " "
   ]
  },
  {
   "cell_type": "markdown",
   "id": "0952f87b-d314-4e38-bd21-2e2db81b7aae",
   "metadata": {},
   "source": [
    " "
   ]
  },
  {
   "cell_type": "markdown",
   "id": "2c82c0aa-14b1-469e-b199-bc289cc39cef",
   "metadata": {},
   "source": [
    " "
   ]
  },
  {
   "cell_type": "markdown",
   "id": "1ecf4c3c-c879-4548-8ecd-cab92f0a2744",
   "metadata": {},
   "source": [
    " "
   ]
  },
  {
   "cell_type": "code",
   "execution_count": 9,
   "id": "363da3a7-67f5-4335-a74e-c128d81f9354",
   "metadata": {},
   "outputs": [],
   "source": [
    "import numpy as np\n",
    "from scipy.linalg import lu"
   ]
  },
  {
   "cell_type": "markdown",
   "id": "5dc2ecc3-9daa-4c06-a08a-651281406a70",
   "metadata": {},
   "source": [
    " "
   ]
  },
  {
   "cell_type": "markdown",
   "id": "b85f1115-8e9c-4e99-af3c-74b75d61bd58",
   "metadata": {},
   "source": [
    " "
   ]
  },
  {
   "cell_type": "markdown",
   "id": "c233aa49-5026-4222-ac8d-83166a959242",
   "metadata": {},
   "source": [
    " "
   ]
  },
  {
   "cell_type": "markdown",
   "id": "cd6f9f01-293d-45e1-9105-16ca7592b05b",
   "metadata": {},
   "source": [
    " "
   ]
  },
  {
   "cell_type": "markdown",
   "id": "8f628a68-c4a5-45ae-b921-45cc94564ad8",
   "metadata": {},
   "source": [
    " "
   ]
  },
  {
   "cell_type": "markdown",
   "id": "79fc03a6-9963-4685-bc03-7ea1efc4afb6",
   "metadata": {},
   "source": [
    " "
   ]
  },
  {
   "cell_type": "code",
   "execution_count": 18,
   "id": "e85656f9-212c-4dc4-939a-184ee54c7b76",
   "metadata": {},
   "outputs": [],
   "source": [
    "A = np.array(\n",
    "    [\n",
    "        [1, 2, 1, -2],\n",
    "        [2, 5, 3, 2],\n",
    "    ]\n",
    ")\n",
    "\n",
    "y = np.array([[4, 1]]).T\n",
    "\n",
    "\n",
    "A_aug = np.column_stack([A, y])"
   ]
  },
  {
   "cell_type": "markdown",
   "id": "c6773749-2848-49b8-b49b-168573fd5c6a",
   "metadata": {},
   "source": [
    " "
   ]
  },
  {
   "cell_type": "markdown",
   "id": "328ac956-752e-456b-8c3b-ff8db23f4fba",
   "metadata": {},
   "source": [
    " "
   ]
  },
  {
   "cell_type": "code",
   "execution_count": 24,
   "id": "40a7cc3b-fea8-4631-8131-e598fa1aca99",
   "metadata": {},
   "outputs": [
    {
     "data": {
      "text/plain": [
       "array([[ 3.        ,  1.        ,  0.        , -1.        ],\n",
       "       [ 0.        , -0.33333333, -3.        ,  3.33333333]])"
      ]
     },
     "execution_count": 24,
     "metadata": {},
     "output_type": "execute_result"
    }
   ],
   "source": [
    "A_aff = A_aug - A[:, [0]]\n",
    "\n",
    "A_aff = A_aff[:, 1:]\n",
    "\n",
    "P, L, U = lu(A_aff)\n",
    "\n",
    "U"
   ]
  },
  {
   "cell_type": "markdown",
   "id": "53c3d9e7-914d-4efc-a570-546485853cf3",
   "metadata": {},
   "source": [
    " "
   ]
  },
  {
   "cell_type": "markdown",
   "id": "eb07afa8-c68f-4179-be56-d9dae56643ee",
   "metadata": {},
   "source": [
    " "
   ]
  },
  {
   "cell_type": "markdown",
   "id": "c518c701-f629-436f-9cb7-1403334b4ad2",
   "metadata": {},
   "source": [
    " "
   ]
  },
  {
   "cell_type": "markdown",
   "id": "fd14fdac-b84c-4e9c-90d5-c414eff14b75",
   "metadata": {},
   "source": [
    " "
   ]
  },
  {
   "cell_type": "code",
   "execution_count": 25,
   "id": "8cdcf4e0-23f4-4dff-b27b-3107862ed5ad",
   "metadata": {},
   "outputs": [
    {
     "data": {
      "text/plain": [
       "array([[0., 1.],\n",
       "       [1., 0.]])"
      ]
     },
     "execution_count": 25,
     "metadata": {},
     "output_type": "execute_result"
    }
   ],
   "source": [
    "P"
   ]
  },
  {
   "cell_type": "markdown",
   "id": "cdc9ba18-5497-4edd-93d7-317f0c1dc979",
   "metadata": {},
   "source": [
    " "
   ]
  },
  {
   "cell_type": "markdown",
   "id": "2b577f2b-a66d-412a-9ebf-bc789c5da085",
   "metadata": {},
   "source": [
    " "
   ]
  },
  {
   "cell_type": "markdown",
   "id": "78473582-9e32-4e92-b325-1902e69b2dc7",
   "metadata": {},
   "source": [
    " "
   ]
  },
  {
   "cell_type": "markdown",
   "id": "018e401d-95d3-4a5a-8edd-8e10139f585f",
   "metadata": {},
   "source": [
    " "
   ]
  },
  {
   "cell_type": "markdown",
   "id": "2fda475a-e8fd-49ab-b705-58afeba66488",
   "metadata": {},
   "source": [
    " "
   ]
  },
  {
   "cell_type": "markdown",
   "id": "fb5a088b-e89b-4dab-a7cd-768d946532a5",
   "metadata": {},
   "source": [
    " "
   ]
  },
  {
   "cell_type": "markdown",
   "id": "d8635f37-924b-4910-b022-16f5ff717b31",
   "metadata": {},
   "source": [
    " "
   ]
  },
  {
   "cell_type": "markdown",
   "id": "cc2bf539-b79b-439c-b8b1-42b4adc05c17",
   "metadata": {},
   "source": [
    " "
   ]
  },
  {
   "cell_type": "markdown",
   "id": "d875e95d-779d-43a1-b08b-abff9b8d1ed0",
   "metadata": {},
   "source": [
    " "
   ]
  },
  {
   "cell_type": "markdown",
   "id": "1d807d2a-6987-4eba-9baf-1b22af033a84",
   "metadata": {},
   "source": [
    " "
   ]
  },
  {
   "cell_type": "markdown",
   "id": "0b064950-efdf-4f1b-a314-87cde70a6139",
   "metadata": {},
   "source": [
    " "
   ]
  },
  {
   "cell_type": "markdown",
   "id": "ffa3482c-afbd-49ef-adbe-cbb0df215bf4",
   "metadata": {},
   "source": [
    " "
   ]
  },
  {
   "cell_type": "markdown",
   "id": "87f667e8-31e4-4dad-ac5e-1f1331c36b4f",
   "metadata": {},
   "source": [
    " "
   ]
  },
  {
   "cell_type": "markdown",
   "id": "641789ec-f67b-4092-92a5-960c4aa139df",
   "metadata": {},
   "source": [
    " "
   ]
  },
  {
   "cell_type": "markdown",
   "id": "f61c2388-9e1f-4c0c-b8eb-5ff865827cb4",
   "metadata": {},
   "source": [
    " "
   ]
  },
  {
   "cell_type": "markdown",
   "id": "18e450d3-dbdd-49c9-a188-ff2ccf556abc",
   "metadata": {},
   "source": [
    " "
   ]
  },
  {
   "cell_type": "markdown",
   "id": "9ec8344c-eb1b-4166-a9b5-00b9ee93e432",
   "metadata": {},
   "source": [
    " "
   ]
  },
  {
   "cell_type": "markdown",
   "id": "920c0f42-0c6d-4c89-8e27-39034548981b",
   "metadata": {},
   "source": [
    " "
   ]
  },
  {
   "cell_type": "markdown",
   "id": "eca2fe34-1d31-400d-9267-b311ec2715af",
   "metadata": {},
   "source": [
    " "
   ]
  },
  {
   "cell_type": "markdown",
   "id": "7ed48db8-5bae-471c-889e-4d9eccf2b6ed",
   "metadata": {},
   "source": [
    " "
   ]
  },
  {
   "cell_type": "markdown",
   "id": "010e0691-a2d5-4274-bf13-992f3d3598bf",
   "metadata": {},
   "source": [
    " "
   ]
  },
  {
   "cell_type": "markdown",
   "id": "7b066387-81e8-4c24-a207-6438bc61a8af",
   "metadata": {},
   "source": [
    " "
   ]
  },
  {
   "cell_type": "markdown",
   "id": "1a87c56a-ada0-4111-ab08-ec5eeebaca60",
   "metadata": {},
   "source": [
    " "
   ]
  },
  {
   "cell_type": "markdown",
   "id": "4ba88222-c6cd-4160-8492-360b1f7570d5",
   "metadata": {},
   "source": [
    " "
   ]
  },
  {
   "cell_type": "markdown",
   "id": "d5396c31-fb9e-4844-a75c-32253ecc622c",
   "metadata": {},
   "source": [
    " "
   ]
  },
  {
   "cell_type": "markdown",
   "id": "d8f05195-cfa2-496f-b07f-3c5fda07d37d",
   "metadata": {},
   "source": [
    " "
   ]
  }
 ],
 "metadata": {
  "kernelspec": {
   "display_name": "projects",
   "language": "python",
   "name": "projects"
  },
  "language_info": {
   "codemirror_mode": {
    "name": "ipython",
    "version": 3
   },
   "file_extension": ".py",
   "mimetype": "text/x-python",
   "name": "python",
   "nbconvert_exporter": "python",
   "pygments_lexer": "ipython3",
   "version": "3.11.7"
  }
 },
 "nbformat": 4,
 "nbformat_minor": 5
}
